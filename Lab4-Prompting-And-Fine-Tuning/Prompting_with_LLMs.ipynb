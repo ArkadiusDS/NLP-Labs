{
 "cells": [
  {
   "cell_type": "code",
   "execution_count": 1,
   "outputs": [],
   "source": [
    "# !pip install datasets\n",
    "# !pip install python-dotenv"
   ],
   "metadata": {
    "collapsed": false,
    "ExecuteTime": {
     "end_time": "2025-05-03T16:50:02.169210Z",
     "start_time": "2025-05-03T16:50:02.161667Z"
    }
   },
   "id": "fd3b881e9035f6ef"
  },
  {
   "cell_type": "code",
   "execution_count": 2,
   "outputs": [],
   "source": [
    "import json\n",
    "import os\n",
    "import time\n",
    "import pandas as pd\n",
    "from datasets import load_dataset\n",
    "import concurrent.futures\n",
    "from tqdm import tqdm\n",
    "from openai import OpenAI\n",
    "from dotenv import load_dotenv\n",
    "\n",
    "# Load environment variables from .env file\n",
    "load_dotenv()\n",
    "\n",
    "API_KEY = os.getenv(\"OPENAI_API_KEY\")\n",
    "DEEPINFRA_API_KEY = os.getenv(\"DEEPINFRA_API_KEY\")"
   ],
   "metadata": {
    "collapsed": false,
    "ExecuteTime": {
     "end_time": "2025-05-08T08:17:57.996006Z",
     "start_time": "2025-05-08T08:17:56.289044Z"
    }
   },
   "id": "initial_id"
  },
  {
   "cell_type": "markdown",
   "source": [
    "# Utils"
   ],
   "metadata": {
    "collapsed": false
   },
   "id": "f35703bb966e5c56"
  },
  {
   "cell_type": "code",
   "execution_count": 3,
   "outputs": [],
   "source": [
    "class PromptTemplate:\n",
    "    def __init__(self, developer_prompt, user_prompt_template):\n",
    "        self.developer_prompt = developer_prompt\n",
    "        self.user_prompt_template = user_prompt_template\n",
    "\n",
    "    def format_user_prompt(self, text):\n",
    "        return self.user_prompt_template.format(text=text)"
   ],
   "metadata": {
    "collapsed": false,
    "ExecuteTime": {
     "end_time": "2025-05-08T08:18:00.439121Z",
     "start_time": "2025-05-08T08:18:00.402706Z"
    }
   },
   "id": "af9731fa1f979c22"
  },
  {
   "cell_type": "code",
   "execution_count": 4,
   "outputs": [],
   "source": [
    "def client_instance(model):\n",
    "    if \"llama\" in model.lower():\n",
    "        return OpenAI(api_key=DEEPINFRA_API_KEY, base_url=\"https://api.deepinfra.com/v1/openai\")\n",
    "    else:\n",
    "        return OpenAI(api_key=API_KEY)\n",
    "    \n",
    "def process_text_with_model(index, text, model, prompt_template):\n",
    "    try:\n",
    "        user_prompt = prompt_template.format_user_prompt(text)\n",
    "        client = client_instance(model)\n",
    "        completion = client.chat.completions.create(\n",
    "            model=model,\n",
    "            messages=[\n",
    "                {\"role\": \"developer\", \"content\": prompt_template.developer_prompt},\n",
    "                {\"role\": \"user\", \"content\": user_prompt},\n",
    "            ],\n",
    "            temperature=0.0\n",
    "        )\n",
    "        return {\n",
    "            \"index\": index,\n",
    "            \"developer_prompt\": prompt_template.developer_prompt,\n",
    "            \"user_prompt\": user_prompt,\n",
    "            \"completion\": completion.choices[0].message.content,\n",
    "        }\n",
    "    except Exception as e:\n",
    "        print(f\"Error processing row {index}: {e}\")\n",
    "        time.sleep(2)  # Avoid rapid retries\n",
    "        return {\"index\": index, \"developer_prompt\": None, \"user_prompt\": None, \"completion\": None}\n",
    "    \n",
    "    \n",
    "def parallel_text_processing(dataframe, col_with_content, column, filename, model, prompt_template):\n",
    "    dataframe[\"developer_prompt\"] = None\n",
    "    dataframe[\"user_prompt\"] = None\n",
    "    dataframe[column] = None\n",
    "    os.makedirs(os.path.dirname(filename), exist_ok=True)\n",
    "    results = []\n",
    "\n",
    "    with concurrent.futures.ThreadPoolExecutor() as executor:\n",
    "        futures = [\n",
    "            executor.submit(process_text_with_model, index, text, model, prompt_template)\n",
    "            for index, text in enumerate(dataframe[col_with_content])\n",
    "        ]\n",
    "        for future in tqdm(concurrent.futures.as_completed(futures), total=len(futures)):\n",
    "            try:\n",
    "                result = future.result()\n",
    "                if result:\n",
    "                    results.append(result)\n",
    "            except Exception as e:\n",
    "                print(f\"Thread failed with error: {e}\")\n",
    "\n",
    "    for result in results:\n",
    "        dataframe.at[result[\"index\"], \"developer_prompt\"] = result[\"developer_prompt\"]\n",
    "        dataframe.at[result[\"index\"], \"user_prompt\"] = result[\"user_prompt\"]\n",
    "        dataframe.at[result[\"index\"], column] = result[\"completion\"]\n",
    "\n",
    "    dataframe.to_csv(filename, index=False)\n",
    "    return dataframe\n",
    "\n",
    "\n",
    "def extract_numbers(dataset, column_name, new_column_name):\n",
    "    \"\"\"\n",
    "    Extracts numbers from a JSON string in the specified column and creates a new column with those numbers.\n",
    "\n",
    "    Parameters:\n",
    "        dataset (pd.DataFrame): The input DataFrame.\n",
    "        column_name (str): The name of the column containing JSON strings.\n",
    "        new_column_name (str): The name of the new column to store extracted numbers.\n",
    "\n",
    "    Returns:\n",
    "        pd.DataFrame: The DataFrame with the new column added.\n",
    "    \"\"\"\n",
    "    dataset = dataset.copy()\n",
    "\n",
    "    def safe_extract(json_str):\n",
    "        if pd.notna(json_str):\n",
    "            try:\n",
    "                # Ensure proper escaping\n",
    "                json_str = json_str.replace(\"\\\\\", \"\\\\\\\\\")\n",
    "                return float(json.loads(json_str)['answer'])\n",
    "            except (json.JSONDecodeError, KeyError, ValueError) as e:\n",
    "                print(f\"Error parsing JSON: {e} | Data: {json_str}\")\n",
    "                return None\n",
    "        return None\n",
    "\n",
    "    dataset[new_column_name] = dataset[column_name].apply(safe_extract)\n",
    "\n",
    "    return dataset\n",
    "\n",
    "\n",
    "def calculate_accuracy(dataset, true_col, pred_col):\n",
    "    agreement = dataset[dataset[true_col] == dataset[pred_col]].shape[0]\n",
    "    accuracy = agreement / dataset.shape[0]\n",
    "\n",
    "    return accuracy"
   ],
   "metadata": {
    "collapsed": false,
    "ExecuteTime": {
     "end_time": "2025-05-08T08:18:01.278455Z",
     "start_time": "2025-05-08T08:18:01.274154Z"
    }
   },
   "id": "6be8a105510193dc"
  },
  {
   "cell_type": "markdown",
   "source": [
    "# Dataset Preparation\n",
    "\n",
    "Link to dataset: [GSM8K](https://huggingface.co/datasets/openai/gsm8k)"
   ],
   "metadata": {
    "collapsed": false
   },
   "id": "373c71bea2e9e79f"
  },
  {
   "cell_type": "code",
   "execution_count": 11,
   "outputs": [
    {
     "name": "stdout",
     "output_type": "stream",
     "text": [
      "Dataset length : 100\n"
     ]
    }
   ],
   "source": [
    "# Using the Hugging Face datasets library to load the GSM8K (\"Grade School Math 8K\") dataset.\n",
    "# GSM8K (Grade School Math 8K) is a dataset of 8.5K high quality linguistically diverse grade school math word problems. \n",
    "# The dataset was created to support the task of question answering on basic mathematical problems that require multi-step reasoning.\n",
    "\n",
    "dataset = load_dataset(\"gsm8k\", \"main\")\n",
    "\n",
    "test_samples = dataset[\"test\"][:100]\n",
    "questions = test_samples[\"question\"]\n",
    "long_answers = test_samples[\"answer\"]\n",
    "answers = [float(an.split(\"#### \")[-1]) for an in long_answers]\n",
    "\n",
    "print(f'Dataset length : {len(test_samples[\"question\"])}')"
   ],
   "metadata": {
    "collapsed": false,
    "ExecuteTime": {
     "end_time": "2025-05-08T08:20:04.402327Z",
     "start_time": "2025-05-08T08:20:01.314037Z"
    }
   },
   "id": "b67f4943e886e8c4"
  },
  {
   "cell_type": "code",
   "execution_count": 12,
   "outputs": [
    {
     "data": {
      "text/plain": "'A robe takes 2 bolts of blue fiber and half that much white fiber.  How many bolts in total does it take?'"
     },
     "execution_count": 12,
     "metadata": {},
     "output_type": "execute_result"
    }
   ],
   "source": [
    "questions[1]"
   ],
   "metadata": {
    "collapsed": false,
    "ExecuteTime": {
     "end_time": "2025-05-08T08:20:31.776484Z",
     "start_time": "2025-05-08T08:20:31.759451Z"
    }
   },
   "id": "38ec604c81e07714"
  },
  {
   "cell_type": "code",
   "execution_count": 13,
   "outputs": [
    {
     "data": {
      "text/plain": "'It takes 2/2=<<2/2=1>>1 bolt of white fiber\\nSo the total amount of fabric is 2+1=<<2+1=3>>3 bolts of fabric\\n#### 3'"
     },
     "execution_count": 13,
     "metadata": {},
     "output_type": "execute_result"
    }
   ],
   "source": [
    "long_answers[1]"
   ],
   "metadata": {
    "collapsed": false,
    "ExecuteTime": {
     "end_time": "2025-05-08T08:20:34.463832Z",
     "start_time": "2025-05-08T08:20:34.448434Z"
    }
   },
   "id": "5c5427dade381b31"
  },
  {
   "cell_type": "code",
   "execution_count": 15,
   "outputs": [
    {
     "data": {
      "text/plain": "3.0"
     },
     "execution_count": 15,
     "metadata": {},
     "output_type": "execute_result"
    }
   ],
   "source": [
    "answers[1]"
   ],
   "metadata": {
    "collapsed": false,
    "ExecuteTime": {
     "end_time": "2025-05-08T08:21:10.755950Z",
     "start_time": "2025-05-08T08:21:10.746202Z"
    }
   },
   "id": "6b830741e63276ec"
  },
  {
   "cell_type": "code",
   "execution_count": 16,
   "outputs": [],
   "source": [
    "df = pd.DataFrame({\"questions\":questions, \"long_answers\": long_answers, \"answer\": answers})"
   ],
   "metadata": {
    "collapsed": false,
    "ExecuteTime": {
     "end_time": "2025-05-08T08:21:37.504163Z",
     "start_time": "2025-05-08T08:21:37.489995Z"
    }
   },
   "id": "df5a52c6ae9ca524"
  },
  {
   "cell_type": "code",
   "execution_count": 17,
   "outputs": [
    {
     "data": {
      "text/plain": "                                           questions  \\\n0  Janet’s ducks lay 16 eggs per day. She eats th...   \n1  A robe takes 2 bolts of blue fiber and half th...   \n2  Josh decides to try flipping a house.  He buys...   \n3  James decides to run 3 sprints 3 times a week....   \n4  Every day, Wendi feeds each of her chickens th...   \n\n                                        long_answers   answer  \n0  Janet sells 16 - 3 - 4 = <<16-3-4=9>>9 duck eg...     18.0  \n1  It takes 2/2=<<2/2=1>>1 bolt of white fiber\\nS...      3.0  \n2  The cost of the house and repairs came out to ...  70000.0  \n3  He sprints 3*3=<<3*3=9>>9 times\\nSo he runs 9*...    540.0  \n4  If each chicken eats 3 cups of feed per day, t...     20.0  ",
      "text/html": "<div>\n<style scoped>\n    .dataframe tbody tr th:only-of-type {\n        vertical-align: middle;\n    }\n\n    .dataframe tbody tr th {\n        vertical-align: top;\n    }\n\n    .dataframe thead th {\n        text-align: right;\n    }\n</style>\n<table border=\"1\" class=\"dataframe\">\n  <thead>\n    <tr style=\"text-align: right;\">\n      <th></th>\n      <th>questions</th>\n      <th>long_answers</th>\n      <th>answer</th>\n    </tr>\n  </thead>\n  <tbody>\n    <tr>\n      <th>0</th>\n      <td>Janet’s ducks lay 16 eggs per day. She eats th...</td>\n      <td>Janet sells 16 - 3 - 4 = &lt;&lt;16-3-4=9&gt;&gt;9 duck eg...</td>\n      <td>18.0</td>\n    </tr>\n    <tr>\n      <th>1</th>\n      <td>A robe takes 2 bolts of blue fiber and half th...</td>\n      <td>It takes 2/2=&lt;&lt;2/2=1&gt;&gt;1 bolt of white fiber\\nS...</td>\n      <td>3.0</td>\n    </tr>\n    <tr>\n      <th>2</th>\n      <td>Josh decides to try flipping a house.  He buys...</td>\n      <td>The cost of the house and repairs came out to ...</td>\n      <td>70000.0</td>\n    </tr>\n    <tr>\n      <th>3</th>\n      <td>James decides to run 3 sprints 3 times a week....</td>\n      <td>He sprints 3*3=&lt;&lt;3*3=9&gt;&gt;9 times\\nSo he runs 9*...</td>\n      <td>540.0</td>\n    </tr>\n    <tr>\n      <th>4</th>\n      <td>Every day, Wendi feeds each of her chickens th...</td>\n      <td>If each chicken eats 3 cups of feed per day, t...</td>\n      <td>20.0</td>\n    </tr>\n  </tbody>\n</table>\n</div>"
     },
     "execution_count": 17,
     "metadata": {},
     "output_type": "execute_result"
    }
   ],
   "source": [
    "df.head()"
   ],
   "metadata": {
    "collapsed": false,
    "ExecuteTime": {
     "end_time": "2025-05-08T08:21:38.768453Z",
     "start_time": "2025-05-08T08:21:38.740779Z"
    }
   },
   "id": "bbccbc0d5802b56e"
  },
  {
   "cell_type": "markdown",
   "source": [
    "# Prompting with closed models from OpenAI"
   ],
   "metadata": {
    "collapsed": false
   },
   "id": "4e2722b0e586faf4"
  },
  {
   "cell_type": "markdown",
   "source": [
    "[OpenAI documentation](https://platform.openai.com/docs/guides/text?api-mode=chat)"
   ],
   "metadata": {
    "collapsed": false
   },
   "id": "966ef9a341be390d"
  },
  {
   "cell_type": "code",
   "execution_count": 19,
   "outputs": [
    {
     "data": {
      "text/plain": "'A robe takes 2 bolts of blue fiber and half that much white fiber.  How many bolts in total does it take?'"
     },
     "execution_count": 19,
     "metadata": {},
     "output_type": "execute_result"
    }
   ],
   "source": [
    "text = df.questions.iloc[1]\n",
    "text"
   ],
   "metadata": {
    "collapsed": false,
    "ExecuteTime": {
     "end_time": "2025-05-08T08:28:57.743845Z",
     "start_time": "2025-05-08T08:28:57.723094Z"
    }
   },
   "id": "faa9e5cf2c94a39a"
  },
  {
   "cell_type": "code",
   "execution_count": 20,
   "outputs": [],
   "source": [
    "developer_prompt = \"\"\"You are a helpful AI assistant who knows math.\"\"\"\n",
    "\n",
    "user_prompt = f\"\"\"Below I will provide a question with a math problem. \n",
    "Please solve it and present final number which is an answer to the problem. \n",
    "Do not show any explanation and do not provide units.\n",
    "\n",
    "Question: {text}\n",
    "Give answer in this form: {{\"answer\": \"answer with final number\"}}\"\"\""
   ],
   "metadata": {
    "collapsed": false,
    "ExecuteTime": {
     "end_time": "2025-05-08T08:28:58.146524Z",
     "start_time": "2025-05-08T08:28:58.143826Z"
    }
   },
   "id": "7a813d75a6917a1e"
  },
  {
   "cell_type": "code",
   "execution_count": 21,
   "outputs": [],
   "source": [
    "client = OpenAI(api_key=API_KEY)\n",
    "model = \"gpt-4o-mini\"\n",
    "completion = client.chat.completions.create(\n",
    "            model=model,\n",
    "            messages=[\n",
    "                {\"role\": \"developer\", \"content\": developer_prompt},\n",
    "                {\"role\": \"user\", \"content\": user_prompt},\n",
    "            ],\n",
    "            temperature=0.0\n",
    "        )"
   ],
   "metadata": {
    "collapsed": false,
    "ExecuteTime": {
     "end_time": "2025-05-08T08:29:00.046480Z",
     "start_time": "2025-05-08T08:28:58.841560Z"
    }
   },
   "id": "242e8efb526cbafa"
  },
  {
   "cell_type": "code",
   "execution_count": 22,
   "outputs": [
    {
     "data": {
      "text/plain": "'{\"answer\": \"3\"}'"
     },
     "execution_count": 22,
     "metadata": {},
     "output_type": "execute_result"
    }
   ],
   "source": [
    "completion.choices[0].message.content"
   ],
   "metadata": {
    "collapsed": false,
    "ExecuteTime": {
     "end_time": "2025-05-08T08:29:01.139333Z",
     "start_time": "2025-05-08T08:29:01.124782Z"
    }
   },
   "id": "a565d5765d871c92"
  },
  {
   "cell_type": "code",
   "execution_count": 23,
   "outputs": [
    {
     "data": {
      "text/plain": "np.float64(3.0)"
     },
     "execution_count": 23,
     "metadata": {},
     "output_type": "execute_result"
    }
   ],
   "source": [
    "df.answer.iloc[1]"
   ],
   "metadata": {
    "collapsed": false,
    "ExecuteTime": {
     "end_time": "2025-05-08T08:29:29.579379Z",
     "start_time": "2025-05-08T08:29:29.553479Z"
    }
   },
   "id": "ec7282b7ab9a2f46"
  },
  {
   "cell_type": "markdown",
   "source": [
    "## Zero-Shot Prompting \n",
    "\n",
    "In below examples we will use prompt templates and previously created functions that will automate our work"
   ],
   "metadata": {
    "collapsed": false
   },
   "id": "3bb9a5aa878e2afa"
  },
  {
   "cell_type": "code",
   "execution_count": 24,
   "outputs": [],
   "source": [
    "developer_prompt = \"\"\"You are a helpful AI assistant who knows math.\"\"\"\n",
    "user_prompt = \"\"\"Below I will provide a question with a math problem. \n",
    "Please solve it and present final number which is an answer to the problem. \n",
    "Do not show any explanation and do not provide units.\n",
    "\n",
    "Question: {text}\n",
    "Give answer in this form: {{\"answer\": \"answer with final number\"}}\"\"\"\n",
    "\n",
    "prompt_template = PromptTemplate(developer_prompt, user_prompt)"
   ],
   "metadata": {
    "collapsed": false,
    "ExecuteTime": {
     "end_time": "2025-05-08T08:32:02.918576Z",
     "start_time": "2025-05-08T08:32:02.912888Z"
    }
   },
   "id": "c76582c7e8ff4f93"
  },
  {
   "cell_type": "code",
   "execution_count": 25,
   "outputs": [
    {
     "data": {
      "text/plain": "'You are a helpful AI assistant who knows math.'"
     },
     "execution_count": 25,
     "metadata": {},
     "output_type": "execute_result"
    }
   ],
   "source": [
    "prompt_template.developer_prompt"
   ],
   "metadata": {
    "collapsed": false,
    "ExecuteTime": {
     "end_time": "2025-05-08T08:32:14.465367Z",
     "start_time": "2025-05-08T08:32:14.450477Z"
    }
   },
   "id": "7cc2c9447030482a"
  },
  {
   "cell_type": "code",
   "execution_count": 26,
   "outputs": [
    {
     "data": {
      "text/plain": "'Below I will provide a question with a math problem. \\nPlease solve it and present final number which is an answer to the problem. \\nDo not show any explanation and do not provide units.\\n\\nQuestion: {text}\\nGive answer in this form: {{\"answer\": \"answer with final number\"}}'"
     },
     "execution_count": 26,
     "metadata": {},
     "output_type": "execute_result"
    }
   ],
   "source": [
    "prompt_template.user_prompt_template"
   ],
   "metadata": {
    "collapsed": false,
    "ExecuteTime": {
     "end_time": "2025-05-08T08:32:16.837879Z",
     "start_time": "2025-05-08T08:32:16.821758Z"
    }
   },
   "id": "89c2a439808f3b71"
  },
  {
   "cell_type": "code",
   "execution_count": 27,
   "outputs": [
    {
     "data": {
      "text/plain": "'Below I will provide a question with a math problem. \\nPlease solve it and present final number which is an answer to the problem. \\nDo not show any explanation and do not provide units.\\n\\nQuestion: A robe takes 2 bolts of blue fiber and half that much white fiber.  How many bolts in total does it take?\\nGive answer in this form: {\"answer\": \"answer with final number\"}'"
     },
     "execution_count": 27,
     "metadata": {},
     "output_type": "execute_result"
    }
   ],
   "source": [
    "prompt_template.format_user_prompt(text)"
   ],
   "metadata": {
    "collapsed": false,
    "ExecuteTime": {
     "end_time": "2025-05-08T08:32:42.465671Z",
     "start_time": "2025-05-08T08:32:42.449928Z"
    }
   },
   "id": "825a3ade80d374ff"
  },
  {
   "cell_type": "code",
   "execution_count": 28,
   "outputs": [
    {
     "data": {
      "text/plain": "                                           questions  \\\n0  Janet’s ducks lay 16 eggs per day. She eats th...   \n1  A robe takes 2 bolts of blue fiber and half th...   \n2  Josh decides to try flipping a house.  He buys...   \n3  James decides to run 3 sprints 3 times a week....   \n4  Every day, Wendi feeds each of her chickens th...   \n\n                                        long_answers   answer  \n0  Janet sells 16 - 3 - 4 = <<16-3-4=9>>9 duck eg...     18.0  \n1  It takes 2/2=<<2/2=1>>1 bolt of white fiber\\nS...      3.0  \n2  The cost of the house and repairs came out to ...  70000.0  \n3  He sprints 3*3=<<3*3=9>>9 times\\nSo he runs 9*...    540.0  \n4  If each chicken eats 3 cups of feed per day, t...     20.0  ",
      "text/html": "<div>\n<style scoped>\n    .dataframe tbody tr th:only-of-type {\n        vertical-align: middle;\n    }\n\n    .dataframe tbody tr th {\n        vertical-align: top;\n    }\n\n    .dataframe thead th {\n        text-align: right;\n    }\n</style>\n<table border=\"1\" class=\"dataframe\">\n  <thead>\n    <tr style=\"text-align: right;\">\n      <th></th>\n      <th>questions</th>\n      <th>long_answers</th>\n      <th>answer</th>\n    </tr>\n  </thead>\n  <tbody>\n    <tr>\n      <th>0</th>\n      <td>Janet’s ducks lay 16 eggs per day. She eats th...</td>\n      <td>Janet sells 16 - 3 - 4 = &lt;&lt;16-3-4=9&gt;&gt;9 duck eg...</td>\n      <td>18.0</td>\n    </tr>\n    <tr>\n      <th>1</th>\n      <td>A robe takes 2 bolts of blue fiber and half th...</td>\n      <td>It takes 2/2=&lt;&lt;2/2=1&gt;&gt;1 bolt of white fiber\\nS...</td>\n      <td>3.0</td>\n    </tr>\n    <tr>\n      <th>2</th>\n      <td>Josh decides to try flipping a house.  He buys...</td>\n      <td>The cost of the house and repairs came out to ...</td>\n      <td>70000.0</td>\n    </tr>\n    <tr>\n      <th>3</th>\n      <td>James decides to run 3 sprints 3 times a week....</td>\n      <td>He sprints 3*3=&lt;&lt;3*3=9&gt;&gt;9 times\\nSo he runs 9*...</td>\n      <td>540.0</td>\n    </tr>\n    <tr>\n      <th>4</th>\n      <td>Every day, Wendi feeds each of her chickens th...</td>\n      <td>If each chicken eats 3 cups of feed per day, t...</td>\n      <td>20.0</td>\n    </tr>\n  </tbody>\n</table>\n</div>"
     },
     "execution_count": 28,
     "metadata": {},
     "output_type": "execute_result"
    }
   ],
   "source": [
    "df.head()"
   ],
   "metadata": {
    "collapsed": false,
    "ExecuteTime": {
     "end_time": "2025-05-08T08:33:15.199177Z",
     "start_time": "2025-05-08T08:33:15.186972Z"
    }
   },
   "id": "64cb9380b0d9263a"
  },
  {
   "cell_type": "code",
   "execution_count": 29,
   "outputs": [
    {
     "data": {
      "text/plain": "(100, 3)"
     },
     "execution_count": 29,
     "metadata": {},
     "output_type": "execute_result"
    }
   ],
   "source": [
    "df.shape"
   ],
   "metadata": {
    "collapsed": false,
    "ExecuteTime": {
     "end_time": "2025-05-08T08:33:24.877927Z",
     "start_time": "2025-05-08T08:33:24.861724Z"
    }
   },
   "id": "5a12dcd2b0bc2417"
  },
  {
   "cell_type": "code",
   "execution_count": 30,
   "outputs": [
    {
     "name": "stderr",
     "output_type": "stream",
     "text": [
      "100%|██████████| 100/100 [00:04<00:00, 20.46it/s]\n"
     ]
    }
   ],
   "source": [
    "df_zero = parallel_text_processing(\n",
    "    dataframe=df.copy(),\n",
    "    col_with_content=\"questions\",\n",
    "    column=\"pred_solution\",\n",
    "    filename=\"result/math_problem_zero_shot.csv\",\n",
    "    model=\"gpt-4o-mini\",\n",
    "    prompt_template=prompt_template\n",
    ")"
   ],
   "metadata": {
    "collapsed": false,
    "ExecuteTime": {
     "end_time": "2025-05-08T08:34:46.455719Z",
     "start_time": "2025-05-08T08:34:41.437131Z"
    }
   },
   "id": "404a4212b3cd098c"
  },
  {
   "cell_type": "code",
   "execution_count": 31,
   "outputs": [
    {
     "data": {
      "text/plain": "                                           questions  \\\n0  Janet’s ducks lay 16 eggs per day. She eats th...   \n1  A robe takes 2 bolts of blue fiber and half th...   \n2  Josh decides to try flipping a house.  He buys...   \n3  James decides to run 3 sprints 3 times a week....   \n4  Every day, Wendi feeds each of her chickens th...   \n\n                                        long_answers   answer  \\\n0  Janet sells 16 - 3 - 4 = <<16-3-4=9>>9 duck eg...     18.0   \n1  It takes 2/2=<<2/2=1>>1 bolt of white fiber\\nS...      3.0   \n2  The cost of the house and repairs came out to ...  70000.0   \n3  He sprints 3*3=<<3*3=9>>9 times\\nSo he runs 9*...    540.0   \n4  If each chicken eats 3 cups of feed per day, t...     20.0   \n\n                                 developer_prompt  \\\n0  You are a helpful AI assistant who knows math.   \n1  You are a helpful AI assistant who knows math.   \n2  You are a helpful AI assistant who knows math.   \n3  You are a helpful AI assistant who knows math.   \n4  You are a helpful AI assistant who knows math.   \n\n                                         user_prompt        pred_solution  \n0  Below I will provide a question with a math pr...     {\"answer\": \"26\"}  \n1  Below I will provide a question with a math pr...      {\"answer\": \"3\"}  \n2  Below I will provide a question with a math pr...  {\"answer\": \"85000\"}  \n3  Below I will provide a question with a math pr...    {\"answer\": \"540\"}  \n4  Below I will provide a question with a math pr...     {\"answer\": \"30\"}  ",
      "text/html": "<div>\n<style scoped>\n    .dataframe tbody tr th:only-of-type {\n        vertical-align: middle;\n    }\n\n    .dataframe tbody tr th {\n        vertical-align: top;\n    }\n\n    .dataframe thead th {\n        text-align: right;\n    }\n</style>\n<table border=\"1\" class=\"dataframe\">\n  <thead>\n    <tr style=\"text-align: right;\">\n      <th></th>\n      <th>questions</th>\n      <th>long_answers</th>\n      <th>answer</th>\n      <th>developer_prompt</th>\n      <th>user_prompt</th>\n      <th>pred_solution</th>\n    </tr>\n  </thead>\n  <tbody>\n    <tr>\n      <th>0</th>\n      <td>Janet’s ducks lay 16 eggs per day. She eats th...</td>\n      <td>Janet sells 16 - 3 - 4 = &lt;&lt;16-3-4=9&gt;&gt;9 duck eg...</td>\n      <td>18.0</td>\n      <td>You are a helpful AI assistant who knows math.</td>\n      <td>Below I will provide a question with a math pr...</td>\n      <td>{\"answer\": \"26\"}</td>\n    </tr>\n    <tr>\n      <th>1</th>\n      <td>A robe takes 2 bolts of blue fiber and half th...</td>\n      <td>It takes 2/2=&lt;&lt;2/2=1&gt;&gt;1 bolt of white fiber\\nS...</td>\n      <td>3.0</td>\n      <td>You are a helpful AI assistant who knows math.</td>\n      <td>Below I will provide a question with a math pr...</td>\n      <td>{\"answer\": \"3\"}</td>\n    </tr>\n    <tr>\n      <th>2</th>\n      <td>Josh decides to try flipping a house.  He buys...</td>\n      <td>The cost of the house and repairs came out to ...</td>\n      <td>70000.0</td>\n      <td>You are a helpful AI assistant who knows math.</td>\n      <td>Below I will provide a question with a math pr...</td>\n      <td>{\"answer\": \"85000\"}</td>\n    </tr>\n    <tr>\n      <th>3</th>\n      <td>James decides to run 3 sprints 3 times a week....</td>\n      <td>He sprints 3*3=&lt;&lt;3*3=9&gt;&gt;9 times\\nSo he runs 9*...</td>\n      <td>540.0</td>\n      <td>You are a helpful AI assistant who knows math.</td>\n      <td>Below I will provide a question with a math pr...</td>\n      <td>{\"answer\": \"540\"}</td>\n    </tr>\n    <tr>\n      <th>4</th>\n      <td>Every day, Wendi feeds each of her chickens th...</td>\n      <td>If each chicken eats 3 cups of feed per day, t...</td>\n      <td>20.0</td>\n      <td>You are a helpful AI assistant who knows math.</td>\n      <td>Below I will provide a question with a math pr...</td>\n      <td>{\"answer\": \"30\"}</td>\n    </tr>\n  </tbody>\n</table>\n</div>"
     },
     "execution_count": 31,
     "metadata": {},
     "output_type": "execute_result"
    }
   ],
   "source": [
    "df_zero.head()"
   ],
   "metadata": {
    "collapsed": false,
    "ExecuteTime": {
     "end_time": "2025-05-08T08:34:51.221503Z",
     "start_time": "2025-05-08T08:34:51.211112Z"
    }
   },
   "id": "956f00b06a20874"
  },
  {
   "cell_type": "code",
   "execution_count": 32,
   "outputs": [],
   "source": [
    "df_zero = extract_numbers(dataset=df_zero, column_name='pred_solution', new_column_name='extracted_number')"
   ],
   "metadata": {
    "collapsed": false,
    "ExecuteTime": {
     "end_time": "2025-05-08T08:35:53.016256Z",
     "start_time": "2025-05-08T08:35:53.003476Z"
    }
   },
   "id": "9f18901b6ca58e54"
  },
  {
   "cell_type": "code",
   "execution_count": 33,
   "outputs": [
    {
     "data": {
      "text/plain": "                                           questions  \\\n0  Janet’s ducks lay 16 eggs per day. She eats th...   \n1  A robe takes 2 bolts of blue fiber and half th...   \n2  Josh decides to try flipping a house.  He buys...   \n3  James decides to run 3 sprints 3 times a week....   \n4  Every day, Wendi feeds each of her chickens th...   \n\n                                        long_answers   answer  \\\n0  Janet sells 16 - 3 - 4 = <<16-3-4=9>>9 duck eg...     18.0   \n1  It takes 2/2=<<2/2=1>>1 bolt of white fiber\\nS...      3.0   \n2  The cost of the house and repairs came out to ...  70000.0   \n3  He sprints 3*3=<<3*3=9>>9 times\\nSo he runs 9*...    540.0   \n4  If each chicken eats 3 cups of feed per day, t...     20.0   \n\n                                 developer_prompt  \\\n0  You are a helpful AI assistant who knows math.   \n1  You are a helpful AI assistant who knows math.   \n2  You are a helpful AI assistant who knows math.   \n3  You are a helpful AI assistant who knows math.   \n4  You are a helpful AI assistant who knows math.   \n\n                                         user_prompt        pred_solution  \\\n0  Below I will provide a question with a math pr...     {\"answer\": \"26\"}   \n1  Below I will provide a question with a math pr...      {\"answer\": \"3\"}   \n2  Below I will provide a question with a math pr...  {\"answer\": \"85000\"}   \n3  Below I will provide a question with a math pr...    {\"answer\": \"540\"}   \n4  Below I will provide a question with a math pr...     {\"answer\": \"30\"}   \n\n   extracted_number  \n0              26.0  \n1               3.0  \n2           85000.0  \n3             540.0  \n4              30.0  ",
      "text/html": "<div>\n<style scoped>\n    .dataframe tbody tr th:only-of-type {\n        vertical-align: middle;\n    }\n\n    .dataframe tbody tr th {\n        vertical-align: top;\n    }\n\n    .dataframe thead th {\n        text-align: right;\n    }\n</style>\n<table border=\"1\" class=\"dataframe\">\n  <thead>\n    <tr style=\"text-align: right;\">\n      <th></th>\n      <th>questions</th>\n      <th>long_answers</th>\n      <th>answer</th>\n      <th>developer_prompt</th>\n      <th>user_prompt</th>\n      <th>pred_solution</th>\n      <th>extracted_number</th>\n    </tr>\n  </thead>\n  <tbody>\n    <tr>\n      <th>0</th>\n      <td>Janet’s ducks lay 16 eggs per day. She eats th...</td>\n      <td>Janet sells 16 - 3 - 4 = &lt;&lt;16-3-4=9&gt;&gt;9 duck eg...</td>\n      <td>18.0</td>\n      <td>You are a helpful AI assistant who knows math.</td>\n      <td>Below I will provide a question with a math pr...</td>\n      <td>{\"answer\": \"26\"}</td>\n      <td>26.0</td>\n    </tr>\n    <tr>\n      <th>1</th>\n      <td>A robe takes 2 bolts of blue fiber and half th...</td>\n      <td>It takes 2/2=&lt;&lt;2/2=1&gt;&gt;1 bolt of white fiber\\nS...</td>\n      <td>3.0</td>\n      <td>You are a helpful AI assistant who knows math.</td>\n      <td>Below I will provide a question with a math pr...</td>\n      <td>{\"answer\": \"3\"}</td>\n      <td>3.0</td>\n    </tr>\n    <tr>\n      <th>2</th>\n      <td>Josh decides to try flipping a house.  He buys...</td>\n      <td>The cost of the house and repairs came out to ...</td>\n      <td>70000.0</td>\n      <td>You are a helpful AI assistant who knows math.</td>\n      <td>Below I will provide a question with a math pr...</td>\n      <td>{\"answer\": \"85000\"}</td>\n      <td>85000.0</td>\n    </tr>\n    <tr>\n      <th>3</th>\n      <td>James decides to run 3 sprints 3 times a week....</td>\n      <td>He sprints 3*3=&lt;&lt;3*3=9&gt;&gt;9 times\\nSo he runs 9*...</td>\n      <td>540.0</td>\n      <td>You are a helpful AI assistant who knows math.</td>\n      <td>Below I will provide a question with a math pr...</td>\n      <td>{\"answer\": \"540\"}</td>\n      <td>540.0</td>\n    </tr>\n    <tr>\n      <th>4</th>\n      <td>Every day, Wendi feeds each of her chickens th...</td>\n      <td>If each chicken eats 3 cups of feed per day, t...</td>\n      <td>20.0</td>\n      <td>You are a helpful AI assistant who knows math.</td>\n      <td>Below I will provide a question with a math pr...</td>\n      <td>{\"answer\": \"30\"}</td>\n      <td>30.0</td>\n    </tr>\n  </tbody>\n</table>\n</div>"
     },
     "execution_count": 33,
     "metadata": {},
     "output_type": "execute_result"
    }
   ],
   "source": [
    "df_zero.head()"
   ],
   "metadata": {
    "collapsed": false,
    "ExecuteTime": {
     "end_time": "2025-05-08T08:35:53.894957Z",
     "start_time": "2025-05-08T08:35:53.884214Z"
    }
   },
   "id": "657a54b2b0d06c00"
  },
  {
   "cell_type": "code",
   "execution_count": 34,
   "outputs": [
    {
     "data": {
      "text/plain": "0.37"
     },
     "execution_count": 34,
     "metadata": {},
     "output_type": "execute_result"
    }
   ],
   "source": [
    "calculate_accuracy(df_zero, \"answer\", \"extracted_number\")"
   ],
   "metadata": {
    "collapsed": false,
    "ExecuteTime": {
     "end_time": "2025-05-08T08:36:06.547868Z",
     "start_time": "2025-05-08T08:36:06.520260Z"
    }
   },
   "id": "dfc8634c58c71a2f"
  },
  {
   "cell_type": "markdown",
   "source": [
    "## Few-shot Prompting"
   ],
   "metadata": {
    "collapsed": false
   },
   "id": "62751e5786ea370b"
  },
  {
   "cell_type": "code",
   "execution_count": 46,
   "outputs": [
    {
     "name": "stderr",
     "output_type": "stream",
     "text": [
      "100%|██████████| 100/100 [00:04<00:00, 21.60it/s]\n"
     ]
    }
   ],
   "source": [
    "developer_prompt = \"\"\"You are a helpful AI assistant who knows math.\n",
    "\n",
    "Example problems:\n",
    "Problem 1:\n",
    "Natalia sold clips to 48 of her friends in April, and then she sold half as many clips in May. How many clips did Natalia sell altogether in April and May?\n",
    "Reasoning with answer: Natalia sold 48/2 = <<48/2=24>>24 clips in May.\\nNatalia sold 48+24 = <<48+24=72>>72 clips altogether in April and May.\\n#### 72 \n",
    "Answer: {{\"answer\": \"72\"}}\n",
    "\n",
    "Problem 2:\n",
    "Weng earns $12 an hour for babysitting. Yesterday, she just did 50 minutes of babysitting. How much did she earn?\n",
    "Reasoning with answer: Weng earns 12/60 = $<<12/60=0.2>>0.2 per minute.\\nWorking 50 minutes, she earned 0.2 x 50 = $<<0.2*50=10>>10.\\n#### 10\n",
    "Answer: {{\"answer\": \"72\"}}\n",
    "\n",
    "Problem 3:\n",
    "Betty is saving money for a new wallet which costs $100. Betty has only half of the money she needs. Her parents decided to give her $15 for that purpose, and her grandparents twice as much as her parents. How much more money does Betty need to buy the wallet?\n",
    "Reasoning with answer: In the beginning, Betty has only 100 / 2 = $<<100/2=50>>50.\\nBetty's grandparents gave her 15 * 2 = $<<15*2=30>>30.\\nThis means, Betty needs 100 - 50 - 30 - 15 = $<<100-50-30-15=5>>5 more.\\n#### 5\n",
    "Answer: {{\"answer\": \"5\"}}\n",
    "\"\"\"\n",
    "user_prompt = \"\"\"Below I will provide a question with a math problem. \n",
    "Please solve it and present final number which is an answer to the problem.\n",
    "Provide only answer. Do not show any reasoning and explanation and do not provide units.\n",
    "Question: {text}\n",
    "Give answer in this form: {{\"answer\": \"answer with final number\"}}\"\"\"\n",
    "\n",
    "prompt_template = PromptTemplate(developer_prompt, user_prompt)\n",
    "\n",
    "df_few = parallel_text_processing(\n",
    "    dataframe=df.copy(),\n",
    "    col_with_content=\"questions\",\n",
    "    column=\"pred_solution\",\n",
    "    filename=\"result/math_problem_few_shot.csv\",\n",
    "    model=\"gpt-4o-mini\",\n",
    "    prompt_template=prompt_template\n",
    ")"
   ],
   "metadata": {
    "collapsed": false,
    "ExecuteTime": {
     "end_time": "2025-05-08T08:49:16.425613Z",
     "start_time": "2025-05-08T08:49:11.722163Z"
    }
   },
   "id": "d2a716731007ebf6"
  },
  {
   "cell_type": "code",
   "execution_count": 47,
   "outputs": [
    {
     "data": {
      "text/plain": "                                           questions  \\\n0  Janet’s ducks lay 16 eggs per day. She eats th...   \n1  A robe takes 2 bolts of blue fiber and half th...   \n2  Josh decides to try flipping a house.  He buys...   \n3  James decides to run 3 sprints 3 times a week....   \n4  Every day, Wendi feeds each of her chickens th...   \n\n                                        long_answers   answer  \\\n0  Janet sells 16 - 3 - 4 = <<16-3-4=9>>9 duck eg...     18.0   \n1  It takes 2/2=<<2/2=1>>1 bolt of white fiber\\nS...      3.0   \n2  The cost of the house and repairs came out to ...  70000.0   \n3  He sprints 3*3=<<3*3=9>>9 times\\nSo he runs 9*...    540.0   \n4  If each chicken eats 3 cups of feed per day, t...     20.0   \n\n                                    developer_prompt  \\\n0  You are a helpful AI assistant who knows math....   \n1  You are a helpful AI assistant who knows math....   \n2  You are a helpful AI assistant who knows math....   \n3  You are a helpful AI assistant who knows math....   \n4  You are a helpful AI assistant who knows math....   \n\n                                         user_prompt        pred_solution  \n0  Below I will provide a question with a math pr...     {\"answer\": \"18\"}  \n1  Below I will provide a question with a math pr...      {\"answer\": \"3\"}  \n2  Below I will provide a question with a math pr...  {\"answer\": \"80000\"}  \n3  Below I will provide a question with a math pr...    {\"answer\": \"540\"}  \n4  Below I will provide a question with a math pr...     {\"answer\": \"60\"}  ",
      "text/html": "<div>\n<style scoped>\n    .dataframe tbody tr th:only-of-type {\n        vertical-align: middle;\n    }\n\n    .dataframe tbody tr th {\n        vertical-align: top;\n    }\n\n    .dataframe thead th {\n        text-align: right;\n    }\n</style>\n<table border=\"1\" class=\"dataframe\">\n  <thead>\n    <tr style=\"text-align: right;\">\n      <th></th>\n      <th>questions</th>\n      <th>long_answers</th>\n      <th>answer</th>\n      <th>developer_prompt</th>\n      <th>user_prompt</th>\n      <th>pred_solution</th>\n    </tr>\n  </thead>\n  <tbody>\n    <tr>\n      <th>0</th>\n      <td>Janet’s ducks lay 16 eggs per day. She eats th...</td>\n      <td>Janet sells 16 - 3 - 4 = &lt;&lt;16-3-4=9&gt;&gt;9 duck eg...</td>\n      <td>18.0</td>\n      <td>You are a helpful AI assistant who knows math....</td>\n      <td>Below I will provide a question with a math pr...</td>\n      <td>{\"answer\": \"18\"}</td>\n    </tr>\n    <tr>\n      <th>1</th>\n      <td>A robe takes 2 bolts of blue fiber and half th...</td>\n      <td>It takes 2/2=&lt;&lt;2/2=1&gt;&gt;1 bolt of white fiber\\nS...</td>\n      <td>3.0</td>\n      <td>You are a helpful AI assistant who knows math....</td>\n      <td>Below I will provide a question with a math pr...</td>\n      <td>{\"answer\": \"3\"}</td>\n    </tr>\n    <tr>\n      <th>2</th>\n      <td>Josh decides to try flipping a house.  He buys...</td>\n      <td>The cost of the house and repairs came out to ...</td>\n      <td>70000.0</td>\n      <td>You are a helpful AI assistant who knows math....</td>\n      <td>Below I will provide a question with a math pr...</td>\n      <td>{\"answer\": \"80000\"}</td>\n    </tr>\n    <tr>\n      <th>3</th>\n      <td>James decides to run 3 sprints 3 times a week....</td>\n      <td>He sprints 3*3=&lt;&lt;3*3=9&gt;&gt;9 times\\nSo he runs 9*...</td>\n      <td>540.0</td>\n      <td>You are a helpful AI assistant who knows math....</td>\n      <td>Below I will provide a question with a math pr...</td>\n      <td>{\"answer\": \"540\"}</td>\n    </tr>\n    <tr>\n      <th>4</th>\n      <td>Every day, Wendi feeds each of her chickens th...</td>\n      <td>If each chicken eats 3 cups of feed per day, t...</td>\n      <td>20.0</td>\n      <td>You are a helpful AI assistant who knows math....</td>\n      <td>Below I will provide a question with a math pr...</td>\n      <td>{\"answer\": \"60\"}</td>\n    </tr>\n  </tbody>\n</table>\n</div>"
     },
     "execution_count": 47,
     "metadata": {},
     "output_type": "execute_result"
    }
   ],
   "source": [
    "df_few.head()"
   ],
   "metadata": {
    "collapsed": false,
    "ExecuteTime": {
     "end_time": "2025-05-08T08:49:18.370354Z",
     "start_time": "2025-05-08T08:49:18.360405Z"
    }
   },
   "id": "8c14b371b7f0cf47"
  },
  {
   "cell_type": "code",
   "execution_count": 48,
   "outputs": [],
   "source": [
    "df_few = extract_numbers(dataset=df_few, column_name='pred_solution', new_column_name='extracted_number')"
   ],
   "metadata": {
    "collapsed": false,
    "ExecuteTime": {
     "end_time": "2025-05-08T08:49:19.300481Z",
     "start_time": "2025-05-08T08:49:19.295259Z"
    }
   },
   "id": "4a1c4516072f0c6b"
  },
  {
   "cell_type": "code",
   "execution_count": 49,
   "outputs": [
    {
     "data": {
      "text/plain": "                                           questions  \\\n0  Janet’s ducks lay 16 eggs per day. She eats th...   \n1  A robe takes 2 bolts of blue fiber and half th...   \n2  Josh decides to try flipping a house.  He buys...   \n3  James decides to run 3 sprints 3 times a week....   \n4  Every day, Wendi feeds each of her chickens th...   \n\n                                        long_answers   answer  \\\n0  Janet sells 16 - 3 - 4 = <<16-3-4=9>>9 duck eg...     18.0   \n1  It takes 2/2=<<2/2=1>>1 bolt of white fiber\\nS...      3.0   \n2  The cost of the house and repairs came out to ...  70000.0   \n3  He sprints 3*3=<<3*3=9>>9 times\\nSo he runs 9*...    540.0   \n4  If each chicken eats 3 cups of feed per day, t...     20.0   \n\n                                    developer_prompt  \\\n0  You are a helpful AI assistant who knows math....   \n1  You are a helpful AI assistant who knows math....   \n2  You are a helpful AI assistant who knows math....   \n3  You are a helpful AI assistant who knows math....   \n4  You are a helpful AI assistant who knows math....   \n\n                                         user_prompt        pred_solution  \\\n0  Below I will provide a question with a math pr...     {\"answer\": \"18\"}   \n1  Below I will provide a question with a math pr...      {\"answer\": \"3\"}   \n2  Below I will provide a question with a math pr...  {\"answer\": \"80000\"}   \n3  Below I will provide a question with a math pr...    {\"answer\": \"540\"}   \n4  Below I will provide a question with a math pr...     {\"answer\": \"60\"}   \n\n   extracted_number  \n0              18.0  \n1               3.0  \n2           80000.0  \n3             540.0  \n4              60.0  ",
      "text/html": "<div>\n<style scoped>\n    .dataframe tbody tr th:only-of-type {\n        vertical-align: middle;\n    }\n\n    .dataframe tbody tr th {\n        vertical-align: top;\n    }\n\n    .dataframe thead th {\n        text-align: right;\n    }\n</style>\n<table border=\"1\" class=\"dataframe\">\n  <thead>\n    <tr style=\"text-align: right;\">\n      <th></th>\n      <th>questions</th>\n      <th>long_answers</th>\n      <th>answer</th>\n      <th>developer_prompt</th>\n      <th>user_prompt</th>\n      <th>pred_solution</th>\n      <th>extracted_number</th>\n    </tr>\n  </thead>\n  <tbody>\n    <tr>\n      <th>0</th>\n      <td>Janet’s ducks lay 16 eggs per day. She eats th...</td>\n      <td>Janet sells 16 - 3 - 4 = &lt;&lt;16-3-4=9&gt;&gt;9 duck eg...</td>\n      <td>18.0</td>\n      <td>You are a helpful AI assistant who knows math....</td>\n      <td>Below I will provide a question with a math pr...</td>\n      <td>{\"answer\": \"18\"}</td>\n      <td>18.0</td>\n    </tr>\n    <tr>\n      <th>1</th>\n      <td>A robe takes 2 bolts of blue fiber and half th...</td>\n      <td>It takes 2/2=&lt;&lt;2/2=1&gt;&gt;1 bolt of white fiber\\nS...</td>\n      <td>3.0</td>\n      <td>You are a helpful AI assistant who knows math....</td>\n      <td>Below I will provide a question with a math pr...</td>\n      <td>{\"answer\": \"3\"}</td>\n      <td>3.0</td>\n    </tr>\n    <tr>\n      <th>2</th>\n      <td>Josh decides to try flipping a house.  He buys...</td>\n      <td>The cost of the house and repairs came out to ...</td>\n      <td>70000.0</td>\n      <td>You are a helpful AI assistant who knows math....</td>\n      <td>Below I will provide a question with a math pr...</td>\n      <td>{\"answer\": \"80000\"}</td>\n      <td>80000.0</td>\n    </tr>\n    <tr>\n      <th>3</th>\n      <td>James decides to run 3 sprints 3 times a week....</td>\n      <td>He sprints 3*3=&lt;&lt;3*3=9&gt;&gt;9 times\\nSo he runs 9*...</td>\n      <td>540.0</td>\n      <td>You are a helpful AI assistant who knows math....</td>\n      <td>Below I will provide a question with a math pr...</td>\n      <td>{\"answer\": \"540\"}</td>\n      <td>540.0</td>\n    </tr>\n    <tr>\n      <th>4</th>\n      <td>Every day, Wendi feeds each of her chickens th...</td>\n      <td>If each chicken eats 3 cups of feed per day, t...</td>\n      <td>20.0</td>\n      <td>You are a helpful AI assistant who knows math....</td>\n      <td>Below I will provide a question with a math pr...</td>\n      <td>{\"answer\": \"60\"}</td>\n      <td>60.0</td>\n    </tr>\n  </tbody>\n</table>\n</div>"
     },
     "execution_count": 49,
     "metadata": {},
     "output_type": "execute_result"
    }
   ],
   "source": [
    "df_few.head()"
   ],
   "metadata": {
    "collapsed": false,
    "ExecuteTime": {
     "end_time": "2025-05-08T08:49:20.191590Z",
     "start_time": "2025-05-08T08:49:20.180755Z"
    }
   },
   "id": "50df75fa6cf0b3d"
  },
  {
   "cell_type": "code",
   "execution_count": 50,
   "outputs": [
    {
     "data": {
      "text/plain": "0.38"
     },
     "execution_count": 50,
     "metadata": {},
     "output_type": "execute_result"
    }
   ],
   "source": [
    "calculate_accuracy(df_few, \"answer\", \"extracted_number\")"
   ],
   "metadata": {
    "collapsed": false,
    "ExecuteTime": {
     "end_time": "2025-05-08T08:49:28.871635Z",
     "start_time": "2025-05-08T08:49:28.859426Z"
    }
   },
   "id": "27ae488a0c079289"
  },
  {
   "cell_type": "markdown",
   "source": [
    "## Chain-of-Thought Prompting (with Zero-Shot)"
   ],
   "metadata": {
    "collapsed": false
   },
   "id": "92b8b6866b0ab555"
  },
  {
   "cell_type": "code",
   "execution_count": 40,
   "outputs": [
    {
     "name": "stderr",
     "output_type": "stream",
     "text": [
      "100%|██████████| 100/100 [00:30<00:00,  3.32it/s]\n"
     ]
    }
   ],
   "source": [
    "# Usage Example\n",
    "developer_prompt = \"You are a helpful AI assistant who knows math.\"\n",
    "user_prompt_template = \"\"\"Below I will provide a question with a math problem. \n",
    "Please solve it and present the final number which is the answer to the problem. \n",
    "In the final answer do not provide units, give only the number.\n",
    "\n",
    "Question: {text}\n",
    "Give answer in this form: {{\"reasoning\": \"Solve it step by step and provide reasoning and explanation\", \"answer\": \"final number\"}}\"\"\"\n",
    "\n",
    "prompt_template = PromptTemplate(developer_prompt, user_prompt_template)\n",
    "\n",
    "df_cot = parallel_text_processing(\n",
    "    dataframe=df.copy(),\n",
    "    col_with_content=\"questions\",\n",
    "    column=\"pred_solution\",\n",
    "    filename=\"result/math_problem_cot.csv\",\n",
    "    model=\"gpt-4o-mini\",\n",
    "    prompt_template=prompt_template\n",
    ")"
   ],
   "metadata": {
    "collapsed": false,
    "ExecuteTime": {
     "end_time": "2025-05-08T08:42:30.654411Z",
     "start_time": "2025-05-08T08:42:00.476248Z"
    }
   },
   "id": "1bb086adda3ea31c"
  },
  {
   "cell_type": "code",
   "execution_count": 41,
   "outputs": [
    {
     "data": {
      "text/plain": "                                           questions  \\\n0  Janet’s ducks lay 16 eggs per day. She eats th...   \n1  A robe takes 2 bolts of blue fiber and half th...   \n2  Josh decides to try flipping a house.  He buys...   \n3  James decides to run 3 sprints 3 times a week....   \n4  Every day, Wendi feeds each of her chickens th...   \n\n                                        long_answers   answer  \\\n0  Janet sells 16 - 3 - 4 = <<16-3-4=9>>9 duck eg...     18.0   \n1  It takes 2/2=<<2/2=1>>1 bolt of white fiber\\nS...      3.0   \n2  The cost of the house and repairs came out to ...  70000.0   \n3  He sprints 3*3=<<3*3=9>>9 times\\nSo he runs 9*...    540.0   \n4  If each chicken eats 3 cups of feed per day, t...     20.0   \n\n                                 developer_prompt  \\\n0  You are a helpful AI assistant who knows math.   \n1  You are a helpful AI assistant who knows math.   \n2  You are a helpful AI assistant who knows math.   \n3  You are a helpful AI assistant who knows math.   \n4  You are a helpful AI assistant who knows math.   \n\n                                         user_prompt  \\\n0  Below I will provide a question with a math pr...   \n1  Below I will provide a question with a math pr...   \n2  Below I will provide a question with a math pr...   \n3  Below I will provide a question with a math pr...   \n4  Below I will provide a question with a math pr...   \n\n                                       pred_solution  \n0  {\"reasoning\": \"First, we need to determine how...  \n1  {\"reasoning\": \"To find the total number of bol...  \n2  {\"reasoning\": \"First, we calculate the total i...  \n3  {\"reasoning\": \"To find the total meters James ...  \n4  {\"reasoning\": \"First, we need to determine the...  ",
      "text/html": "<div>\n<style scoped>\n    .dataframe tbody tr th:only-of-type {\n        vertical-align: middle;\n    }\n\n    .dataframe tbody tr th {\n        vertical-align: top;\n    }\n\n    .dataframe thead th {\n        text-align: right;\n    }\n</style>\n<table border=\"1\" class=\"dataframe\">\n  <thead>\n    <tr style=\"text-align: right;\">\n      <th></th>\n      <th>questions</th>\n      <th>long_answers</th>\n      <th>answer</th>\n      <th>developer_prompt</th>\n      <th>user_prompt</th>\n      <th>pred_solution</th>\n    </tr>\n  </thead>\n  <tbody>\n    <tr>\n      <th>0</th>\n      <td>Janet’s ducks lay 16 eggs per day. She eats th...</td>\n      <td>Janet sells 16 - 3 - 4 = &lt;&lt;16-3-4=9&gt;&gt;9 duck eg...</td>\n      <td>18.0</td>\n      <td>You are a helpful AI assistant who knows math.</td>\n      <td>Below I will provide a question with a math pr...</td>\n      <td>{\"reasoning\": \"First, we need to determine how...</td>\n    </tr>\n    <tr>\n      <th>1</th>\n      <td>A robe takes 2 bolts of blue fiber and half th...</td>\n      <td>It takes 2/2=&lt;&lt;2/2=1&gt;&gt;1 bolt of white fiber\\nS...</td>\n      <td>3.0</td>\n      <td>You are a helpful AI assistant who knows math.</td>\n      <td>Below I will provide a question with a math pr...</td>\n      <td>{\"reasoning\": \"To find the total number of bol...</td>\n    </tr>\n    <tr>\n      <th>2</th>\n      <td>Josh decides to try flipping a house.  He buys...</td>\n      <td>The cost of the house and repairs came out to ...</td>\n      <td>70000.0</td>\n      <td>You are a helpful AI assistant who knows math.</td>\n      <td>Below I will provide a question with a math pr...</td>\n      <td>{\"reasoning\": \"First, we calculate the total i...</td>\n    </tr>\n    <tr>\n      <th>3</th>\n      <td>James decides to run 3 sprints 3 times a week....</td>\n      <td>He sprints 3*3=&lt;&lt;3*3=9&gt;&gt;9 times\\nSo he runs 9*...</td>\n      <td>540.0</td>\n      <td>You are a helpful AI assistant who knows math.</td>\n      <td>Below I will provide a question with a math pr...</td>\n      <td>{\"reasoning\": \"To find the total meters James ...</td>\n    </tr>\n    <tr>\n      <th>4</th>\n      <td>Every day, Wendi feeds each of her chickens th...</td>\n      <td>If each chicken eats 3 cups of feed per day, t...</td>\n      <td>20.0</td>\n      <td>You are a helpful AI assistant who knows math.</td>\n      <td>Below I will provide a question with a math pr...</td>\n      <td>{\"reasoning\": \"First, we need to determine the...</td>\n    </tr>\n  </tbody>\n</table>\n</div>"
     },
     "execution_count": 41,
     "metadata": {},
     "output_type": "execute_result"
    }
   ],
   "source": [
    "df_cot.head()"
   ],
   "metadata": {
    "collapsed": false,
    "ExecuteTime": {
     "end_time": "2025-05-08T08:42:48.765408Z",
     "start_time": "2025-05-08T08:42:48.755246Z"
    }
   },
   "id": "88ec4eb52fcc4d07"
  },
  {
   "cell_type": "code",
   "execution_count": 42,
   "outputs": [
    {
     "data": {
      "text/plain": "'{\"reasoning\": \"First, we need to determine how many eggs Janet has left after she eats and bakes with them. Janet\\'s ducks lay 16 eggs per day. She eats 3 eggs for breakfast and uses 4 eggs for baking muffins. Therefore, the total number of eggs she consumes each day is 3 + 4 = 7 eggs. Next, we subtract the number of eggs she consumes from the total number of eggs laid: 16 - 7 = 9 eggs. These 9 eggs are the ones she sells at the farmers\\' market. Since she sells each egg for $2, we calculate her daily earnings by multiplying the number of eggs sold by the price per egg: 9 eggs * $2/egg = $18. Thus, Janet makes $18 every day at the farmers\\' market.\", \"answer\": \"18\"}'"
     },
     "execution_count": 42,
     "metadata": {},
     "output_type": "execute_result"
    }
   ],
   "source": [
    "df_cot.pred_solution.iloc[0]"
   ],
   "metadata": {
    "collapsed": false,
    "ExecuteTime": {
     "end_time": "2025-05-08T08:42:52.599730Z",
     "start_time": "2025-05-08T08:42:52.581081Z"
    }
   },
   "id": "fe0f9726d501dffd"
  },
  {
   "cell_type": "code",
   "execution_count": 43,
   "outputs": [],
   "source": [
    "df_cot=extract_numbers(dataset=df_cot, column_name='pred_solution', new_column_name='extracted_number')"
   ],
   "metadata": {
    "collapsed": false,
    "ExecuteTime": {
     "end_time": "2025-05-08T08:43:35.576474Z",
     "start_time": "2025-05-08T08:43:35.560941Z"
    }
   },
   "id": "1c8fc4c9217bb906"
  },
  {
   "cell_type": "code",
   "execution_count": 44,
   "outputs": [
    {
     "data": {
      "text/plain": "                                           questions  \\\n0  Janet’s ducks lay 16 eggs per day. She eats th...   \n1  A robe takes 2 bolts of blue fiber and half th...   \n2  Josh decides to try flipping a house.  He buys...   \n3  James decides to run 3 sprints 3 times a week....   \n4  Every day, Wendi feeds each of her chickens th...   \n\n                                        long_answers   answer  \\\n0  Janet sells 16 - 3 - 4 = <<16-3-4=9>>9 duck eg...     18.0   \n1  It takes 2/2=<<2/2=1>>1 bolt of white fiber\\nS...      3.0   \n2  The cost of the house and repairs came out to ...  70000.0   \n3  He sprints 3*3=<<3*3=9>>9 times\\nSo he runs 9*...    540.0   \n4  If each chicken eats 3 cups of feed per day, t...     20.0   \n\n                                 developer_prompt  \\\n0  You are a helpful AI assistant who knows math.   \n1  You are a helpful AI assistant who knows math.   \n2  You are a helpful AI assistant who knows math.   \n3  You are a helpful AI assistant who knows math.   \n4  You are a helpful AI assistant who knows math.   \n\n                                         user_prompt  \\\n0  Below I will provide a question with a math pr...   \n1  Below I will provide a question with a math pr...   \n2  Below I will provide a question with a math pr...   \n3  Below I will provide a question with a math pr...   \n4  Below I will provide a question with a math pr...   \n\n                                       pred_solution  extracted_number  \n0  {\"reasoning\": \"First, we need to determine how...              18.0  \n1  {\"reasoning\": \"To find the total number of bol...               3.0  \n2  {\"reasoning\": \"First, we calculate the total i...           70000.0  \n3  {\"reasoning\": \"To find the total meters James ...             540.0  \n4  {\"reasoning\": \"First, we need to determine the...              20.0  ",
      "text/html": "<div>\n<style scoped>\n    .dataframe tbody tr th:only-of-type {\n        vertical-align: middle;\n    }\n\n    .dataframe tbody tr th {\n        vertical-align: top;\n    }\n\n    .dataframe thead th {\n        text-align: right;\n    }\n</style>\n<table border=\"1\" class=\"dataframe\">\n  <thead>\n    <tr style=\"text-align: right;\">\n      <th></th>\n      <th>questions</th>\n      <th>long_answers</th>\n      <th>answer</th>\n      <th>developer_prompt</th>\n      <th>user_prompt</th>\n      <th>pred_solution</th>\n      <th>extracted_number</th>\n    </tr>\n  </thead>\n  <tbody>\n    <tr>\n      <th>0</th>\n      <td>Janet’s ducks lay 16 eggs per day. She eats th...</td>\n      <td>Janet sells 16 - 3 - 4 = &lt;&lt;16-3-4=9&gt;&gt;9 duck eg...</td>\n      <td>18.0</td>\n      <td>You are a helpful AI assistant who knows math.</td>\n      <td>Below I will provide a question with a math pr...</td>\n      <td>{\"reasoning\": \"First, we need to determine how...</td>\n      <td>18.0</td>\n    </tr>\n    <tr>\n      <th>1</th>\n      <td>A robe takes 2 bolts of blue fiber and half th...</td>\n      <td>It takes 2/2=&lt;&lt;2/2=1&gt;&gt;1 bolt of white fiber\\nS...</td>\n      <td>3.0</td>\n      <td>You are a helpful AI assistant who knows math.</td>\n      <td>Below I will provide a question with a math pr...</td>\n      <td>{\"reasoning\": \"To find the total number of bol...</td>\n      <td>3.0</td>\n    </tr>\n    <tr>\n      <th>2</th>\n      <td>Josh decides to try flipping a house.  He buys...</td>\n      <td>The cost of the house and repairs came out to ...</td>\n      <td>70000.0</td>\n      <td>You are a helpful AI assistant who knows math.</td>\n      <td>Below I will provide a question with a math pr...</td>\n      <td>{\"reasoning\": \"First, we calculate the total i...</td>\n      <td>70000.0</td>\n    </tr>\n    <tr>\n      <th>3</th>\n      <td>James decides to run 3 sprints 3 times a week....</td>\n      <td>He sprints 3*3=&lt;&lt;3*3=9&gt;&gt;9 times\\nSo he runs 9*...</td>\n      <td>540.0</td>\n      <td>You are a helpful AI assistant who knows math.</td>\n      <td>Below I will provide a question with a math pr...</td>\n      <td>{\"reasoning\": \"To find the total meters James ...</td>\n      <td>540.0</td>\n    </tr>\n    <tr>\n      <th>4</th>\n      <td>Every day, Wendi feeds each of her chickens th...</td>\n      <td>If each chicken eats 3 cups of feed per day, t...</td>\n      <td>20.0</td>\n      <td>You are a helpful AI assistant who knows math.</td>\n      <td>Below I will provide a question with a math pr...</td>\n      <td>{\"reasoning\": \"First, we need to determine the...</td>\n      <td>20.0</td>\n    </tr>\n  </tbody>\n</table>\n</div>"
     },
     "execution_count": 44,
     "metadata": {},
     "output_type": "execute_result"
    }
   ],
   "source": [
    "df_cot.head()"
   ],
   "metadata": {
    "collapsed": false,
    "ExecuteTime": {
     "end_time": "2025-05-08T08:43:37.434888Z",
     "start_time": "2025-05-08T08:43:37.425155Z"
    }
   },
   "id": "ee721e1517be5500"
  },
  {
   "cell_type": "code",
   "execution_count": 45,
   "outputs": [
    {
     "data": {
      "text/plain": "0.91"
     },
     "execution_count": 45,
     "metadata": {},
     "output_type": "execute_result"
    }
   ],
   "source": [
    "calculate_accuracy(df_cot, \"answer\", \"extracted_number\")"
   ],
   "metadata": {
    "collapsed": false,
    "ExecuteTime": {
     "end_time": "2025-05-08T08:43:38.771994Z",
     "start_time": "2025-05-08T08:43:38.755526Z"
    }
   },
   "id": "37a599b00eba159d"
  },
  {
   "cell_type": "code",
   "execution_count": null,
   "outputs": [],
   "source": [],
   "metadata": {
    "collapsed": false
   },
   "id": "fe4e1eac4176d5a9"
  }
 ],
 "metadata": {
  "kernelspec": {
   "display_name": "Python 3",
   "language": "python",
   "name": "python3"
  },
  "language_info": {
   "codemirror_mode": {
    "name": "ipython",
    "version": 2
   },
   "file_extension": ".py",
   "mimetype": "text/x-python",
   "name": "python",
   "nbconvert_exporter": "python",
   "pygments_lexer": "ipython2",
   "version": "2.7.6"
  }
 },
 "nbformat": 4,
 "nbformat_minor": 5
}
