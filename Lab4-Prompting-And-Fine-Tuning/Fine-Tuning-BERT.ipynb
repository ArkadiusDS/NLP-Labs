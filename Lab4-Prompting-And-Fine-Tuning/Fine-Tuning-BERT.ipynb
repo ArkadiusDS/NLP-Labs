{
 "cells": [
  {
   "cell_type": "code",
   "execution_count": 3,
   "outputs": [],
   "source": [
    "import json\n",
    "import os\n",
    "import pandas as pd\n",
    "from transformers import (\n",
    "    AutoTokenizer, AutoModelForSequenceClassification,\n",
    "    Trainer, TrainingArguments\n",
    ")\n",
    "from sklearn.metrics import f1_score\n",
    "import torch\n",
    "from transformers import EvalPrediction, pipeline"
   ],
   "metadata": {
    "collapsed": false,
    "ExecuteTime": {
     "end_time": "2025-05-02T18:49:44.928859Z",
     "start_time": "2025-05-02T18:49:41.294150Z"
    }
   },
   "id": "initial_id"
  },
  {
   "cell_type": "markdown",
   "source": [
    "# Utils\n",
    "\n",
    "Helper classes and functions for our task"
   ],
   "metadata": {
    "collapsed": false
   },
   "id": "6408b8bf767da190"
  },
  {
   "cell_type": "code",
   "execution_count": 6,
   "outputs": [],
   "source": [
    "os.environ[\"WANDB_DISABLED\"] = \"true\""
   ],
   "metadata": {
    "collapsed": false,
    "ExecuteTime": {
     "start_time": "2025-05-02T18:51:22.254483Z"
    }
   },
   "id": "691a2799ac7f2fbc"
  },
  {
   "cell_type": "code",
   "execution_count": 4,
   "outputs": [],
   "source": [
    "class DisinformationDataset(torch.utils.data.Dataset):\n",
    "    def __init__(self, encodings, labels):\n",
    "        self.encodings = encodings\n",
    "        self.labels = labels\n",
    "\n",
    "    def __getitem__(self, idx):\n",
    "        item = {key: torch.tensor(val[idx]) for key, val in self.encodings.items()}\n",
    "        item['labels'] = torch.tensor(self.labels[idx])\n",
    "        return item\n",
    "\n",
    "    def __len__(self):\n",
    "        return len(self.labels)\n",
    "\n",
    "\n",
    "def load_and_process_data(file_path: str, label_column: str = \"label\") -> pd.DataFrame:\n",
    "    \"\"\"\n",
    "    Loads the data from a CSV file and processes the labels.\n",
    "    Args:\n",
    "        file_path (str): Path to the CSV file.\n",
    "        label_column (str): The column name containing the labels.\n",
    "        text_column (str): The column name containing the text content.\n",
    "    Returns:\n",
    "        pd.DataFrame: Processed dataframe with labels and text content.\n",
    "    \"\"\"\n",
    "    data = pd.read_csv(file_path, encoding='utf-8')\n",
    "    data[label_column] = data[label_column].apply(lambda x: 1 if \"fake\" in x.lower() else 0)\n",
    "    return data\n",
    "\n",
    "\n",
    "def save_metrics_to_json(metrics: dict, output_file_path: str):\n",
    "    \"\"\"\n",
    "    Saves the metrics to a JSON file.\n",
    "    Args:\n",
    "        metrics (dict): The evaluation metrics.\n",
    "        output_file_path (str): The file path to save the metrics.\n",
    "    \"\"\"\n",
    "    os.makedirs(os.path.dirname(output_file_path), exist_ok=True)\n",
    "    with open(output_file_path, 'w') as output_file:\n",
    "        json.dump(metrics, output_file, indent=4)"
   ],
   "metadata": {
    "collapsed": false,
    "ExecuteTime": {
     "start_time": "2025-05-02T18:49:44.930604Z"
    }
   },
   "id": "f9db223fbc190df0"
  },
  {
   "cell_type": "code",
   "execution_count": null,
   "outputs": [],
   "source": [
    "def compute_metrics(pred=None, y_true=None, y_pred=None):\n",
    "    \"\"\"\n",
    "    Computes F1 scores (micro, macro, weighted) for both training and testing data.\n",
    "\n",
    "    If `pred` is provided, it computes metrics for the trainer using `EvalPrediction`.\n",
    "    If `y_true` and `y_pred` are provided, it computes metrics for test data predictions.\n",
    "\n",
    "    Parameters:\n",
    "        - pred (EvalPrediction, optional): The evaluation prediction object for Trainer.\n",
    "        - y_true (list, optional): The ground truth labels for the test data.\n",
    "        - y_pred (list, optional): The predicted labels for the test data.\n",
    "\n",
    "    Returns:\n",
    "        - dict: A dictionary containing F1 metrics.\n",
    "    \"\"\"\n",
    "    if pred is not None:\n",
    "        # When working with the Trainer, pred is an EvalPrediction object\n",
    "        labels = pred.label_ids\n",
    "        y_pred = pred.predictions.argmax(-1)\n",
    "    elif y_true is not None and y_pred is not None:\n",
    "        # If y_true and y_pred are provided, use them for test evaluation\n",
    "        labels = y_true\n",
    "    else:\n",
    "        raise ValueError(\"Either `pred` or both `y_true` and `y_pred` must be provided.\")\n",
    "    \n",
    "        # Compute F1 scores\n",
    "    f1 = f1_score(y_true=labels, y_pred=y_pred)\n",
    "\n",
    "    return {\n",
    "        'f1': f1\n",
    "    }\n",
    "    \n",
    "def compute_metrics_for_trainer(pred: EvalPrediction):\n",
    "    return compute_metrics(pred=pred)"
   ],
   "metadata": {
    "collapsed": false
   },
   "id": "786d74215708117"
  },
  {
   "cell_type": "markdown",
   "source": [
    "# Fine Tuning BERT for Disinformation Detection\n",
    "\n",
    "Source of this lab session is [HuggingFace documentation and Learning Materials](https://huggingface.co/learn/llm-course/chapter3/1?fw=pt)\n",
    "\n",
    "HuggingFace Transformers library provides a Trainer class to help you fine-tune any of the pretrained models it provides on your dataset. You have just a few steps to do and define the Trainer. The hardest part is likely to be preparing the environment to run Trainer.train(), as it will run very slowly on a CPU. If you don’t have a GPU set up, you can get access to free GPUs or TPUs on Google Colab.\n"
   ],
   "metadata": {
    "collapsed": false
   },
   "id": "1c21eef4d60fe66d"
  },
  {
   "cell_type": "code",
   "execution_count": null,
   "outputs": [],
   "source": [
    "# Define the URLs pointing to the raw CSV data files hosted on GitHub.\n",
    "\n",
    "url_test = 'https://raw.githubusercontent.com/ArkadiusDS/NLP-Labs/master/data/ECTF/test.csv'\n",
    "url_train = 'https://raw.githubusercontent.com/ArkadiusDS/NLP-Labs/master/data/ECTF/train.csv'\n",
    "url_valid = 'https://raw.githubusercontent.com/ArkadiusDS/NLP-Labs/master/data/ECTF/validation.csv'\n",
    "\n",
    "# Download the datasets from GitHub using the wget command-line tool.\n",
    "# Each file is saved with a simple filename for ease of use.\n",
    "\n",
    "!wget -O test.csv {url_test}\n",
    "!wget -O train.csv {url_train}\n",
    "!wget -O validation.csv {url_valid}"
   ],
   "metadata": {
    "collapsed": false
   },
   "id": "80a1d86d9c5028ab"
  },
  {
   "cell_type": "code",
   "execution_count": null,
   "outputs": [],
   "source": [
    "# Load and preprocess the datasets using the custom function 'load_and_process_data'\n",
    "# This function will load the CSV data files, process the labels, and return the data in a usable dataframe format.\n",
    "\n",
    "# Load and process the training data\n",
    "train_data = load_and_process_data('train.csv')\n",
    "\n",
    "# Load and process the validation data\n",
    "validation_data = load_and_process_data('validation.csv')"
   ],
   "metadata": {
    "collapsed": false
   },
   "id": "81b475083dd0a12c"
  },
  {
   "cell_type": "markdown",
   "source": [
    "What is BERT?\n",
    "BERT (Bidirectional Encoder Representations from Transformers) is a powerful pre-trained language model developed by Google. It understands the context of words in a sentence by considering both the left and right context (bidirectional), making it effective for a wide variety of NLP tasks.\n",
    "\n",
    "Why load the model and tokenizer?\n",
    "\n",
    "Model: The AutoModelForSequenceClassification class loads a pre-trained version of BERT and enables further fine-tuning for classification tasks. For example, in our case, the model can predict whether a text is \"fake\" or \"real\".\n",
    "\n",
    "Tokenizer: The tokenizer converts raw text into tokens (smaller units of text) that the model can understand. It takes care of breaking down the text into the right format that matches the model's expectations (e.g., splitting the sentence into words or sub-words, and converting these into IDs).\n",
    "\n",
    "What does it mean \"uncased\"?\n",
    "The \"bert-base-uncased\" model is a version of BERT that doesn't distinguish between uppercase and lowercase letters. It treats \"Apple\" and \"apple\" the same, which can be helpful for some NLP tasks."
   ],
   "metadata": {
    "collapsed": false
   },
   "id": "12f17f959db1cfbb"
  },
  {
   "cell_type": "code",
   "execution_count": null,
   "outputs": [],
   "source": [
    "id2label = {0: \"Credible\", 1: \"Fake\"}\n",
    "label2id = {\"Credible\": 0, \"Fake\": 1}"
   ],
   "metadata": {
    "collapsed": false
   },
   "id": "5d425dad09e01856"
  },
  {
   "cell_type": "code",
   "execution_count": null,
   "outputs": [],
   "source": [
    "# Load the pre-trained BERT model and tokenizer\n",
    "# BERT is a transformer-based model that has been pre-trained on a large corpus of text\n",
    "# We'll use it for classification task, where the model predicts labels for text.\n",
    "\n",
    "# Load the BERT model for classification (the base uncased version of BERT)\n",
    "# This is a generic model class that will be instantiated as one of the model classes of the library (with a sequence classification head) when created with the from_pretrained()\n",
    "model = AutoModelForSequenceClassification.from_pretrained('google-bert/bert-base-uncased', num_labels=2, id2label=id2label, label2id=label2id)\n",
    "\n",
    "# Load the corresponding tokenizer for BERT\n",
    "# The tokenizer is responsible for converting the text into tokens that the model can process\n",
    "tokenizer = AutoTokenizer.from_pretrained('google-bert/bert-base-uncased')"
   ],
   "metadata": {
    "collapsed": false
   },
   "id": "a385ce2ca48128a7"
  },
  {
   "cell_type": "code",
   "execution_count": null,
   "outputs": [],
   "source": [
    "# Tokenize the datasets (training and validation) to prepare them for input into the BERT model.\n",
    "# Tokenization converts the raw text data into a format the BERT model can process.\n",
    "\n",
    "# Tokenizing the training dataset\n",
    "train_encodings = tokenizer(\n",
    "        train_data['content'].tolist(),\n",
    "        truncation=True,\n",
    "        padding=True,\n",
    "        max_length=256\n",
    "    )\n",
    "\n",
    "# Tokenizing the validation dataset\n",
    "val_encodings = tokenizer(\n",
    "        validation_data['content'].tolist(),\n",
    "        truncation=True,\n",
    "        padding=True,\n",
    "        max_length=256\n",
    "    )"
   ],
   "metadata": {
    "collapsed": false
   },
   "id": "3182e1be28c74f54"
  },
  {
   "cell_type": "markdown",
   "source": [
    "Why do we use truncation?\n",
    "Text in a dataset can vary in length, and BERT-based models have a maximum input length they can handle (often 512 tokens). In this case, we're setting max_length=256, meaning that if a piece of text is longer than 256 tokens, it will be truncated (cut off) at that length. This ensures the text fits within BERT's expected input size.\n",
    "\n",
    "Why do we use padding?\n",
    "Some sentences or documents in the dataset may be shorter than 256 tokens. To ensure that all inputs to the model are the same length, we use padding. Padding adds extra tokens (usually with a value of 0) to the end of shorter sequences, so they all have the same number of tokens (256 in this case).\n",
    "\n",
    "What is max_length?\n",
    "The max_length=256 argument defines the maximum number of tokens for each input sequence. This ensures that all inputs are consistent in size, which is necessary for batch processing during model training or evaluation. If a sequence exceeds this length, it will be truncated; if it’s shorter, it will be padded."
   ],
   "metadata": {
    "collapsed": false
   },
   "id": "b092c84ce69432f8"
  },
  {
   "cell_type": "code",
   "execution_count": null,
   "outputs": [],
   "source": [
    "# Create custom datasets for training and validation using the DisinformationDataset class.\n",
    "# These datasets will format the tokenized text data and corresponding labels into a format that can be used by the model during training and evaluation.\n",
    "\n",
    "# Create the training dataset: it combines the tokenized training data and corresponding labels\n",
    "train_dataset = DisinformationDataset(train_encodings, train_data['label'].tolist())\n",
    "\n",
    "# Create the validation dataset: it combines the tokenized validation data and corresponding labels\n",
    "val_dataset = DisinformationDataset(val_encodings, validation_data['label'].tolist())"
   ],
   "metadata": {
    "collapsed": false
   },
   "id": "be6bc38203764954"
  },
  {
   "cell_type": "code",
   "execution_count": null,
   "outputs": [],
   "source": [
    "# https://huggingface.co/docs/transformers/v4.51.3/en/main_classes/trainer#transformers.TrainingArguments\n",
    "training_args = TrainingArguments(\n",
    "    output_dir='output/training/',\n",
    "    eval_strategy='steps',\n",
    "    learning_rate=0.00001,\n",
    "    per_device_train_batch_size=16,\n",
    "    per_device_eval_batch_size=16,\n",
    "    num_train_epochs=5,\n",
    "    warmup_ratio=0.06,\n",
    "    weight_decay=0.1,\n",
    "    fp16=True,\n",
    "    metric_for_best_model='f1',\n",
    "    load_best_model_at_end=True,\n",
    "    save_total_limit=2,\n",
    "    greater_is_better=True,\n",
    "    save_strategy='steps',\n",
    "    eval_steps=100,\n",
    "    save_on_each_node=True,\n",
    "    report_to=[]\n",
    ")\n",
    "\n",
    "trainer = Trainer(\n",
    "        model=model,  # Pass the actual model instance\n",
    "        args=training_args,\n",
    "        train_dataset=train_dataset,\n",
    "        eval_dataset=val_dataset,\n",
    "        compute_metrics=compute_metrics_for_trainer\n",
    "    )"
   ],
   "metadata": {
    "collapsed": false
   },
   "id": "235e27c4d1f6fc38"
  },
  {
   "cell_type": "markdown",
   "source": [
    "1. What are TrainingArguments?\n",
    "\n",
    "- The TrainingArguments class is used to configure how the model should be trained. It controls aspects like learning rate, batch size, number of epochs, where to save the model, and how to handle evaluations and logging. You can think of it as the “training setup” that specifies how and where training will happen.\n",
    "\n",
    "2. Key training arguments:\n",
    "\n",
    "- output_dir: The output directory where the model predictions and checkpoints will be written.\n",
    "- eval_strategy: Specifies how often the model will be evaluated during training. In this case, evaluation happens at specific intervals (steps).\n",
    "- learning_rate: Controls how much the model adjusts its parameters with each update. A very small learning rate (0.00001) ensures more gradual changes to avoid overshooting optimal values. It is the initial learning rate for AdamW optimizer.\n",
    "- per_device_train_batch_size and per_device_eval_batch_size: These set the number of samples in each batch during training and evaluation.\n",
    "- num_train_epochs: Defines how many times the entire training dataset will be passed through the model. Typically, more epochs lead to better model performance, but too many can lead to overfitting.\n",
    "- warmup_ratio:  Ratio of total training steps used for a linear warmup from 0 to learning_rate.\n",
    "- weight_decay: Regularization technique to prevent the model from overfitting.\n",
    "- fp16: Whether to use fp16 16-bit (mixed) precision training instead of 32-bit training to speed up training on GPUs.\n",
    "- metric_for_best_model: Use in conjunction with load_best_model_at_end to specify the metric to use to compare two different models. Must be the name of a metric returned by the evaluation with or without the prefix \"eval_\".\n",
    "- load_best_model_at_end: Ensures that the best model is loaded at the end of training for further use or evaluation.\n",
    "- save_strategy: The checkpoint save strategy to adopt during training.\n",
    "\n",
    "3. What is the Trainer?\n",
    "Trainer is a simple but feature-complete training and eval loop for PyTorch, optimized for HuggingFace Transformers.\n",
    "\n",
    "4. compute_metrics:\n",
    "This is a custom function you define that computes evaluation metrics like accuracy or F1 score."
   ],
   "metadata": {
    "collapsed": false
   },
   "id": "32d2c5ac004f0ea9"
  },
  {
   "cell_type": "code",
   "execution_count": null,
   "outputs": [],
   "source": [
    "# Train the model using the Trainer class.\n",
    "# This method will start the training process based on the configurations specified in the TrainingArguments.\n",
    "# The model will learn from the training data and be evaluated on the validation data according to the provided settings.\n",
    "\n",
    "trainer.train()"
   ],
   "metadata": {
    "collapsed": false
   },
   "id": "4a3c96367286933f"
  },
  {
   "cell_type": "code",
   "execution_count": null,
   "outputs": [],
   "source": [
    "# Save the trained model to a specified directory after training is completed.\n",
    "# This allows you to persist the model and use it for future predictions or fine-tuning without retraining.\n",
    "model_saved_path='output/final/'\n",
    "trainer.save_model(model_saved_path)\n",
    "tokenizer.save_pretrained(model_saved_path)"
   ],
   "metadata": {
    "collapsed": false
   },
   "id": "c8a7af65717e9d24"
  },
  {
   "cell_type": "markdown",
   "source": [
    "# Prediction on Test Dataset"
   ],
   "metadata": {
    "collapsed": false
   },
   "id": "565ab91a704183fb"
  },
  {
   "cell_type": "code",
   "execution_count": null,
   "outputs": [],
   "source": [
    "# Load the test data and preprocess\n",
    "test_data = load_and_process_data('test.csv')"
   ],
   "metadata": {
    "collapsed": false
   },
   "id": "9f2612e08782659b"
  },
  {
   "cell_type": "code",
   "execution_count": null,
   "outputs": [],
   "source": [
    "# Load the pipeline with CUDA\n",
    "classifier = pipeline(\n",
    "    task=\"text-classification\", \n",
    "    model=model_saved_path, \n",
    "    tokenizer=model_saved_path, \n",
    "    device=0,\n",
    "    truncation=True,\n",
    "    padding=True,\n",
    "    max_length=256\n",
    ")\n",
    "\n",
    "# Run pipeline on all content (batched)\n",
    "results = classifier(test_data[\"content\"].tolist(), batch_size=32)\n",
    "\n",
    "# Convert results to binary predictions\n",
    "test_data[\"predictions\"] = [1 if r[\"label\"] == \"Fake\" else 0 for r in results]"
   ],
   "metadata": {
    "collapsed": false
   },
   "id": "4d49b455267a2f7d"
  },
  {
   "cell_type": "code",
   "execution_count": null,
   "outputs": [],
   "source": [
    "# Compute evaluation metrics on the test data\n",
    "evaluation_results = compute_metrics(y_true=test_data[\"label\"], y_pred=test_data[\"predictions\"])\n",
    "\n",
    "# Save the evaluation metrics to a JSON file\n",
    "output_file_path = \"metrics/results.json\"\n",
    "save_metrics_to_json(evaluation_results, output_file_path)"
   ],
   "metadata": {
    "collapsed": false
   },
   "id": "4ce58edf999cce1d"
  }
 ],
 "metadata": {
  "kernelspec": {
   "display_name": "Python 3",
   "language": "python",
   "name": "python3"
  },
  "language_info": {
   "codemirror_mode": {
    "name": "ipython",
    "version": 2
   },
   "file_extension": ".py",
   "mimetype": "text/x-python",
   "name": "python",
   "nbconvert_exporter": "python",
   "pygments_lexer": "ipython2",
   "version": "2.7.6"
  }
 },
 "nbformat": 4,
 "nbformat_minor": 5
}
