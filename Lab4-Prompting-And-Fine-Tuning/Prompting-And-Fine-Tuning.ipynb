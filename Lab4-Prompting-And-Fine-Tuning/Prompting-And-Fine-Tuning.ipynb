{
 "cells": [
  {
   "cell_type": "code",
   "execution_count": 2,
   "id": "initial_id",
   "metadata": {
    "collapsed": true,
    "ExecuteTime": {
     "end_time": "2025-02-28T17:38:05.233101Z",
     "start_time": "2025-02-28T17:37:59.252316Z"
    }
   },
   "outputs": [],
   "source": [
    "import json\n",
    "import os\n",
    "import yaml\n",
    "import time\n",
    "import pandas as pd\n",
    "from transformers import (\n",
    "    AutoTokenizer, AutoModelForSequenceClassification,\n",
    "    Trainer, TrainingArguments, BatchEncoding\n",
    ")\n",
    "from datasets import load_dataset\n",
    "from sklearn.metrics import f1_score\n",
    "import torch\n",
    "import numpy as np\n",
    "import concurrent.futures\n",
    "from tqdm import tqdm\n",
    "from openai import OpenAI\n",
    "from transformers import EvalPrediction, TrainerCallback\n",
    "from dotenv import load_dotenv\n",
    "\n",
    "# Load environment variables from .env file\n",
    "load_dotenv()\n",
    "\n",
    "API_KEY = os.getenv(\"OPENAI_API_KEY\")\n",
    "DEEPINFRA_API_KEY = os.getenv(\"DEEPINFRA_API_KEY\")"
   ]
  },
  {
   "cell_type": "markdown",
   "source": [
    "## Utils"
   ],
   "metadata": {
    "collapsed": false
   },
   "id": "f35703bb966e5c56"
  },
  {
   "cell_type": "code",
   "execution_count": null,
   "outputs": [],
   "source": [
    "class PromptTemplate:\n",
    "    def __init__(self, system_prompt, user_prompt_template):\n",
    "        self.system_prompt = system_prompt\n",
    "        self.user_prompt_template = user_prompt_template\n",
    "\n",
    "    def format_user_prompt(self, text):\n",
    "        return self.user_prompt_template.format(text=text)"
   ],
   "metadata": {
    "collapsed": false
   },
   "id": "af9731fa1f979c22"
  },
  {
   "cell_type": "code",
   "execution_count": null,
   "outputs": [],
   "source": [
    "def client_instance(model):\n",
    "    if \"llama\" in model.lower():\n",
    "        return OpenAI(api_key=DEEPINFRA_API_KEY, base_url=\"https://api.deepinfra.com/v1/openai\")\n",
    "    else:\n",
    "        return OpenAI(api_key=API_KEY)\n",
    "    \n",
    "def process_text_with_model(index, text, model, prompt_template):\n",
    "    try:\n",
    "        user_prompt = prompt_template.format_user_prompt(text)\n",
    "        client = client_instance(model)\n",
    "        completion = client.chat.completions.create(\n",
    "            model=model,\n",
    "            messages=[\n",
    "                {\"role\": \"system\", \"content\": prompt_template.system_prompt},\n",
    "                {\"role\": \"user\", \"content\": user_prompt},\n",
    "            ],\n",
    "            temperature=0.0\n",
    "        )\n",
    "        return {\n",
    "            \"index\": index,\n",
    "            \"system_prompt\": prompt_template.system_prompt,\n",
    "            \"user_prompt\": user_prompt,\n",
    "            \"completion\": completion.choices[0].message.content,\n",
    "        }\n",
    "    except Exception as e:\n",
    "        print(f\"Error processing row {index}: {e}\")\n",
    "        time.sleep(2)  # Avoid rapid retries\n",
    "        return {\"index\": index, \"system_prompt\": None, \"user_prompt\": None, \"completion\": None}\n",
    "    \n",
    "    \n",
    "def parallel_text_processing(dataframe, col_with_content, column, filename, model, prompt_template):\n",
    "    dataframe[\"system_prompt\"] = None\n",
    "    dataframe[\"user_prompt\"] = None\n",
    "    dataframe[column] = None\n",
    "    os.makedirs(os.path.dirname(filename), exist_ok=True)\n",
    "    results = []\n",
    "\n",
    "    with concurrent.futures.ThreadPoolExecutor() as executor:\n",
    "        futures = [\n",
    "            executor.submit(process_text_with_model, index, text, model, prompt_template)\n",
    "            for index, text in enumerate(dataframe[col_with_content])\n",
    "        ]\n",
    "        for future in tqdm(concurrent.futures.as_completed(futures), total=len(futures)):\n",
    "            try:\n",
    "                result = future.result()\n",
    "                if result:\n",
    "                    results.append(result)\n",
    "            except Exception as e:\n",
    "                print(f\"Thread failed with error: {e}\")\n",
    "\n",
    "    for result in results:\n",
    "        dataframe.at[result[\"index\"], \"system_prompt\"] = result[\"system_prompt\"]\n",
    "        dataframe.at[result[\"index\"], \"user_prompt\"] = result[\"user_prompt\"]\n",
    "        dataframe.at[result[\"index\"], column] = result[\"completion\"]\n",
    "\n",
    "    dataframe.to_csv(filename, index=False)\n",
    "    return dataframe\n",
    "\n",
    "\n",
    "def extract_numbers(dataset, column_name, new_column_name):\n",
    "    \"\"\"\n",
    "    Extracts numbers from a JSON string in the specified column and creates a new column with those numbers.\n",
    "\n",
    "    Parameters:\n",
    "        dataset (pd.DataFrame): The input DataFrame.\n",
    "        column_name (str): The name of the column containing JSON strings.\n",
    "        new_column_name (str): The name of the new column to store extracted numbers.\n",
    "\n",
    "    Returns:\n",
    "        pd.DataFrame: The DataFrame with the new column added.\n",
    "    \"\"\"\n",
    "    dataset = dataset.copy()\n",
    "\n",
    "    def safe_extract(json_str):\n",
    "        if pd.notna(json_str):\n",
    "            try:\n",
    "                # Ensure proper escaping\n",
    "                json_str = json_str.replace(\"\\\\\", \"\\\\\\\\\")\n",
    "                return float(json.loads(json_str)['answer'])\n",
    "            except (json.JSONDecodeError, KeyError, ValueError) as e:\n",
    "                print(f\"Error parsing JSON: {e} | Data: {json_str}\")\n",
    "                return None\n",
    "        return None\n",
    "\n",
    "    dataset[new_column_name] = dataset[column_name].apply(safe_extract)\n",
    "\n",
    "    return dataset\n",
    "\n",
    "\n",
    "def calculate_accuracy(dataset, true_col, pred_col):\n",
    "    agreement = dataset[dataset[true_col] == dataset[pred_col]].shape[0]\n",
    "    accuracy = agreement / dataset.shape[0]\n",
    "\n",
    "    return accuracy"
   ],
   "metadata": {
    "collapsed": false
   },
   "id": "6be8a105510193dc"
  },
  {
   "cell_type": "markdown",
   "source": [
    "## Prompting"
   ],
   "metadata": {
    "collapsed": false
   },
   "id": "373c71bea2e9e79f"
  },
  {
   "cell_type": "code",
   "execution_count": 2,
   "outputs": [
    {
     "name": "stdout",
     "output_type": "stream",
     "text": [
      "Dataset length : 1319\n"
     ]
    }
   ],
   "source": [
    "dataset = load_dataset(\"gsm8k\", \"main\")\n",
    "\n",
    "print(f'Dataset length : {len(dataset[\"test\"])}')\n",
    "\n",
    "test_samples = dataset[\"test\"][:100]\n",
    "questions = test_samples[\"question\"]\n",
    "long_answers = test_samples[\"answer\"]\n",
    "answers = [float(an.split(\"#### \")[-1]) for an in long_answers]"
   ],
   "metadata": {
    "collapsed": false,
    "ExecuteTime": {
     "end_time": "2025-02-28T15:49:25.493073Z",
     "start_time": "2025-02-28T15:49:18.987992Z"
    }
   },
   "id": "b67f4943e886e8c4"
  },
  {
   "cell_type": "code",
   "execution_count": 3,
   "outputs": [
    {
     "data": {
      "text/plain": "\"Janet’s ducks lay 16 eggs per day. She eats three for breakfast every morning and bakes muffins for her friends every day with four. She sells the remainder at the farmers' market daily for $2 per fresh duck egg. How much in dollars does she make every day at the farmers' market?\""
     },
     "execution_count": 3,
     "metadata": {},
     "output_type": "execute_result"
    }
   ],
   "source": [
    "questions[0]"
   ],
   "metadata": {
    "collapsed": false,
    "ExecuteTime": {
     "end_time": "2025-02-28T15:49:25.500574Z",
     "start_time": "2025-02-28T15:49:25.495402Z"
    }
   },
   "id": "38ec604c81e07714"
  },
  {
   "cell_type": "code",
   "execution_count": 4,
   "outputs": [
    {
     "data": {
      "text/plain": "'Janet sells 16 - 3 - 4 = <<16-3-4=9>>9 duck eggs a day.\\nShe makes 9 * 2 = $<<9*2=18>>18 every day at the farmer’s market.\\n#### 18'"
     },
     "execution_count": 4,
     "metadata": {},
     "output_type": "execute_result"
    }
   ],
   "source": [
    "long_answers[0]"
   ],
   "metadata": {
    "collapsed": false,
    "ExecuteTime": {
     "end_time": "2025-02-28T15:49:25.502422Z",
     "start_time": "2025-02-28T15:49:25.498775Z"
    }
   },
   "id": "5c5427dade381b31"
  },
  {
   "cell_type": "code",
   "execution_count": 5,
   "outputs": [
    {
     "data": {
      "text/plain": "18.0"
     },
     "execution_count": 5,
     "metadata": {},
     "output_type": "execute_result"
    }
   ],
   "source": [
    "answers[0]"
   ],
   "metadata": {
    "collapsed": false,
    "ExecuteTime": {
     "end_time": "2025-02-28T15:49:25.508943Z",
     "start_time": "2025-02-28T15:49:25.502926Z"
    }
   },
   "id": "6b830741e63276ec"
  },
  {
   "cell_type": "code",
   "execution_count": 6,
   "outputs": [],
   "source": [
    "df = pd.DataFrame({\"questions\":questions, \"long_answers\": long_answers, \"answer\": answers})"
   ],
   "metadata": {
    "collapsed": false,
    "ExecuteTime": {
     "end_time": "2025-02-26T10:21:22.549658Z",
     "start_time": "2025-02-26T10:21:22.545218Z"
    }
   },
   "id": "df5a52c6ae9ca524"
  },
  {
   "cell_type": "code",
   "execution_count": 7,
   "outputs": [
    {
     "data": {
      "text/plain": "                                           questions  \\\n0  Janet’s ducks lay 16 eggs per day. She eats th...   \n1  A robe takes 2 bolts of blue fiber and half th...   \n2  Josh decides to try flipping a house.  He buys...   \n3  James decides to run 3 sprints 3 times a week....   \n4  Every day, Wendi feeds each of her chickens th...   \n\n                                        long_answers   answer  \n0  Janet sells 16 - 3 - 4 = <<16-3-4=9>>9 duck eg...     18.0  \n1  It takes 2/2=<<2/2=1>>1 bolt of white fiber\\nS...      3.0  \n2  The cost of the house and repairs came out to ...  70000.0  \n3  He sprints 3*3=<<3*3=9>>9 times\\nSo he runs 9*...    540.0  \n4  If each chicken eats 3 cups of feed per day, t...     20.0  ",
      "text/html": "<div>\n<style scoped>\n    .dataframe tbody tr th:only-of-type {\n        vertical-align: middle;\n    }\n\n    .dataframe tbody tr th {\n        vertical-align: top;\n    }\n\n    .dataframe thead th {\n        text-align: right;\n    }\n</style>\n<table border=\"1\" class=\"dataframe\">\n  <thead>\n    <tr style=\"text-align: right;\">\n      <th></th>\n      <th>questions</th>\n      <th>long_answers</th>\n      <th>answer</th>\n    </tr>\n  </thead>\n  <tbody>\n    <tr>\n      <th>0</th>\n      <td>Janet’s ducks lay 16 eggs per day. She eats th...</td>\n      <td>Janet sells 16 - 3 - 4 = &lt;&lt;16-3-4=9&gt;&gt;9 duck eg...</td>\n      <td>18.0</td>\n    </tr>\n    <tr>\n      <th>1</th>\n      <td>A robe takes 2 bolts of blue fiber and half th...</td>\n      <td>It takes 2/2=&lt;&lt;2/2=1&gt;&gt;1 bolt of white fiber\\nS...</td>\n      <td>3.0</td>\n    </tr>\n    <tr>\n      <th>2</th>\n      <td>Josh decides to try flipping a house.  He buys...</td>\n      <td>The cost of the house and repairs came out to ...</td>\n      <td>70000.0</td>\n    </tr>\n    <tr>\n      <th>3</th>\n      <td>James decides to run 3 sprints 3 times a week....</td>\n      <td>He sprints 3*3=&lt;&lt;3*3=9&gt;&gt;9 times\\nSo he runs 9*...</td>\n      <td>540.0</td>\n    </tr>\n    <tr>\n      <th>4</th>\n      <td>Every day, Wendi feeds each of her chickens th...</td>\n      <td>If each chicken eats 3 cups of feed per day, t...</td>\n      <td>20.0</td>\n    </tr>\n  </tbody>\n</table>\n</div>"
     },
     "execution_count": 7,
     "metadata": {},
     "output_type": "execute_result"
    }
   ],
   "source": [
    "df.head()"
   ],
   "metadata": {
    "collapsed": false,
    "ExecuteTime": {
     "end_time": "2025-02-26T10:21:22.591302Z",
     "start_time": "2025-02-26T10:21:22.548337Z"
    }
   },
   "id": "bbccbc0d5802b56e"
  },
  {
   "cell_type": "code",
   "execution_count": 16,
   "outputs": [
    {
     "name": "stderr",
     "output_type": "stream",
     "text": [
      "100%|██████████| 100/100 [00:12<00:00,  7.97it/s]\n"
     ]
    }
   ],
   "source": [
    "system_prompt = \"\"\"You are a helpful AI assistant who knows math.\"\"\"\n",
    "user_prompt = \"\"\"Below I will provide a question with a math problem. \n",
    "Please solve it and present final number which is an answer to the problem. \n",
    "Do not show any explanation and do not provide units.\n",
    "\n",
    "Question: {text}\n",
    "Give answer in this form: {{\"answer\": \"answer with final number\"}}\"\"\"\n",
    "\n",
    "prompt_template = PromptTemplate(system_prompt, user_prompt)\n",
    "\n",
    "df_zero = parallel_text_processing(\n",
    "    dataframe=df.copy(),\n",
    "    col_with_content=\"questions\",\n",
    "    column=\"pred_solution\",\n",
    "    filename=\"test/math_problem_zero_shot.csv\",\n",
    "    model=\"gpt-4o-mini\",\n",
    "    prompt_template=prompt_template\n",
    ")"
   ],
   "metadata": {
    "collapsed": false,
    "ExecuteTime": {
     "end_time": "2025-02-25T16:08:36.259687Z",
     "start_time": "2025-02-25T16:08:23.618354Z"
    }
   },
   "id": "404a4212b3cd098c"
  },
  {
   "cell_type": "code",
   "execution_count": 20,
   "outputs": [
    {
     "data": {
      "text/plain": "                                           questions  \\\n0  Janet’s ducks lay 16 eggs per day. She eats th...   \n1  A robe takes 2 bolts of blue fiber and half th...   \n2  Josh decides to try flipping a house.  He buys...   \n3  James decides to run 3 sprints 3 times a week....   \n4  Every day, Wendi feeds each of her chickens th...   \n\n                                        long_answers   answer  \\\n0  Janet sells 16 - 3 - 4 = <<16-3-4=9>>9 duck eg...     18.0   \n1  It takes 2/2=<<2/2=1>>1 bolt of white fiber\\nS...      3.0   \n2  The cost of the house and repairs came out to ...  70000.0   \n3  He sprints 3*3=<<3*3=9>>9 times\\nSo he runs 9*...    540.0   \n4  If each chicken eats 3 cups of feed per day, t...     20.0   \n\n                                    system_prompt  \\\n0  You are a helpful AI assistant who knows math.   \n1  You are a helpful AI assistant who knows math.   \n2  You are a helpful AI assistant who knows math.   \n3  You are a helpful AI assistant who knows math.   \n4  You are a helpful AI assistant who knows math.   \n\n                                         user_prompt        pred_solution  \\\n0  Below I will provide a question with a math pr...     {\"answer\": \"26\"}   \n1  Below I will provide a question with a math pr...      {\"answer\": \"3\"}   \n2  Below I will provide a question with a math pr...  {\"answer\": \"65000\"}   \n3  Below I will provide a question with a math pr...    {\"answer\": \"540\"}   \n4  Below I will provide a question with a math pr...     {\"answer\": \"30\"}   \n\n   extracted_number  \n0              26.0  \n1               3.0  \n2           65000.0  \n3             540.0  \n4              30.0  ",
      "text/html": "<div>\n<style scoped>\n    .dataframe tbody tr th:only-of-type {\n        vertical-align: middle;\n    }\n\n    .dataframe tbody tr th {\n        vertical-align: top;\n    }\n\n    .dataframe thead th {\n        text-align: right;\n    }\n</style>\n<table border=\"1\" class=\"dataframe\">\n  <thead>\n    <tr style=\"text-align: right;\">\n      <th></th>\n      <th>questions</th>\n      <th>long_answers</th>\n      <th>answer</th>\n      <th>system_prompt</th>\n      <th>user_prompt</th>\n      <th>pred_solution</th>\n      <th>extracted_number</th>\n    </tr>\n  </thead>\n  <tbody>\n    <tr>\n      <th>0</th>\n      <td>Janet’s ducks lay 16 eggs per day. She eats th...</td>\n      <td>Janet sells 16 - 3 - 4 = &lt;&lt;16-3-4=9&gt;&gt;9 duck eg...</td>\n      <td>18.0</td>\n      <td>You are a helpful AI assistant who knows math.</td>\n      <td>Below I will provide a question with a math pr...</td>\n      <td>{\"answer\": \"26\"}</td>\n      <td>26.0</td>\n    </tr>\n    <tr>\n      <th>1</th>\n      <td>A robe takes 2 bolts of blue fiber and half th...</td>\n      <td>It takes 2/2=&lt;&lt;2/2=1&gt;&gt;1 bolt of white fiber\\nS...</td>\n      <td>3.0</td>\n      <td>You are a helpful AI assistant who knows math.</td>\n      <td>Below I will provide a question with a math pr...</td>\n      <td>{\"answer\": \"3\"}</td>\n      <td>3.0</td>\n    </tr>\n    <tr>\n      <th>2</th>\n      <td>Josh decides to try flipping a house.  He buys...</td>\n      <td>The cost of the house and repairs came out to ...</td>\n      <td>70000.0</td>\n      <td>You are a helpful AI assistant who knows math.</td>\n      <td>Below I will provide a question with a math pr...</td>\n      <td>{\"answer\": \"65000\"}</td>\n      <td>65000.0</td>\n    </tr>\n    <tr>\n      <th>3</th>\n      <td>James decides to run 3 sprints 3 times a week....</td>\n      <td>He sprints 3*3=&lt;&lt;3*3=9&gt;&gt;9 times\\nSo he runs 9*...</td>\n      <td>540.0</td>\n      <td>You are a helpful AI assistant who knows math.</td>\n      <td>Below I will provide a question with a math pr...</td>\n      <td>{\"answer\": \"540\"}</td>\n      <td>540.0</td>\n    </tr>\n    <tr>\n      <th>4</th>\n      <td>Every day, Wendi feeds each of her chickens th...</td>\n      <td>If each chicken eats 3 cups of feed per day, t...</td>\n      <td>20.0</td>\n      <td>You are a helpful AI assistant who knows math.</td>\n      <td>Below I will provide a question with a math pr...</td>\n      <td>{\"answer\": \"30\"}</td>\n      <td>30.0</td>\n    </tr>\n  </tbody>\n</table>\n</div>"
     },
     "execution_count": 20,
     "metadata": {},
     "output_type": "execute_result"
    }
   ],
   "source": [
    "df_zero.head()"
   ],
   "metadata": {
    "collapsed": false,
    "ExecuteTime": {
     "end_time": "2025-02-25T16:09:19.024742Z",
     "start_time": "2025-02-25T16:09:19.013542Z"
    }
   },
   "id": "956f00b06a20874"
  },
  {
   "cell_type": "code",
   "execution_count": 18,
   "outputs": [],
   "source": [
    "df_zero = extract_numbers(dataset=df_zero, column_name='pred_solution', new_column_name='extracted_number')"
   ],
   "metadata": {
    "collapsed": false,
    "ExecuteTime": {
     "end_time": "2025-02-25T16:09:01.310467Z",
     "start_time": "2025-02-25T16:09:01.295284Z"
    }
   },
   "id": "9f18901b6ca58e54"
  },
  {
   "cell_type": "code",
   "execution_count": 21,
   "outputs": [
    {
     "data": {
      "text/plain": "                                           questions  \\\n0  Janet’s ducks lay 16 eggs per day. She eats th...   \n1  A robe takes 2 bolts of blue fiber and half th...   \n2  Josh decides to try flipping a house.  He buys...   \n3  James decides to run 3 sprints 3 times a week....   \n4  Every day, Wendi feeds each of her chickens th...   \n\n                                        long_answers   answer  \\\n0  Janet sells 16 - 3 - 4 = <<16-3-4=9>>9 duck eg...     18.0   \n1  It takes 2/2=<<2/2=1>>1 bolt of white fiber\\nS...      3.0   \n2  The cost of the house and repairs came out to ...  70000.0   \n3  He sprints 3*3=<<3*3=9>>9 times\\nSo he runs 9*...    540.0   \n4  If each chicken eats 3 cups of feed per day, t...     20.0   \n\n                                    system_prompt  \\\n0  You are a helpful AI assistant who knows math.   \n1  You are a helpful AI assistant who knows math.   \n2  You are a helpful AI assistant who knows math.   \n3  You are a helpful AI assistant who knows math.   \n4  You are a helpful AI assistant who knows math.   \n\n                                         user_prompt        pred_solution  \\\n0  Below I will provide a question with a math pr...     {\"answer\": \"26\"}   \n1  Below I will provide a question with a math pr...      {\"answer\": \"3\"}   \n2  Below I will provide a question with a math pr...  {\"answer\": \"65000\"}   \n3  Below I will provide a question with a math pr...    {\"answer\": \"540\"}   \n4  Below I will provide a question with a math pr...     {\"answer\": \"30\"}   \n\n   extracted_number  \n0              26.0  \n1               3.0  \n2           65000.0  \n3             540.0  \n4              30.0  ",
      "text/html": "<div>\n<style scoped>\n    .dataframe tbody tr th:only-of-type {\n        vertical-align: middle;\n    }\n\n    .dataframe tbody tr th {\n        vertical-align: top;\n    }\n\n    .dataframe thead th {\n        text-align: right;\n    }\n</style>\n<table border=\"1\" class=\"dataframe\">\n  <thead>\n    <tr style=\"text-align: right;\">\n      <th></th>\n      <th>questions</th>\n      <th>long_answers</th>\n      <th>answer</th>\n      <th>system_prompt</th>\n      <th>user_prompt</th>\n      <th>pred_solution</th>\n      <th>extracted_number</th>\n    </tr>\n  </thead>\n  <tbody>\n    <tr>\n      <th>0</th>\n      <td>Janet’s ducks lay 16 eggs per day. She eats th...</td>\n      <td>Janet sells 16 - 3 - 4 = &lt;&lt;16-3-4=9&gt;&gt;9 duck eg...</td>\n      <td>18.0</td>\n      <td>You are a helpful AI assistant who knows math.</td>\n      <td>Below I will provide a question with a math pr...</td>\n      <td>{\"answer\": \"26\"}</td>\n      <td>26.0</td>\n    </tr>\n    <tr>\n      <th>1</th>\n      <td>A robe takes 2 bolts of blue fiber and half th...</td>\n      <td>It takes 2/2=&lt;&lt;2/2=1&gt;&gt;1 bolt of white fiber\\nS...</td>\n      <td>3.0</td>\n      <td>You are a helpful AI assistant who knows math.</td>\n      <td>Below I will provide a question with a math pr...</td>\n      <td>{\"answer\": \"3\"}</td>\n      <td>3.0</td>\n    </tr>\n    <tr>\n      <th>2</th>\n      <td>Josh decides to try flipping a house.  He buys...</td>\n      <td>The cost of the house and repairs came out to ...</td>\n      <td>70000.0</td>\n      <td>You are a helpful AI assistant who knows math.</td>\n      <td>Below I will provide a question with a math pr...</td>\n      <td>{\"answer\": \"65000\"}</td>\n      <td>65000.0</td>\n    </tr>\n    <tr>\n      <th>3</th>\n      <td>James decides to run 3 sprints 3 times a week....</td>\n      <td>He sprints 3*3=&lt;&lt;3*3=9&gt;&gt;9 times\\nSo he runs 9*...</td>\n      <td>540.0</td>\n      <td>You are a helpful AI assistant who knows math.</td>\n      <td>Below I will provide a question with a math pr...</td>\n      <td>{\"answer\": \"540\"}</td>\n      <td>540.0</td>\n    </tr>\n    <tr>\n      <th>4</th>\n      <td>Every day, Wendi feeds each of her chickens th...</td>\n      <td>If each chicken eats 3 cups of feed per day, t...</td>\n      <td>20.0</td>\n      <td>You are a helpful AI assistant who knows math.</td>\n      <td>Below I will provide a question with a math pr...</td>\n      <td>{\"answer\": \"30\"}</td>\n      <td>30.0</td>\n    </tr>\n  </tbody>\n</table>\n</div>"
     },
     "execution_count": 21,
     "metadata": {},
     "output_type": "execute_result"
    }
   ],
   "source": [
    "df_zero.head()"
   ],
   "metadata": {
    "collapsed": false,
    "ExecuteTime": {
     "end_time": "2025-02-25T16:09:36.887637Z",
     "start_time": "2025-02-25T16:09:36.881220Z"
    }
   },
   "id": "657a54b2b0d06c00"
  },
  {
   "cell_type": "code",
   "execution_count": 22,
   "outputs": [
    {
     "name": "stdout",
     "output_type": "stream",
     "text": [
      "Accuracy achieved is equal to 0.37\n"
     ]
    }
   ],
   "source": [
    "calculate_accuracy(df_zero, \"answer\", \"extracted_number\")"
   ],
   "metadata": {
    "collapsed": false,
    "ExecuteTime": {
     "end_time": "2025-02-25T16:09:46.813123Z",
     "start_time": "2025-02-25T16:09:46.799437Z"
    }
   },
   "id": "dfc8634c58c71a2f"
  },
  {
   "cell_type": "code",
   "execution_count": 23,
   "outputs": [
    {
     "name": "stderr",
     "output_type": "stream",
     "text": [
      "100%|██████████| 100/100 [00:06<00:00, 14.70it/s]\n"
     ]
    }
   ],
   "source": [
    "system_prompt = \"\"\"You are a helpful AI assistant who knows math.\"\"\"\n",
    "user_prompt = \"\"\"Below I will provide a question with a math problem. \n",
    "Please solve it and present final number which is an answer to the problem.\n",
    "Example problems:\n",
    "\n",
    "Problem 1:\n",
    "Natalia sold clips to 48 of her friends in April, and then she sold half as many clips in May. How many clips did Natalia sell altogether in April and May?\n",
    "Reasoning with answer: Natalia sold 48/2 = <<48/2=24>>24 clips in May.\\nNatalia sold 48+24 = <<48+24=72>>72 clips altogether in April and May.\\n#### 72 \n",
    "Answer: {{\"answer\": \"72\"}}\n",
    "\n",
    "Problem 2:\n",
    "Weng earns $12 an hour for babysitting. Yesterday, she just did 50 minutes of babysitting. How much did she earn?\n",
    "Reasoning with answer: Weng earns 12/60 = $<<12/60=0.2>>0.2 per minute.\\nWorking 50 minutes, she earned 0.2 x 50 = $<<0.2*50=10>>10.\\n#### 10\n",
    "Answer: {{\"answer\": \"72\"}}\n",
    "\n",
    "Problem 3:\n",
    "Betty is saving money for a new wallet which costs $100. Betty has only half of the money she needs. Her parents decided to give her $15 for that purpose, and her grandparents twice as much as her parents. How much more money does Betty need to buy the wallet?\n",
    "Reasoning with answer: In the beginning, Betty has only 100 / 2 = $<<100/2=50>>50.\\nBetty's grandparents gave her 15 * 2 = $<<15*2=30>>30.\\nThis means, Betty needs 100 - 50 - 30 - 15 = $<<100-50-30-15=5>>5 more.\\n#### 5\n",
    "Answer: {{\"answer\": \"5\"}}\n",
    "\n",
    "\n",
    "Now your turn to solve a problem. Provide only answer. Do not show any reasoning and explanation and do not provide units.\n",
    "Question: {text}\n",
    "Give answer in this form: {{\"answer\": \"answer with final number\"}}\"\"\"\n",
    "\n",
    "prompt_template = PromptTemplate(system_prompt, user_prompt)\n",
    "\n",
    "df_few = parallel_text_processing(\n",
    "    dataframe=df.copy(),\n",
    "    col_with_content=\"questions\",\n",
    "    column=\"pred_solution\",\n",
    "    filename=\"test/math_problem_few_shot.csv\",\n",
    "    model=\"gpt-4o-mini\",\n",
    "    prompt_template=prompt_template\n",
    ")"
   ],
   "metadata": {
    "collapsed": false,
    "ExecuteTime": {
     "end_time": "2025-02-25T16:11:32.062446Z",
     "start_time": "2025-02-25T16:11:25.195658Z"
    }
   },
   "id": "d2a716731007ebf6"
  },
  {
   "cell_type": "code",
   "execution_count": 24,
   "outputs": [
    {
     "data": {
      "text/plain": "                                           questions  \\\n0  Janet’s ducks lay 16 eggs per day. She eats th...   \n1  A robe takes 2 bolts of blue fiber and half th...   \n2  Josh decides to try flipping a house.  He buys...   \n3  James decides to run 3 sprints 3 times a week....   \n4  Every day, Wendi feeds each of her chickens th...   \n\n                                        long_answers   answer  \\\n0  Janet sells 16 - 3 - 4 = <<16-3-4=9>>9 duck eg...     18.0   \n1  It takes 2/2=<<2/2=1>>1 bolt of white fiber\\nS...      3.0   \n2  The cost of the house and repairs came out to ...  70000.0   \n3  He sprints 3*3=<<3*3=9>>9 times\\nSo he runs 9*...    540.0   \n4  If each chicken eats 3 cups of feed per day, t...     20.0   \n\n                                    system_prompt  \\\n0  You are a helpful AI assistant who knows math.   \n1  You are a helpful AI assistant who knows math.   \n2  You are a helpful AI assistant who knows math.   \n3  You are a helpful AI assistant who knows math.   \n4  You are a helpful AI assistant who knows math.   \n\n                                         user_prompt        pred_solution  \n0  Below I will provide a question with a math pr...     {\"answer\": \"18\"}  \n1  Below I will provide a question with a math pr...      {\"answer\": \"3\"}  \n2  Below I will provide a question with a math pr...  {\"answer\": \"65000\"}  \n3  Below I will provide a question with a math pr...    {\"answer\": \"540\"}  \n4  Below I will provide a question with a math pr...     {\"answer\": \"30\"}  ",
      "text/html": "<div>\n<style scoped>\n    .dataframe tbody tr th:only-of-type {\n        vertical-align: middle;\n    }\n\n    .dataframe tbody tr th {\n        vertical-align: top;\n    }\n\n    .dataframe thead th {\n        text-align: right;\n    }\n</style>\n<table border=\"1\" class=\"dataframe\">\n  <thead>\n    <tr style=\"text-align: right;\">\n      <th></th>\n      <th>questions</th>\n      <th>long_answers</th>\n      <th>answer</th>\n      <th>system_prompt</th>\n      <th>user_prompt</th>\n      <th>pred_solution</th>\n    </tr>\n  </thead>\n  <tbody>\n    <tr>\n      <th>0</th>\n      <td>Janet’s ducks lay 16 eggs per day. She eats th...</td>\n      <td>Janet sells 16 - 3 - 4 = &lt;&lt;16-3-4=9&gt;&gt;9 duck eg...</td>\n      <td>18.0</td>\n      <td>You are a helpful AI assistant who knows math.</td>\n      <td>Below I will provide a question with a math pr...</td>\n      <td>{\"answer\": \"18\"}</td>\n    </tr>\n    <tr>\n      <th>1</th>\n      <td>A robe takes 2 bolts of blue fiber and half th...</td>\n      <td>It takes 2/2=&lt;&lt;2/2=1&gt;&gt;1 bolt of white fiber\\nS...</td>\n      <td>3.0</td>\n      <td>You are a helpful AI assistant who knows math.</td>\n      <td>Below I will provide a question with a math pr...</td>\n      <td>{\"answer\": \"3\"}</td>\n    </tr>\n    <tr>\n      <th>2</th>\n      <td>Josh decides to try flipping a house.  He buys...</td>\n      <td>The cost of the house and repairs came out to ...</td>\n      <td>70000.0</td>\n      <td>You are a helpful AI assistant who knows math.</td>\n      <td>Below I will provide a question with a math pr...</td>\n      <td>{\"answer\": \"65000\"}</td>\n    </tr>\n    <tr>\n      <th>3</th>\n      <td>James decides to run 3 sprints 3 times a week....</td>\n      <td>He sprints 3*3=&lt;&lt;3*3=9&gt;&gt;9 times\\nSo he runs 9*...</td>\n      <td>540.0</td>\n      <td>You are a helpful AI assistant who knows math.</td>\n      <td>Below I will provide a question with a math pr...</td>\n      <td>{\"answer\": \"540\"}</td>\n    </tr>\n    <tr>\n      <th>4</th>\n      <td>Every day, Wendi feeds each of her chickens th...</td>\n      <td>If each chicken eats 3 cups of feed per day, t...</td>\n      <td>20.0</td>\n      <td>You are a helpful AI assistant who knows math.</td>\n      <td>Below I will provide a question with a math pr...</td>\n      <td>{\"answer\": \"30\"}</td>\n    </tr>\n  </tbody>\n</table>\n</div>"
     },
     "execution_count": 24,
     "metadata": {},
     "output_type": "execute_result"
    }
   ],
   "source": [
    "df_few.head()"
   ],
   "metadata": {
    "collapsed": false,
    "ExecuteTime": {
     "end_time": "2025-02-25T16:11:37.962980Z",
     "start_time": "2025-02-25T16:11:37.949092Z"
    }
   },
   "id": "8c14b371b7f0cf47"
  },
  {
   "cell_type": "code",
   "execution_count": 25,
   "outputs": [],
   "source": [
    "df_few = extract_numbers(dataset=df_few, column_name='pred_solution', new_column_name='extracted_number')"
   ],
   "metadata": {
    "collapsed": false,
    "ExecuteTime": {
     "end_time": "2025-02-25T16:11:59.369888Z",
     "start_time": "2025-02-25T16:11:59.352124Z"
    }
   },
   "id": "4a1c4516072f0c6b"
  },
  {
   "cell_type": "code",
   "execution_count": 26,
   "outputs": [
    {
     "data": {
      "text/plain": "                                           questions  \\\n0  Janet’s ducks lay 16 eggs per day. She eats th...   \n1  A robe takes 2 bolts of blue fiber and half th...   \n2  Josh decides to try flipping a house.  He buys...   \n3  James decides to run 3 sprints 3 times a week....   \n4  Every day, Wendi feeds each of her chickens th...   \n\n                                        long_answers   answer  \\\n0  Janet sells 16 - 3 - 4 = <<16-3-4=9>>9 duck eg...     18.0   \n1  It takes 2/2=<<2/2=1>>1 bolt of white fiber\\nS...      3.0   \n2  The cost of the house and repairs came out to ...  70000.0   \n3  He sprints 3*3=<<3*3=9>>9 times\\nSo he runs 9*...    540.0   \n4  If each chicken eats 3 cups of feed per day, t...     20.0   \n\n                                    system_prompt  \\\n0  You are a helpful AI assistant who knows math.   \n1  You are a helpful AI assistant who knows math.   \n2  You are a helpful AI assistant who knows math.   \n3  You are a helpful AI assistant who knows math.   \n4  You are a helpful AI assistant who knows math.   \n\n                                         user_prompt        pred_solution  \\\n0  Below I will provide a question with a math pr...     {\"answer\": \"18\"}   \n1  Below I will provide a question with a math pr...      {\"answer\": \"3\"}   \n2  Below I will provide a question with a math pr...  {\"answer\": \"65000\"}   \n3  Below I will provide a question with a math pr...    {\"answer\": \"540\"}   \n4  Below I will provide a question with a math pr...     {\"answer\": \"30\"}   \n\n   extracted_number  \n0              18.0  \n1               3.0  \n2           65000.0  \n3             540.0  \n4              30.0  ",
      "text/html": "<div>\n<style scoped>\n    .dataframe tbody tr th:only-of-type {\n        vertical-align: middle;\n    }\n\n    .dataframe tbody tr th {\n        vertical-align: top;\n    }\n\n    .dataframe thead th {\n        text-align: right;\n    }\n</style>\n<table border=\"1\" class=\"dataframe\">\n  <thead>\n    <tr style=\"text-align: right;\">\n      <th></th>\n      <th>questions</th>\n      <th>long_answers</th>\n      <th>answer</th>\n      <th>system_prompt</th>\n      <th>user_prompt</th>\n      <th>pred_solution</th>\n      <th>extracted_number</th>\n    </tr>\n  </thead>\n  <tbody>\n    <tr>\n      <th>0</th>\n      <td>Janet’s ducks lay 16 eggs per day. She eats th...</td>\n      <td>Janet sells 16 - 3 - 4 = &lt;&lt;16-3-4=9&gt;&gt;9 duck eg...</td>\n      <td>18.0</td>\n      <td>You are a helpful AI assistant who knows math.</td>\n      <td>Below I will provide a question with a math pr...</td>\n      <td>{\"answer\": \"18\"}</td>\n      <td>18.0</td>\n    </tr>\n    <tr>\n      <th>1</th>\n      <td>A robe takes 2 bolts of blue fiber and half th...</td>\n      <td>It takes 2/2=&lt;&lt;2/2=1&gt;&gt;1 bolt of white fiber\\nS...</td>\n      <td>3.0</td>\n      <td>You are a helpful AI assistant who knows math.</td>\n      <td>Below I will provide a question with a math pr...</td>\n      <td>{\"answer\": \"3\"}</td>\n      <td>3.0</td>\n    </tr>\n    <tr>\n      <th>2</th>\n      <td>Josh decides to try flipping a house.  He buys...</td>\n      <td>The cost of the house and repairs came out to ...</td>\n      <td>70000.0</td>\n      <td>You are a helpful AI assistant who knows math.</td>\n      <td>Below I will provide a question with a math pr...</td>\n      <td>{\"answer\": \"65000\"}</td>\n      <td>65000.0</td>\n    </tr>\n    <tr>\n      <th>3</th>\n      <td>James decides to run 3 sprints 3 times a week....</td>\n      <td>He sprints 3*3=&lt;&lt;3*3=9&gt;&gt;9 times\\nSo he runs 9*...</td>\n      <td>540.0</td>\n      <td>You are a helpful AI assistant who knows math.</td>\n      <td>Below I will provide a question with a math pr...</td>\n      <td>{\"answer\": \"540\"}</td>\n      <td>540.0</td>\n    </tr>\n    <tr>\n      <th>4</th>\n      <td>Every day, Wendi feeds each of her chickens th...</td>\n      <td>If each chicken eats 3 cups of feed per day, t...</td>\n      <td>20.0</td>\n      <td>You are a helpful AI assistant who knows math.</td>\n      <td>Below I will provide a question with a math pr...</td>\n      <td>{\"answer\": \"30\"}</td>\n      <td>30.0</td>\n    </tr>\n  </tbody>\n</table>\n</div>"
     },
     "execution_count": 26,
     "metadata": {},
     "output_type": "execute_result"
    }
   ],
   "source": [
    "df_few.head()"
   ],
   "metadata": {
    "collapsed": false,
    "ExecuteTime": {
     "end_time": "2025-02-25T16:11:59.729681Z",
     "start_time": "2025-02-25T16:11:59.716110Z"
    }
   },
   "id": "50df75fa6cf0b3d"
  },
  {
   "cell_type": "code",
   "execution_count": 27,
   "outputs": [
    {
     "name": "stdout",
     "output_type": "stream",
     "text": [
      "Accuracy achieved is equal to 0.38\n"
     ]
    }
   ],
   "source": [
    "calculate_accuracy(df_few, \"answer\", \"extracted_number\")"
   ],
   "metadata": {
    "collapsed": false,
    "ExecuteTime": {
     "end_time": "2025-02-25T16:12:12.146437Z",
     "start_time": "2025-02-25T16:12:12.131849Z"
    }
   },
   "id": "27ae488a0c079289"
  },
  {
   "cell_type": "code",
   "execution_count": 33,
   "outputs": [
    {
     "name": "stderr",
     "output_type": "stream",
     "text": [
      "100%|██████████| 100/100 [00:38<00:00,  2.60it/s]\n"
     ]
    }
   ],
   "source": [
    "# Usage Example\n",
    "system_prompt = \"You are a helpful AI assistant who knows math.\"\n",
    "user_prompt_template = \"\"\"Below I will provide a question with a math problem. \n",
    "Please solve it and present the final number which is the answer to the problem. \n",
    "In the final answer do not provide units, give only the number.\n",
    "\n",
    "Question: {text}\n",
    "Give answer in this form: {{\"reasoning\": \"Solve it step by step and provide reasoning and explanation\", \"answer\": \"final number\"}}\"\"\"\n",
    "\n",
    "prompt_template = PromptTemplate(system_prompt, user_prompt_template)\n",
    "\n",
    "df_cot = parallel_text_processing(\n",
    "    dataframe=df.copy(),\n",
    "    col_with_content=\"questions\",\n",
    "    column=\"pred_solution\",\n",
    "    filename=\"test/math_problem_cot.csv\",\n",
    "    model=\"gpt-4o-mini\",\n",
    "    prompt_template=prompt_template\n",
    ")"
   ],
   "metadata": {
    "collapsed": false,
    "ExecuteTime": {
     "end_time": "2025-02-25T16:17:42.896456Z",
     "start_time": "2025-02-25T16:17:04.310470Z"
    }
   },
   "id": "1bb086adda3ea31c"
  },
  {
   "cell_type": "code",
   "execution_count": 34,
   "outputs": [
    {
     "data": {
      "text/plain": "                                           questions  \\\n0  Janet’s ducks lay 16 eggs per day. She eats th...   \n1  A robe takes 2 bolts of blue fiber and half th...   \n2  Josh decides to try flipping a house.  He buys...   \n3  James decides to run 3 sprints 3 times a week....   \n4  Every day, Wendi feeds each of her chickens th...   \n\n                                        long_answers   answer  \\\n0  Janet sells 16 - 3 - 4 = <<16-3-4=9>>9 duck eg...     18.0   \n1  It takes 2/2=<<2/2=1>>1 bolt of white fiber\\nS...      3.0   \n2  The cost of the house and repairs came out to ...  70000.0   \n3  He sprints 3*3=<<3*3=9>>9 times\\nSo he runs 9*...    540.0   \n4  If each chicken eats 3 cups of feed per day, t...     20.0   \n\n                                    system_prompt  \\\n0  You are a helpful AI assistant who knows math.   \n1  You are a helpful AI assistant who knows math.   \n2  You are a helpful AI assistant who knows math.   \n3  You are a helpful AI assistant who knows math.   \n4  You are a helpful AI assistant who knows math.   \n\n                                         user_prompt  \\\n0  Below I will provide a question with a math pr...   \n1  Below I will provide a question with a math pr...   \n2  Below I will provide a question with a math pr...   \n3  Below I will provide a question with a math pr...   \n4  Below I will provide a question with a math pr...   \n\n                                       pred_solution  \n0  {\"reasoning\": \"First, we need to determine how...  \n1  {\"reasoning\": \"To find the total number of bol...  \n2  {\"reasoning\": \"First, we calculate the total i...  \n3  {\"reasoning\": \"To find the total meters James ...  \n4  {\"reasoning\": \"First, we need to determine the...  ",
      "text/html": "<div>\n<style scoped>\n    .dataframe tbody tr th:only-of-type {\n        vertical-align: middle;\n    }\n\n    .dataframe tbody tr th {\n        vertical-align: top;\n    }\n\n    .dataframe thead th {\n        text-align: right;\n    }\n</style>\n<table border=\"1\" class=\"dataframe\">\n  <thead>\n    <tr style=\"text-align: right;\">\n      <th></th>\n      <th>questions</th>\n      <th>long_answers</th>\n      <th>answer</th>\n      <th>system_prompt</th>\n      <th>user_prompt</th>\n      <th>pred_solution</th>\n    </tr>\n  </thead>\n  <tbody>\n    <tr>\n      <th>0</th>\n      <td>Janet’s ducks lay 16 eggs per day. She eats th...</td>\n      <td>Janet sells 16 - 3 - 4 = &lt;&lt;16-3-4=9&gt;&gt;9 duck eg...</td>\n      <td>18.0</td>\n      <td>You are a helpful AI assistant who knows math.</td>\n      <td>Below I will provide a question with a math pr...</td>\n      <td>{\"reasoning\": \"First, we need to determine how...</td>\n    </tr>\n    <tr>\n      <th>1</th>\n      <td>A robe takes 2 bolts of blue fiber and half th...</td>\n      <td>It takes 2/2=&lt;&lt;2/2=1&gt;&gt;1 bolt of white fiber\\nS...</td>\n      <td>3.0</td>\n      <td>You are a helpful AI assistant who knows math.</td>\n      <td>Below I will provide a question with a math pr...</td>\n      <td>{\"reasoning\": \"To find the total number of bol...</td>\n    </tr>\n    <tr>\n      <th>2</th>\n      <td>Josh decides to try flipping a house.  He buys...</td>\n      <td>The cost of the house and repairs came out to ...</td>\n      <td>70000.0</td>\n      <td>You are a helpful AI assistant who knows math.</td>\n      <td>Below I will provide a question with a math pr...</td>\n      <td>{\"reasoning\": \"First, we calculate the total i...</td>\n    </tr>\n    <tr>\n      <th>3</th>\n      <td>James decides to run 3 sprints 3 times a week....</td>\n      <td>He sprints 3*3=&lt;&lt;3*3=9&gt;&gt;9 times\\nSo he runs 9*...</td>\n      <td>540.0</td>\n      <td>You are a helpful AI assistant who knows math.</td>\n      <td>Below I will provide a question with a math pr...</td>\n      <td>{\"reasoning\": \"To find the total meters James ...</td>\n    </tr>\n    <tr>\n      <th>4</th>\n      <td>Every day, Wendi feeds each of her chickens th...</td>\n      <td>If each chicken eats 3 cups of feed per day, t...</td>\n      <td>20.0</td>\n      <td>You are a helpful AI assistant who knows math.</td>\n      <td>Below I will provide a question with a math pr...</td>\n      <td>{\"reasoning\": \"First, we need to determine the...</td>\n    </tr>\n  </tbody>\n</table>\n</div>"
     },
     "execution_count": 34,
     "metadata": {},
     "output_type": "execute_result"
    }
   ],
   "source": [
    "df_cot.head()"
   ],
   "metadata": {
    "collapsed": false,
    "ExecuteTime": {
     "end_time": "2025-02-25T16:17:45.214424Z",
     "start_time": "2025-02-25T16:17:45.195030Z"
    }
   },
   "id": "88ec4eb52fcc4d07"
  },
  {
   "cell_type": "code",
   "execution_count": 35,
   "outputs": [
    {
     "data": {
      "text/plain": "'{\"reasoning\": \"First, we need to determine how many eggs Janet has left after she eats and bakes with them. Janet\\'s ducks lay 16 eggs per day. She eats 3 eggs for breakfast and uses 4 eggs for baking muffins. Therefore, the total number of eggs she consumes each day is 3 + 4 = 7 eggs. Next, we subtract the number of eggs she consumes from the total number of eggs laid: 16 - 7 = 9 eggs. These 9 eggs are the ones she sells at the farmers\\' market. Since she sells each egg for $2, we calculate her daily earnings by multiplying the number of eggs sold by the price per egg: 9 eggs * $2/egg = $18. Thus, Janet makes $18 every day at the farmers\\' market.\", \"answer\": \"18\"}'"
     },
     "execution_count": 35,
     "metadata": {},
     "output_type": "execute_result"
    }
   ],
   "source": [
    "df_cot.pred_solution.iloc[0]"
   ],
   "metadata": {
    "collapsed": false,
    "ExecuteTime": {
     "end_time": "2025-02-25T16:17:46.572674Z",
     "start_time": "2025-02-25T16:17:46.557348Z"
    }
   },
   "id": "fe0f9726d501dffd"
  },
  {
   "cell_type": "code",
   "execution_count": 36,
   "outputs": [],
   "source": [
    "df_cot=extract_numbers(dataset=df_cot, column_name='pred_solution', new_column_name='extracted_number')"
   ],
   "metadata": {
    "collapsed": false,
    "ExecuteTime": {
     "end_time": "2025-02-25T16:17:47.877692Z",
     "start_time": "2025-02-25T16:17:47.863590Z"
    }
   },
   "id": "1c8fc4c9217bb906"
  },
  {
   "cell_type": "code",
   "execution_count": 37,
   "outputs": [
    {
     "name": "stdout",
     "output_type": "stream",
     "text": [
      "Accuracy achieved is equal to 0.94\n"
     ]
    }
   ],
   "source": [
    "calculate_accuracy(df_cot, \"answer\", \"extracted_number\")"
   ],
   "metadata": {
    "collapsed": false,
    "ExecuteTime": {
     "end_time": "2025-02-25T16:18:25.770015Z",
     "start_time": "2025-02-25T16:18:25.756317Z"
    }
   },
   "id": "37a599b00eba159d"
  },
  {
   "cell_type": "markdown",
   "source": [
    "# Disinformation detection with GPT"
   ],
   "metadata": {
    "collapsed": false
   },
   "id": "e010c8403790a47b"
  },
  {
   "cell_type": "code",
   "execution_count": 7,
   "outputs": [],
   "source": [
    "df = pd.read_csv(\"../data/ECTF/test.csv\")"
   ],
   "metadata": {
    "collapsed": false,
    "ExecuteTime": {
     "end_time": "2025-02-28T15:49:40.905081Z",
     "start_time": "2025-02-28T15:49:40.889823Z"
    }
   },
   "id": "eaeb08b73a512f77"
  },
  {
   "cell_type": "code",
   "execution_count": 8,
   "outputs": [
    {
     "data": {
      "text/plain": "                    id                                            content  \\\n0  1255615613923450882  Luc Montagnier won the Nobel Prize for for his...   \n1  1236143519133077504  If you pumped soap from those public soap disp...   \n2  1265282794831392768  🔴 LIVE at 11:30 am: @GovernorTomWolf + @Secret...   \n3  1234899473882664960        When’s this coronavirus vaccine coming out?   \n4  1248951179393904640  MTA employees have contracted COVID-19 at thre...   \n\n  label  \n0  real  \n1  fake  \n2  real  \n3  fake  \n4  real  ",
      "text/html": "<div>\n<style scoped>\n    .dataframe tbody tr th:only-of-type {\n        vertical-align: middle;\n    }\n\n    .dataframe tbody tr th {\n        vertical-align: top;\n    }\n\n    .dataframe thead th {\n        text-align: right;\n    }\n</style>\n<table border=\"1\" class=\"dataframe\">\n  <thead>\n    <tr style=\"text-align: right;\">\n      <th></th>\n      <th>id</th>\n      <th>content</th>\n      <th>label</th>\n    </tr>\n  </thead>\n  <tbody>\n    <tr>\n      <th>0</th>\n      <td>1255615613923450882</td>\n      <td>Luc Montagnier won the Nobel Prize for for his...</td>\n      <td>real</td>\n    </tr>\n    <tr>\n      <th>1</th>\n      <td>1236143519133077504</td>\n      <td>If you pumped soap from those public soap disp...</td>\n      <td>fake</td>\n    </tr>\n    <tr>\n      <th>2</th>\n      <td>1265282794831392768</td>\n      <td>🔴 LIVE at 11:30 am: @GovernorTomWolf + @Secret...</td>\n      <td>real</td>\n    </tr>\n    <tr>\n      <th>3</th>\n      <td>1234899473882664960</td>\n      <td>When’s this coronavirus vaccine coming out?</td>\n      <td>fake</td>\n    </tr>\n    <tr>\n      <th>4</th>\n      <td>1248951179393904640</td>\n      <td>MTA employees have contracted COVID-19 at thre...</td>\n      <td>real</td>\n    </tr>\n  </tbody>\n</table>\n</div>"
     },
     "execution_count": 8,
     "metadata": {},
     "output_type": "execute_result"
    }
   ],
   "source": [
    "df.head()"
   ],
   "metadata": {
    "collapsed": false,
    "ExecuteTime": {
     "end_time": "2025-02-28T15:49:42.158094Z",
     "start_time": "2025-02-28T15:49:42.146163Z"
    }
   },
   "id": "bf100ba8c56c7446"
  },
  {
   "cell_type": "code",
   "execution_count": 10,
   "outputs": [],
   "source": [
    "# Usage Example\n",
    "system_prompt = \"You are a helpful AI assistant who detects disinformation\"\n",
    "user_prompt_template = \"\"\"Below I will provide a short text. \n",
    "Please provide answer if it is fake or real information.\n",
    "\n",
    "Text: {text}\n",
    "Give answer in this form: {{\"answer\": \"fake or real\"}}\"\"\"\n",
    "\n",
    "prompt_template = PromptTemplate(system_prompt, user_prompt_template)"
   ],
   "metadata": {
    "collapsed": false,
    "ExecuteTime": {
     "end_time": "2025-02-28T15:49:54.267925Z",
     "start_time": "2025-02-28T15:49:54.251692Z"
    }
   },
   "id": "243f0704b700a579"
  },
  {
   "cell_type": "code",
   "execution_count": null,
   "outputs": [],
   "source": [
    "df_dis = parallel_text_processing(\n",
    "    dataframe=df.copy(),\n",
    "    col_with_content=\"content\",\n",
    "    column=\"pred_solution\",\n",
    "    filename=\"test/disinformation_classification_zero_shot.csv\",\n",
    "    model=\"gpt-4o-mini\",\n",
    "    prompt_template=prompt_template\n",
    ")"
   ],
   "metadata": {
    "collapsed": false
   },
   "id": "f71c4ffd7b8d389d"
  },
  {
   "cell_type": "code",
   "execution_count": 16,
   "outputs": [
    {
     "data": {
      "text/plain": "                    id                                            content  \\\n0  1255615613923450882  Luc Montagnier won the Nobel Prize for for his...   \n1  1236143519133077504  If you pumped soap from those public soap disp...   \n2  1265282794831392768  🔴 LIVE at 11:30 am: @GovernorTomWolf + @Secret...   \n3  1234899473882664960        When’s this coronavirus vaccine coming out?   \n4  1248951179393904640  MTA employees have contracted COVID-19 at thre...   \n\n  label                                      system_prompt  \\\n0  real  You are a helpful AI assistant who detects dis...   \n1  fake  You are a helpful AI assistant who detects dis...   \n2  real  You are a helpful AI assistant who detects dis...   \n3  fake  You are a helpful AI assistant who detects dis...   \n4  real  You are a helpful AI assistant who detects dis...   \n\n                                         user_prompt       pred_solution  \n0  Below I will provide a short text. \\nPlease pr...  {\"answer\": \"real\"}  \n1  Below I will provide a short text. \\nPlease pr...  {\"answer\": \"fake\"}  \n2  Below I will provide a short text. \\nPlease pr...  {\"answer\": \"real\"}  \n3  Below I will provide a short text. \\nPlease pr...  {\"answer\": \"real\"}  \n4  Below I will provide a short text. \\nPlease pr...  {\"answer\": \"real\"}  ",
      "text/html": "<div>\n<style scoped>\n    .dataframe tbody tr th:only-of-type {\n        vertical-align: middle;\n    }\n\n    .dataframe tbody tr th {\n        vertical-align: top;\n    }\n\n    .dataframe thead th {\n        text-align: right;\n    }\n</style>\n<table border=\"1\" class=\"dataframe\">\n  <thead>\n    <tr style=\"text-align: right;\">\n      <th></th>\n      <th>id</th>\n      <th>content</th>\n      <th>label</th>\n      <th>system_prompt</th>\n      <th>user_prompt</th>\n      <th>pred_solution</th>\n    </tr>\n  </thead>\n  <tbody>\n    <tr>\n      <th>0</th>\n      <td>1255615613923450882</td>\n      <td>Luc Montagnier won the Nobel Prize for for his...</td>\n      <td>real</td>\n      <td>You are a helpful AI assistant who detects dis...</td>\n      <td>Below I will provide a short text. \\nPlease pr...</td>\n      <td>{\"answer\": \"real\"}</td>\n    </tr>\n    <tr>\n      <th>1</th>\n      <td>1236143519133077504</td>\n      <td>If you pumped soap from those public soap disp...</td>\n      <td>fake</td>\n      <td>You are a helpful AI assistant who detects dis...</td>\n      <td>Below I will provide a short text. \\nPlease pr...</td>\n      <td>{\"answer\": \"fake\"}</td>\n    </tr>\n    <tr>\n      <th>2</th>\n      <td>1265282794831392768</td>\n      <td>🔴 LIVE at 11:30 am: @GovernorTomWolf + @Secret...</td>\n      <td>real</td>\n      <td>You are a helpful AI assistant who detects dis...</td>\n      <td>Below I will provide a short text. \\nPlease pr...</td>\n      <td>{\"answer\": \"real\"}</td>\n    </tr>\n    <tr>\n      <th>3</th>\n      <td>1234899473882664960</td>\n      <td>When’s this coronavirus vaccine coming out?</td>\n      <td>fake</td>\n      <td>You are a helpful AI assistant who detects dis...</td>\n      <td>Below I will provide a short text. \\nPlease pr...</td>\n      <td>{\"answer\": \"real\"}</td>\n    </tr>\n    <tr>\n      <th>4</th>\n      <td>1248951179393904640</td>\n      <td>MTA employees have contracted COVID-19 at thre...</td>\n      <td>real</td>\n      <td>You are a helpful AI assistant who detects dis...</td>\n      <td>Below I will provide a short text. \\nPlease pr...</td>\n      <td>{\"answer\": \"real\"}</td>\n    </tr>\n  </tbody>\n</table>\n</div>"
     },
     "execution_count": 16,
     "metadata": {},
     "output_type": "execute_result"
    }
   ],
   "source": [
    "df_dis.head()"
   ],
   "metadata": {
    "collapsed": false,
    "ExecuteTime": {
     "end_time": "2025-02-26T10:25:35.450658Z",
     "start_time": "2025-02-26T10:25:35.446346Z"
    }
   },
   "id": "7bec5b87a0d9dd4e"
  },
  {
   "cell_type": "code",
   "execution_count": 18,
   "outputs": [],
   "source": [
    "y_pred = df_dis.pred_solution.apply(lambda x: 1 if \"fake\" in x.lower() else 0)\n",
    "y_true = df_dis.label.apply(lambda x: 1 if \"fake\" in x.lower() else 0)\n",
    "f1_score(y_true, y_pred, average=\"micro\")"
   ],
   "metadata": {
    "collapsed": false,
    "ExecuteTime": {
     "end_time": "2025-02-26T10:27:00.618430Z",
     "start_time": "2025-02-26T10:27:00.605825Z"
    }
   },
   "id": "723f2c763cda200a"
  },
  {
   "cell_type": "code",
   "execution_count": 11,
   "outputs": [
    {
     "name": "stderr",
     "output_type": "stream",
     "text": [
      "100%|██████████| 400/400 [00:30<00:00, 13.05it/s]\n"
     ]
    }
   ],
   "source": [
    "df_dis_llama = parallel_text_processing(\n",
    "    dataframe=df.copy(),\n",
    "    col_with_content=\"content\",\n",
    "    column=\"pred_solution\",\n",
    "    filename=\"result/disinformation_classification_zero_shot.csv\",\n",
    "    model=\"meta-llama/Meta-Llama-3.1-8B-Instruct-Turbo\",\n",
    "    prompt_template=prompt_template\n",
    ")"
   ],
   "metadata": {
    "collapsed": false,
    "ExecuteTime": {
     "end_time": "2025-02-28T15:51:17.764963Z",
     "start_time": "2025-02-28T15:50:47.080202Z"
    }
   },
   "id": "6b509df5723794b9"
  },
  {
   "cell_type": "code",
   "execution_count": 12,
   "outputs": [
    {
     "data": {
      "text/plain": "0.8225"
     },
     "execution_count": 12,
     "metadata": {},
     "output_type": "execute_result"
    }
   ],
   "source": [
    "y_pred = df_dis_llama.pred_solution.apply(lambda x: 1 if \"fake\" in x.lower() else 0)\n",
    "y_true = df_dis_llama.label.apply(lambda x: 1 if \"fake\" in x.lower() else 0)\n",
    "f1_score(y_true, y_pred, average=\"micro\")"
   ],
   "metadata": {
    "collapsed": false,
    "ExecuteTime": {
     "end_time": "2025-02-28T15:51:39.504500Z",
     "start_time": "2025-02-28T15:51:39.495024Z"
    }
   },
   "id": "212c5f09e1069fa1"
  },
  {
   "cell_type": "markdown",
   "source": [
    "# Fine Tuning BERT for Disinformation Detection"
   ],
   "metadata": {
    "collapsed": false
   },
   "id": "1c21eef4d60fe66d"
  },
  {
   "cell_type": "markdown",
   "source": [
    "## Utils"
   ],
   "metadata": {
    "collapsed": false
   },
   "id": "e921e35930e5587f"
  },
  {
   "cell_type": "code",
   "execution_count": null,
   "outputs": [],
   "source": [
    "class DisinformationDataset(torch.utils.data.Dataset):\n",
    "    def __init__(self, encodings, labels):\n",
    "        self.encodings = encodings\n",
    "        self.labels = labels\n",
    "\n",
    "    def __getitem__(self, idx):\n",
    "        item = {key: torch.tensor(val[idx]) for key, val in self.encodings.items()}\n",
    "        item['labels'] = torch.tensor(self.labels[idx])\n",
    "        return item\n",
    "\n",
    "    def __len__(self):\n",
    "        return len(self.labels)"
   ],
   "metadata": {
    "collapsed": false
   },
   "id": "2a4e7010ce6f4c50"
  },
  {
   "cell_type": "code",
   "execution_count": null,
   "outputs": [],
   "source": [
    "class SaveMetricsCallback(TrainerCallback):\n",
    "\n",
    "    def __init__(self, csv_file_name, hyperparameters):\n",
    "        \"\"\"\n",
    "        Initializes the SaveMetricsCallback class.\n",
    "\n",
    "        Parameters:\n",
    "        - csv_file_name (str): The name of the CSV file to save metrics.\n",
    "        - hyperparameters (dict): Dictionary containing hyperparameters.\n",
    "        \"\"\"\n",
    "        super().__init__()\n",
    "        self.df = pd.DataFrame()\n",
    "        self.file_name = csv_file_name\n",
    "\n",
    "        # Ensure the directory exists\n",
    "        os.makedirs(os.path.dirname(self.file_name), exist_ok=True)\n",
    "\n",
    "        self.df_hyperparameters = pd.DataFrame([hyperparameters])\n",
    "\n",
    "    def on_evaluate(self, args, state, control, metrics, **kwargs):\n",
    "        \"\"\"\n",
    "        Event called after an evaluation phase.\n",
    "        Appends evaluated metrics to the DataFrame.\n",
    "        \"\"\"\n",
    "        self.df = pd.concat([self.df, pd.DataFrame([metrics])])\n",
    "\n",
    "    def on_train_end(self, args, state, control, **kwargs):\n",
    "        \"\"\"\n",
    "        Event called at the end of training.\n",
    "        Concatenates hyperparameters DataFrame with metrics DataFrame and saves to CSV file.\n",
    "        \"\"\"\n",
    "        self.df = pd.concat([self.df, self.df_hyperparameters], axis=1)\n",
    "        # Ensure the directory exists before saving\n",
    "        os.makedirs(os.path.dirname(self.file_name), exist_ok=True)\n",
    "        self.df.to_csv(self.file_name, index=False)\n"
   ],
   "metadata": {
    "collapsed": false
   },
   "id": "4780e34dcec31f5d"
  },
  {
   "cell_type": "code",
   "execution_count": 5,
   "outputs": [
    {
     "name": "stdout",
     "output_type": "stream",
     "text": [
      "Config file created at: config_test.yaml\n"
     ]
    }
   ],
   "source": [
    "# Define your configuration as a Python dictionary\n",
    "config = {\n",
    "    'data': {\n",
    "        'train': '../../data/ECTF/train.csv',\n",
    "        'validation': '../../data/ECTF/validation.csv',\n",
    "        'test': '../../data/ECTF/test.csv'\n",
    "    },\n",
    "    'tokenizer': {\n",
    "        'truncation': True,\n",
    "        'padding': True,\n",
    "        'max_length': 256\n",
    "    },\n",
    "    'model': {\n",
    "        'model_name': 'google-bert/bert-base-uncased',\n",
    "        'output': 'output/training/dis_bert_base',\n",
    "        'valid_metrics': 'metrics/disinformation/bert_base/valid/dis_bert_base',\n",
    "        'path_to_save_model': 'output/final/dis_bert_base',\n",
    "        'test_metrics': 'metrics/disinformation/bert_base/test/dis_bert_base',\n",
    "        'hyperparameters': {\n",
    "            'evaluation_strategy': 'steps',\n",
    "            'per_device_train_batch_size': 16,\n",
    "            'per_device_eval_batch_size': 16,\n",
    "            'num_train_epochs': 5,\n",
    "            'warmup_steps': 200,\n",
    "            'learning_rate': 0.00001,\n",
    "            'weight_decay': 0.1,\n",
    "            'fp16': True,\n",
    "            'metric_for_best_model': 'f1_micro',\n",
    "            'load_best_model_at_end': True,\n",
    "            'save_total_limit': 2,\n",
    "            'greater_is_better': True,\n",
    "            'save_strategy': 'steps',\n",
    "            'eval_steps': 50\n",
    "        }\n",
    "    }\n",
    "}\n",
    "\n",
    "# Path to save the YAML file\n",
    "yaml_file_path = 'config.yaml'\n",
    "\n",
    "# Write the dictionary to a YAML file\n",
    "with open(yaml_file_path, 'w') as yaml_file:\n",
    "    yaml.dump(config, yaml_file, default_flow_style=False)"
   ],
   "metadata": {
    "collapsed": false,
    "ExecuteTime": {
     "end_time": "2025-02-28T18:16:29.772420Z",
     "start_time": "2025-02-28T18:16:29.754216Z"
    }
   },
   "id": "223fc3779c1adcb4"
  },
  {
   "cell_type": "code",
   "execution_count": null,
   "outputs": [],
   "source": [
    "def compute_metrics(pred=None, y_true=None, y_pred=None):\n",
    "    \"\"\"\n",
    "    Computes F1 scores (micro, macro, weighted) for both training and testing data.\n",
    "\n",
    "    If `pred` is provided, it computes metrics for the trainer using `EvalPrediction`.\n",
    "    If `y_true` and `y_pred` are provided, it computes metrics for test data predictions.\n",
    "\n",
    "    Parameters:\n",
    "        - pred (EvalPrediction, optional): The evaluation prediction object for Trainer.\n",
    "        - y_true (list, optional): The ground truth labels for the test data.\n",
    "        - y_pred (list, optional): The predicted labels for the test data.\n",
    "\n",
    "    Returns:\n",
    "        - dict: A dictionary containing F1 metrics.\n",
    "    \"\"\"\n",
    "    if pred is not None:\n",
    "        # When working with the Trainer, pred is an EvalPrediction object\n",
    "        labels = pred.label_ids\n",
    "        y_pred = pred.predictions.argmax(-1)\n",
    "    elif y_true is not None and y_pred is not None:\n",
    "        # If y_true and y_pred are provided, use them for test evaluation\n",
    "        labels = y_true\n",
    "    else:\n",
    "        raise ValueError(\"Either `pred` or both `y_true` and `y_pred` must be provided.\")\n",
    "\n",
    "    # Compute F1 scores\n",
    "    f1 = f1_score(y_true=labels, y_pred=y_pred)\n",
    "    f1_micro = f1_score(y_true=labels, y_pred=y_pred, average='micro')\n",
    "    f1_macro = f1_score(y_true=labels, y_pred=y_pred, average='macro')\n",
    "    f1_macro_weighted = f1_score(y_true=labels, y_pred=y_pred, average='weighted')\n",
    "\n",
    "    return {\n",
    "        'f1': f1,\n",
    "        'f1_micro': f1_micro,\n",
    "        'f1_macro': f1_macro,\n",
    "        'f1_macro_weighted': f1_macro_weighted\n",
    "    }\n",
    "\n",
    "\n",
    "def compute_metrics_for_trainer(pred: EvalPrediction):\n",
    "    return compute_metrics(pred=pred)\n",
    "\n",
    "\n",
    "def predict_disinformation(text, tokenizer, model):\n",
    "    \"\"\"\n",
    "    Function that predicts the label for input text using argmax\n",
    "    \"\"\"\n",
    "\n",
    "    tokenized_text = tokenizer([text], truncation=True, padding=True, max_length=256, return_tensors=\"pt\")\n",
    "    with torch.no_grad():\n",
    "        outputs = model(**tokenized_text)\n",
    "\n",
    "    logits = outputs.logits\n",
    "    probabilities = torch.sigmoid(logits).squeeze().cpu().numpy()\n",
    "\n",
    "    predicted_label = np.argmax(probabilities)\n",
    "    return predicted_label"
   ],
   "metadata": {
    "collapsed": false
   },
   "id": "f1173e4e54248e49"
  },
  {
   "cell_type": "code",
   "execution_count": 2,
   "outputs": [],
   "source": [
    "def load_config(file_path='config.yaml'):\n",
    "    \"\"\"Load configuration from a YAML file.\"\"\"\n",
    "    with open(file_path, 'r') as yaml_file:\n",
    "        return yaml.safe_load(yaml_file)\n",
    "    \n",
    "    \n",
    "def load_and_process_data(file_path: str, label_column: str = \"label\", text_column: str = \"content\") -> pd.DataFrame:\n",
    "    \"\"\"\n",
    "    Loads the data from a CSV file and processes the labels.\n",
    "    Args:\n",
    "        file_path (str): Path to the CSV file.\n",
    "        label_column (str): The column name containing the labels.\n",
    "        text_column (str): The column name containing the text content.\n",
    "    Returns:\n",
    "        pd.DataFrame: Processed dataframe with labels and text content.\n",
    "    \"\"\"\n",
    "    data = pd.read_csv(file_path, encoding='utf-8')\n",
    "    data[label_column] = data[label_column].apply(lambda x: 1 if \"fake\" in x.lower() else 0)\n",
    "    return data\n",
    "\n",
    "\n",
    "def tokenize_data(tokenizer, data: pd.Series, config: dict) -> BatchEncoding:\n",
    "    \"\"\"\n",
    "    Tokenizes the text data.\n",
    "    Args:\n",
    "        tokenizer (transformers.PreTrainedTokenizer): The tokenizer to use.\n",
    "        data (pd.Series): The text data to tokenize.\n",
    "        config (dict): Configuration dictionary with tokenizer settings.\n",
    "    Returns:\n",
    "        dict: The tokenized data.\n",
    "    \"\"\"\n",
    "    return tokenizer(\n",
    "        data.tolist(),\n",
    "        truncation=config[\"tokenizer\"][\"truncation\"],\n",
    "        padding=config[\"tokenizer\"][\"padding\"],\n",
    "        max_length=config[\"tokenizer\"][\"max_length\"]\n",
    "    )\n",
    "\n",
    "\n",
    "def setup_trainer(config: dict, train_dataset, val_dataset) -> Trainer:\n",
    "    \"\"\"\n",
    "    Configures the Trainer for model training.\n",
    "    Args:\n",
    "        config (dict): Configuration dictionary.\n",
    "        train_dataset (Dataset): The training dataset.\n",
    "        val_dataset (Dataset): The validation dataset.\n",
    "    Returns:\n",
    "        Trainer: Configured Trainer instance.\n",
    "    \"\"\"\n",
    "    # Load model before passing it to Trainer\n",
    "    model = AutoModelForSequenceClassification.from_pretrained(config[\"model\"][\"model_name\"])\n",
    "\n",
    "    training_args = TrainingArguments(\n",
    "        output_dir=config[\"model\"][\"output\"],\n",
    "        evaluation_strategy=config[\"model\"][\"hyperparameters\"][\"evaluation_strategy\"],\n",
    "        learning_rate=config[\"model\"][\"hyperparameters\"][\"learning_rate\"],\n",
    "        per_device_train_batch_size=config[\"model\"][\"hyperparameters\"][\"per_device_train_batch_size\"],\n",
    "        per_device_eval_batch_size=config[\"model\"][\"hyperparameters\"][\"per_device_eval_batch_size\"],\n",
    "        num_train_epochs=config[\"model\"][\"hyperparameters\"][\"num_train_epochs\"],\n",
    "        warmup_steps=config[\"model\"][\"hyperparameters\"][\"warmup_steps\"],\n",
    "        weight_decay=config[\"model\"][\"hyperparameters\"][\"weight_decay\"],\n",
    "        fp16=config[\"model\"][\"hyperparameters\"][\"fp16\"],\n",
    "        metric_for_best_model=config[\"model\"][\"hyperparameters\"][\"metric_for_best_model\"],\n",
    "        load_best_model_at_end=config[\"model\"][\"hyperparameters\"][\"load_best_model_at_end\"],\n",
    "        save_total_limit=config[\"model\"][\"hyperparameters\"][\"save_total_limit\"],\n",
    "        greater_is_better=config[\"model\"][\"hyperparameters\"][\"greater_is_better\"],\n",
    "        save_strategy=config[\"model\"][\"hyperparameters\"][\"save_strategy\"],\n",
    "        eval_steps=config[\"model\"][\"hyperparameters\"][\"eval_steps\"],\n",
    "        save_on_each_node=True\n",
    "    )\n",
    "\n",
    "    return Trainer(\n",
    "        model=model,  # Pass the actual model instance\n",
    "        args=training_args,\n",
    "        train_dataset=train_dataset,\n",
    "        eval_dataset=val_dataset,\n",
    "        compute_metrics=compute_metrics_for_trainer,\n",
    "        callbacks=[SaveMetricsCallback(\n",
    "            csv_file_name=f\"{config['model']['valid_metrics']}.csv\",\n",
    "            hyperparameters=config[\"model\"][\"hyperparameters\"]\n",
    "        )]\n",
    "    )\n",
    "\n",
    "\n",
    "def save_metrics_to_json(metrics: dict, output_file_path: str):\n",
    "    \"\"\"\n",
    "    Saves the metrics to a JSON file.\n",
    "    Args:\n",
    "        metrics (dict): The evaluation metrics.\n",
    "        output_file_path (str): The file path to save the metrics.\n",
    "    \"\"\"\n",
    "    os.makedirs(os.path.dirname(output_file_path), exist_ok=True)\n",
    "    with open(output_file_path, 'w') as output_file:\n",
    "        json.dump(metrics, output_file, indent=4)"
   ],
   "metadata": {
    "collapsed": false,
    "ExecuteTime": {
     "start_time": "2025-02-28T17:38:57.898003Z"
    }
   },
   "id": "4cfa447a9439534f"
  },
  {
   "cell_type": "code",
   "execution_count": null,
   "outputs": [],
   "source": [
    "config=load_config()\n",
    "# Load and preprocess the datasets\n",
    "train_data = load_and_process_data(config[\"data\"][\"train\"])\n",
    "validation_data = load_and_process_data(config[\"data\"][\"validation\"])\n",
    "\n",
    "# Load model and tokenizer\n",
    "model = AutoModelForSequenceClassification.from_pretrained(config[\"model\"][\"model_name\"])\n",
    "tokenizer = AutoTokenizer.from_pretrained(config[\"model\"][\"model_name\"])"
   ],
   "metadata": {
    "collapsed": false
   },
   "id": "694b55821c5ed50a"
  },
  {
   "cell_type": "code",
   "execution_count": 2,
   "outputs": [],
   "source": [
    "# Tokenize datasets\n",
    "train_encodings = tokenize_data(tokenizer, train_data['content'], config)\n",
    "val_encodings = tokenize_data(tokenizer, validation_data['content'], config)\n",
    "\n",
    "# Create custom datasets\n",
    "train_dataset = DisinformationDataset(train_encodings, train_data['label'].tolist())\n",
    "val_dataset = DisinformationDataset(val_encodings, validation_data['label'].tolist())"
   ],
   "metadata": {
    "collapsed": false,
    "ExecuteTime": {
     "end_time": "2025-02-28T17:38:58.077748Z",
     "start_time": "2025-02-28T17:38:58.063948Z"
    }
   },
   "id": "561c8271c9ffbcae"
  },
  {
   "cell_type": "code",
   "execution_count": 2,
   "outputs": [],
   "source": [
    "# Setup the Trainer\n",
    "trainer = setup_trainer(config, train_dataset, val_dataset)\n",
    "\n",
    "# Train the model\n",
    "trainer.train()"
   ],
   "metadata": {
    "collapsed": false,
    "ExecuteTime": {
     "end_time": "2025-02-28T17:38:58.226347Z",
     "start_time": "2025-02-28T17:38:58.212823Z"
    }
   },
   "id": "d685e3ebed00655b"
  },
  {
   "cell_type": "code",
   "execution_count": 2,
   "outputs": [],
   "source": [
    "# Save the trained model\n",
    "model_saved_path = config[\"model\"][\"path_to_save_model\"]\n",
    "trainer.save_model(model_saved_path)\n",
    "\n",
    "# Load the test data and preprocess\n",
    "test_data = load_and_process_data(config[\"data\"][\"test\"])\n",
    "\n",
    "# Make predictions on the test data\n",
    "model = AutoModelForSequenceClassification.from_pretrained(model_saved_path)\n",
    "test_data[\"predictions\"] = test_data[\"content\"].apply(\n",
    "    lambda x: predict_disinformation(x, tokenizer, model)\n",
    ")"
   ],
   "metadata": {
    "collapsed": false,
    "ExecuteTime": {
     "end_time": "2025-02-28T17:38:58.412056Z",
     "start_time": "2025-02-28T17:38:58.398369Z"
    }
   },
   "id": "de1ecc97846a9df2"
  },
  {
   "cell_type": "code",
   "execution_count": 2,
   "outputs": [],
   "source": [
    "# Compute evaluation metrics on the test data\n",
    "evaluation_results = compute_metrics(y_true=test_data[\"label\"], y_pred=test_data[\"predictions\"])\n",
    "\n",
    "# Save the evaluation metrics to a JSON file\n",
    "output_file_path = f\"{config['model']['test_metrics']}.json\"\n",
    "save_metrics_to_json(evaluation_results, output_file_path)"
   ],
   "metadata": {
    "collapsed": false,
    "ExecuteTime": {
     "end_time": "2025-02-28T17:38:58.573711Z",
     "start_time": "2025-02-28T17:38:58.553569Z"
    }
   },
   "id": "263b3ffd5823c716"
  },
  {
   "cell_type": "code",
   "execution_count": 2,
   "outputs": [],
   "source": [],
   "metadata": {
    "collapsed": false,
    "ExecuteTime": {
     "end_time": "2025-02-28T17:38:58.807299Z",
     "start_time": "2025-02-28T17:38:58.730369Z"
    }
   },
   "id": "e8c0e7dbbf55b431"
  }
 ],
 "metadata": {
  "kernelspec": {
   "display_name": "Python 3",
   "language": "python",
   "name": "python3"
  },
  "language_info": {
   "codemirror_mode": {
    "name": "ipython",
    "version": 2
   },
   "file_extension": ".py",
   "mimetype": "text/x-python",
   "name": "python",
   "nbconvert_exporter": "python",
   "pygments_lexer": "ipython2",
   "version": "2.7.6"
  }
 },
 "nbformat": 4,
 "nbformat_minor": 5
}
