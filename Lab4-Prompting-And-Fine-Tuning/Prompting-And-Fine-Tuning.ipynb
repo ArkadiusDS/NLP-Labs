{
 "cells": [
  {
   "cell_type": "code",
   "execution_count": 1,
   "id": "initial_id",
   "metadata": {
    "collapsed": true,
    "ExecuteTime": {
     "end_time": "2025-02-28T15:49:18.987492Z",
     "start_time": "2025-02-28T15:49:17.338466Z"
    }
   },
   "outputs": [],
   "source": [
    "import pandas as pd\n",
    "from datasets import load_dataset\n",
    "from sklearn.metrics import f1_score\n",
    "from src.utils.utils import parallel_text_processing, extract_numbers, calculate_accuracy\n",
    "from src.utils.utils import PromptTemplate"
   ]
  },
  {
   "cell_type": "code",
   "execution_count": 2,
   "outputs": [
    {
     "name": "stdout",
     "output_type": "stream",
     "text": [
      "Dataset length : 1319\n"
     ]
    }
   ],
   "source": [
    "dataset = load_dataset(\"gsm8k\", \"main\")\n",
    "\n",
    "print(f'Dataset length : {len(dataset[\"test\"])}')\n",
    "\n",
    "test_samples = dataset[\"test\"][:100]\n",
    "questions = test_samples[\"question\"]\n",
    "long_answers = test_samples[\"answer\"]\n",
    "answers = [float(an.split(\"#### \")[-1]) for an in long_answers]"
   ],
   "metadata": {
    "collapsed": false,
    "ExecuteTime": {
     "end_time": "2025-02-28T15:49:25.493073Z",
     "start_time": "2025-02-28T15:49:18.987992Z"
    }
   },
   "id": "b67f4943e886e8c4"
  },
  {
   "cell_type": "code",
   "execution_count": 3,
   "outputs": [
    {
     "data": {
      "text/plain": "\"Janet’s ducks lay 16 eggs per day. She eats three for breakfast every morning and bakes muffins for her friends every day with four. She sells the remainder at the farmers' market daily for $2 per fresh duck egg. How much in dollars does she make every day at the farmers' market?\""
     },
     "execution_count": 3,
     "metadata": {},
     "output_type": "execute_result"
    }
   ],
   "source": [
    "questions[0]"
   ],
   "metadata": {
    "collapsed": false,
    "ExecuteTime": {
     "end_time": "2025-02-28T15:49:25.500574Z",
     "start_time": "2025-02-28T15:49:25.495402Z"
    }
   },
   "id": "38ec604c81e07714"
  },
  {
   "cell_type": "code",
   "execution_count": 4,
   "outputs": [
    {
     "data": {
      "text/plain": "'Janet sells 16 - 3 - 4 = <<16-3-4=9>>9 duck eggs a day.\\nShe makes 9 * 2 = $<<9*2=18>>18 every day at the farmer’s market.\\n#### 18'"
     },
     "execution_count": 4,
     "metadata": {},
     "output_type": "execute_result"
    }
   ],
   "source": [
    "long_answers[0]"
   ],
   "metadata": {
    "collapsed": false,
    "ExecuteTime": {
     "end_time": "2025-02-28T15:49:25.502422Z",
     "start_time": "2025-02-28T15:49:25.498775Z"
    }
   },
   "id": "5c5427dade381b31"
  },
  {
   "cell_type": "code",
   "execution_count": 5,
   "outputs": [
    {
     "data": {
      "text/plain": "18.0"
     },
     "execution_count": 5,
     "metadata": {},
     "output_type": "execute_result"
    }
   ],
   "source": [
    "answers[0]"
   ],
   "metadata": {
    "collapsed": false,
    "ExecuteTime": {
     "end_time": "2025-02-28T15:49:25.508943Z",
     "start_time": "2025-02-28T15:49:25.502926Z"
    }
   },
   "id": "6b830741e63276ec"
  },
  {
   "cell_type": "code",
   "execution_count": 6,
   "outputs": [],
   "source": [
    "df = pd.DataFrame({\"questions\":questions, \"long_answers\": long_answers, \"answer\": answers})"
   ],
   "metadata": {
    "collapsed": false,
    "ExecuteTime": {
     "end_time": "2025-02-26T10:21:22.549658Z",
     "start_time": "2025-02-26T10:21:22.545218Z"
    }
   },
   "id": "df5a52c6ae9ca524"
  },
  {
   "cell_type": "code",
   "execution_count": 7,
   "outputs": [
    {
     "data": {
      "text/plain": "                                           questions  \\\n0  Janet’s ducks lay 16 eggs per day. She eats th...   \n1  A robe takes 2 bolts of blue fiber and half th...   \n2  Josh decides to try flipping a house.  He buys...   \n3  James decides to run 3 sprints 3 times a week....   \n4  Every day, Wendi feeds each of her chickens th...   \n\n                                        long_answers   answer  \n0  Janet sells 16 - 3 - 4 = <<16-3-4=9>>9 duck eg...     18.0  \n1  It takes 2/2=<<2/2=1>>1 bolt of white fiber\\nS...      3.0  \n2  The cost of the house and repairs came out to ...  70000.0  \n3  He sprints 3*3=<<3*3=9>>9 times\\nSo he runs 9*...    540.0  \n4  If each chicken eats 3 cups of feed per day, t...     20.0  ",
      "text/html": "<div>\n<style scoped>\n    .dataframe tbody tr th:only-of-type {\n        vertical-align: middle;\n    }\n\n    .dataframe tbody tr th {\n        vertical-align: top;\n    }\n\n    .dataframe thead th {\n        text-align: right;\n    }\n</style>\n<table border=\"1\" class=\"dataframe\">\n  <thead>\n    <tr style=\"text-align: right;\">\n      <th></th>\n      <th>questions</th>\n      <th>long_answers</th>\n      <th>answer</th>\n    </tr>\n  </thead>\n  <tbody>\n    <tr>\n      <th>0</th>\n      <td>Janet’s ducks lay 16 eggs per day. She eats th...</td>\n      <td>Janet sells 16 - 3 - 4 = &lt;&lt;16-3-4=9&gt;&gt;9 duck eg...</td>\n      <td>18.0</td>\n    </tr>\n    <tr>\n      <th>1</th>\n      <td>A robe takes 2 bolts of blue fiber and half th...</td>\n      <td>It takes 2/2=&lt;&lt;2/2=1&gt;&gt;1 bolt of white fiber\\nS...</td>\n      <td>3.0</td>\n    </tr>\n    <tr>\n      <th>2</th>\n      <td>Josh decides to try flipping a house.  He buys...</td>\n      <td>The cost of the house and repairs came out to ...</td>\n      <td>70000.0</td>\n    </tr>\n    <tr>\n      <th>3</th>\n      <td>James decides to run 3 sprints 3 times a week....</td>\n      <td>He sprints 3*3=&lt;&lt;3*3=9&gt;&gt;9 times\\nSo he runs 9*...</td>\n      <td>540.0</td>\n    </tr>\n    <tr>\n      <th>4</th>\n      <td>Every day, Wendi feeds each of her chickens th...</td>\n      <td>If each chicken eats 3 cups of feed per day, t...</td>\n      <td>20.0</td>\n    </tr>\n  </tbody>\n</table>\n</div>"
     },
     "execution_count": 7,
     "metadata": {},
     "output_type": "execute_result"
    }
   ],
   "source": [
    "df.head()"
   ],
   "metadata": {
    "collapsed": false,
    "ExecuteTime": {
     "end_time": "2025-02-26T10:21:22.591302Z",
     "start_time": "2025-02-26T10:21:22.548337Z"
    }
   },
   "id": "bbccbc0d5802b56e"
  },
  {
   "cell_type": "code",
   "execution_count": 16,
   "outputs": [
    {
     "name": "stderr",
     "output_type": "stream",
     "text": [
      "100%|██████████| 100/100 [00:12<00:00,  7.97it/s]\n"
     ]
    }
   ],
   "source": [
    "system_prompt = \"\"\"You are a helpful AI assistant who knows math.\"\"\"\n",
    "user_prompt = \"\"\"Below I will provide a question with a math problem. \n",
    "Please solve it and present final number which is an answer to the problem. \n",
    "Do not show any explanation and do not provide units.\n",
    "\n",
    "Question: {text}\n",
    "Give answer in this form: {{\"answer\": \"answer with final number\"}}\"\"\"\n",
    "\n",
    "prompt_template = PromptTemplate(system_prompt, user_prompt)\n",
    "\n",
    "df_zero = parallel_text_processing(\n",
    "    dataframe=df.copy(),\n",
    "    col_with_content=\"questions\",\n",
    "    column=\"pred_solution\",\n",
    "    filename=\"test/math_problem_zero_shot.csv\",\n",
    "    model=\"gpt-4o-mini\",\n",
    "    prompt_template=prompt_template\n",
    ")"
   ],
   "metadata": {
    "collapsed": false,
    "ExecuteTime": {
     "end_time": "2025-02-25T16:08:36.259687Z",
     "start_time": "2025-02-25T16:08:23.618354Z"
    }
   },
   "id": "404a4212b3cd098c"
  },
  {
   "cell_type": "code",
   "execution_count": 20,
   "outputs": [
    {
     "data": {
      "text/plain": "                                           questions  \\\n0  Janet’s ducks lay 16 eggs per day. She eats th...   \n1  A robe takes 2 bolts of blue fiber and half th...   \n2  Josh decides to try flipping a house.  He buys...   \n3  James decides to run 3 sprints 3 times a week....   \n4  Every day, Wendi feeds each of her chickens th...   \n\n                                        long_answers   answer  \\\n0  Janet sells 16 - 3 - 4 = <<16-3-4=9>>9 duck eg...     18.0   \n1  It takes 2/2=<<2/2=1>>1 bolt of white fiber\\nS...      3.0   \n2  The cost of the house and repairs came out to ...  70000.0   \n3  He sprints 3*3=<<3*3=9>>9 times\\nSo he runs 9*...    540.0   \n4  If each chicken eats 3 cups of feed per day, t...     20.0   \n\n                                    system_prompt  \\\n0  You are a helpful AI assistant who knows math.   \n1  You are a helpful AI assistant who knows math.   \n2  You are a helpful AI assistant who knows math.   \n3  You are a helpful AI assistant who knows math.   \n4  You are a helpful AI assistant who knows math.   \n\n                                         user_prompt        pred_solution  \\\n0  Below I will provide a question with a math pr...     {\"answer\": \"26\"}   \n1  Below I will provide a question with a math pr...      {\"answer\": \"3\"}   \n2  Below I will provide a question with a math pr...  {\"answer\": \"65000\"}   \n3  Below I will provide a question with a math pr...    {\"answer\": \"540\"}   \n4  Below I will provide a question with a math pr...     {\"answer\": \"30\"}   \n\n   extracted_number  \n0              26.0  \n1               3.0  \n2           65000.0  \n3             540.0  \n4              30.0  ",
      "text/html": "<div>\n<style scoped>\n    .dataframe tbody tr th:only-of-type {\n        vertical-align: middle;\n    }\n\n    .dataframe tbody tr th {\n        vertical-align: top;\n    }\n\n    .dataframe thead th {\n        text-align: right;\n    }\n</style>\n<table border=\"1\" class=\"dataframe\">\n  <thead>\n    <tr style=\"text-align: right;\">\n      <th></th>\n      <th>questions</th>\n      <th>long_answers</th>\n      <th>answer</th>\n      <th>system_prompt</th>\n      <th>user_prompt</th>\n      <th>pred_solution</th>\n      <th>extracted_number</th>\n    </tr>\n  </thead>\n  <tbody>\n    <tr>\n      <th>0</th>\n      <td>Janet’s ducks lay 16 eggs per day. She eats th...</td>\n      <td>Janet sells 16 - 3 - 4 = &lt;&lt;16-3-4=9&gt;&gt;9 duck eg...</td>\n      <td>18.0</td>\n      <td>You are a helpful AI assistant who knows math.</td>\n      <td>Below I will provide a question with a math pr...</td>\n      <td>{\"answer\": \"26\"}</td>\n      <td>26.0</td>\n    </tr>\n    <tr>\n      <th>1</th>\n      <td>A robe takes 2 bolts of blue fiber and half th...</td>\n      <td>It takes 2/2=&lt;&lt;2/2=1&gt;&gt;1 bolt of white fiber\\nS...</td>\n      <td>3.0</td>\n      <td>You are a helpful AI assistant who knows math.</td>\n      <td>Below I will provide a question with a math pr...</td>\n      <td>{\"answer\": \"3\"}</td>\n      <td>3.0</td>\n    </tr>\n    <tr>\n      <th>2</th>\n      <td>Josh decides to try flipping a house.  He buys...</td>\n      <td>The cost of the house and repairs came out to ...</td>\n      <td>70000.0</td>\n      <td>You are a helpful AI assistant who knows math.</td>\n      <td>Below I will provide a question with a math pr...</td>\n      <td>{\"answer\": \"65000\"}</td>\n      <td>65000.0</td>\n    </tr>\n    <tr>\n      <th>3</th>\n      <td>James decides to run 3 sprints 3 times a week....</td>\n      <td>He sprints 3*3=&lt;&lt;3*3=9&gt;&gt;9 times\\nSo he runs 9*...</td>\n      <td>540.0</td>\n      <td>You are a helpful AI assistant who knows math.</td>\n      <td>Below I will provide a question with a math pr...</td>\n      <td>{\"answer\": \"540\"}</td>\n      <td>540.0</td>\n    </tr>\n    <tr>\n      <th>4</th>\n      <td>Every day, Wendi feeds each of her chickens th...</td>\n      <td>If each chicken eats 3 cups of feed per day, t...</td>\n      <td>20.0</td>\n      <td>You are a helpful AI assistant who knows math.</td>\n      <td>Below I will provide a question with a math pr...</td>\n      <td>{\"answer\": \"30\"}</td>\n      <td>30.0</td>\n    </tr>\n  </tbody>\n</table>\n</div>"
     },
     "execution_count": 20,
     "metadata": {},
     "output_type": "execute_result"
    }
   ],
   "source": [
    "df_zero.head()"
   ],
   "metadata": {
    "collapsed": false,
    "ExecuteTime": {
     "end_time": "2025-02-25T16:09:19.024742Z",
     "start_time": "2025-02-25T16:09:19.013542Z"
    }
   },
   "id": "956f00b06a20874"
  },
  {
   "cell_type": "code",
   "execution_count": 18,
   "outputs": [],
   "source": [
    "df_zero = extract_numbers(dataset=df_zero, column_name='pred_solution', new_column_name='extracted_number')"
   ],
   "metadata": {
    "collapsed": false,
    "ExecuteTime": {
     "end_time": "2025-02-25T16:09:01.310467Z",
     "start_time": "2025-02-25T16:09:01.295284Z"
    }
   },
   "id": "9f18901b6ca58e54"
  },
  {
   "cell_type": "code",
   "execution_count": 21,
   "outputs": [
    {
     "data": {
      "text/plain": "                                           questions  \\\n0  Janet’s ducks lay 16 eggs per day. She eats th...   \n1  A robe takes 2 bolts of blue fiber and half th...   \n2  Josh decides to try flipping a house.  He buys...   \n3  James decides to run 3 sprints 3 times a week....   \n4  Every day, Wendi feeds each of her chickens th...   \n\n                                        long_answers   answer  \\\n0  Janet sells 16 - 3 - 4 = <<16-3-4=9>>9 duck eg...     18.0   \n1  It takes 2/2=<<2/2=1>>1 bolt of white fiber\\nS...      3.0   \n2  The cost of the house and repairs came out to ...  70000.0   \n3  He sprints 3*3=<<3*3=9>>9 times\\nSo he runs 9*...    540.0   \n4  If each chicken eats 3 cups of feed per day, t...     20.0   \n\n                                    system_prompt  \\\n0  You are a helpful AI assistant who knows math.   \n1  You are a helpful AI assistant who knows math.   \n2  You are a helpful AI assistant who knows math.   \n3  You are a helpful AI assistant who knows math.   \n4  You are a helpful AI assistant who knows math.   \n\n                                         user_prompt        pred_solution  \\\n0  Below I will provide a question with a math pr...     {\"answer\": \"26\"}   \n1  Below I will provide a question with a math pr...      {\"answer\": \"3\"}   \n2  Below I will provide a question with a math pr...  {\"answer\": \"65000\"}   \n3  Below I will provide a question with a math pr...    {\"answer\": \"540\"}   \n4  Below I will provide a question with a math pr...     {\"answer\": \"30\"}   \n\n   extracted_number  \n0              26.0  \n1               3.0  \n2           65000.0  \n3             540.0  \n4              30.0  ",
      "text/html": "<div>\n<style scoped>\n    .dataframe tbody tr th:only-of-type {\n        vertical-align: middle;\n    }\n\n    .dataframe tbody tr th {\n        vertical-align: top;\n    }\n\n    .dataframe thead th {\n        text-align: right;\n    }\n</style>\n<table border=\"1\" class=\"dataframe\">\n  <thead>\n    <tr style=\"text-align: right;\">\n      <th></th>\n      <th>questions</th>\n      <th>long_answers</th>\n      <th>answer</th>\n      <th>system_prompt</th>\n      <th>user_prompt</th>\n      <th>pred_solution</th>\n      <th>extracted_number</th>\n    </tr>\n  </thead>\n  <tbody>\n    <tr>\n      <th>0</th>\n      <td>Janet’s ducks lay 16 eggs per day. She eats th...</td>\n      <td>Janet sells 16 - 3 - 4 = &lt;&lt;16-3-4=9&gt;&gt;9 duck eg...</td>\n      <td>18.0</td>\n      <td>You are a helpful AI assistant who knows math.</td>\n      <td>Below I will provide a question with a math pr...</td>\n      <td>{\"answer\": \"26\"}</td>\n      <td>26.0</td>\n    </tr>\n    <tr>\n      <th>1</th>\n      <td>A robe takes 2 bolts of blue fiber and half th...</td>\n      <td>It takes 2/2=&lt;&lt;2/2=1&gt;&gt;1 bolt of white fiber\\nS...</td>\n      <td>3.0</td>\n      <td>You are a helpful AI assistant who knows math.</td>\n      <td>Below I will provide a question with a math pr...</td>\n      <td>{\"answer\": \"3\"}</td>\n      <td>3.0</td>\n    </tr>\n    <tr>\n      <th>2</th>\n      <td>Josh decides to try flipping a house.  He buys...</td>\n      <td>The cost of the house and repairs came out to ...</td>\n      <td>70000.0</td>\n      <td>You are a helpful AI assistant who knows math.</td>\n      <td>Below I will provide a question with a math pr...</td>\n      <td>{\"answer\": \"65000\"}</td>\n      <td>65000.0</td>\n    </tr>\n    <tr>\n      <th>3</th>\n      <td>James decides to run 3 sprints 3 times a week....</td>\n      <td>He sprints 3*3=&lt;&lt;3*3=9&gt;&gt;9 times\\nSo he runs 9*...</td>\n      <td>540.0</td>\n      <td>You are a helpful AI assistant who knows math.</td>\n      <td>Below I will provide a question with a math pr...</td>\n      <td>{\"answer\": \"540\"}</td>\n      <td>540.0</td>\n    </tr>\n    <tr>\n      <th>4</th>\n      <td>Every day, Wendi feeds each of her chickens th...</td>\n      <td>If each chicken eats 3 cups of feed per day, t...</td>\n      <td>20.0</td>\n      <td>You are a helpful AI assistant who knows math.</td>\n      <td>Below I will provide a question with a math pr...</td>\n      <td>{\"answer\": \"30\"}</td>\n      <td>30.0</td>\n    </tr>\n  </tbody>\n</table>\n</div>"
     },
     "execution_count": 21,
     "metadata": {},
     "output_type": "execute_result"
    }
   ],
   "source": [
    "df_zero.head()"
   ],
   "metadata": {
    "collapsed": false,
    "ExecuteTime": {
     "end_time": "2025-02-25T16:09:36.887637Z",
     "start_time": "2025-02-25T16:09:36.881220Z"
    }
   },
   "id": "657a54b2b0d06c00"
  },
  {
   "cell_type": "code",
   "execution_count": 22,
   "outputs": [
    {
     "name": "stdout",
     "output_type": "stream",
     "text": [
      "Accuracy achieved is equal to 0.37\n"
     ]
    }
   ],
   "source": [
    "calculate_accuracy(df_zero, \"answer\", \"extracted_number\")"
   ],
   "metadata": {
    "collapsed": false,
    "ExecuteTime": {
     "end_time": "2025-02-25T16:09:46.813123Z",
     "start_time": "2025-02-25T16:09:46.799437Z"
    }
   },
   "id": "dfc8634c58c71a2f"
  },
  {
   "cell_type": "code",
   "execution_count": 23,
   "outputs": [
    {
     "name": "stderr",
     "output_type": "stream",
     "text": [
      "100%|██████████| 100/100 [00:06<00:00, 14.70it/s]\n"
     ]
    }
   ],
   "source": [
    "system_prompt = \"\"\"You are a helpful AI assistant who knows math.\"\"\"\n",
    "user_prompt = \"\"\"Below I will provide a question with a math problem. \n",
    "Please solve it and present final number which is an answer to the problem.\n",
    "Example problems:\n",
    "\n",
    "Problem 1:\n",
    "Natalia sold clips to 48 of her friends in April, and then she sold half as many clips in May. How many clips did Natalia sell altogether in April and May?\n",
    "Reasoning with answer: Natalia sold 48/2 = <<48/2=24>>24 clips in May.\\nNatalia sold 48+24 = <<48+24=72>>72 clips altogether in April and May.\\n#### 72 \n",
    "Answer: {{\"answer\": \"72\"}}\n",
    "\n",
    "Problem 2:\n",
    "Weng earns $12 an hour for babysitting. Yesterday, she just did 50 minutes of babysitting. How much did she earn?\n",
    "Reasoning with answer: Weng earns 12/60 = $<<12/60=0.2>>0.2 per minute.\\nWorking 50 minutes, she earned 0.2 x 50 = $<<0.2*50=10>>10.\\n#### 10\n",
    "Answer: {{\"answer\": \"72\"}}\n",
    "\n",
    "Problem 3:\n",
    "Betty is saving money for a new wallet which costs $100. Betty has only half of the money she needs. Her parents decided to give her $15 for that purpose, and her grandparents twice as much as her parents. How much more money does Betty need to buy the wallet?\n",
    "Reasoning with answer: In the beginning, Betty has only 100 / 2 = $<<100/2=50>>50.\\nBetty's grandparents gave her 15 * 2 = $<<15*2=30>>30.\\nThis means, Betty needs 100 - 50 - 30 - 15 = $<<100-50-30-15=5>>5 more.\\n#### 5\n",
    "Answer: {{\"answer\": \"5\"}}\n",
    "\n",
    "\n",
    "Now your turn to solve a problem. Provide only answer. Do not show any reasoning and explanation and do not provide units.\n",
    "Question: {text}\n",
    "Give answer in this form: {{\"answer\": \"answer with final number\"}}\"\"\"\n",
    "\n",
    "prompt_template = PromptTemplate(system_prompt, user_prompt)\n",
    "\n",
    "df_few = parallel_text_processing(\n",
    "    dataframe=df.copy(),\n",
    "    col_with_content=\"questions\",\n",
    "    column=\"pred_solution\",\n",
    "    filename=\"test/math_problem_few_shot.csv\",\n",
    "    model=\"gpt-4o-mini\",\n",
    "    prompt_template=prompt_template\n",
    ")"
   ],
   "metadata": {
    "collapsed": false,
    "ExecuteTime": {
     "end_time": "2025-02-25T16:11:32.062446Z",
     "start_time": "2025-02-25T16:11:25.195658Z"
    }
   },
   "id": "d2a716731007ebf6"
  },
  {
   "cell_type": "code",
   "execution_count": 24,
   "outputs": [
    {
     "data": {
      "text/plain": "                                           questions  \\\n0  Janet’s ducks lay 16 eggs per day. She eats th...   \n1  A robe takes 2 bolts of blue fiber and half th...   \n2  Josh decides to try flipping a house.  He buys...   \n3  James decides to run 3 sprints 3 times a week....   \n4  Every day, Wendi feeds each of her chickens th...   \n\n                                        long_answers   answer  \\\n0  Janet sells 16 - 3 - 4 = <<16-3-4=9>>9 duck eg...     18.0   \n1  It takes 2/2=<<2/2=1>>1 bolt of white fiber\\nS...      3.0   \n2  The cost of the house and repairs came out to ...  70000.0   \n3  He sprints 3*3=<<3*3=9>>9 times\\nSo he runs 9*...    540.0   \n4  If each chicken eats 3 cups of feed per day, t...     20.0   \n\n                                    system_prompt  \\\n0  You are a helpful AI assistant who knows math.   \n1  You are a helpful AI assistant who knows math.   \n2  You are a helpful AI assistant who knows math.   \n3  You are a helpful AI assistant who knows math.   \n4  You are a helpful AI assistant who knows math.   \n\n                                         user_prompt        pred_solution  \n0  Below I will provide a question with a math pr...     {\"answer\": \"18\"}  \n1  Below I will provide a question with a math pr...      {\"answer\": \"3\"}  \n2  Below I will provide a question with a math pr...  {\"answer\": \"65000\"}  \n3  Below I will provide a question with a math pr...    {\"answer\": \"540\"}  \n4  Below I will provide a question with a math pr...     {\"answer\": \"30\"}  ",
      "text/html": "<div>\n<style scoped>\n    .dataframe tbody tr th:only-of-type {\n        vertical-align: middle;\n    }\n\n    .dataframe tbody tr th {\n        vertical-align: top;\n    }\n\n    .dataframe thead th {\n        text-align: right;\n    }\n</style>\n<table border=\"1\" class=\"dataframe\">\n  <thead>\n    <tr style=\"text-align: right;\">\n      <th></th>\n      <th>questions</th>\n      <th>long_answers</th>\n      <th>answer</th>\n      <th>system_prompt</th>\n      <th>user_prompt</th>\n      <th>pred_solution</th>\n    </tr>\n  </thead>\n  <tbody>\n    <tr>\n      <th>0</th>\n      <td>Janet’s ducks lay 16 eggs per day. She eats th...</td>\n      <td>Janet sells 16 - 3 - 4 = &lt;&lt;16-3-4=9&gt;&gt;9 duck eg...</td>\n      <td>18.0</td>\n      <td>You are a helpful AI assistant who knows math.</td>\n      <td>Below I will provide a question with a math pr...</td>\n      <td>{\"answer\": \"18\"}</td>\n    </tr>\n    <tr>\n      <th>1</th>\n      <td>A robe takes 2 bolts of blue fiber and half th...</td>\n      <td>It takes 2/2=&lt;&lt;2/2=1&gt;&gt;1 bolt of white fiber\\nS...</td>\n      <td>3.0</td>\n      <td>You are a helpful AI assistant who knows math.</td>\n      <td>Below I will provide a question with a math pr...</td>\n      <td>{\"answer\": \"3\"}</td>\n    </tr>\n    <tr>\n      <th>2</th>\n      <td>Josh decides to try flipping a house.  He buys...</td>\n      <td>The cost of the house and repairs came out to ...</td>\n      <td>70000.0</td>\n      <td>You are a helpful AI assistant who knows math.</td>\n      <td>Below I will provide a question with a math pr...</td>\n      <td>{\"answer\": \"65000\"}</td>\n    </tr>\n    <tr>\n      <th>3</th>\n      <td>James decides to run 3 sprints 3 times a week....</td>\n      <td>He sprints 3*3=&lt;&lt;3*3=9&gt;&gt;9 times\\nSo he runs 9*...</td>\n      <td>540.0</td>\n      <td>You are a helpful AI assistant who knows math.</td>\n      <td>Below I will provide a question with a math pr...</td>\n      <td>{\"answer\": \"540\"}</td>\n    </tr>\n    <tr>\n      <th>4</th>\n      <td>Every day, Wendi feeds each of her chickens th...</td>\n      <td>If each chicken eats 3 cups of feed per day, t...</td>\n      <td>20.0</td>\n      <td>You are a helpful AI assistant who knows math.</td>\n      <td>Below I will provide a question with a math pr...</td>\n      <td>{\"answer\": \"30\"}</td>\n    </tr>\n  </tbody>\n</table>\n</div>"
     },
     "execution_count": 24,
     "metadata": {},
     "output_type": "execute_result"
    }
   ],
   "source": [
    "df_few.head()"
   ],
   "metadata": {
    "collapsed": false,
    "ExecuteTime": {
     "end_time": "2025-02-25T16:11:37.962980Z",
     "start_time": "2025-02-25T16:11:37.949092Z"
    }
   },
   "id": "8c14b371b7f0cf47"
  },
  {
   "cell_type": "code",
   "execution_count": 25,
   "outputs": [],
   "source": [
    "df_few = extract_numbers(dataset=df_few, column_name='pred_solution', new_column_name='extracted_number')"
   ],
   "metadata": {
    "collapsed": false,
    "ExecuteTime": {
     "end_time": "2025-02-25T16:11:59.369888Z",
     "start_time": "2025-02-25T16:11:59.352124Z"
    }
   },
   "id": "4a1c4516072f0c6b"
  },
  {
   "cell_type": "code",
   "execution_count": 26,
   "outputs": [
    {
     "data": {
      "text/plain": "                                           questions  \\\n0  Janet’s ducks lay 16 eggs per day. She eats th...   \n1  A robe takes 2 bolts of blue fiber and half th...   \n2  Josh decides to try flipping a house.  He buys...   \n3  James decides to run 3 sprints 3 times a week....   \n4  Every day, Wendi feeds each of her chickens th...   \n\n                                        long_answers   answer  \\\n0  Janet sells 16 - 3 - 4 = <<16-3-4=9>>9 duck eg...     18.0   \n1  It takes 2/2=<<2/2=1>>1 bolt of white fiber\\nS...      3.0   \n2  The cost of the house and repairs came out to ...  70000.0   \n3  He sprints 3*3=<<3*3=9>>9 times\\nSo he runs 9*...    540.0   \n4  If each chicken eats 3 cups of feed per day, t...     20.0   \n\n                                    system_prompt  \\\n0  You are a helpful AI assistant who knows math.   \n1  You are a helpful AI assistant who knows math.   \n2  You are a helpful AI assistant who knows math.   \n3  You are a helpful AI assistant who knows math.   \n4  You are a helpful AI assistant who knows math.   \n\n                                         user_prompt        pred_solution  \\\n0  Below I will provide a question with a math pr...     {\"answer\": \"18\"}   \n1  Below I will provide a question with a math pr...      {\"answer\": \"3\"}   \n2  Below I will provide a question with a math pr...  {\"answer\": \"65000\"}   \n3  Below I will provide a question with a math pr...    {\"answer\": \"540\"}   \n4  Below I will provide a question with a math pr...     {\"answer\": \"30\"}   \n\n   extracted_number  \n0              18.0  \n1               3.0  \n2           65000.0  \n3             540.0  \n4              30.0  ",
      "text/html": "<div>\n<style scoped>\n    .dataframe tbody tr th:only-of-type {\n        vertical-align: middle;\n    }\n\n    .dataframe tbody tr th {\n        vertical-align: top;\n    }\n\n    .dataframe thead th {\n        text-align: right;\n    }\n</style>\n<table border=\"1\" class=\"dataframe\">\n  <thead>\n    <tr style=\"text-align: right;\">\n      <th></th>\n      <th>questions</th>\n      <th>long_answers</th>\n      <th>answer</th>\n      <th>system_prompt</th>\n      <th>user_prompt</th>\n      <th>pred_solution</th>\n      <th>extracted_number</th>\n    </tr>\n  </thead>\n  <tbody>\n    <tr>\n      <th>0</th>\n      <td>Janet’s ducks lay 16 eggs per day. She eats th...</td>\n      <td>Janet sells 16 - 3 - 4 = &lt;&lt;16-3-4=9&gt;&gt;9 duck eg...</td>\n      <td>18.0</td>\n      <td>You are a helpful AI assistant who knows math.</td>\n      <td>Below I will provide a question with a math pr...</td>\n      <td>{\"answer\": \"18\"}</td>\n      <td>18.0</td>\n    </tr>\n    <tr>\n      <th>1</th>\n      <td>A robe takes 2 bolts of blue fiber and half th...</td>\n      <td>It takes 2/2=&lt;&lt;2/2=1&gt;&gt;1 bolt of white fiber\\nS...</td>\n      <td>3.0</td>\n      <td>You are a helpful AI assistant who knows math.</td>\n      <td>Below I will provide a question with a math pr...</td>\n      <td>{\"answer\": \"3\"}</td>\n      <td>3.0</td>\n    </tr>\n    <tr>\n      <th>2</th>\n      <td>Josh decides to try flipping a house.  He buys...</td>\n      <td>The cost of the house and repairs came out to ...</td>\n      <td>70000.0</td>\n      <td>You are a helpful AI assistant who knows math.</td>\n      <td>Below I will provide a question with a math pr...</td>\n      <td>{\"answer\": \"65000\"}</td>\n      <td>65000.0</td>\n    </tr>\n    <tr>\n      <th>3</th>\n      <td>James decides to run 3 sprints 3 times a week....</td>\n      <td>He sprints 3*3=&lt;&lt;3*3=9&gt;&gt;9 times\\nSo he runs 9*...</td>\n      <td>540.0</td>\n      <td>You are a helpful AI assistant who knows math.</td>\n      <td>Below I will provide a question with a math pr...</td>\n      <td>{\"answer\": \"540\"}</td>\n      <td>540.0</td>\n    </tr>\n    <tr>\n      <th>4</th>\n      <td>Every day, Wendi feeds each of her chickens th...</td>\n      <td>If each chicken eats 3 cups of feed per day, t...</td>\n      <td>20.0</td>\n      <td>You are a helpful AI assistant who knows math.</td>\n      <td>Below I will provide a question with a math pr...</td>\n      <td>{\"answer\": \"30\"}</td>\n      <td>30.0</td>\n    </tr>\n  </tbody>\n</table>\n</div>"
     },
     "execution_count": 26,
     "metadata": {},
     "output_type": "execute_result"
    }
   ],
   "source": [
    "df_few.head()"
   ],
   "metadata": {
    "collapsed": false,
    "ExecuteTime": {
     "end_time": "2025-02-25T16:11:59.729681Z",
     "start_time": "2025-02-25T16:11:59.716110Z"
    }
   },
   "id": "50df75fa6cf0b3d"
  },
  {
   "cell_type": "code",
   "execution_count": 27,
   "outputs": [
    {
     "name": "stdout",
     "output_type": "stream",
     "text": [
      "Accuracy achieved is equal to 0.38\n"
     ]
    }
   ],
   "source": [
    "calculate_accuracy(df_few, \"answer\", \"extracted_number\")"
   ],
   "metadata": {
    "collapsed": false,
    "ExecuteTime": {
     "end_time": "2025-02-25T16:12:12.146437Z",
     "start_time": "2025-02-25T16:12:12.131849Z"
    }
   },
   "id": "27ae488a0c079289"
  },
  {
   "cell_type": "code",
   "execution_count": 33,
   "outputs": [
    {
     "name": "stderr",
     "output_type": "stream",
     "text": [
      "100%|██████████| 100/100 [00:38<00:00,  2.60it/s]\n"
     ]
    }
   ],
   "source": [
    "# Usage Example\n",
    "system_prompt = \"You are a helpful AI assistant who knows math.\"\n",
    "user_prompt_template = \"\"\"Below I will provide a question with a math problem. \n",
    "Please solve it and present the final number which is the answer to the problem. \n",
    "In the final answer do not provide units, give only the number.\n",
    "\n",
    "Question: {text}\n",
    "Give answer in this form: {{\"reasoning\": \"Solve it step by step and provide reasoning and explanation\", \"answer\": \"final number\"}}\"\"\"\n",
    "\n",
    "prompt_template = PromptTemplate(system_prompt, user_prompt_template)\n",
    "\n",
    "df_cot = parallel_text_processing(\n",
    "    dataframe=df.copy(),\n",
    "    col_with_content=\"questions\",\n",
    "    column=\"pred_solution\",\n",
    "    filename=\"test/math_problem_cot.csv\",\n",
    "    model=\"gpt-4o-mini\",\n",
    "    prompt_template=prompt_template\n",
    ")"
   ],
   "metadata": {
    "collapsed": false,
    "ExecuteTime": {
     "end_time": "2025-02-25T16:17:42.896456Z",
     "start_time": "2025-02-25T16:17:04.310470Z"
    }
   },
   "id": "1bb086adda3ea31c"
  },
  {
   "cell_type": "code",
   "execution_count": 34,
   "outputs": [
    {
     "data": {
      "text/plain": "                                           questions  \\\n0  Janet’s ducks lay 16 eggs per day. She eats th...   \n1  A robe takes 2 bolts of blue fiber and half th...   \n2  Josh decides to try flipping a house.  He buys...   \n3  James decides to run 3 sprints 3 times a week....   \n4  Every day, Wendi feeds each of her chickens th...   \n\n                                        long_answers   answer  \\\n0  Janet sells 16 - 3 - 4 = <<16-3-4=9>>9 duck eg...     18.0   \n1  It takes 2/2=<<2/2=1>>1 bolt of white fiber\\nS...      3.0   \n2  The cost of the house and repairs came out to ...  70000.0   \n3  He sprints 3*3=<<3*3=9>>9 times\\nSo he runs 9*...    540.0   \n4  If each chicken eats 3 cups of feed per day, t...     20.0   \n\n                                    system_prompt  \\\n0  You are a helpful AI assistant who knows math.   \n1  You are a helpful AI assistant who knows math.   \n2  You are a helpful AI assistant who knows math.   \n3  You are a helpful AI assistant who knows math.   \n4  You are a helpful AI assistant who knows math.   \n\n                                         user_prompt  \\\n0  Below I will provide a question with a math pr...   \n1  Below I will provide a question with a math pr...   \n2  Below I will provide a question with a math pr...   \n3  Below I will provide a question with a math pr...   \n4  Below I will provide a question with a math pr...   \n\n                                       pred_solution  \n0  {\"reasoning\": \"First, we need to determine how...  \n1  {\"reasoning\": \"To find the total number of bol...  \n2  {\"reasoning\": \"First, we calculate the total i...  \n3  {\"reasoning\": \"To find the total meters James ...  \n4  {\"reasoning\": \"First, we need to determine the...  ",
      "text/html": "<div>\n<style scoped>\n    .dataframe tbody tr th:only-of-type {\n        vertical-align: middle;\n    }\n\n    .dataframe tbody tr th {\n        vertical-align: top;\n    }\n\n    .dataframe thead th {\n        text-align: right;\n    }\n</style>\n<table border=\"1\" class=\"dataframe\">\n  <thead>\n    <tr style=\"text-align: right;\">\n      <th></th>\n      <th>questions</th>\n      <th>long_answers</th>\n      <th>answer</th>\n      <th>system_prompt</th>\n      <th>user_prompt</th>\n      <th>pred_solution</th>\n    </tr>\n  </thead>\n  <tbody>\n    <tr>\n      <th>0</th>\n      <td>Janet’s ducks lay 16 eggs per day. She eats th...</td>\n      <td>Janet sells 16 - 3 - 4 = &lt;&lt;16-3-4=9&gt;&gt;9 duck eg...</td>\n      <td>18.0</td>\n      <td>You are a helpful AI assistant who knows math.</td>\n      <td>Below I will provide a question with a math pr...</td>\n      <td>{\"reasoning\": \"First, we need to determine how...</td>\n    </tr>\n    <tr>\n      <th>1</th>\n      <td>A robe takes 2 bolts of blue fiber and half th...</td>\n      <td>It takes 2/2=&lt;&lt;2/2=1&gt;&gt;1 bolt of white fiber\\nS...</td>\n      <td>3.0</td>\n      <td>You are a helpful AI assistant who knows math.</td>\n      <td>Below I will provide a question with a math pr...</td>\n      <td>{\"reasoning\": \"To find the total number of bol...</td>\n    </tr>\n    <tr>\n      <th>2</th>\n      <td>Josh decides to try flipping a house.  He buys...</td>\n      <td>The cost of the house and repairs came out to ...</td>\n      <td>70000.0</td>\n      <td>You are a helpful AI assistant who knows math.</td>\n      <td>Below I will provide a question with a math pr...</td>\n      <td>{\"reasoning\": \"First, we calculate the total i...</td>\n    </tr>\n    <tr>\n      <th>3</th>\n      <td>James decides to run 3 sprints 3 times a week....</td>\n      <td>He sprints 3*3=&lt;&lt;3*3=9&gt;&gt;9 times\\nSo he runs 9*...</td>\n      <td>540.0</td>\n      <td>You are a helpful AI assistant who knows math.</td>\n      <td>Below I will provide a question with a math pr...</td>\n      <td>{\"reasoning\": \"To find the total meters James ...</td>\n    </tr>\n    <tr>\n      <th>4</th>\n      <td>Every day, Wendi feeds each of her chickens th...</td>\n      <td>If each chicken eats 3 cups of feed per day, t...</td>\n      <td>20.0</td>\n      <td>You are a helpful AI assistant who knows math.</td>\n      <td>Below I will provide a question with a math pr...</td>\n      <td>{\"reasoning\": \"First, we need to determine the...</td>\n    </tr>\n  </tbody>\n</table>\n</div>"
     },
     "execution_count": 34,
     "metadata": {},
     "output_type": "execute_result"
    }
   ],
   "source": [
    "df_cot.head()"
   ],
   "metadata": {
    "collapsed": false,
    "ExecuteTime": {
     "end_time": "2025-02-25T16:17:45.214424Z",
     "start_time": "2025-02-25T16:17:45.195030Z"
    }
   },
   "id": "88ec4eb52fcc4d07"
  },
  {
   "cell_type": "code",
   "execution_count": 35,
   "outputs": [
    {
     "data": {
      "text/plain": "'{\"reasoning\": \"First, we need to determine how many eggs Janet has left after she eats and bakes with them. Janet\\'s ducks lay 16 eggs per day. She eats 3 eggs for breakfast and uses 4 eggs for baking muffins. Therefore, the total number of eggs she consumes each day is 3 + 4 = 7 eggs. Next, we subtract the number of eggs she consumes from the total number of eggs laid: 16 - 7 = 9 eggs. These 9 eggs are the ones she sells at the farmers\\' market. Since she sells each egg for $2, we calculate her daily earnings by multiplying the number of eggs sold by the price per egg: 9 eggs * $2/egg = $18. Thus, Janet makes $18 every day at the farmers\\' market.\", \"answer\": \"18\"}'"
     },
     "execution_count": 35,
     "metadata": {},
     "output_type": "execute_result"
    }
   ],
   "source": [
    "df_cot.pred_solution.iloc[0]"
   ],
   "metadata": {
    "collapsed": false,
    "ExecuteTime": {
     "end_time": "2025-02-25T16:17:46.572674Z",
     "start_time": "2025-02-25T16:17:46.557348Z"
    }
   },
   "id": "fe0f9726d501dffd"
  },
  {
   "cell_type": "code",
   "execution_count": 36,
   "outputs": [],
   "source": [
    "df_cot=extract_numbers(dataset=df_cot, column_name='pred_solution', new_column_name='extracted_number')"
   ],
   "metadata": {
    "collapsed": false,
    "ExecuteTime": {
     "end_time": "2025-02-25T16:17:47.877692Z",
     "start_time": "2025-02-25T16:17:47.863590Z"
    }
   },
   "id": "1c8fc4c9217bb906"
  },
  {
   "cell_type": "code",
   "execution_count": 37,
   "outputs": [
    {
     "name": "stdout",
     "output_type": "stream",
     "text": [
      "Accuracy achieved is equal to 0.94\n"
     ]
    }
   ],
   "source": [
    "calculate_accuracy(df_cot, \"answer\", \"extracted_number\")"
   ],
   "metadata": {
    "collapsed": false,
    "ExecuteTime": {
     "end_time": "2025-02-25T16:18:25.770015Z",
     "start_time": "2025-02-25T16:18:25.756317Z"
    }
   },
   "id": "37a599b00eba159d"
  },
  {
   "cell_type": "markdown",
   "source": [
    "# Disinformation detection with GPT"
   ],
   "metadata": {
    "collapsed": false
   },
   "id": "e010c8403790a47b"
  },
  {
   "cell_type": "code",
   "execution_count": 7,
   "outputs": [],
   "source": [
    "df = pd.read_csv(\"../data/ECTF/test.csv\")"
   ],
   "metadata": {
    "collapsed": false,
    "ExecuteTime": {
     "end_time": "2025-02-28T15:49:40.905081Z",
     "start_time": "2025-02-28T15:49:40.889823Z"
    }
   },
   "id": "eaeb08b73a512f77"
  },
  {
   "cell_type": "code",
   "execution_count": 8,
   "outputs": [
    {
     "data": {
      "text/plain": "                    id                                            content  \\\n0  1255615613923450882  Luc Montagnier won the Nobel Prize for for his...   \n1  1236143519133077504  If you pumped soap from those public soap disp...   \n2  1265282794831392768  🔴 LIVE at 11:30 am: @GovernorTomWolf + @Secret...   \n3  1234899473882664960        When’s this coronavirus vaccine coming out?   \n4  1248951179393904640  MTA employees have contracted COVID-19 at thre...   \n\n  label  \n0  real  \n1  fake  \n2  real  \n3  fake  \n4  real  ",
      "text/html": "<div>\n<style scoped>\n    .dataframe tbody tr th:only-of-type {\n        vertical-align: middle;\n    }\n\n    .dataframe tbody tr th {\n        vertical-align: top;\n    }\n\n    .dataframe thead th {\n        text-align: right;\n    }\n</style>\n<table border=\"1\" class=\"dataframe\">\n  <thead>\n    <tr style=\"text-align: right;\">\n      <th></th>\n      <th>id</th>\n      <th>content</th>\n      <th>label</th>\n    </tr>\n  </thead>\n  <tbody>\n    <tr>\n      <th>0</th>\n      <td>1255615613923450882</td>\n      <td>Luc Montagnier won the Nobel Prize for for his...</td>\n      <td>real</td>\n    </tr>\n    <tr>\n      <th>1</th>\n      <td>1236143519133077504</td>\n      <td>If you pumped soap from those public soap disp...</td>\n      <td>fake</td>\n    </tr>\n    <tr>\n      <th>2</th>\n      <td>1265282794831392768</td>\n      <td>🔴 LIVE at 11:30 am: @GovernorTomWolf + @Secret...</td>\n      <td>real</td>\n    </tr>\n    <tr>\n      <th>3</th>\n      <td>1234899473882664960</td>\n      <td>When’s this coronavirus vaccine coming out?</td>\n      <td>fake</td>\n    </tr>\n    <tr>\n      <th>4</th>\n      <td>1248951179393904640</td>\n      <td>MTA employees have contracted COVID-19 at thre...</td>\n      <td>real</td>\n    </tr>\n  </tbody>\n</table>\n</div>"
     },
     "execution_count": 8,
     "metadata": {},
     "output_type": "execute_result"
    }
   ],
   "source": [
    "df.head()"
   ],
   "metadata": {
    "collapsed": false,
    "ExecuteTime": {
     "end_time": "2025-02-28T15:49:42.158094Z",
     "start_time": "2025-02-28T15:49:42.146163Z"
    }
   },
   "id": "bf100ba8c56c7446"
  },
  {
   "cell_type": "code",
   "execution_count": 10,
   "outputs": [],
   "source": [
    "# Usage Example\n",
    "system_prompt = \"You are a helpful AI assistant who detects disinformation\"\n",
    "user_prompt_template = \"\"\"Below I will provide a short text. \n",
    "Please provide answer if it is fake or real information.\n",
    "\n",
    "Text: {text}\n",
    "Give answer in this form: {{\"answer\": \"fake or real\"}}\"\"\"\n",
    "\n",
    "prompt_template = PromptTemplate(system_prompt, user_prompt_template)"
   ],
   "metadata": {
    "collapsed": false,
    "ExecuteTime": {
     "end_time": "2025-02-28T15:49:54.267925Z",
     "start_time": "2025-02-28T15:49:54.251692Z"
    }
   },
   "id": "243f0704b700a579"
  },
  {
   "cell_type": "code",
   "execution_count": null,
   "outputs": [],
   "source": [
    "df_dis = parallel_text_processing(\n",
    "    dataframe=df.copy(),\n",
    "    col_with_content=\"content\",\n",
    "    column=\"pred_solution\",\n",
    "    filename=\"test/disinformation_classification_zero_shot.csv\",\n",
    "    model=\"gpt-4o-mini\",\n",
    "    prompt_template=prompt_template\n",
    ")"
   ],
   "metadata": {
    "collapsed": false
   },
   "id": "f71c4ffd7b8d389d"
  },
  {
   "cell_type": "code",
   "execution_count": 16,
   "outputs": [
    {
     "data": {
      "text/plain": "                    id                                            content  \\\n0  1255615613923450882  Luc Montagnier won the Nobel Prize for for his...   \n1  1236143519133077504  If you pumped soap from those public soap disp...   \n2  1265282794831392768  🔴 LIVE at 11:30 am: @GovernorTomWolf + @Secret...   \n3  1234899473882664960        When’s this coronavirus vaccine coming out?   \n4  1248951179393904640  MTA employees have contracted COVID-19 at thre...   \n\n  label                                      system_prompt  \\\n0  real  You are a helpful AI assistant who detects dis...   \n1  fake  You are a helpful AI assistant who detects dis...   \n2  real  You are a helpful AI assistant who detects dis...   \n3  fake  You are a helpful AI assistant who detects dis...   \n4  real  You are a helpful AI assistant who detects dis...   \n\n                                         user_prompt       pred_solution  \n0  Below I will provide a short text. \\nPlease pr...  {\"answer\": \"real\"}  \n1  Below I will provide a short text. \\nPlease pr...  {\"answer\": \"fake\"}  \n2  Below I will provide a short text. \\nPlease pr...  {\"answer\": \"real\"}  \n3  Below I will provide a short text. \\nPlease pr...  {\"answer\": \"real\"}  \n4  Below I will provide a short text. \\nPlease pr...  {\"answer\": \"real\"}  ",
      "text/html": "<div>\n<style scoped>\n    .dataframe tbody tr th:only-of-type {\n        vertical-align: middle;\n    }\n\n    .dataframe tbody tr th {\n        vertical-align: top;\n    }\n\n    .dataframe thead th {\n        text-align: right;\n    }\n</style>\n<table border=\"1\" class=\"dataframe\">\n  <thead>\n    <tr style=\"text-align: right;\">\n      <th></th>\n      <th>id</th>\n      <th>content</th>\n      <th>label</th>\n      <th>system_prompt</th>\n      <th>user_prompt</th>\n      <th>pred_solution</th>\n    </tr>\n  </thead>\n  <tbody>\n    <tr>\n      <th>0</th>\n      <td>1255615613923450882</td>\n      <td>Luc Montagnier won the Nobel Prize for for his...</td>\n      <td>real</td>\n      <td>You are a helpful AI assistant who detects dis...</td>\n      <td>Below I will provide a short text. \\nPlease pr...</td>\n      <td>{\"answer\": \"real\"}</td>\n    </tr>\n    <tr>\n      <th>1</th>\n      <td>1236143519133077504</td>\n      <td>If you pumped soap from those public soap disp...</td>\n      <td>fake</td>\n      <td>You are a helpful AI assistant who detects dis...</td>\n      <td>Below I will provide a short text. \\nPlease pr...</td>\n      <td>{\"answer\": \"fake\"}</td>\n    </tr>\n    <tr>\n      <th>2</th>\n      <td>1265282794831392768</td>\n      <td>🔴 LIVE at 11:30 am: @GovernorTomWolf + @Secret...</td>\n      <td>real</td>\n      <td>You are a helpful AI assistant who detects dis...</td>\n      <td>Below I will provide a short text. \\nPlease pr...</td>\n      <td>{\"answer\": \"real\"}</td>\n    </tr>\n    <tr>\n      <th>3</th>\n      <td>1234899473882664960</td>\n      <td>When’s this coronavirus vaccine coming out?</td>\n      <td>fake</td>\n      <td>You are a helpful AI assistant who detects dis...</td>\n      <td>Below I will provide a short text. \\nPlease pr...</td>\n      <td>{\"answer\": \"real\"}</td>\n    </tr>\n    <tr>\n      <th>4</th>\n      <td>1248951179393904640</td>\n      <td>MTA employees have contracted COVID-19 at thre...</td>\n      <td>real</td>\n      <td>You are a helpful AI assistant who detects dis...</td>\n      <td>Below I will provide a short text. \\nPlease pr...</td>\n      <td>{\"answer\": \"real\"}</td>\n    </tr>\n  </tbody>\n</table>\n</div>"
     },
     "execution_count": 16,
     "metadata": {},
     "output_type": "execute_result"
    }
   ],
   "source": [
    "df_dis.head()"
   ],
   "metadata": {
    "collapsed": false,
    "ExecuteTime": {
     "end_time": "2025-02-26T10:25:35.450658Z",
     "start_time": "2025-02-26T10:25:35.446346Z"
    }
   },
   "id": "7bec5b87a0d9dd4e"
  },
  {
   "cell_type": "code",
   "execution_count": 18,
   "outputs": [],
   "source": [
    "y_pred = df_dis.pred_solution.apply(lambda x: 1 if \"fake\" in x.lower() else 0)\n",
    "y_true = df_dis.label.apply(lambda x: 1 if \"fake\" in x.lower() else 0)\n",
    "f1_score(y_true, y_pred, average=\"micro\")"
   ],
   "metadata": {
    "collapsed": false,
    "ExecuteTime": {
     "end_time": "2025-02-26T10:27:00.618430Z",
     "start_time": "2025-02-26T10:27:00.605825Z"
    }
   },
   "id": "723f2c763cda200a"
  },
  {
   "cell_type": "code",
   "execution_count": 11,
   "outputs": [
    {
     "name": "stderr",
     "output_type": "stream",
     "text": [
      "100%|██████████| 400/400 [00:30<00:00, 13.05it/s]\n"
     ]
    }
   ],
   "source": [
    "df_dis_llama = parallel_text_processing(\n",
    "    dataframe=df.copy(),\n",
    "    col_with_content=\"content\",\n",
    "    column=\"pred_solution\",\n",
    "    filename=\"result/disinformation_classification_zero_shot.csv\",\n",
    "    model=\"meta-llama/Meta-Llama-3.1-8B-Instruct-Turbo\",\n",
    "    prompt_template=prompt_template\n",
    ")"
   ],
   "metadata": {
    "collapsed": false,
    "ExecuteTime": {
     "end_time": "2025-02-28T15:51:17.764963Z",
     "start_time": "2025-02-28T15:50:47.080202Z"
    }
   },
   "id": "6b509df5723794b9"
  },
  {
   "cell_type": "code",
   "execution_count": 12,
   "outputs": [
    {
     "data": {
      "text/plain": "0.8225"
     },
     "execution_count": 12,
     "metadata": {},
     "output_type": "execute_result"
    }
   ],
   "source": [
    "y_pred = df_dis_llama.pred_solution.apply(lambda x: 1 if \"fake\" in x.lower() else 0)\n",
    "y_true = df_dis_llama.label.apply(lambda x: 1 if \"fake\" in x.lower() else 0)\n",
    "f1_score(y_true, y_pred, average=\"micro\")"
   ],
   "metadata": {
    "collapsed": false,
    "ExecuteTime": {
     "end_time": "2025-02-28T15:51:39.504500Z",
     "start_time": "2025-02-28T15:51:39.495024Z"
    }
   },
   "id": "212c5f09e1069fa1"
  },
  {
   "cell_type": "code",
   "execution_count": 20,
   "outputs": [],
   "source": [],
   "metadata": {
    "collapsed": false,
    "ExecuteTime": {
     "end_time": "2025-02-26T10:27:34.609466Z",
     "start_time": "2025-02-26T10:27:34.590118Z"
    }
   },
   "id": "4cd0b40a321e5bb1"
  },
  {
   "cell_type": "code",
   "execution_count": 20,
   "outputs": [],
   "source": [],
   "metadata": {
    "collapsed": false,
    "ExecuteTime": {
     "end_time": "2025-02-26T10:27:34.792075Z",
     "start_time": "2025-02-26T10:27:34.772391Z"
    }
   },
   "id": "b34e9b26418e04c1"
  },
  {
   "cell_type": "code",
   "execution_count": null,
   "outputs": [],
   "source": [],
   "metadata": {
    "collapsed": false
   },
   "id": "4cfa447a9439534f"
  }
 ],
 "metadata": {
  "kernelspec": {
   "display_name": "Python 3",
   "language": "python",
   "name": "python3"
  },
  "language_info": {
   "codemirror_mode": {
    "name": "ipython",
    "version": 2
   },
   "file_extension": ".py",
   "mimetype": "text/x-python",
   "name": "python",
   "nbconvert_exporter": "python",
   "pygments_lexer": "ipython2",
   "version": "2.7.6"
  }
 },
 "nbformat": 4,
 "nbformat_minor": 5
}
