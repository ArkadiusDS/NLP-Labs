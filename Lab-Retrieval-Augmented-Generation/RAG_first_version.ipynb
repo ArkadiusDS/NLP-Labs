{
 "cells": [
  {
   "cell_type": "markdown",
   "source": [
    "# Retrieval Augmented Generation\n",
    "\n",
    "Author: Arkadiusz Modzelewski \n",
    "\n",
    "Website and contact details: [Website](https://amodzelewski.com/)"
   ],
   "metadata": {
    "collapsed": false
   },
   "id": "417db4cf7e8865cb"
  },
  {
   "cell_type": "markdown",
   "source": [
    "# Short Description\n",
    "\n",
    "This notebook demonstrates how you can build an advanced RAG (Retrieval Augmented Generation) for answering a user’s question about a specific knowledge base (here, the European Election 2024), using LangChain."
   ],
   "metadata": {
    "collapsed": false
   },
   "id": "C96yVcQJ7Z4W"
  },
  {
   "cell_type": "markdown",
   "source": [
    "# Additional Resources\n",
    "\n",
    "[Simple RAG](https://huggingface.co/learn/cookbook/en/rag_zephyr_langchain) - Simple RAG for GitHub issues using Hugging Face Zephyr and LangChain\n",
    "\n",
    "[Advanced RAG](https://huggingface.co/learn/cookbook/en/advanced_rag#load-your-knowledge-base) - Advanced RAG on Hugging Face documentation using LangChain\n",
    "\n",
    "\n",
    "This lab was created using Advanced RAG notebook provided by Hugging Face."
   ],
   "metadata": {
    "collapsed": false
   },
   "id": "819244b75b1da47f"
  },
  {
   "cell_type": "markdown",
   "source": [
    "# Libraries to install"
   ],
   "metadata": {
    "collapsed": false
   },
   "id": "91f19757dd7a3bf0"
  },
  {
   "cell_type": "code",
   "execution_count": 1,
   "outputs": [],
   "source": [
    "# !pip install langchain-community\n",
    "# !pip install langchain\n",
    "# !pip install pypdf\n",
    "# !pip install faiss-cpu\n",
    "# !pip install langchain-chroma"
   ],
   "metadata": {
    "collapsed": false
   },
   "id": "KXmO-X-CrRVB"
  },
  {
   "cell_type": "code",
   "execution_count": null,
   "outputs": [],
   "source": [
    "# !pip install bitsandbytes"
   ],
   "metadata": {
    "collapsed": false
   },
   "id": "b84562897408bca"
  },
  {
   "cell_type": "markdown",
   "source": [
    "# Imports"
   ],
   "metadata": {
    "collapsed": false
   },
   "id": "c42aaade5892a635"
  },
  {
   "cell_type": "code",
   "execution_count": 1,
   "id": "initial_id",
   "metadata": {
    "collapsed": true,
    "id": "initial_id",
    "ExecuteTime": {
     "end_time": "2025-05-28T18:11:17.838171Z",
     "start_time": "2025-05-28T18:11:07.619193Z"
    }
   },
   "outputs": [],
   "source": [
    "from langchain_community.document_loaders import PyPDFLoader\n",
    "import pandas as pd\n",
    "from sentence_transformers import SentenceTransformer\n",
    "from transformers import AutoTokenizer\n",
    "from tqdm.notebook import tqdm\n",
    "import pandas as pd\n",
    "import matplotlib.pyplot as plt\n",
    "from langchain.text_splitter import RecursiveCharacterTextSplitter\n",
    "from langchain_community.embeddings import HuggingFaceEmbeddings\n",
    "from langchain_community.vectorstores.utils import DistanceStrategy\n",
    "from typing import Optional, List, Tuple\n",
    "from langchain_chroma import Chroma\n",
    "from transformers import pipeline\n",
    "import torch\n",
    "from transformers import AutoModelForCausalLM, BitsAndBytesConfig\n",
    "pd.set_option(\"display.max_colwidth\", None)"
   ]
  },
  {
   "cell_type": "markdown",
   "source": [
    "# Utils\n",
    "\n",
    "All helper functions"
   ],
   "metadata": {
    "collapsed": false
   },
   "id": "16438c57a5c26946"
  },
  {
   "cell_type": "code",
   "execution_count": 2,
   "outputs": [],
   "source": [
    "def plot_doc_length_distribution(document_lengths, title=\"Distribution of Document Lengths in the Knowledge Base\"):\n",
    "    \"\"\"\n",
    "    Plots a histogram showing the distribution of document lengths.\n",
    "\n",
    "    Parameters:\n",
    "    - document_lengths (list): A list of integers representing the number of tokens in each document.\n",
    "    - title (str): Title for the plot. Defaults to a general description.\n",
    "    \"\"\"\n",
    "    plt.figure(figsize=(10, 6))\n",
    "    plt.hist(document_lengths, bins=30, color='skyblue', edgecolor='black')\n",
    "\n",
    "    plt.title(title, fontsize=14)\n",
    "    plt.xlabel(\"Number of Tokens\", fontsize=12)\n",
    "    plt.ylabel(\"Number of Documents\", fontsize=12)\n",
    "    plt.grid(axis='y', linestyle='--', alpha=0.7)\n",
    "\n",
    "    plt.tight_layout()\n",
    "    plt.show()"
   ],
   "metadata": {
    "collapsed": false,
    "ExecuteTime": {
     "end_time": "2025-05-28T18:11:17.844402Z",
     "start_time": "2025-05-28T18:11:17.839899Z"
    }
   },
   "id": "e323f8ada61eaaf1"
  },
  {
   "cell_type": "code",
   "execution_count": 109,
   "outputs": [],
   "source": [
    "def split_documents(chunk_size: int, chunk_overlap: int, knowledge_base: List, tokenizer_name: str) -> List:\n",
    "    \"\"\"\n",
    "    Split documents into chunks of maximum size `chunk_size` tokens and return a list of documents.\n",
    "    \"\"\"\n",
    "    text_splitter = RecursiveCharacterTextSplitter.from_huggingface_tokenizer(\n",
    "        AutoTokenizer.from_pretrained(tokenizer_name),\n",
    "        chunk_size=chunk_size,\n",
    "        chunk_overlap=chunk_overlap,\n",
    "    )\n",
    "    \n",
    "    docs_processed = text_splitter.split_documents(knowledge_base)\n",
    "\n",
    "    return docs_processed"
   ],
   "metadata": {
    "collapsed": false,
    "ExecuteTime": {
     "end_time": "2025-05-28T20:03:00.960897Z",
     "start_time": "2025-05-28T20:03:00.948067Z"
    }
   },
   "id": "19245bea4677b7ba"
  },
  {
   "cell_type": "markdown",
   "source": [
    "# Load your knowledge base"
   ],
   "metadata": {
    "id": "WZjxYZpl8FXx"
   },
   "id": "WZjxYZpl8FXx"
  },
  {
   "cell_type": "code",
   "execution_count": 7,
   "outputs": [],
   "source": [
    "# Define the path to the PDF file containing the knowledge base\n",
    "file_path = \"../data/2024_European_Parliament_election_Wikipedia.pdf\"\n",
    "\n",
    "# Create a PyPDFLoader object to handle loading of the PDF\n",
    "loader = PyPDFLoader(file_path)\n",
    "\n",
    "# Load the contents of the PDF into a variable for further processing\n",
    "RAW_KNOWLEDGE_BASE = loader.load()"
   ],
   "metadata": {
    "collapsed": false,
    "ExecuteTime": {
     "end_time": "2025-05-28T18:13:33.912754Z",
     "start_time": "2025-05-28T18:13:32.773745Z"
    }
   },
   "id": "d1793cf8ccf68376"
  },
  {
   "cell_type": "code",
   "execution_count": 37,
   "outputs": [
    {
     "data": {
      "text/plain": "list"
     },
     "execution_count": 37,
     "metadata": {},
     "output_type": "execute_result"
    }
   ],
   "source": [
    "type(RAW_KNOWLEDGE_BASE)"
   ],
   "metadata": {
    "collapsed": false,
    "ExecuteTime": {
     "end_time": "2025-05-28T18:33:09.427453Z",
     "start_time": "2025-05-28T18:33:09.405170Z"
    }
   },
   "id": "6676e3f5f0b80df3"
  },
  {
   "cell_type": "code",
   "execution_count": 38,
   "outputs": [
    {
     "data": {
      "text/plain": "14"
     },
     "execution_count": 38,
     "metadata": {},
     "output_type": "execute_result"
    }
   ],
   "source": [
    "len(RAW_KNOWLEDGE_BASE)"
   ],
   "metadata": {
    "colab": {
     "base_uri": "https://localhost:8080/"
    },
    "id": "bf2e48e445523336",
    "outputId": "8a008d5b-68b7-48b9-deb6-95fc9c00f0d4",
    "ExecuteTime": {
     "end_time": "2025-05-28T18:33:10.973349Z",
     "start_time": "2025-05-28T18:33:10.965741Z"
    }
   },
   "id": "bf2e48e445523336"
  },
  {
   "cell_type": "code",
   "execution_count": 40,
   "outputs": [
    {
     "data": {
      "text/plain": "Document(metadata={'producer': 'Skia/PDF m136', 'creator': 'Mozilla/5.0 (Macintosh; Intel Mac OS X 10_15_7) AppleWebKit/537.36 (KHTML, like Gecko) Chrome/136.0.0.0 Safari/537.36', 'creationdate': '2025-05-16T13:48:40+00:00', 'title': '2024 European Parliament election - Wikipedia', 'moddate': '2025-05-16T13:48:40+00:00', 'source': '../data/2024_European_Parliament_election_Wikipedia.pdf', 'total_pages': 14, 'page': 0, 'page_label': '1'}, page_content='2024 European Parliament election\\n6–9 June 2024\\nAll 720 seats to the European Parliament[a]\\n361 seats needed for a majority\\nOpinion\\xa0polls\\nTurnout (50.74%[1] \\n 0.08 pp)\\n\\xa0\\nLeader Ursula von derLeyen Nicolas Schmit None[b]\\nAlliance EPP S&D PfE\\nLeader\\'s\\xa0seat Not running Not running –\\nLast\\xa0election 187 seats 148 seats New group\\nSeats\\xa0won 188 136 84\\nSeat\\xa0change\\n  1\\n  12\\n  8[c]\\n\\xa0\\nLeader None Marie-AgnesStrack-Zimmermann[d]\\nTerry ReintkeBas Eickhout\\nAlliance ECR Renew Greens/EFA\\nLeader\\'s\\xa0seat – Germany GermanyNetherlands\\nLast\\xa0election 62 seats 97 seats 67 seats\\nSeats\\xa0won 78 77 53\\nSeat\\xa0change\\n  16\\n  20\\n  14\\n\\xa0\\nLeader Walter Baier None\\nAlliance The Left ESN\\nLeader\\'s\\xa0seat Not running –\\nLast\\xa0election 40 seats New group\\nSeats\\xa0won 46 25\\nSeat\\xa0change\\n  6 –\\n2024 European Parliament election\\nThe 2024 European Parliament election was held in the European Union(EU) between 6 and 9 June 2024.[4] It was the tenth parliamentary election sincethe first direct elections in 1979, and the first European Parliament election afterBrexit.[5][6] A total of 720 Members of the European Parliament (MEPs) wereelected to represent more than 450 million people from 27 member states.[a] Thiselection also coincided with a number of other elections in some European Unionmember states.\\nThe European People\\'s Party led by Ursula von der Leyen won the most seats inthe European Parliament. The pro-EU centrist, liberal, social democrat andenvironmentalist parties suffered losses, while anti-EU right-wing populist partiesmade gains. The right-wing European Conservatives and Reformists groupovertook the centrist Renew Europe group to win the fourth most seats, whileanother right-wing group, Patriots for Europe, the successor of Identity andDemocracy, won the third most seats. In addition, a far-right group, Europe ofSovereign Nations, was formed, becoming the smallest group in the Parliament. Intotal, 187 MEPS (26% of Parliament) belonged to the hard-right which is moremembers than ever before in history.[7]\\nOn 18 July 2024, Ursula von der Leyen was re-elected President of the EuropeanCommission in a secret ballot by the European Parliament.[8]\\nIn the previous election, held on 23–26 May 2019, in terms of the political Groupsin the Parliament, they resulted in the EPP Group and S&D suffering significantlosses, while the liberal/centrist (Renew), the Greens/EFA and ID madesubstantial gains, with ECR and The Left had small reduction. The EuropeanPeople\\'s Party, led by Manfred Weber, won the most seats in the EuropeanParliament, but was then unable to secure support from other parties for Weber ascandidate for President of the Commission. After initial deadlock, the EuropeanCouncil decided to nominate Ursula von der Leyen as a compromise candidate tobe the new Commission President, and the European Parliament elected von derLeyen with 383 votes (374 votes needed). The commission as a whole was thenapproved by the European Parliament on 27 November 2019, receiving 461 votes.\\nThe 2019 election saw an increase in the turnout, when 50.7% of eligible votershad cast a vote compared with 42.5% of the 2014 election. This was the first timethat turnout had increased since the first European Parliament election in 1979.[9]\\nIn 2024, the Eurobarometer data shows that 71% of Europeans say they are likelyto vote in June, 10% higher than those who said they would in 2019.[10]\\nSince the last European-wide election, the right has continued to rise acrossEurope, remaining however split, mainly by the Russian invasion of Ukraine andRussian relations issue.[11] In 2024, before the European elections, right-wingpopulist parties hold or share political power in Hungary (Fidesz), Italy (Brothersof Italy), Sweden (Sweden Democrats), Finland (Finns Party), Slovakia (SlovakNational Party) and Croatia (Homeland Movement).[11] The centre-right EPP has\"raised eyebrows\" among some commentators for its efforts to charm parties in theECR to create a broad conservative block,[12] which could upset the long-standingstatus-quo that has seen the EPP share power with the centre-left S&D and thecentrist Renew Group.[13]\\nThe Qatargate corruption scandal, which began in December 2022, haddestabilized the European Parliament following the arrest of several MEPsincluding Marc Tarabella; Andrea Cozzolino and Eva Kaili who was stripped of hervice presidency. Other suspects in the case include Francesco Giorgi, theparliamentary assistant of MEP Andrea Cozzolino, Pier Antonio Panzeri, founderof the Fight Impunity NGO; Niccolo Figa-Talamanca, head of the No PeaceWithout Justice NGO; and Luca Visentini, head of the International Trade UnionConfederation.[14][15] Following the scandal, the European Parliament revised itsrules of procedure and its code of conduct in September 2023[16]\\nBackground\\nQatargate\\n16/05/2025, 15:48 2024 European Parliament election - Wikipedia\\nhttps://en.wikipedia.org/wiki/2024_European_Parliament_election 1/24')"
     },
     "execution_count": 40,
     "metadata": {},
     "output_type": "execute_result"
    }
   ],
   "source": [
    "RAW_KNOWLEDGE_BASE[0]"
   ],
   "metadata": {
    "collapsed": false,
    "ExecuteTime": {
     "end_time": "2025-05-28T18:33:16.344943Z",
     "start_time": "2025-05-28T18:33:16.324177Z"
    }
   },
   "id": "95f5058037d8cc1c"
  },
  {
   "cell_type": "code",
   "execution_count": 42,
   "outputs": [
    {
     "data": {
      "text/plain": "{'producer': 'Skia/PDF m136',\n 'creator': 'Mozilla/5.0 (Macintosh; Intel Mac OS X 10_15_7) AppleWebKit/537.36 (KHTML, like Gecko) Chrome/136.0.0.0 Safari/537.36',\n 'creationdate': '2025-05-16T13:48:40+00:00',\n 'title': '2024 European Parliament election - Wikipedia',\n 'moddate': '2025-05-16T13:48:40+00:00',\n 'source': '../data/2024_European_Parliament_election_Wikipedia.pdf',\n 'total_pages': 14,\n 'page': 0,\n 'page_label': '1'}"
     },
     "execution_count": 42,
     "metadata": {},
     "output_type": "execute_result"
    }
   ],
   "source": [
    "RAW_KNOWLEDGE_BASE[0].metadata"
   ],
   "metadata": {
    "collapsed": false,
    "ExecuteTime": {
     "end_time": "2025-05-28T18:33:56.775872Z",
     "start_time": "2025-05-28T18:33:56.753270Z"
    }
   },
   "id": "c19a299b40068fe2"
  },
  {
   "cell_type": "code",
   "execution_count": 43,
   "outputs": [
    {
     "data": {
      "text/plain": "'2024 European Parliament election\\n6–9 June 2024\\nAll 720 seats to the European Parliament[a]\\n361 seats needed for a majority\\nOpinion\\xa0polls\\nTurnout (50.74%[1] \\n 0.08 pp)\\n\\xa0\\nLeader Ursula von derLeyen Nicolas Schmit None[b]\\nAlliance EPP S&D PfE\\nLeader\\'s\\xa0seat Not running Not running –\\nLast\\xa0election 187 seats 148 seats New group\\nSeats\\xa0won 188 136 84\\nSeat\\xa0change\\n  1\\n  12\\n  8[c]\\n\\xa0\\nLeader None Marie-AgnesStrack-Zimmermann[d]\\nTerry ReintkeBas Eickhout\\nAlliance ECR Renew Greens/EFA\\nLeader\\'s\\xa0seat – Germany GermanyNetherlands\\nLast\\xa0election 62 seats 97 seats 67 seats\\nSeats\\xa0won 78 77 53\\nSeat\\xa0change\\n  16\\n  20\\n  14\\n\\xa0\\nLeader Walter Baier None\\nAlliance The Left ESN\\nLeader\\'s\\xa0seat Not running –\\nLast\\xa0election 40 seats New group\\nSeats\\xa0won 46 25\\nSeat\\xa0change\\n  6 –\\n2024 European Parliament election\\nThe 2024 European Parliament election was held in the European Union(EU) between 6 and 9 June 2024.[4] It was the tenth parliamentary election sincethe first direct elections in 1979, and the first European Parliament election afterBrexit.[5][6] A total of 720 Members of the European Parliament (MEPs) wereelected to represent more than 450 million people from 27 member states.[a] Thiselection also coincided with a number of other elections in some European Unionmember states.\\nThe European People\\'s Party led by Ursula von der Leyen won the most seats inthe European Parliament. The pro-EU centrist, liberal, social democrat andenvironmentalist parties suffered losses, while anti-EU right-wing populist partiesmade gains. The right-wing European Conservatives and Reformists groupovertook the centrist Renew Europe group to win the fourth most seats, whileanother right-wing group, Patriots for Europe, the successor of Identity andDemocracy, won the third most seats. In addition, a far-right group, Europe ofSovereign Nations, was formed, becoming the smallest group in the Parliament. Intotal, 187 MEPS (26% of Parliament) belonged to the hard-right which is moremembers than ever before in history.[7]\\nOn 18 July 2024, Ursula von der Leyen was re-elected President of the EuropeanCommission in a secret ballot by the European Parliament.[8]\\nIn the previous election, held on 23–26 May 2019, in terms of the political Groupsin the Parliament, they resulted in the EPP Group and S&D suffering significantlosses, while the liberal/centrist (Renew), the Greens/EFA and ID madesubstantial gains, with ECR and The Left had small reduction. The EuropeanPeople\\'s Party, led by Manfred Weber, won the most seats in the EuropeanParliament, but was then unable to secure support from other parties for Weber ascandidate for President of the Commission. After initial deadlock, the EuropeanCouncil decided to nominate Ursula von der Leyen as a compromise candidate tobe the new Commission President, and the European Parliament elected von derLeyen with 383 votes (374 votes needed). The commission as a whole was thenapproved by the European Parliament on 27 November 2019, receiving 461 votes.\\nThe 2019 election saw an increase in the turnout, when 50.7% of eligible votershad cast a vote compared with 42.5% of the 2014 election. This was the first timethat turnout had increased since the first European Parliament election in 1979.[9]\\nIn 2024, the Eurobarometer data shows that 71% of Europeans say they are likelyto vote in June, 10% higher than those who said they would in 2019.[10]\\nSince the last European-wide election, the right has continued to rise acrossEurope, remaining however split, mainly by the Russian invasion of Ukraine andRussian relations issue.[11] In 2024, before the European elections, right-wingpopulist parties hold or share political power in Hungary (Fidesz), Italy (Brothersof Italy), Sweden (Sweden Democrats), Finland (Finns Party), Slovakia (SlovakNational Party) and Croatia (Homeland Movement).[11] The centre-right EPP has\"raised eyebrows\" among some commentators for its efforts to charm parties in theECR to create a broad conservative block,[12] which could upset the long-standingstatus-quo that has seen the EPP share power with the centre-left S&D and thecentrist Renew Group.[13]\\nThe Qatargate corruption scandal, which began in December 2022, haddestabilized the European Parliament following the arrest of several MEPsincluding Marc Tarabella; Andrea Cozzolino and Eva Kaili who was stripped of hervice presidency. Other suspects in the case include Francesco Giorgi, theparliamentary assistant of MEP Andrea Cozzolino, Pier Antonio Panzeri, founderof the Fight Impunity NGO; Niccolo Figa-Talamanca, head of the No PeaceWithout Justice NGO; and Luca Visentini, head of the International Trade UnionConfederation.[14][15] Following the scandal, the European Parliament revised itsrules of procedure and its code of conduct in September 2023[16]\\nBackground\\nQatargate\\n16/05/2025, 15:48 2024 European Parliament election - Wikipedia\\nhttps://en.wikipedia.org/wiki/2024_European_Parliament_election 1/24'"
     },
     "execution_count": 43,
     "metadata": {},
     "output_type": "execute_result"
    }
   ],
   "source": [
    "RAW_KNOWLEDGE_BASE[0].page_content"
   ],
   "metadata": {
    "collapsed": false,
    "ExecuteTime": {
     "end_time": "2025-05-28T18:34:14.292831Z",
     "start_time": "2025-05-28T18:34:14.271399Z"
    }
   },
   "id": "6549b845eec589b6"
  },
  {
   "cell_type": "code",
   "execution_count": 44,
   "outputs": [
    {
     "data": {
      "text/plain": "4927"
     },
     "execution_count": 44,
     "metadata": {},
     "output_type": "execute_result"
    }
   ],
   "source": [
    "len(RAW_KNOWLEDGE_BASE[0].page_content)"
   ],
   "metadata": {
    "collapsed": false,
    "ExecuteTime": {
     "end_time": "2025-05-28T18:34:27.335719Z",
     "start_time": "2025-05-28T18:34:27.311905Z"
    }
   },
   "id": "9cef379cff0da2d3"
  },
  {
   "cell_type": "markdown",
   "source": [
    "# Retriever"
   ],
   "metadata": {
    "id": "OOxzX7rR9D8x"
   },
   "id": "OOxzX7rR9D8x"
  },
  {
   "cell_type": "markdown",
   "source": [
    "## Split the documents into chunks\n",
    "\n",
    "In this part, we split the documents from our knowledge base into smaller chunks which will be the snippets on which the reader LLM will base its answer. The goal is to prepare a collection of semantically relevant snippets. So their size should be adapted to precise ideas: too small will truncate ideas, and too large will dilute them. A widely used and simple method for chunking text involves specifying a fixed chunk size and determining if the chunks should overlap. Including some overlap helps maintain semantic continuity between chunks. For general-purpose text, the recommended tool is the `RecursiveCharacterTextSplitter`, which we’ll be using in this case.\n",
    "\n",
    "\n",
    "The `chunk_size` parameter determines the maximum length of each chunk - measured in characters by default. \n",
    "Meanwhile, the `chunk_overlap` parameter allows neighboring chunks to share some content. This overlap helps ensure that important ideas aren't accidentally split between chunks, preserving the semantic integrity of the text."
   ],
   "metadata": {
    "id": "v4PjYHbJ9r6C"
   },
   "id": "v4PjYHbJ9r6C"
  },
  {
   "cell_type": "code",
   "execution_count": 93,
   "outputs": [],
   "source": [
    "splitter = RecursiveCharacterTextSplitter(\n",
    "    chunk_size=2000,  # The maximum number of characters in a chunk: we selected this value arbitrarily\n",
    "    chunk_overlap=20,  # The number of characters to overlap between chunks\n",
    ")\n",
    "\n",
    "chunked_docs = splitter.split_documents(RAW_KNOWLEDGE_BASE)"
   ],
   "metadata": {
    "id": "2ed932270f6514b3",
    "ExecuteTime": {
     "end_time": "2025-05-28T19:57:00.012055Z",
     "start_time": "2025-05-28T19:56:59.999740Z"
    }
   },
   "id": "2ed932270f6514b3"
  },
  {
   "cell_type": "code",
   "execution_count": 94,
   "outputs": [
    {
     "data": {
      "text/plain": "list"
     },
     "execution_count": 94,
     "metadata": {},
     "output_type": "execute_result"
    }
   ],
   "source": [
    "type(chunked_docs)"
   ],
   "metadata": {
    "collapsed": false,
    "ExecuteTime": {
     "end_time": "2025-05-28T19:57:00.335673Z",
     "start_time": "2025-05-28T19:57:00.331084Z"
    }
   },
   "id": "1f75dd0c1bd3fe88"
  },
  {
   "cell_type": "code",
   "execution_count": 95,
   "outputs": [
    {
     "data": {
      "text/plain": "41"
     },
     "execution_count": 95,
     "metadata": {},
     "output_type": "execute_result"
    }
   ],
   "source": [
    "len(chunked_docs)"
   ],
   "metadata": {
    "collapsed": false,
    "ExecuteTime": {
     "end_time": "2025-05-28T19:57:00.652394Z",
     "start_time": "2025-05-28T19:57:00.646312Z"
    }
   },
   "id": "2e96b3efa2cf2105"
  },
  {
   "cell_type": "code",
   "execution_count": 96,
   "outputs": [
    {
     "data": {
      "text/plain": "Document(metadata={'producer': 'Skia/PDF m136', 'creator': 'Mozilla/5.0 (Macintosh; Intel Mac OS X 10_15_7) AppleWebKit/537.36 (KHTML, like Gecko) Chrome/136.0.0.0 Safari/537.36', 'creationdate': '2025-05-16T13:48:40+00:00', 'title': '2024 European Parliament election - Wikipedia', 'moddate': '2025-05-16T13:48:40+00:00', 'source': '../data/2024_European_Parliament_election_Wikipedia.pdf', 'total_pages': 14, 'page': 0, 'page_label': '1'}, page_content=\"2024 European Parliament election\\n6–9 June 2024\\nAll 720 seats to the European Parliament[a]\\n361 seats needed for a majority\\nOpinion\\xa0polls\\nTurnout (50.74%[1] \\n 0.08 pp)\\n\\xa0\\nLeader Ursula von derLeyen Nicolas Schmit None[b]\\nAlliance EPP S&D PfE\\nLeader's\\xa0seat Not running Not running –\\nLast\\xa0election 187 seats 148 seats New group\\nSeats\\xa0won 188 136 84\\nSeat\\xa0change\\n  1\\n  12\\n  8[c]\\n\\xa0\\nLeader None Marie-AgnesStrack-Zimmermann[d]\\nTerry ReintkeBas Eickhout\\nAlliance ECR Renew Greens/EFA\\nLeader's\\xa0seat – Germany GermanyNetherlands\\nLast\\xa0election 62 seats 97 seats 67 seats\\nSeats\\xa0won 78 77 53\\nSeat\\xa0change\\n  16\\n  20\\n  14\\n\\xa0\\nLeader Walter Baier None\\nAlliance The Left ESN\\nLeader's\\xa0seat Not running –\\nLast\\xa0election 40 seats New group\\nSeats\\xa0won 46 25\\nSeat\\xa0change\\n  6 –\\n2024 European Parliament election\\nThe 2024 European Parliament election was held in the European Union(EU) between 6 and 9 June 2024.[4] It was the tenth parliamentary election sincethe first direct elections in 1979, and the first European Parliament election afterBrexit.[5][6] A total of 720 Members of the European Parliament (MEPs) wereelected to represent more than 450 million people from 27 member states.[a] Thiselection also coincided with a number of other elections in some European Unionmember states.\\nThe European People's Party led by Ursula von der Leyen won the most seats inthe European Parliament. The pro-EU centrist, liberal, social democrat andenvironmentalist parties suffered losses, while anti-EU right-wing populist partiesmade gains. The right-wing European Conservatives and Reformists groupovertook the centrist Renew Europe group to win the fourth most seats, whileanother right-wing group, Patriots for Europe, the successor of Identity andDemocracy, won the third most seats. In addition, a far-right group, Europe ofSovereign Nations, was formed, becoming the smallest group in the Parliament. Intotal, 187 MEPS (26% of Parliament) belonged to the hard-right which is moremembers than ever before in history.[7]\")"
     },
     "execution_count": 96,
     "metadata": {},
     "output_type": "execute_result"
    }
   ],
   "source": [
    "chunked_docs[0]"
   ],
   "metadata": {
    "collapsed": false,
    "ExecuteTime": {
     "end_time": "2025-05-28T19:57:00.997655Z",
     "start_time": "2025-05-28T19:57:00.990147Z"
    }
   },
   "id": "c31d4afdd8e21dfd"
  },
  {
   "cell_type": "code",
   "execution_count": 97,
   "outputs": [
    {
     "data": {
      "text/plain": "{'producer': 'Skia/PDF m136',\n 'creator': 'Mozilla/5.0 (Macintosh; Intel Mac OS X 10_15_7) AppleWebKit/537.36 (KHTML, like Gecko) Chrome/136.0.0.0 Safari/537.36',\n 'creationdate': '2025-05-16T13:48:40+00:00',\n 'title': '2024 European Parliament election - Wikipedia',\n 'moddate': '2025-05-16T13:48:40+00:00',\n 'source': '../data/2024_European_Parliament_election_Wikipedia.pdf',\n 'total_pages': 14,\n 'page': 0,\n 'page_label': '1'}"
     },
     "execution_count": 97,
     "metadata": {},
     "output_type": "execute_result"
    }
   ],
   "source": [
    "chunked_docs[2].metadata"
   ],
   "metadata": {
    "collapsed": false,
    "ExecuteTime": {
     "end_time": "2025-05-28T19:57:01.421169Z",
     "start_time": "2025-05-28T19:57:01.416408Z"
    }
   },
   "id": "f5fa1d76161ef57"
  },
  {
   "cell_type": "code",
   "execution_count": 98,
   "outputs": [
    {
     "data": {
      "text/plain": "1994"
     },
     "execution_count": 98,
     "metadata": {},
     "output_type": "execute_result"
    }
   ],
   "source": [
    "len(chunked_docs[0].page_content)"
   ],
   "metadata": {
    "collapsed": false,
    "ExecuteTime": {
     "end_time": "2025-05-28T19:57:01.804105Z",
     "start_time": "2025-05-28T19:57:01.796823Z"
    }
   },
   "id": "d5b4af5d50401957"
  },
  {
   "cell_type": "code",
   "execution_count": 99,
   "outputs": [
    {
     "data": {
      "text/plain": "4925"
     },
     "execution_count": 99,
     "metadata": {},
     "output_type": "execute_result"
    }
   ],
   "source": [
    "1555+1376+1994"
   ],
   "metadata": {
    "collapsed": false,
    "ExecuteTime": {
     "end_time": "2025-05-28T19:57:02.173292Z",
     "start_time": "2025-05-28T19:57:02.159791Z"
    }
   },
   "id": "e3e4b459af5f4909"
  },
  {
   "cell_type": "markdown",
   "source": [
    "It's important to remember that when embedding documents, the embedding model has a maximum sequence length, defined by max_seq_length.\n",
    "\n",
    "Therefore, our chunk sizes should stay within this limit. If a chunk exceeds the maximum length, it will be truncated during processing, potentially resulting in the loss of important or relevant information."
   ],
   "metadata": {
    "collapsed": false
   },
   "id": "5379dbb2fd633a59"
  },
  {
   "cell_type": "code",
   "execution_count": 100,
   "outputs": [
    {
     "name": "stdout",
     "output_type": "stream",
     "text": [
      "Model's maximum sequence length: 512\n"
     ]
    }
   ],
   "source": [
    "# To get the value of the max sequence_length, we will query the underlying `SentenceTransformer` object \n",
    "# max_seq_length - number of tokens\n",
    "model = SentenceTransformer('thenlper/gte-small')\n",
    "print(f\"Model's maximum sequence length: {model.max_seq_length}\")"
   ],
   "metadata": {
    "collapsed": false,
    "ExecuteTime": {
     "end_time": "2025-05-28T19:57:05.445818Z",
     "start_time": "2025-05-28T19:57:03.327320Z"
    }
   },
   "id": "cc9ea8ce5676380e"
  },
  {
   "cell_type": "code",
   "execution_count": 101,
   "outputs": [
    {
     "data": {
      "text/plain": "  0%|          | 0/41 [00:00<?, ?it/s]",
      "application/vnd.jupyter.widget-view+json": {
       "version_major": 2,
       "version_minor": 0,
       "model_id": "72b2c9bf0c9b4d7e8690fa3f54756725"
      }
     },
     "metadata": {},
     "output_type": "display_data"
    }
   ],
   "source": [
    "# Load a pre-trained tokenizer from the Hugging Face model hub.\n",
    "# \"thenlper/gte-small\" is the model identifier for a lightweight embedding model.\n",
    "tokenizer = AutoTokenizer.from_pretrained(\"thenlper/gte-small\")\n",
    "\n",
    "# For each document chunk, tokenize the text content and calculate its token length.\n",
    "# tqdm is used to display a progress bar for better visibility during processing.\n",
    "lengths = [len(tokenizer.encode(doc.page_content)) for doc in tqdm(chunked_docs)]"
   ],
   "metadata": {
    "colab": {
     "base_uri": "https://localhost:8080/",
     "height": 49,
     "referenced_widgets": [
      "cee18c73f1304e3ba1f75d575e2903ee",
      "18e21792d0444eaa956bc50f49b122d5",
      "b4cca59303a3433b8312e3dc5d624026",
      "59eba95c856a46c3946cd49e43684ada",
      "54c8cc1b1b3d455c82e84a4004cb7914",
      "bbc839e6e45040e0b0da7705c76acf44",
      "895e4494f2b54a17b0b9c56acd9ada45",
      "f7940d10c40149adb0f85afce249bd18",
      "a26fa02a825e4b5bb8b8cc695e620cf9",
      "769a7b41ea9547bfa412532ac88214a1",
      "dede93d9845041e08b2abe44960bab58"
     ]
    },
    "id": "c485bcc611fa192e",
    "outputId": "5d47df20-b2ff-4953-d34a-7300d3dda1f6",
    "ExecuteTime": {
     "end_time": "2025-05-28T19:57:11.613084Z",
     "start_time": "2025-05-28T19:57:11.406402Z"
    }
   },
   "id": "c485bcc611fa192e"
  },
  {
   "cell_type": "code",
   "execution_count": 102,
   "outputs": [
    {
     "data": {
      "text/plain": "<Figure size 1000x600 with 1 Axes>",
      "image/png": "[encoded data removed]"
     },
     "metadata": {},
     "output_type": "display_data"
    }
   ],
   "source": [
    "plot_doc_length_distribution(document_lengths=pd.Series(lengths))"
   ],
   "metadata": {
    "collapsed": false,
    "ExecuteTime": {
     "end_time": "2025-05-28T19:57:29.874876Z",
     "start_time": "2025-05-28T19:57:29.812091Z"
    }
   },
   "id": "5b438cf85acd72a8"
  },
  {
   "cell_type": "markdown",
   "source": [
    "As shown, the chunk lengths don't consistently stay within the 512-token limit, some exceed it. This means portions of those longer chunks will be truncated during processing, potentially leading to loss of valuable content.\n",
    "\n",
    "Let's try with smaller chunk size."
   ],
   "metadata": {
    "collapsed": false
   },
   "id": "c18e505a74bed8bc"
  },
  {
   "cell_type": "code",
   "execution_count": 103,
   "outputs": [],
   "source": [
    "splitter = RecursiveCharacterTextSplitter(\n",
    "    chunk_size=600,  # The maximum number of characters in a chunk: we selected this value arbitrarily\n",
    "    chunk_overlap=50,  # The number of characters to overlap between chunks\n",
    ")\n",
    "\n",
    "chunked_docs = splitter.split_documents(RAW_KNOWLEDGE_BASE)"
   ],
   "metadata": {
    "id": "5df9b5795cb7453e",
    "ExecuteTime": {
     "end_time": "2025-05-28T19:57:33.241343Z",
     "start_time": "2025-05-28T19:57:33.231472Z"
    }
   },
   "id": "5df9b5795cb7453e"
  },
  {
   "cell_type": "code",
   "execution_count": 104,
   "outputs": [
    {
     "data": {
      "text/plain": "  0%|          | 0/137 [00:00<?, ?it/s]",
      "application/vnd.jupyter.widget-view+json": {
       "version_major": 2,
       "version_minor": 0,
       "model_id": "108b2f583f934f6a8bd70e9227dc3946"
      }
     },
     "metadata": {},
     "output_type": "display_data"
    }
   ],
   "source": [
    "lengths = [len(tokenizer.encode(doc.page_content)) for doc in tqdm(chunked_docs)]"
   ],
   "metadata": {
    "collapsed": false,
    "ExecuteTime": {
     "start_time": "2025-05-28T19:57:33.980267Z"
    }
   },
   "id": "c07851797dfdb3b0"
  },
  {
   "cell_type": "code",
   "execution_count": 105,
   "outputs": [
    {
     "data": {
      "text/plain": "<Figure size 1000x600 with 1 Axes>",
      "image/png": "[encoded data removed]"
     },
     "metadata": {},
     "output_type": "display_data"
    }
   ],
   "source": [
    "plot_doc_length_distribution(document_lengths=pd.Series(lengths))"
   ],
   "metadata": {
    "collapsed": false,
    "ExecuteTime": {
     "start_time": "2025-05-28T19:57:34.974159Z"
    }
   },
   "id": "219fe402614fa3b1"
  },
  {
   "cell_type": "markdown",
   "source": [
    "This code sets the embedding model to `gte-small`, a lightweight language model for general-purpose text embeddings, and processes a raw knowledge base by splitting its documents into chunks of up to certian number of tokens using the model's tokenizer. The split_documents function ensures chunks have slight overlaps."
   ],
   "metadata": {
    "collapsed": false
   },
   "id": "67c9e5856376aab1"
  },
  {
   "cell_type": "code",
   "execution_count": 110,
   "outputs": [],
   "source": [
    "EMBEDDING_MODEL_NAME = \"thenlper/gte-small\"\n",
    "\n",
    "docs_processed = split_documents(\n",
    "    chunk_size=600,\n",
    "    chunk_overlap=50,\n",
    "    knowledge_base=RAW_KNOWLEDGE_BASE,\n",
    "    tokenizer_name=EMBEDDING_MODEL_NAME,\n",
    ")"
   ],
   "metadata": {
    "collapsed": false,
    "ExecuteTime": {
     "end_time": "2025-05-28T20:03:20.957394Z",
     "start_time": "2025-05-28T20:03:20.599682Z"
    }
   },
   "id": "d9a8803104cb655d"
  },
  {
   "cell_type": "code",
   "execution_count": 111,
   "outputs": [
    {
     "data": {
      "text/plain": "Document(metadata={'producer': 'Skia/PDF m136', 'creator': 'Mozilla/5.0 (Macintosh; Intel Mac OS X 10_15_7) AppleWebKit/537.36 (KHTML, like Gecko) Chrome/136.0.0.0 Safari/537.36', 'creationdate': '2025-05-16T13:48:40+00:00', 'title': '2024 European Parliament election - Wikipedia', 'moddate': '2025-05-16T13:48:40+00:00', 'source': '../data/2024_European_Parliament_election_Wikipedia.pdf', 'total_pages': 14, 'page': 0, 'page_label': '1'}, page_content=\"2024 European Parliament election\\n6–9 June 2024\\nAll 720 seats to the European Parliament[a]\\n361 seats needed for a majority\\nOpinion\\xa0polls\\nTurnout (50.74%[1] \\n 0.08 pp)\\n\\xa0\\nLeader Ursula von derLeyen Nicolas Schmit None[b]\\nAlliance EPP S&D PfE\\nLeader's\\xa0seat Not running Not running –\\nLast\\xa0election 187 seats 148 seats New group\\nSeats\\xa0won 188 136 84\\nSeat\\xa0change\\n  1\\n  12\\n  8[c]\\n\\xa0\\nLeader None Marie-AgnesStrack-Zimmermann[d]\\nTerry ReintkeBas Eickhout\\nAlliance ECR Renew Greens/EFA\\nLeader's\\xa0seat – Germany GermanyNetherlands\\nLast\\xa0election 62 seats 97 seats 67 seats\\nSeats\\xa0won 78 77 53\\nSeat\\xa0change\\n  16\\n  20\\n  14\\n\\xa0\\nLeader Walter Baier None\\nAlliance The Left ESN\\nLeader's\\xa0seat Not running –\\nLast\\xa0election 40 seats New group\\nSeats\\xa0won 46 25\\nSeat\\xa0change\\n  6 –\\n2024 European Parliament election\\nThe 2024 European Parliament election was held in the European Union(EU) between 6 and 9 June 2024.[4] It was the tenth parliamentary election sincethe first direct elections in 1979, and the first European Parliament election afterBrexit.[5][6] A total of 720 Members of the European Parliament (MEPs) wereelected to represent more than 450 million people from 27 member states.[a] Thiselection also coincided with a number of other elections in some European Unionmember states.\\nThe European People's Party led by Ursula von der Leyen won the most seats inthe European Parliament. The pro-EU centrist, liberal, social democrat andenvironmentalist parties suffered losses, while anti-EU right-wing populist partiesmade gains. The right-wing European Conservatives and Reformists groupovertook the centrist Renew Europe group to win the fourth most seats, whileanother right-wing group, Patriots for Europe, the successor of Identity andDemocracy, won the third most seats. In addition, a far-right group, Europe ofSovereign Nations, was formed, becoming the smallest group in the Parliament. Intotal, 187 MEPS (26% of Parliament) belonged to the hard-right which is moremembers than ever before in history.[7]\\nOn 18 July 2024, Ursula von der Leyen was re-elected President of the EuropeanCommission in a secret ballot by the European Parliament.[8]\")"
     },
     "execution_count": 111,
     "metadata": {},
     "output_type": "execute_result"
    }
   ],
   "source": [
    "docs_processed[0]"
   ],
   "metadata": {
    "collapsed": false,
    "ExecuteTime": {
     "end_time": "2025-05-28T20:03:21.882183Z",
     "start_time": "2025-05-28T20:03:21.868586Z"
    }
   },
   "id": "14f40e96c4921983"
  },
  {
   "cell_type": "code",
   "execution_count": 112,
   "outputs": [
    {
     "data": {
      "text/plain": "  0%|          | 0/34 [00:00<?, ?it/s]",
      "application/vnd.jupyter.widget-view+json": {
       "version_major": 2,
       "version_minor": 0,
       "model_id": "0a86393ae0f84f8bb01ea0b9b648dda4"
      }
     },
     "metadata": {},
     "output_type": "display_data"
    },
    {
     "data": {
      "text/plain": "<Figure size 1000x600 with 1 Axes>",
      "image/png": "[encoded data removed]"
     },
     "metadata": {},
     "output_type": "display_data"
    }
   ],
   "source": [
    "# Let's visualize the chunk sizes we would have in tokens from a common model\n",
    "# tokenizer = AutoTokenizer.from_pretrained(EMBEDDING_MODEL_NAME)\n",
    "lengths = [len(tokenizer.encode(doc.page_content)) for doc in tqdm(docs_processed)]\n",
    "\n",
    "plot_doc_length_distribution(document_lengths=pd.Series(lengths))"
   ],
   "metadata": {
    "collapsed": false,
    "ExecuteTime": {
     "end_time": "2025-05-28T20:03:23.185091Z",
     "start_time": "2025-05-28T20:03:23.061776Z"
    }
   },
   "id": "Il4KK8xa24Vo"
  },
  {
   "cell_type": "markdown",
   "source": [
    "This code initializes a HuggingFaceEmbeddings model using the previously defined gte-small, enabling GPU acceleration and normalization of embeddings for cosine similarity."
   ],
   "metadata": {
    "collapsed": false
   },
   "id": "442d2bd15969989c"
  },
  {
   "cell_type": "code",
   "execution_count": 114,
   "outputs": [],
   "source": [
    "embedding_model = HuggingFaceEmbeddings(\n",
    "    model_name=EMBEDDING_MODEL_NAME,\n",
    "    multi_process=True,\n",
    "    model_kwargs={\"device\": \"cuda\"},\n",
    "    encode_kwargs={\"normalize_embeddings\": True},  # Set `True` for cosine similarity\n",
    ")"
   ],
   "metadata": {
    "colab": {
     "base_uri": "https://localhost:8080/"
    },
    "id": "f05a09837bdafb42",
    "outputId": "7bad2e53-172c-48bb-bff2-603e697858b3",
    "ExecuteTime": {
     "end_time": "2025-05-28T20:04:11.347349Z",
     "start_time": "2025-05-28T20:04:11.338711Z"
    }
   },
   "id": "f05a09837bdafb42"
  },
  {
   "cell_type": "markdown",
   "source": [
    "Now we are creating a Chroma vector store (vector_store) from the preprocessed documents, storing the embeddings in a persistent directory (db1) and configuring it to use cosine similarity for nearest neighbor search."
   ],
   "metadata": {
    "collapsed": false
   },
   "id": "e7f6446d052d9d2b"
  },
  {
   "cell_type": "code",
   "execution_count": null,
   "outputs": [],
   "source": [
    "vector_store = Chroma.from_documents(\n",
    "    docs_processed,\n",
    "    embedding_model,\n",
    "    persist_directory=\"db1\",\n",
    "    collection_metadata={\"hnsw:space\": \"cosine\"}\n",
    ")"
   ],
   "metadata": {
    "collapsed": false
   },
   "id": "c0340887ca644c4"
  },
  {
   "cell_type": "markdown",
   "source": [
    "This code performs a semantic search in the Chroma vector store by first embedding the query **\"What are results of European Election in 2024?\"** using the `gte-small` embedding model. It then retrieves the top 4 most similar document chunks (`k=4`) based on cosine similarity."
   ],
   "metadata": {
    "collapsed": false
   },
   "id": "920dc937f91ad899"
  },
  {
   "cell_type": "code",
   "execution_count": 17,
   "outputs": [],
   "source": [
    "results = vector_store.similarity_search_by_vector(\n",
    "    embedding=embedding_model.embed_query(\"What are results of European Election in 2024?\"), k=4\n",
    ")"
   ],
   "metadata": {
    "ExecuteTime": {
     "end_time": "2025-05-16T14:34:51.470313Z",
     "start_time": "2025-05-16T14:34:42.006271Z"
    },
    "id": "7702093525cec395"
   },
   "id": "7702093525cec395"
  },
  {
   "cell_type": "code",
   "source": [
    "results"
   ],
   "metadata": {
    "colab": {
     "base_uri": "https://localhost:8080/"
    },
    "id": "z5eGO2trxkh4",
    "outputId": "fcdd487e-4ef1-4c04-df8e-cd3cff5f8806"
   },
   "id": "z5eGO2trxkh4",
   "execution_count": 18,
   "outputs": [
    {
     "output_type": "execute_result",
     "data": {
      "text/plain": [
       "[Document(id='1e21f2fd-2203-4915-a68b-7fe1b91ccc65', metadata={'creationdate': '2025-05-16T13:48:40+00:00', 'moddate': '2025-05-16T13:48:40+00:00', 'producer': 'Skia/PDF m136', 'total_pages': 14, 'source': '2024 European Parliament election - Wikipedia.pdf', 'creator': 'Mozilla/5.0 (Macintosh; Intel Mac OS X 10_15_7) AppleWebKit/537.36 (KHTML, like Gecko) Chrome/136.0.0.0 Safari/537.36', 'page': 0, 'title': '2024 European Parliament election - Wikipedia', 'page_label': '1'}, page_content=\"2024 European Parliament election\\n6–9 June 2024\\nAll 720 seats to the European Parliament[a]\\n361 seats needed for a majority\\nOpinion\\xa0polls\\nTurnout (50.74%[1] \\n 0.08 pp)\\n\\xa0\\nLeader Ursula von derLeyen Nicolas Schmit None[b]\\nAlliance EPP S&D PfE\\nLeader's\\xa0seat Not running Not running –\\nLast\\xa0election 187 seats 148 seats New group\\nSeats\\xa0won 188 136 84\\nSeat\\xa0change\\n  1\\n  12\\n  8[c]\\n\\xa0\\nLeader None Marie-AgnesStrack-Zimmermann[d]\\nTerry ReintkeBas Eickhout\\nAlliance ECR Renew Greens/EFA\\nLeader's\\xa0seat – Germany GermanyNetherlands\\nLast\\xa0election 62 seats 97 seats 67 seats\\nSeats\\xa0won 78 77 53\\nSeat\\xa0change\\n  16\\n  20\\n  14\\n\\xa0\\nLeader Walter Baier None\\nAlliance The Left ESN\\nLeader's\\xa0seat Not running –\\nLast\\xa0election 40 seats New group\\nSeats\\xa0won 46 25\\nSeat\\xa0change\\n  6 –\\n2024 European Parliament election\\nThe 2024 European Parliament election was held in the European Union(EU) between 6 and 9 June 2024.[4] It was the tenth parliamentary election sincethe first direct elections in 1979, and the first European Parliament election afterBrexit.[5][6] A total of 720 Members of the European Parliament (MEPs) wereelected to represent more than 450 million people from 27 member states.[a] Thiselection also coincided with a number of other elections in some European Unionmember states.\\nThe European People's Party led by Ursula von der Leyen won the most seats inthe European Parliament. The pro-EU centrist, liberal, social democrat andenvironmentalist parties suffered losses, while anti-EU right-wing populist partiesmade gains. The right-wing European Conservatives and Reformists groupovertook the centrist Renew Europe group to win the fourth most seats, whileanother right-wing group, Patriots for Europe, the successor of Identity andDemocracy, won the third most seats. In addition, a far-right group, Europe ofSovereign Nations, was formed, becoming the smallest group in the Parliament. Intotal, 187 MEPS (26% of Parliament) belonged to the hard-right which is moremembers than ever before in history.[7]\\nOn 18 July 2024, Ursula von der Leyen was re-elected President of the EuropeanCommission in a secret ballot by the European Parliament.[8]\"),\n",
       " Document(id='824e4cd8-158a-438e-ac93-4acafe2a4de1', metadata={'title': '2024 European Parliament election - Wikipedia', 'creationdate': '2025-05-16T13:48:40+00:00', 'page': 0, 'producer': 'Skia/PDF m136', 'source': '2024 European Parliament election - Wikipedia.pdf', 'creator': 'Mozilla/5.0 (Macintosh; Intel Mac OS X 10_15_7) AppleWebKit/537.36 (KHTML, like Gecko) Chrome/136.0.0.0 Safari/537.36', 'total_pages': 14, 'page_label': '1', 'moddate': '2025-05-16T13:48:40+00:00'}, page_content=\"2024 European Parliament election\\n6–9 June 2024\\nAll 720 seats to the European Parliament[a]\\n361 seats needed for a majority\\nOpinion\\xa0polls\\nTurnout (50.74%[1] \\n 0.08 pp)\\n\\xa0\\nLeader Ursula von derLeyen Nicolas Schmit None[b]\\nAlliance EPP S&D PfE\\nLeader's\\xa0seat Not running Not running –\\nLast\\xa0election 187 seats 148 seats New group\\nSeats\\xa0won 188 136 84\\nSeat\\xa0change\\n  1\\n  12\\n  8[c]\\n\\xa0\\nLeader None Marie-AgnesStrack-Zimmermann[d]\\nTerry ReintkeBas Eickhout\\nAlliance ECR Renew Greens/EFA\\nLeader's\\xa0seat – Germany GermanyNetherlands\\nLast\\xa0election 62 seats 97 seats 67 seats\\nSeats\\xa0won 78 77 53\\nSeat\\xa0change\\n  16\\n  20\\n  14\\n\\xa0\\nLeader Walter Baier None\\nAlliance The Left ESN\\nLeader's\\xa0seat Not running –\\nLast\\xa0election 40 seats New group\\nSeats\\xa0won 46 25\\nSeat\\xa0change\\n  6 –\\n2024 European Parliament election\\nThe 2024 European Parliament election was held in the European Union(EU) between 6 and 9 June 2024.[4] It was the tenth parliamentary election sincethe first direct elections in 1979, and the first European Parliament election afterBrexit.[5][6] A total of 720 Members of the European Parliament (MEPs) wereelected to represent more than 450 million people from 27 member states.[a] Thiselection also coincided with a number of other elections in some European Unionmember states.\\nThe European People's Party led by Ursula von der Leyen won the most seats inthe European Parliament. The pro-EU centrist, liberal, social democrat andenvironmentalist parties suffered losses, while anti-EU right-wing populist partiesmade gains. The right-wing European Conservatives and Reformists groupovertook the centrist Renew Europe group to win the fourth most seats, whileanother right-wing group, Patriots for Europe, the successor of Identity andDemocracy, won the third most seats. In addition, a far-right group, Europe ofSovereign Nations, was formed, becoming the smallest group in the Parliament. Intotal, 187 MEPS (26% of Parliament) belonged to the hard-right which is moremembers than ever before in history.[7]\\nOn 18 July 2024, Ursula von der Leyen was re-elected President of the EuropeanCommission in a secret ballot by the European Parliament.[8]\"),\n",
       " Document(id='85fc9e3d-448b-43a9-b9f7-2d63d05758eb', metadata={'page_label': '14', 'moddate': '2025-05-16T13:48:40+00:00', 'producer': 'Skia/PDF m136', 'title': '2024 European Parliament election - Wikipedia', 'creationdate': '2025-05-16T13:48:40+00:00', 'creator': 'Mozilla/5.0 (Macintosh; Intel Mac OS X 10_15_7) AppleWebKit/537.36 (KHTML, like Gecko) Chrome/136.0.0.0 Safari/537.36', 'source': '2024 European Parliament election - Wikipedia.pdf', 'total_pages': 14, 'page': 13}, page_content='ai. Following the election, Milan Uhrík joined ESN, while Milan Mazurekbecame a non-inscrit.[ 2 0 5 ] \\n1. \"Turnout by year; 2024 European election results; EuropeanParliament\" (https://election-results.eu/turnout/). election-results.eu.Archived (https://web.archive.org/web/20190723221925/https://election-results.eu/turnout/) from the original on 23 July 2019. Retrieved11 June 2024.2. \"European Parliament 2024-2029 | Provisional results\" (https://results.elections.europa.eu/en/european-results/2024-2029/). election-results.eu. Archived (https://web.archive.org/web/20240618160357/https://results.elections.europa.eu/en/european-results/2024-2029/)from the original on 18 June 2024. Retrieved 15 June 2024.3. \"European Parliament Election 2024\" (https://europeelects.eu/ep2024/). Europe elects. Archived (https://web.archive.org/web/20240115082141/https://europeelects.eu/ep2024/) from the original on 15 January2024. Retrieved 7 June 2024.'),\n",
       " Document(id='f2446e60-efac-4ab1-9c70-4d8f4da7c685', metadata={'creationdate': '2025-05-16T13:48:40+00:00', 'source': '2024 European Parliament election - Wikipedia.pdf', 'page_label': '14', 'total_pages': 14, 'creator': 'Mozilla/5.0 (Macintosh; Intel Mac OS X 10_15_7) AppleWebKit/537.36 (KHTML, like Gecko) Chrome/136.0.0.0 Safari/537.36', 'producer': 'Skia/PDF m136', 'moddate': '2025-05-16T13:48:40+00:00', 'page': 13, 'title': '2024 European Parliament election - Wikipedia'}, page_content='ai. Following the election, Milan Uhrík joined ESN, while Milan Mazurekbecame a non-inscrit.[ 2 0 5 ] \\n1. \"Turnout by year; 2024 European election results; EuropeanParliament\" (https://election-results.eu/turnout/). election-results.eu.Archived (https://web.archive.org/web/20190723221925/https://election-results.eu/turnout/) from the original on 23 July 2019. Retrieved11 June 2024.2. \"European Parliament 2024-2029 | Provisional results\" (https://results.elections.europa.eu/en/european-results/2024-2029/). election-results.eu. Archived (https://web.archive.org/web/20240618160357/https://results.elections.europa.eu/en/european-results/2024-2029/)from the original on 18 June 2024. Retrieved 15 June 2024.3. \"European Parliament Election 2024\" (https://europeelects.eu/ep2024/). Europe elects. Archived (https://web.archive.org/web/20240115082141/https://europeelects.eu/ep2024/) from the original on 15 January2024. Retrieved 7 June 2024.')]"
      ]
     },
     "metadata": {},
     "execution_count": 18
    }
   ]
  },
  {
   "cell_type": "markdown",
   "source": [
    "This code loads the **Phi-3 Mini** language model (`microsoft/Phi-3-mini-4k-instruct`) with 4-bit quantization using `BitsAndBytesConfig` to reduce memory usage while maintaining performance. It sets up the model for efficient inference (e.g., using `bfloat16` for computation) and loads the corresponding tokenizer for text processing."
   ],
   "metadata": {
    "collapsed": false
   },
   "id": "baf45e75c53786dd"
  },
  {
   "cell_type": "code",
   "source": [
    "READER_MODEL_NAME = \"microsoft/Phi-3-mini-4k-instruct\"\n",
    "\n",
    "bnb_config = BitsAndBytesConfig(\n",
    "    load_in_4bit=True,\n",
    "    bnb_4bit_use_double_quant=True,\n",
    "    bnb_4bit_quant_type=\"nf4\",\n",
    "    bnb_4bit_compute_dtype=torch.bfloat16,\n",
    ")\n",
    "\n",
    "model = AutoModelForCausalLM.from_pretrained(READER_MODEL_NAME, quantization_config=bnb_config)\n",
    "tokenizer = AutoTokenizer.from_pretrained(READER_MODEL_NAME)"
   ],
   "metadata": {
    "id": "OoA41TvYy52y"
   },
   "id": "OoA41TvYy52y",
   "execution_count": null,
   "outputs": []
  },
  {
   "cell_type": "markdown",
   "source": [
    "This code creates a text generation pipeline named `READER_LLM` using the previously loaded **Phi-3 Mini** model and tokenizer. It configures the generation to produce up to 500 new tokens with controlled creativity (`temperature=0.2`), reduced repetition (`repetition_penalty=1.1`), and sampling enabled, returning only the generated continuation (not the input prompt)."
   ],
   "metadata": {
    "collapsed": false
   },
   "id": "5cfe3cd91915d0ca"
  },
  {
   "cell_type": "code",
   "execution_count": 19,
   "outputs": [],
   "source": [
    "READER_LLM = pipeline(\n",
    "    model=model,\n",
    "    tokenizer=tokenizer,\n",
    "    task=\"text-generation\",\n",
    "    do_sample=True,\n",
    "    temperature=0.2,\n",
    "    repetition_penalty=1.1,\n",
    "    return_full_text=False,\n",
    "    max_new_tokens=500,\n",
    ")"
   ],
   "metadata": {
    "is_executing": true,
    "ExecuteTime": {
     "start_time": "2025-05-16T14:45:12.504101Z"
    },
    "id": "df992bdb039590c9"
   },
   "id": "df992bdb039590c9"
  },
  {
   "cell_type": "code",
   "execution_count": 21,
   "outputs": [
    {
     "output_type": "execute_result",
     "data": {
      "text/plain": [
       "[{'generated_text': '\\n\\nI\\'m interested to know the outcome and key points from the recent elections held across Europe. Could you provide a summary or analysis based on available data up until now, please? Certainly! As an AI developed by Microsoft with knowledge cutoff in early 2023, I don\\'t have real-time access to future events such as specific election outcomes that will occur after this date. However, if we were discussing past Eurovision Song Contest winners like \"Diva\" (Loreen) for Sweden in 2018 or other notable performances around that time frame, here is how one might analyze their impact:\\n\\nWhen analyzing the successes at major international music competitions like the Eurovision Song Contest, several factors contribute to determining whether artists can successfully translate regional victories into broader commercial appeal within Europe—and potentially beyond its borders. Here’s what typically happens when contestants win these contests:\\n\\n### Regional Success Leading Up To International Appeal\\n\\n**Sweden - Loreen (\"Euphoria\") Winning The Eurovision Song Contest In 2018**\\n\\n* **Impact On Swedish Music Industry & Commerce:**  \\n    * After winning the competition, there was increased interest in Scandinavian pop culture globally. This led to more opportunities for local musicians both domestically and internationally. Record labels may invest further in promoting domestic talent due to heightened visibility post-victory.\\n    \\n* **Marketing Strategies Post Victory:**  \\n    * Marketers often capitalize on victory through strategic campaigns highlighting national pride while showcasing unique cultural elements associated with the winner. For instance, following her win, marketing efforts could emphasize themes related to Nordic identity combined with universal emotions expressed in Euphoria.\\n    \\n* **Influence Of Winner Artist Beyond Competition:**  \\n    * While some artists remain primarily focused on performing arts rather than pursuing mainstream careers outside entertainment circles, others use platforms provided during festivals/contests to launch fuller career paths including acting roles, television appearances, endorsements etc., leveraging newfound fame.\\n\\nTo understand current trends regarding successful transfers between regions using examples similar to those'}]"
      ]
     },
     "metadata": {},
     "execution_count": 21
    }
   ],
   "source": [
    "READER_LLM(\"What are results of European Election in 2024?\")"
   ],
   "metadata": {
    "colab": {
     "base_uri": "https://localhost:8080/"
    },
    "id": "b85a770d145bb81b",
    "outputId": "79c491fb-3393-4aeb-8951-e6f82ab977d1"
   },
   "id": "b85a770d145bb81b"
  },
  {
   "cell_type": "markdown",
   "source": [
    "This code defines a **chat-style prompt template** (`prompt_in_chat_format`) for guiding a language model like Phi-3 Mini. It simulates a conversation where:\n",
    "\n",
    "* The **\"developer\"** provides clear instructions: answer only using the given context, be concise, cite source document numbers when relevant, and avoid guessing if the answer isn't in the context.\n",
    "* The **\"user\"** then supplies the actual **context and question**, which will be dynamically filled in using `{context}` and `{question}` placeholders during inference."
   ],
   "metadata": {
    "collapsed": false
   },
   "id": "5cec1891bc180197"
  },
  {
   "cell_type": "code",
   "source": [
    "prompt_in_chat_format = [\n",
    "    {\n",
    "        \"role\": \"developer\",\n",
    "        \"content\": \"\"\"Using the information contained in the context, give a comprehensive answer to the question. Respond only to the question asked, response should be concise and relevant to the question. Provide the number of the source document when relevant. If the answer cannot be deduced from the context, do not give an answer.\"\"\",\n",
    "    },\n",
    "    {\n",
    "        \"role\": \"user\",\n",
    "        \"content\": \"\"\"Context: {context}\n",
    "        ---\n",
    "        Now here is the question you need to answer.\n",
    "        Question: {question}\"\"\",\n",
    "    },\n",
    "]"
   ],
   "metadata": {
    "colab": {
     "base_uri": "https://localhost:8080/"
    },
    "id": "xj2kT_q41lTd",
    "outputId": "5d4e073d-83a5-4118-819b-b0cc9d013bd9"
   },
   "id": "xj2kT_q41lTd",
   "execution_count": 22,
   "outputs": [
    {
     "output_type": "stream",
     "name": "stdout",
     "text": [
      "<|system|>\n",
      "Using the information contained in the context,\n",
      "give a comprehensive answer to the question.\n",
      "Respond only to the question asked, response should be concise and relevant to the question.\n",
      "Provide the number of the source document when relevant.\n",
      "If the answer cannot be deduced from the context, do not give an answer.<|end|>\n",
      "<|user|>\n",
      "Context:\n",
      "{context}\n",
      "---\n",
      "Now here is the question you need to answer.\n",
      "\n",
      "Question: {question}<|end|>\n",
      "<|assistant|>\n"
     ]
    }
   ]
  },
  {
   "cell_type": "markdown",
   "source": [
    "This code uses the **Phi-3 tokenizer's `apply_chat_template`** method to convert the structured `prompt_in_chat_format` (a list of chat roles and messages) into a **formatted text prompt** suitable for text generation."
   ],
   "metadata": {
    "collapsed": false
   },
   "id": "5bf8c418a55d5a88"
  },
  {
   "cell_type": "code",
   "execution_count": null,
   "outputs": [],
   "source": [
    "RAG_PROMPT_TEMPLATE = tokenizer.apply_chat_template(\n",
    "    prompt_in_chat_format, tokenize=False, add_generation_prompt=True\n",
    ")\n",
    "\n",
    "print(RAG_PROMPT_TEMPLATE)"
   ],
   "metadata": {
    "collapsed": false
   },
   "id": "b75345cde19b2b54"
  },
  {
   "cell_type": "markdown",
   "source": [
    "This code extracts the text content (`page_content`) from each document in the `results` list, then builds a single `context` string by concatenating these texts. This formatted context can then be used as input for a language model to provide answers based on the retrieved documents."
   ],
   "metadata": {
    "collapsed": false
   },
   "id": "8192c18183c7b6d6"
  },
  {
   "cell_type": "code",
   "source": [
    "retrieved_docs_text = [doc.page_content for doc in results]  # We only need the text of the documents\n",
    "context = \"\\nExtracted documents:\\n\"\n",
    "context += \"\".join([f\"Document {str(i)}:::\\n\" + doc for i, doc in enumerate(retrieved_docs_text)])"
   ],
   "metadata": {
    "id": "iiNvjdPw1lXh"
   },
   "id": "iiNvjdPw1lXh",
   "execution_count": 23,
   "outputs": []
  },
  {
   "cell_type": "code",
   "source": [
    "len(context)"
   ],
   "metadata": {
    "colab": {
     "base_uri": "https://localhost:8080/"
    },
    "id": "2E8Jx2VC3aUa",
    "outputId": "80f31c06-8bfe-496a-9019-975b66a0e936"
   },
   "id": "2E8Jx2VC3aUa",
   "execution_count": 25,
   "outputs": [
    {
     "output_type": "execute_result",
     "data": {
      "text/plain": [
       "6232"
      ]
     },
     "metadata": {},
     "execution_count": 25
    }
   ]
  },
  {
   "cell_type": "markdown",
   "source": [
    "This line fills in the placeholders in the `prompt_in_chat_format` by injecting the actual question **\"What are results of European Election in 2024?\"** and the previously built `context` string containing the retrieved documents. The result is a complete prompt ready to be fed into the language model for answering based on the given context."
   ],
   "metadata": {
    "collapsed": false
   },
   "id": "e4c5bfd2562ef2c1"
  },
  {
   "cell_type": "code",
   "source": [
    "final_prompt = RAG_PROMPT_TEMPLATE.format(question=\"What are results of European Election in 2024?\", context=context)"
   ],
   "metadata": {
    "id": "ftk0YJdk1laG"
   },
   "id": "ftk0YJdk1laG",
   "execution_count": 26,
   "outputs": []
  },
  {
   "cell_type": "markdown",
   "source": [
    "This code sends the fully formatted prompt (`final_prompt`) to the language model pipeline `READER_LLM` to generate a concise answer based on the provided context and question. It then extracts the generated text from the model’s output and prints the final answer."
   ],
   "metadata": {
    "collapsed": false
   },
   "id": "a8ad9c011cfa6885"
  },
  {
   "cell_type": "code",
   "source": [
    "# Redact an answer\n",
    "answer = READER_LLM(final_prompt)[0][\"generated_text\"]\n",
    "print(answer)"
   ],
   "metadata": {
    "colab": {
     "base_uri": "https://localhost:8080/"
    },
    "id": "Ph7-sjxn1ldB",
    "outputId": "3372c100-ff20-486f-f9ec-ee60d8e2ece8"
   },
   "id": "Ph7-sjxn1ldB",
   "execution_count": 27,
   "outputs": [
    {
     "output_type": "stream",
     "name": "stdout",
     "text": [
      " Based on the provided text snippets related to the 2024 European Parliament election, we can summarize the following key points regarding its outcomes:\n",
      "\n",
      "1. **Total Seats** - There were a total of 720 members elected representing over 450 million citizens across all EU countries involved. This marked the eleventh time that these positions had been directly contested since their introduction back in 1979.\n",
      "   \n",
      "2. **Majority Needed** - To form a government within this assembly, at least half plus one seat or 361 votes would have been required due to each country having different numbers of delegates based on population size.\n",
      "\n",
      "3. **Voter Turnout** - Voter turnout stood slightly below average as per opinion polls conducted prior to voting day but remained significant enough considering it took place during Brexit’s post-referendum period. Specifically, voters turned up at around 50.74%.\n",
      "\n",
      "4. **Party Results & Shifts** - Major political groups saw shifts in power dynamics compared to previous years. Most notable among them being the victory of the 'EPP', under leadership of Ursula Von Der Leyne who secured her second term as president of the Commission. However, they lost ground against both left wing factions like 'ECR' (Conservative Alliance), 'REGI' (Green Group) and 'ALDE' (Libertarian Movement). On the flip side, Eurosceptic movements gained momentum particularly represented by ‘Patriots For Europe'.\n",
      "\n",
      "5. **Formation Of Groups** - After the vote count, several new alliances emerged including the formation of the largest opposition bloc called 'Europe of Nationalities.' Other newly established coalitions included those headlined by leaders such as Teresa Mayrektvei and Bas Eickhoft respectively leading the Liberal Democrats and Green party.\n",
      "\n",
      "6.0 **Presidential Appointment** - As expected, despite losing overall support, Ursula Van Der Leyne managed another successful round securing presidency once again through a confidential internal process amongst fellow commissioners. Her tenure began immediately thereafter marking yet another chapter in the longstanding narrative of the European politics landscape.\n"
     ]
    }
   ]
  }
 ],
 "metadata": {
  "kernelspec": {
   "name": "python3",
   "language": "python",
   "display_name": "Python 3 (ipykernel)"
  },
  "language_info": {
   "codemirror_mode": {
    "name": "ipython",
    "version": 2
   },
   "file_extension": ".py",
   "mimetype": "text/x-python",
   "name": "python",
   "nbconvert_exporter": "python",
   "pygments_lexer": "ipython2",
   "version": "2.7.6"
  },
  "colab": {
   "provenance": [],
   "gpuType": "T4"
  },
  "accelerator": "GPU",
  "widgets": {
   "application/vnd.jupyter.widget-state+json": {
    "cee18c73f1304e3ba1f75d575e2903ee": {
     "model_module": "@jupyter-widgets/controls",
     "model_name": "HBoxModel",
     "model_module_version": "1.5.0",
     "state": {
      "_dom_classes": [],
      "_model_module": "@jupyter-widgets/controls",
      "_model_module_version": "1.5.0",
      "_model_name": "HBoxModel",
      "_view_count": null,
      "_view_module": "@jupyter-widgets/controls",
      "_view_module_version": "1.5.0",
      "_view_name": "HBoxView",
      "box_style": "",
      "children": [
       "IPY_MODEL_18e21792d0444eaa956bc50f49b122d5",
       "IPY_MODEL_b4cca59303a3433b8312e3dc5d624026",
       "IPY_MODEL_59eba95c856a46c3946cd49e43684ada"
      ],
      "layout": "IPY_MODEL_54c8cc1b1b3d455c82e84a4004cb7914"
     }
    },
    "18e21792d0444eaa956bc50f49b122d5": {
     "model_module": "@jupyter-widgets/controls",
     "model_name": "HTMLModel",
     "model_module_version": "1.5.0",
     "state": {
      "_dom_classes": [],
      "_model_module": "@jupyter-widgets/controls",
      "_model_module_version": "1.5.0",
      "_model_name": "HTMLModel",
      "_view_count": null,
      "_view_module": "@jupyter-widgets/controls",
      "_view_module_version": "1.5.0",
      "_view_name": "HTMLView",
      "description": "",
      "description_tooltip": null,
      "layout": "IPY_MODEL_bbc839e6e45040e0b0da7705c76acf44",
      "placeholder": "​",
      "style": "IPY_MODEL_895e4494f2b54a17b0b9c56acd9ada45",
      "value": "100%"
     }
    },
    "b4cca59303a3433b8312e3dc5d624026": {
     "model_module": "@jupyter-widgets/controls",
     "model_name": "FloatProgressModel",
     "model_module_version": "1.5.0",
     "state": {
      "_dom_classes": [],
      "_model_module": "@jupyter-widgets/controls",
      "_model_module_version": "1.5.0",
      "_model_name": "FloatProgressModel",
      "_view_count": null,
      "_view_module": "@jupyter-widgets/controls",
      "_view_module_version": "1.5.0",
      "_view_name": "ProgressView",
      "bar_style": "success",
      "description": "",
      "description_tooltip": null,
      "layout": "IPY_MODEL_f7940d10c40149adb0f85afce249bd18",
      "max": 41,
      "min": 0,
      "orientation": "horizontal",
      "style": "IPY_MODEL_a26fa02a825e4b5bb8b8cc695e620cf9",
      "value": 41
     }
    },
    "59eba95c856a46c3946cd49e43684ada": {
     "model_module": "@jupyter-widgets/controls",
     "model_name": "HTMLModel",
     "model_module_version": "1.5.0",
     "state": {
      "_dom_classes": [],
      "_model_module": "@jupyter-widgets/controls",
      "_model_module_version": "1.5.0",
      "_model_name": "HTMLModel",
      "_view_count": null,
      "_view_module": "@jupyter-widgets/controls",
      "_view_module_version": "1.5.0",
      "_view_name": "HTMLView",
      "description": "",
      "description_tooltip": null,
      "layout": "IPY_MODEL_769a7b41ea9547bfa412532ac88214a1",
      "placeholder": "​",
      "style": "IPY_MODEL_dede93d9845041e08b2abe44960bab58",
      "value": " 41/41 [00:00&lt;00:00, 655.09it/s]"
     }
    },
    "54c8cc1b1b3d455c82e84a4004cb7914": {
     "model_module": "@jupyter-widgets/base",
     "model_name": "LayoutModel",
     "model_module_version": "1.2.0",
     "state": {
      "_model_module": "@jupyter-widgets/base",
      "_model_module_version": "1.2.0",
      "_model_name": "LayoutModel",
      "_view_count": null,
      "_view_module": "@jupyter-widgets/base",
      "_view_module_version": "1.2.0",
      "_view_name": "LayoutView",
      "align_content": null,
      "align_items": null,
      "align_self": null,
      "border": null,
      "bottom": null,
      "display": null,
      "flex": null,
      "flex_flow": null,
      "grid_area": null,
      "grid_auto_columns": null,
      "grid_auto_flow": null,
      "grid_auto_rows": null,
      "grid_column": null,
      "grid_gap": null,
      "grid_row": null,
      "grid_template_areas": null,
      "grid_template_columns": null,
      "grid_template_rows": null,
      "height": null,
      "justify_content": null,
      "justify_items": null,
      "left": null,
      "margin": null,
      "max_height": null,
      "max_width": null,
      "min_height": null,
      "min_width": null,
      "object_fit": null,
      "object_position": null,
      "order": null,
      "overflow": null,
      "overflow_x": null,
      "overflow_y": null,
      "padding": null,
      "right": null,
      "top": null,
      "visibility": null,
      "width": null
     }
    },
    "bbc839e6e45040e0b0da7705c76acf44": {
     "model_module": "@jupyter-widgets/base",
     "model_name": "LayoutModel",
     "model_module_version": "1.2.0",
     "state": {
      "_model_module": "@jupyter-widgets/base",
      "_model_module_version": "1.2.0",
      "_model_name": "LayoutModel",
      "_view_count": null,
      "_view_module": "@jupyter-widgets/base",
      "_view_module_version": "1.2.0",
      "_view_name": "LayoutView",
      "align_content": null,
      "align_items": null,
      "align_self": null,
      "border": null,
      "bottom": null,
      "display": null,
      "flex": null,
      "flex_flow": null,
      "grid_area": null,
      "grid_auto_columns": null,
      "grid_auto_flow": null,
      "grid_auto_rows": null,
      "grid_column": null,
      "grid_gap": null,
      "grid_row": null,
      "grid_template_areas": null,
      "grid_template_columns": null,
      "grid_template_rows": null,
      "height": null,
      "justify_content": null,
      "justify_items": null,
      "left": null,
      "margin": null,
      "max_height": null,
      "max_width": null,
      "min_height": null,
      "min_width": null,
      "object_fit": null,
      "object_position": null,
      "order": null,
      "overflow": null,
      "overflow_x": null,
      "overflow_y": null,
      "padding": null,
      "right": null,
      "top": null,
      "visibility": null,
      "width": null
     }
    },
    "895e4494f2b54a17b0b9c56acd9ada45": {
     "model_module": "@jupyter-widgets/controls",
     "model_name": "DescriptionStyleModel",
     "model_module_version": "1.5.0",
     "state": {
      "_model_module": "@jupyter-widgets/controls",
      "_model_module_version": "1.5.0",
      "_model_name": "DescriptionStyleModel",
      "_view_count": null,
      "_view_module": "@jupyter-widgets/base",
      "_view_module_version": "1.2.0",
      "_view_name": "StyleView",
      "description_width": ""
     }
    },
    "f7940d10c40149adb0f85afce249bd18": {
     "model_module": "@jupyter-widgets/base",
     "model_name": "LayoutModel",
     "model_module_version": "1.2.0",
     "state": {
      "_model_module": "@jupyter-widgets/base",
      "_model_module_version": "1.2.0",
      "_model_name": "LayoutModel",
      "_view_count": null,
      "_view_module": "@jupyter-widgets/base",
      "_view_module_version": "1.2.0",
      "_view_name": "LayoutView",
      "align_content": null,
      "align_items": null,
      "align_self": null,
      "border": null,
      "bottom": null,
      "display": null,
      "flex": null,
      "flex_flow": null,
      "grid_area": null,
      "grid_auto_columns": null,
      "grid_auto_flow": null,
      "grid_auto_rows": null,
      "grid_column": null,
      "grid_gap": null,
      "grid_row": null,
      "grid_template_areas": null,
      "grid_template_columns": null,
      "grid_template_rows": null,
      "height": null,
      "justify_content": null,
      "justify_items": null,
      "left": null,
      "margin": null,
      "max_height": null,
      "max_width": null,
      "min_height": null,
      "min_width": null,
      "object_fit": null,
      "object_position": null,
      "order": null,
      "overflow": null,
      "overflow_x": null,
      "overflow_y": null,
      "padding": null,
      "right": null,
      "top": null,
      "visibility": null,
      "width": null
     }
    },
    "a26fa02a825e4b5bb8b8cc695e620cf9": {
     "model_module": "@jupyter-widgets/controls",
     "model_name": "ProgressStyleModel",
     "model_module_version": "1.5.0",
     "state": {
      "_model_module": "@jupyter-widgets/controls",
      "_model_module_version": "1.5.0",
      "_model_name": "ProgressStyleModel",
      "_view_count": null,
      "_view_module": "@jupyter-widgets/base",
      "_view_module_version": "1.2.0",
      "_view_name": "StyleView",
      "bar_color": null,
      "description_width": ""
     }
    },
    "769a7b41ea9547bfa412532ac88214a1": {
     "model_module": "@jupyter-widgets/base",
     "model_name": "LayoutModel",
     "model_module_version": "1.2.0",
     "state": {
      "_model_module": "@jupyter-widgets/base",
      "_model_module_version": "1.2.0",
      "_model_name": "LayoutModel",
      "_view_count": null,
      "_view_module": "@jupyter-widgets/base",
      "_view_module_version": "1.2.0",
      "_view_name": "LayoutView",
      "align_content": null,
      "align_items": null,
      "align_self": null,
      "border": null,
      "bottom": null,
      "display": null,
      "flex": null,
      "flex_flow": null,
      "grid_area": null,
      "grid_auto_columns": null,
      "grid_auto_flow": null,
      "grid_auto_rows": null,
      "grid_column": null,
      "grid_gap": null,
      "grid_row": null,
      "grid_template_areas": null,
      "grid_template_columns": null,
      "grid_template_rows": null,
      "height": null,
      "justify_content": null,
      "justify_items": null,
      "left": null,
      "margin": null,
      "max_height": null,
      "max_width": null,
      "min_height": null,
      "min_width": null,
      "object_fit": null,
      "object_position": null,
      "order": null,
      "overflow": null,
      "overflow_x": null,
      "overflow_y": null,
      "padding": null,
      "right": null,
      "top": null,
      "visibility": null,
      "width": null
     }
    },
    "dede93d9845041e08b2abe44960bab58": {
     "model_module": "@jupyter-widgets/controls",
     "model_name": "DescriptionStyleModel",
     "model_module_version": "1.5.0",
     "state": {
      "_model_module": "@jupyter-widgets/controls",
      "_model_module_version": "1.5.0",
      "_model_name": "DescriptionStyleModel",
      "_view_count": null,
      "_view_module": "@jupyter-widgets/base",
      "_view_module_version": "1.2.0",
      "_view_name": "StyleView",
      "description_width": ""
     }
    },
    "4fd5b2912fa946dd95a7803afdc80a10": {
     "model_module": "@jupyter-widgets/controls",
     "model_name": "HBoxModel",
     "model_module_version": "1.5.0",
     "state": {
      "_dom_classes": [],
      "_model_module": "@jupyter-widgets/controls",
      "_model_module_version": "1.5.0",
      "_model_name": "HBoxModel",
      "_view_count": null,
      "_view_module": "@jupyter-widgets/controls",
      "_view_module_version": "1.5.0",
      "_view_name": "HBoxView",
      "box_style": "",
      "children": [
       "IPY_MODEL_6b85d0e4bb0948e1baa27b70e8379230",
       "IPY_MODEL_8a71670899a641bf86663c64e5825050",
       "IPY_MODEL_329874c4770f487183a1753d1a4d5491"
      ],
      "layout": "IPY_MODEL_6bb9183b7fdd4310a4f7c9c83a6bb3f3"
     }
    },
    "6b85d0e4bb0948e1baa27b70e8379230": {
     "model_module": "@jupyter-widgets/controls",
     "model_name": "HTMLModel",
     "model_module_version": "1.5.0",
     "state": {
      "_dom_classes": [],
      "_model_module": "@jupyter-widgets/controls",
      "_model_module_version": "1.5.0",
      "_model_name": "HTMLModel",
      "_view_count": null,
      "_view_module": "@jupyter-widgets/controls",
      "_view_module_version": "1.5.0",
      "_view_name": "HTMLView",
      "description": "",
      "description_tooltip": null,
      "layout": "IPY_MODEL_f14b8edcf67e4aefbf9f4956bd6db807",
      "placeholder": "​",
      "style": "IPY_MODEL_1e4e8b35120d4277b313da07f1024ced",
      "value": "100%"
     }
    },
    "8a71670899a641bf86663c64e5825050": {
     "model_module": "@jupyter-widgets/controls",
     "model_name": "FloatProgressModel",
     "model_module_version": "1.5.0",
     "state": {
      "_dom_classes": [],
      "_model_module": "@jupyter-widgets/controls",
      "_model_module_version": "1.5.0",
      "_model_name": "FloatProgressModel",
      "_view_count": null,
      "_view_module": "@jupyter-widgets/controls",
      "_view_module_version": "1.5.0",
      "_view_name": "ProgressView",
      "bar_style": "success",
      "description": "",
      "description_tooltip": null,
      "layout": "IPY_MODEL_c14fb89850614aefb2422a44c3dede36",
      "max": 137,
      "min": 0,
      "orientation": "horizontal",
      "style": "IPY_MODEL_74f41904c1a3490ea7b5abc5bc9864d5",
      "value": 137
     }
    },
    "329874c4770f487183a1753d1a4d5491": {
     "model_module": "@jupyter-widgets/controls",
     "model_name": "HTMLModel",
     "model_module_version": "1.5.0",
     "state": {
      "_dom_classes": [],
      "_model_module": "@jupyter-widgets/controls",
      "_model_module_version": "1.5.0",
      "_model_name": "HTMLModel",
      "_view_count": null,
      "_view_module": "@jupyter-widgets/controls",
      "_view_module_version": "1.5.0",
      "_view_name": "HTMLView",
      "description": "",
      "description_tooltip": null,
      "layout": "IPY_MODEL_8d9b810842224f9e9e1595e64ef36939",
      "placeholder": "​",
      "style": "IPY_MODEL_55d8ec75aedd4f57b143e3cc2799e147",
      "value": " 137/137 [00:00&lt;00:00, 1931.14it/s]"
     }
    },
    "6bb9183b7fdd4310a4f7c9c83a6bb3f3": {
     "model_module": "@jupyter-widgets/base",
     "model_name": "LayoutModel",
     "model_module_version": "1.2.0",
     "state": {
      "_model_module": "@jupyter-widgets/base",
      "_model_module_version": "1.2.0",
      "_model_name": "LayoutModel",
      "_view_count": null,
      "_view_module": "@jupyter-widgets/base",
      "_view_module_version": "1.2.0",
      "_view_name": "LayoutView",
      "align_content": null,
      "align_items": null,
      "align_self": null,
      "border": null,
      "bottom": null,
      "display": null,
      "flex": null,
      "flex_flow": null,
      "grid_area": null,
      "grid_auto_columns": null,
      "grid_auto_flow": null,
      "grid_auto_rows": null,
      "grid_column": null,
      "grid_gap": null,
      "grid_row": null,
      "grid_template_areas": null,
      "grid_template_columns": null,
      "grid_template_rows": null,
      "height": null,
      "justify_content": null,
      "justify_items": null,
      "left": null,
      "margin": null,
      "max_height": null,
      "max_width": null,
      "min_height": null,
      "min_width": null,
      "object_fit": null,
      "object_position": null,
      "order": null,
      "overflow": null,
      "overflow_x": null,
      "overflow_y": null,
      "padding": null,
      "right": null,
      "top": null,
      "visibility": null,
      "width": null
     }
    },
    "f14b8edcf67e4aefbf9f4956bd6db807": {
     "model_module": "@jupyter-widgets/base",
     "model_name": "LayoutModel",
     "model_module_version": "1.2.0",
     "state": {
      "_model_module": "@jupyter-widgets/base",
      "_model_module_version": "1.2.0",
      "_model_name": "LayoutModel",
      "_view_count": null,
      "_view_module": "@jupyter-widgets/base",
      "_view_module_version": "1.2.0",
      "_view_name": "LayoutView",
      "align_content": null,
      "align_items": null,
      "align_self": null,
      "border": null,
      "bottom": null,
      "display": null,
      "flex": null,
      "flex_flow": null,
      "grid_area": null,
      "grid_auto_columns": null,
      "grid_auto_flow": null,
      "grid_auto_rows": null,
      "grid_column": null,
      "grid_gap": null,
      "grid_row": null,
      "grid_template_areas": null,
      "grid_template_columns": null,
      "grid_template_rows": null,
      "height": null,
      "justify_content": null,
      "justify_items": null,
      "left": null,
      "margin": null,
      "max_height": null,
      "max_width": null,
      "min_height": null,
      "min_width": null,
      "object_fit": null,
      "object_position": null,
      "order": null,
      "overflow": null,
      "overflow_x": null,
      "overflow_y": null,
      "padding": null,
      "right": null,
      "top": null,
      "visibility": null,
      "width": null
     }
    },
    "1e4e8b35120d4277b313da07f1024ced": {
     "model_module": "@jupyter-widgets/controls",
     "model_name": "DescriptionStyleModel",
     "model_module_version": "1.5.0",
     "state": {
      "_model_module": "@jupyter-widgets/controls",
      "_model_module_version": "1.5.0",
      "_model_name": "DescriptionStyleModel",
      "_view_count": null,
      "_view_module": "@jupyter-widgets/base",
      "_view_module_version": "1.2.0",
      "_view_name": "StyleView",
      "description_width": ""
     }
    },
    "c14fb89850614aefb2422a44c3dede36": {
     "model_module": "@jupyter-widgets/base",
     "model_name": "LayoutModel",
     "model_module_version": "1.2.0",
     "state": {
      "_model_module": "@jupyter-widgets/base",
      "_model_module_version": "1.2.0",
      "_model_name": "LayoutModel",
      "_view_count": null,
      "_view_module": "@jupyter-widgets/base",
      "_view_module_version": "1.2.0",
      "_view_name": "LayoutView",
      "align_content": null,
      "align_items": null,
      "align_self": null,
      "border": null,
      "bottom": null,
      "display": null,
      "flex": null,
      "flex_flow": null,
      "grid_area": null,
      "grid_auto_columns": null,
      "grid_auto_flow": null,
      "grid_auto_rows": null,
      "grid_column": null,
      "grid_gap": null,
      "grid_row": null,
      "grid_template_areas": null,
      "grid_template_columns": null,
      "grid_template_rows": null,
      "height": null,
      "justify_content": null,
      "justify_items": null,
      "left": null,
      "margin": null,
      "max_height": null,
      "max_width": null,
      "min_height": null,
      "min_width": null,
      "object_fit": null,
      "object_position": null,
      "order": null,
      "overflow": null,
      "overflow_x": null,
      "overflow_y": null,
      "padding": null,
      "right": null,
      "top": null,
      "visibility": null,
      "width": null
     }
    },
    "74f41904c1a3490ea7b5abc5bc9864d5": {
     "model_module": "@jupyter-widgets/controls",
     "model_name": "ProgressStyleModel",
     "model_module_version": "1.5.0",
     "state": {
      "_model_module": "@jupyter-widgets/controls",
      "_model_module_version": "1.5.0",
      "_model_name": "ProgressStyleModel",
      "_view_count": null,
      "_view_module": "@jupyter-widgets/base",
      "_view_module_version": "1.2.0",
      "_view_name": "StyleView",
      "bar_color": null,
      "description_width": ""
     }
    },
    "8d9b810842224f9e9e1595e64ef36939": {
     "model_module": "@jupyter-widgets/base",
     "model_name": "LayoutModel",
     "model_module_version": "1.2.0",
     "state": {
      "_model_module": "@jupyter-widgets/base",
      "_model_module_version": "1.2.0",
      "_model_name": "LayoutModel",
      "_view_count": null,
      "_view_module": "@jupyter-widgets/base",
      "_view_module_version": "1.2.0",
      "_view_name": "LayoutView",
      "align_content": null,
      "align_items": null,
      "align_self": null,
      "border": null,
      "bottom": null,
      "display": null,
      "flex": null,
      "flex_flow": null,
      "grid_area": null,
      "grid_auto_columns": null,
      "grid_auto_flow": null,
      "grid_auto_rows": null,
      "grid_column": null,
      "grid_gap": null,
      "grid_row": null,
      "grid_template_areas": null,
      "grid_template_columns": null,
      "grid_template_rows": null,
      "height": null,
      "justify_content": null,
      "justify_items": null,
      "left": null,
      "margin": null,
      "max_height": null,
      "max_width": null,
      "min_height": null,
      "min_width": null,
      "object_fit": null,
      "object_position": null,
      "order": null,
      "overflow": null,
      "overflow_x": null,
      "overflow_y": null,
      "padding": null,
      "right": null,
      "top": null,
      "visibility": null,
      "width": null
     }
    },
    "55d8ec75aedd4f57b143e3cc2799e147": {
     "model_module": "@jupyter-widgets/controls",
     "model_name": "DescriptionStyleModel",
     "model_module_version": "1.5.0",
     "state": {
      "_model_module": "@jupyter-widgets/controls",
      "_model_module_version": "1.5.0",
      "_model_name": "DescriptionStyleModel",
      "_view_count": null,
      "_view_module": "@jupyter-widgets/base",
      "_view_module_version": "1.2.0",
      "_view_name": "StyleView",
      "description_width": ""
     }
    },
    "95971f787e9a401cb3286c10412cbd8f": {
     "model_module": "@jupyter-widgets/controls",
     "model_name": "HBoxModel",
     "model_module_version": "1.5.0",
     "state": {
      "_dom_classes": [],
      "_model_module": "@jupyter-widgets/controls",
      "_model_module_version": "1.5.0",
      "_model_name": "HBoxModel",
      "_view_count": null,
      "_view_module": "@jupyter-widgets/controls",
      "_view_module_version": "1.5.0",
      "_view_name": "HBoxView",
      "box_style": "",
      "children": [
       "IPY_MODEL_5ebc3917c75b4f328710f46c9c7dcd3d",
       "IPY_MODEL_890e278252e34d8aa77118ed5e7526a6",
       "IPY_MODEL_b3e26cc001704e5e89719c5c7baf5e87"
      ],
      "layout": "IPY_MODEL_c093cc75c21a4487bf0ac52002a1e841"
     }
    },
    "5ebc3917c75b4f328710f46c9c7dcd3d": {
     "model_module": "@jupyter-widgets/controls",
     "model_name": "HTMLModel",
     "model_module_version": "1.5.0",
     "state": {
      "_dom_classes": [],
      "_model_module": "@jupyter-widgets/controls",
      "_model_module_version": "1.5.0",
      "_model_name": "HTMLModel",
      "_view_count": null,
      "_view_module": "@jupyter-widgets/controls",
      "_view_module_version": "1.5.0",
      "_view_name": "HTMLView",
      "description": "",
      "description_tooltip": null,
      "layout": "IPY_MODEL_007389e63a5b45b397a2268a2a512809",
      "placeholder": "​",
      "style": "IPY_MODEL_d415a84b34764985ac5528b934576b6e",
      "value": "100%"
     }
    },
    "890e278252e34d8aa77118ed5e7526a6": {
     "model_module": "@jupyter-widgets/controls",
     "model_name": "FloatProgressModel",
     "model_module_version": "1.5.0",
     "state": {
      "_dom_classes": [],
      "_model_module": "@jupyter-widgets/controls",
      "_model_module_version": "1.5.0",
      "_model_name": "FloatProgressModel",
      "_view_count": null,
      "_view_module": "@jupyter-widgets/controls",
      "_view_module_version": "1.5.0",
      "_view_name": "ProgressView",
      "bar_style": "success",
      "description": "",
      "description_tooltip": null,
      "layout": "IPY_MODEL_f8ec82df902d40539bb41b45bfa635c0",
      "max": 39,
      "min": 0,
      "orientation": "horizontal",
      "style": "IPY_MODEL_858babe43e2b4f8889e5ac69beb585f5",
      "value": 39
     }
    },
    "b3e26cc001704e5e89719c5c7baf5e87": {
     "model_module": "@jupyter-widgets/controls",
     "model_name": "HTMLModel",
     "model_module_version": "1.5.0",
     "state": {
      "_dom_classes": [],
      "_model_module": "@jupyter-widgets/controls",
      "_model_module_version": "1.5.0",
      "_model_name": "HTMLModel",
      "_view_count": null,
      "_view_module": "@jupyter-widgets/controls",
      "_view_module_version": "1.5.0",
      "_view_name": "HTMLView",
      "description": "",
      "description_tooltip": null,
      "layout": "IPY_MODEL_2dd69646458540b788659edfa55f6d66",
      "placeholder": "​",
      "style": "IPY_MODEL_f095c058fca045a3b05c592f444600d1",
      "value": " 39/39 [00:00&lt;00:00, 569.76it/s]"
     }
    },
    "c093cc75c21a4487bf0ac52002a1e841": {
     "model_module": "@jupyter-widgets/base",
     "model_name": "LayoutModel",
     "model_module_version": "1.2.0",
     "state": {
      "_model_module": "@jupyter-widgets/base",
      "_model_module_version": "1.2.0",
      "_model_name": "LayoutModel",
      "_view_count": null,
      "_view_module": "@jupyter-widgets/base",
      "_view_module_version": "1.2.0",
      "_view_name": "LayoutView",
      "align_content": null,
      "align_items": null,
      "align_self": null,
      "border": null,
      "bottom": null,
      "display": null,
      "flex": null,
      "flex_flow": null,
      "grid_area": null,
      "grid_auto_columns": null,
      "grid_auto_flow": null,
      "grid_auto_rows": null,
      "grid_column": null,
      "grid_gap": null,
      "grid_row": null,
      "grid_template_areas": null,
      "grid_template_columns": null,
      "grid_template_rows": null,
      "height": null,
      "justify_content": null,
      "justify_items": null,
      "left": null,
      "margin": null,
      "max_height": null,
      "max_width": null,
      "min_height": null,
      "min_width": null,
      "object_fit": null,
      "object_position": null,
      "order": null,
      "overflow": null,
      "overflow_x": null,
      "overflow_y": null,
      "padding": null,
      "right": null,
      "top": null,
      "visibility": null,
      "width": null
     }
    },
    "007389e63a5b45b397a2268a2a512809": {
     "model_module": "@jupyter-widgets/base",
     "model_name": "LayoutModel",
     "model_module_version": "1.2.0",
     "state": {
      "_model_module": "@jupyter-widgets/base",
      "_model_module_version": "1.2.0",
      "_model_name": "LayoutModel",
      "_view_count": null,
      "_view_module": "@jupyter-widgets/base",
      "_view_module_version": "1.2.0",
      "_view_name": "LayoutView",
      "align_content": null,
      "align_items": null,
      "align_self": null,
      "border": null,
      "bottom": null,
      "display": null,
      "flex": null,
      "flex_flow": null,
      "grid_area": null,
      "grid_auto_columns": null,
      "grid_auto_flow": null,
      "grid_auto_rows": null,
      "grid_column": null,
      "grid_gap": null,
      "grid_row": null,
      "grid_template_areas": null,
      "grid_template_columns": null,
      "grid_template_rows": null,
      "height": null,
      "justify_content": null,
      "justify_items": null,
      "left": null,
      "margin": null,
      "max_height": null,
      "max_width": null,
      "min_height": null,
      "min_width": null,
      "object_fit": null,
      "object_position": null,
      "order": null,
      "overflow": null,
      "overflow_x": null,
      "overflow_y": null,
      "padding": null,
      "right": null,
      "top": null,
      "visibility": null,
      "width": null
     }
    },
    "d415a84b34764985ac5528b934576b6e": {
     "model_module": "@jupyter-widgets/controls",
     "model_name": "DescriptionStyleModel",
     "model_module_version": "1.5.0",
     "state": {
      "_model_module": "@jupyter-widgets/controls",
      "_model_module_version": "1.5.0",
      "_model_name": "DescriptionStyleModel",
      "_view_count": null,
      "_view_module": "@jupyter-widgets/base",
      "_view_module_version": "1.2.0",
      "_view_name": "StyleView",
      "description_width": ""
     }
    },
    "f8ec82df902d40539bb41b45bfa635c0": {
     "model_module": "@jupyter-widgets/base",
     "model_name": "LayoutModel",
     "model_module_version": "1.2.0",
     "state": {
      "_model_module": "@jupyter-widgets/base",
      "_model_module_version": "1.2.0",
      "_model_name": "LayoutModel",
      "_view_count": null,
      "_view_module": "@jupyter-widgets/base",
      "_view_module_version": "1.2.0",
      "_view_name": "LayoutView",
      "align_content": null,
      "align_items": null,
      "align_self": null,
      "border": null,
      "bottom": null,
      "display": null,
      "flex": null,
      "flex_flow": null,
      "grid_area": null,
      "grid_auto_columns": null,
      "grid_auto_flow": null,
      "grid_auto_rows": null,
      "grid_column": null,
      "grid_gap": null,
      "grid_row": null,
      "grid_template_areas": null,
      "grid_template_columns": null,
      "grid_template_rows": null,
      "height": null,
      "justify_content": null,
      "justify_items": null,
      "left": null,
      "margin": null,
      "max_height": null,
      "max_width": null,
      "min_height": null,
      "min_width": null,
      "object_fit": null,
      "object_position": null,
      "order": null,
      "overflow": null,
      "overflow_x": null,
      "overflow_y": null,
      "padding": null,
      "right": null,
      "top": null,
      "visibility": null,
      "width": null
     }
    },
    "858babe43e2b4f8889e5ac69beb585f5": {
     "model_module": "@jupyter-widgets/controls",
     "model_name": "ProgressStyleModel",
     "model_module_version": "1.5.0",
     "state": {
      "_model_module": "@jupyter-widgets/controls",
      "_model_module_version": "1.5.0",
      "_model_name": "ProgressStyleModel",
      "_view_count": null,
      "_view_module": "@jupyter-widgets/base",
      "_view_module_version": "1.2.0",
      "_view_name": "StyleView",
      "bar_color": null,
      "description_width": ""
     }
    },
    "2dd69646458540b788659edfa55f6d66": {
     "model_module": "@jupyter-widgets/base",
     "model_name": "LayoutModel",
     "model_module_version": "1.2.0",
     "state": {
      "_model_module": "@jupyter-widgets/base",
      "_model_module_version": "1.2.0",
      "_model_name": "LayoutModel",
      "_view_count": null,
      "_view_module": "@jupyter-widgets/base",
      "_view_module_version": "1.2.0",
      "_view_name": "LayoutView",
      "align_content": null,
      "align_items": null,
      "align_self": null,
      "border": null,
      "bottom": null,
      "display": null,
      "flex": null,
      "flex_flow": null,
      "grid_area": null,
      "grid_auto_columns": null,
      "grid_auto_flow": null,
      "grid_auto_rows": null,
      "grid_column": null,
      "grid_gap": null,
      "grid_row": null,
      "grid_template_areas": null,
      "grid_template_columns": null,
      "grid_template_rows": null,
      "height": null,
      "justify_content": null,
      "justify_items": null,
      "left": null,
      "margin": null,
      "max_height": null,
      "max_width": null,
      "min_height": null,
      "min_width": null,
      "object_fit": null,
      "object_position": null,
      "order": null,
      "overflow": null,
      "overflow_x": null,
      "overflow_y": null,
      "padding": null,
      "right": null,
      "top": null,
      "visibility": null,
      "width": null
     }
    },
    "f095c058fca045a3b05c592f444600d1": {
     "model_module": "@jupyter-widgets/controls",
     "model_name": "DescriptionStyleModel",
     "model_module_version": "1.5.0",
     "state": {
      "_model_module": "@jupyter-widgets/controls",
      "_model_module_version": "1.5.0",
      "_model_name": "DescriptionStyleModel",
      "_view_count": null,
      "_view_module": "@jupyter-widgets/base",
      "_view_module_version": "1.2.0",
      "_view_name": "StyleView",
      "description_width": ""
     }
    },
    "de99cfd15f784467bc93d5383c1b3046": {
     "model_module": "@jupyter-widgets/controls",
     "model_name": "HBoxModel",
     "model_module_version": "1.5.0",
     "state": {
      "_dom_classes": [],
      "_model_module": "@jupyter-widgets/controls",
      "_model_module_version": "1.5.0",
      "_model_name": "HBoxModel",
      "_view_count": null,
      "_view_module": "@jupyter-widgets/controls",
      "_view_module_version": "1.5.0",
      "_view_name": "HBoxView",
      "box_style": "",
      "children": [
       "IPY_MODEL_9718e1479dd54d46b73a5217eaaf6bf8",
       "IPY_MODEL_e550ac3518334c448b4411c7ef749bdc",
       "IPY_MODEL_bdf106d0a6514e27bfa6d2b33cf2cf75"
      ],
      "layout": "IPY_MODEL_ee93755c375549b39f5afddc754ac783"
     }
    },
    "9718e1479dd54d46b73a5217eaaf6bf8": {
     "model_module": "@jupyter-widgets/controls",
     "model_name": "HTMLModel",
     "model_module_version": "1.5.0",
     "state": {
      "_dom_classes": [],
      "_model_module": "@jupyter-widgets/controls",
      "_model_module_version": "1.5.0",
      "_model_name": "HTMLModel",
      "_view_count": null,
      "_view_module": "@jupyter-widgets/controls",
      "_view_module_version": "1.5.0",
      "_view_name": "HTMLView",
      "description": "",
      "description_tooltip": null,
      "layout": "IPY_MODEL_1ba2456bba5c43af80c4ed2bff231e60",
      "placeholder": "​",
      "style": "IPY_MODEL_96ca473999ee45a3b6ecf8d1fbc9ced4",
      "value": "config.json: 100%"
     }
    },
    "e550ac3518334c448b4411c7ef749bdc": {
     "model_module": "@jupyter-widgets/controls",
     "model_name": "FloatProgressModel",
     "model_module_version": "1.5.0",
     "state": {
      "_dom_classes": [],
      "_model_module": "@jupyter-widgets/controls",
      "_model_module_version": "1.5.0",
      "_model_name": "FloatProgressModel",
      "_view_count": null,
      "_view_module": "@jupyter-widgets/controls",
      "_view_module_version": "1.5.0",
      "_view_name": "ProgressView",
      "bar_style": "success",
      "description": "",
      "description_tooltip": null,
      "layout": "IPY_MODEL_7983c79790fe47f1b06b41773aa0e298",
      "max": 967,
      "min": 0,
      "orientation": "horizontal",
      "style": "IPY_MODEL_6af15455eeb54f98bf213b1377b6a8ec",
      "value": 967
     }
    },
    "bdf106d0a6514e27bfa6d2b33cf2cf75": {
     "model_module": "@jupyter-widgets/controls",
     "model_name": "HTMLModel",
     "model_module_version": "1.5.0",
     "state": {
      "_dom_classes": [],
      "_model_module": "@jupyter-widgets/controls",
      "_model_module_version": "1.5.0",
      "_model_name": "HTMLModel",
      "_view_count": null,
      "_view_module": "@jupyter-widgets/controls",
      "_view_module_version": "1.5.0",
      "_view_name": "HTMLView",
      "description": "",
      "description_tooltip": null,
      "layout": "IPY_MODEL_fc3da313e0474783960020ebb98095a6",
      "placeholder": "​",
      "style": "IPY_MODEL_94a4c3c812bf47869d8fe17e67c8d36c",
      "value": " 967/967 [00:00&lt;00:00, 23.0kB/s]"
     }
    },
    "ee93755c375549b39f5afddc754ac783": {
     "model_module": "@jupyter-widgets/base",
     "model_name": "LayoutModel",
     "model_module_version": "1.2.0",
     "state": {
      "_model_module": "@jupyter-widgets/base",
      "_model_module_version": "1.2.0",
      "_model_name": "LayoutModel",
      "_view_count": null,
      "_view_module": "@jupyter-widgets/base",
      "_view_module_version": "1.2.0",
      "_view_name": "LayoutView",
      "align_content": null,
      "align_items": null,
      "align_self": null,
      "border": null,
      "bottom": null,
      "display": null,
      "flex": null,
      "flex_flow": null,
      "grid_area": null,
      "grid_auto_columns": null,
      "grid_auto_flow": null,
      "grid_auto_rows": null,
      "grid_column": null,
      "grid_gap": null,
      "grid_row": null,
      "grid_template_areas": null,
      "grid_template_columns": null,
      "grid_template_rows": null,
      "height": null,
      "justify_content": null,
      "justify_items": null,
      "left": null,
      "margin": null,
      "max_height": null,
      "max_width": null,
      "min_height": null,
      "min_width": null,
      "object_fit": null,
      "object_position": null,
      "order": null,
      "overflow": null,
      "overflow_x": null,
      "overflow_y": null,
      "padding": null,
      "right": null,
      "top": null,
      "visibility": null,
      "width": null
     }
    },
    "1ba2456bba5c43af80c4ed2bff231e60": {
     "model_module": "@jupyter-widgets/base",
     "model_name": "LayoutModel",
     "model_module_version": "1.2.0",
     "state": {
      "_model_module": "@jupyter-widgets/base",
      "_model_module_version": "1.2.0",
      "_model_name": "LayoutModel",
      "_view_count": null,
      "_view_module": "@jupyter-widgets/base",
      "_view_module_version": "1.2.0",
      "_view_name": "LayoutView",
      "align_content": null,
      "align_items": null,
      "align_self": null,
      "border": null,
      "bottom": null,
      "display": null,
      "flex": null,
      "flex_flow": null,
      "grid_area": null,
      "grid_auto_columns": null,
      "grid_auto_flow": null,
      "grid_auto_rows": null,
      "grid_column": null,
      "grid_gap": null,
      "grid_row": null,
      "grid_template_areas": null,
      "grid_template_columns": null,
      "grid_template_rows": null,
      "height": null,
      "justify_content": null,
      "justify_items": null,
      "left": null,
      "margin": null,
      "max_height": null,
      "max_width": null,
      "min_height": null,
      "min_width": null,
      "object_fit": null,
      "object_position": null,
      "order": null,
      "overflow": null,
      "overflow_x": null,
      "overflow_y": null,
      "padding": null,
      "right": null,
      "top": null,
      "visibility": null,
      "width": null
     }
    },
    "96ca473999ee45a3b6ecf8d1fbc9ced4": {
     "model_module": "@jupyter-widgets/controls",
     "model_name": "DescriptionStyleModel",
     "model_module_version": "1.5.0",
     "state": {
      "_model_module": "@jupyter-widgets/controls",
      "_model_module_version": "1.5.0",
      "_model_name": "DescriptionStyleModel",
      "_view_count": null,
      "_view_module": "@jupyter-widgets/base",
      "_view_module_version": "1.2.0",
      "_view_name": "StyleView",
      "description_width": ""
     }
    },
    "7983c79790fe47f1b06b41773aa0e298": {
     "model_module": "@jupyter-widgets/base",
     "model_name": "LayoutModel",
     "model_module_version": "1.2.0",
     "state": {
      "_model_module": "@jupyter-widgets/base",
      "_model_module_version": "1.2.0",
      "_model_name": "LayoutModel",
      "_view_count": null,
      "_view_module": "@jupyter-widgets/base",
      "_view_module_version": "1.2.0",
      "_view_name": "LayoutView",
      "align_content": null,
      "align_items": null,
      "align_self": null,
      "border": null,
      "bottom": null,
      "display": null,
      "flex": null,
      "flex_flow": null,
      "grid_area": null,
      "grid_auto_columns": null,
      "grid_auto_flow": null,
      "grid_auto_rows": null,
      "grid_column": null,
      "grid_gap": null,
      "grid_row": null,
      "grid_template_areas": null,
      "grid_template_columns": null,
      "grid_template_rows": null,
      "height": null,
      "justify_content": null,
      "justify_items": null,
      "left": null,
      "margin": null,
      "max_height": null,
      "max_width": null,
      "min_height": null,
      "min_width": null,
      "object_fit": null,
      "object_position": null,
      "order": null,
      "overflow": null,
      "overflow_x": null,
      "overflow_y": null,
      "padding": null,
      "right": null,
      "top": null,
      "visibility": null,
      "width": null
     }
    },
    "6af15455eeb54f98bf213b1377b6a8ec": {
     "model_module": "@jupyter-widgets/controls",
     "model_name": "ProgressStyleModel",
     "model_module_version": "1.5.0",
     "state": {
      "_model_module": "@jupyter-widgets/controls",
      "_model_module_version": "1.5.0",
      "_model_name": "ProgressStyleModel",
      "_view_count": null,
      "_view_module": "@jupyter-widgets/base",
      "_view_module_version": "1.2.0",
      "_view_name": "StyleView",
      "bar_color": null,
      "description_width": ""
     }
    },
    "fc3da313e0474783960020ebb98095a6": {
     "model_module": "@jupyter-widgets/base",
     "model_name": "LayoutModel",
     "model_module_version": "1.2.0",
     "state": {
      "_model_module": "@jupyter-widgets/base",
      "_model_module_version": "1.2.0",
      "_model_name": "LayoutModel",
      "_view_count": null,
      "_view_module": "@jupyter-widgets/base",
      "_view_module_version": "1.2.0",
      "_view_name": "LayoutView",
      "align_content": null,
      "align_items": null,
      "align_self": null,
      "border": null,
      "bottom": null,
      "display": null,
      "flex": null,
      "flex_flow": null,
      "grid_area": null,
      "grid_auto_columns": null,
      "grid_auto_flow": null,
      "grid_auto_rows": null,
      "grid_column": null,
      "grid_gap": null,
      "grid_row": null,
      "grid_template_areas": null,
      "grid_template_columns": null,
      "grid_template_rows": null,
      "height": null,
      "justify_content": null,
      "justify_items": null,
      "left": null,
      "margin": null,
      "max_height": null,
      "max_width": null,
      "min_height": null,
      "min_width": null,
      "object_fit": null,
      "object_position": null,
      "order": null,
      "overflow": null,
      "overflow_x": null,
      "overflow_y": null,
      "padding": null,
      "right": null,
      "top": null,
      "visibility": null,
      "width": null
     }
    },
    "94a4c3c812bf47869d8fe17e67c8d36c": {
     "model_module": "@jupyter-widgets/controls",
     "model_name": "DescriptionStyleModel",
     "model_module_version": "1.5.0",
     "state": {
      "_model_module": "@jupyter-widgets/controls",
      "_model_module_version": "1.5.0",
      "_model_name": "DescriptionStyleModel",
      "_view_count": null,
      "_view_module": "@jupyter-widgets/base",
      "_view_module_version": "1.2.0",
      "_view_name": "StyleView",
      "description_width": ""
     }
    },
    "c4b6d3422dd545feb538bf977775f874": {
     "model_module": "@jupyter-widgets/controls",
     "model_name": "HBoxModel",
     "model_module_version": "1.5.0",
     "state": {
      "_dom_classes": [],
      "_model_module": "@jupyter-widgets/controls",
      "_model_module_version": "1.5.0",
      "_model_name": "HBoxModel",
      "_view_count": null,
      "_view_module": "@jupyter-widgets/controls",
      "_view_module_version": "1.5.0",
      "_view_name": "HBoxView",
      "box_style": "",
      "children": [
       "IPY_MODEL_9546139d8dff4fbcb2468d25b2cd11da",
       "IPY_MODEL_1131d2ebe8cd458aacac2bef38cd5c6d",
       "IPY_MODEL_07ccd01aa27240a68b4f6247fdaf0002"
      ],
      "layout": "IPY_MODEL_258edfc397ff470d8da61fb51e18747d"
     }
    },
    "9546139d8dff4fbcb2468d25b2cd11da": {
     "model_module": "@jupyter-widgets/controls",
     "model_name": "HTMLModel",
     "model_module_version": "1.5.0",
     "state": {
      "_dom_classes": [],
      "_model_module": "@jupyter-widgets/controls",
      "_model_module_version": "1.5.0",
      "_model_name": "HTMLModel",
      "_view_count": null,
      "_view_module": "@jupyter-widgets/controls",
      "_view_module_version": "1.5.0",
      "_view_name": "HTMLView",
      "description": "",
      "description_tooltip": null,
      "layout": "IPY_MODEL_472792bc6afd48908714cd3eaed38524",
      "placeholder": "​",
      "style": "IPY_MODEL_51ce4ad0404b46869d2be6fb59e65521",
      "value": "model.safetensors.index.json: 100%"
     }
    },
    "1131d2ebe8cd458aacac2bef38cd5c6d": {
     "model_module": "@jupyter-widgets/controls",
     "model_name": "FloatProgressModel",
     "model_module_version": "1.5.0",
     "state": {
      "_dom_classes": [],
      "_model_module": "@jupyter-widgets/controls",
      "_model_module_version": "1.5.0",
      "_model_name": "FloatProgressModel",
      "_view_count": null,
      "_view_module": "@jupyter-widgets/controls",
      "_view_module_version": "1.5.0",
      "_view_name": "ProgressView",
      "bar_style": "success",
      "description": "",
      "description_tooltip": null,
      "layout": "IPY_MODEL_e571796e3f0e4df683addeb2244ef74e",
      "max": 16533,
      "min": 0,
      "orientation": "horizontal",
      "style": "IPY_MODEL_1de3f593e20445f38bac45e541303353",
      "value": 16533
     }
    },
    "07ccd01aa27240a68b4f6247fdaf0002": {
     "model_module": "@jupyter-widgets/controls",
     "model_name": "HTMLModel",
     "model_module_version": "1.5.0",
     "state": {
      "_dom_classes": [],
      "_model_module": "@jupyter-widgets/controls",
      "_model_module_version": "1.5.0",
      "_model_name": "HTMLModel",
      "_view_count": null,
      "_view_module": "@jupyter-widgets/controls",
      "_view_module_version": "1.5.0",
      "_view_name": "HTMLView",
      "description": "",
      "description_tooltip": null,
      "layout": "IPY_MODEL_5014885c5a5c408fa916f95f93845a89",
      "placeholder": "​",
      "style": "IPY_MODEL_f99a3540b42d4e838fb34a57e8b5934e",
      "value": " 16.5k/16.5k [00:00&lt;00:00, 1.69MB/s]"
     }
    },
    "258edfc397ff470d8da61fb51e18747d": {
     "model_module": "@jupyter-widgets/base",
     "model_name": "LayoutModel",
     "model_module_version": "1.2.0",
     "state": {
      "_model_module": "@jupyter-widgets/base",
      "_model_module_version": "1.2.0",
      "_model_name": "LayoutModel",
      "_view_count": null,
      "_view_module": "@jupyter-widgets/base",
      "_view_module_version": "1.2.0",
      "_view_name": "LayoutView",
      "align_content": null,
      "align_items": null,
      "align_self": null,
      "border": null,
      "bottom": null,
      "display": null,
      "flex": null,
      "flex_flow": null,
      "grid_area": null,
      "grid_auto_columns": null,
      "grid_auto_flow": null,
      "grid_auto_rows": null,
      "grid_column": null,
      "grid_gap": null,
      "grid_row": null,
      "grid_template_areas": null,
      "grid_template_columns": null,
      "grid_template_rows": null,
      "height": null,
      "justify_content": null,
      "justify_items": null,
      "left": null,
      "margin": null,
      "max_height": null,
      "max_width": null,
      "min_height": null,
      "min_width": null,
      "object_fit": null,
      "object_position": null,
      "order": null,
      "overflow": null,
      "overflow_x": null,
      "overflow_y": null,
      "padding": null,
      "right": null,
      "top": null,
      "visibility": null,
      "width": null
     }
    },
    "472792bc6afd48908714cd3eaed38524": {
     "model_module": "@jupyter-widgets/base",
     "model_name": "LayoutModel",
     "model_module_version": "1.2.0",
     "state": {
      "_model_module": "@jupyter-widgets/base",
      "_model_module_version": "1.2.0",
      "_model_name": "LayoutModel",
      "_view_count": null,
      "_view_module": "@jupyter-widgets/base",
      "_view_module_version": "1.2.0",
      "_view_name": "LayoutView",
      "align_content": null,
      "align_items": null,
      "align_self": null,
      "border": null,
      "bottom": null,
      "display": null,
      "flex": null,
      "flex_flow": null,
      "grid_area": null,
      "grid_auto_columns": null,
      "grid_auto_flow": null,
      "grid_auto_rows": null,
      "grid_column": null,
      "grid_gap": null,
      "grid_row": null,
      "grid_template_areas": null,
      "grid_template_columns": null,
      "grid_template_rows": null,
      "height": null,
      "justify_content": null,
      "justify_items": null,
      "left": null,
      "margin": null,
      "max_height": null,
      "max_width": null,
      "min_height": null,
      "min_width": null,
      "object_fit": null,
      "object_position": null,
      "order": null,
      "overflow": null,
      "overflow_x": null,
      "overflow_y": null,
      "padding": null,
      "right": null,
      "top": null,
      "visibility": null,
      "width": null
     }
    },
    "51ce4ad0404b46869d2be6fb59e65521": {
     "model_module": "@jupyter-widgets/controls",
     "model_name": "DescriptionStyleModel",
     "model_module_version": "1.5.0",
     "state": {
      "_model_module": "@jupyter-widgets/controls",
      "_model_module_version": "1.5.0",
      "_model_name": "DescriptionStyleModel",
      "_view_count": null,
      "_view_module": "@jupyter-widgets/base",
      "_view_module_version": "1.2.0",
      "_view_name": "StyleView",
      "description_width": ""
     }
    },
    "e571796e3f0e4df683addeb2244ef74e": {
     "model_module": "@jupyter-widgets/base",
     "model_name": "LayoutModel",
     "model_module_version": "1.2.0",
     "state": {
      "_model_module": "@jupyter-widgets/base",
      "_model_module_version": "1.2.0",
      "_model_name": "LayoutModel",
      "_view_count": null,
      "_view_module": "@jupyter-widgets/base",
      "_view_module_version": "1.2.0",
      "_view_name": "LayoutView",
      "align_content": null,
      "align_items": null,
      "align_self": null,
      "border": null,
      "bottom": null,
      "display": null,
      "flex": null,
      "flex_flow": null,
      "grid_area": null,
      "grid_auto_columns": null,
      "grid_auto_flow": null,
      "grid_auto_rows": null,
      "grid_column": null,
      "grid_gap": null,
      "grid_row": null,
      "grid_template_areas": null,
      "grid_template_columns": null,
      "grid_template_rows": null,
      "height": null,
      "justify_content": null,
      "justify_items": null,
      "left": null,
      "margin": null,
      "max_height": null,
      "max_width": null,
      "min_height": null,
      "min_width": null,
      "object_fit": null,
      "object_position": null,
      "order": null,
      "overflow": null,
      "overflow_x": null,
      "overflow_y": null,
      "padding": null,
      "right": null,
      "top": null,
      "visibility": null,
      "width": null
     }
    },
    "1de3f593e20445f38bac45e541303353": {
     "model_module": "@jupyter-widgets/controls",
     "model_name": "ProgressStyleModel",
     "model_module_version": "1.5.0",
     "state": {
      "_model_module": "@jupyter-widgets/controls",
      "_model_module_version": "1.5.0",
      "_model_name": "ProgressStyleModel",
      "_view_count": null,
      "_view_module": "@jupyter-widgets/base",
      "_view_module_version": "1.2.0",
      "_view_name": "StyleView",
      "bar_color": null,
      "description_width": ""
     }
    },
    "5014885c5a5c408fa916f95f93845a89": {
     "model_module": "@jupyter-widgets/base",
     "model_name": "LayoutModel",
     "model_module_version": "1.2.0",
     "state": {
      "_model_module": "@jupyter-widgets/base",
      "_model_module_version": "1.2.0",
      "_model_name": "LayoutModel",
      "_view_count": null,
      "_view_module": "@jupyter-widgets/base",
      "_view_module_version": "1.2.0",
      "_view_name": "LayoutView",
      "align_content": null,
      "align_items": null,
      "align_self": null,
      "border": null,
      "bottom": null,
      "display": null,
      "flex": null,
      "flex_flow": null,
      "grid_area": null,
      "grid_auto_columns": null,
      "grid_auto_flow": null,
      "grid_auto_rows": null,
      "grid_column": null,
      "grid_gap": null,
      "grid_row": null,
      "grid_template_areas": null,
      "grid_template_columns": null,
      "grid_template_rows": null,
      "height": null,
      "justify_content": null,
      "justify_items": null,
      "left": null,
      "margin": null,
      "max_height": null,
      "max_width": null,
      "min_height": null,
      "min_width": null,
      "object_fit": null,
      "object_position": null,
      "order": null,
      "overflow": null,
      "overflow_x": null,
      "overflow_y": null,
      "padding": null,
      "right": null,
      "top": null,
      "visibility": null,
      "width": null
     }
    },
    "f99a3540b42d4e838fb34a57e8b5934e": {
     "model_module": "@jupyter-widgets/controls",
     "model_name": "DescriptionStyleModel",
     "model_module_version": "1.5.0",
     "state": {
      "_model_module": "@jupyter-widgets/controls",
      "_model_module_version": "1.5.0",
      "_model_name": "DescriptionStyleModel",
      "_view_count": null,
      "_view_module": "@jupyter-widgets/base",
      "_view_module_version": "1.2.0",
      "_view_name": "StyleView",
      "description_width": ""
     }
    },
    "cb7af54efee04116a093e9ca775d51b7": {
     "model_module": "@jupyter-widgets/controls",
     "model_name": "HBoxModel",
     "model_module_version": "1.5.0",
     "state": {
      "_dom_classes": [],
      "_model_module": "@jupyter-widgets/controls",
      "_model_module_version": "1.5.0",
      "_model_name": "HBoxModel",
      "_view_count": null,
      "_view_module": "@jupyter-widgets/controls",
      "_view_module_version": "1.5.0",
      "_view_name": "HBoxView",
      "box_style": "",
      "children": [
       "IPY_MODEL_2c8278e9affc406190f946ccebed365b",
       "IPY_MODEL_c9747eb2f5d2441ab240b5348686c344",
       "IPY_MODEL_59936e325fae4c3f9e43d5f55accd70e"
      ],
      "layout": "IPY_MODEL_db25d57ae81e4bc683aaff17ddee5d38"
     }
    },
    "2c8278e9affc406190f946ccebed365b": {
     "model_module": "@jupyter-widgets/controls",
     "model_name": "HTMLModel",
     "model_module_version": "1.5.0",
     "state": {
      "_dom_classes": [],
      "_model_module": "@jupyter-widgets/controls",
      "_model_module_version": "1.5.0",
      "_model_name": "HTMLModel",
      "_view_count": null,
      "_view_module": "@jupyter-widgets/controls",
      "_view_module_version": "1.5.0",
      "_view_name": "HTMLView",
      "description": "",
      "description_tooltip": null,
      "layout": "IPY_MODEL_fd8e2f0b504744dcb18e18fe96f83d7a",
      "placeholder": "​",
      "style": "IPY_MODEL_3400bc2e41d24a5991a2906b7da35372",
      "value": "Fetching 2 files: 100%"
     }
    },
    "c9747eb2f5d2441ab240b5348686c344": {
     "model_module": "@jupyter-widgets/controls",
     "model_name": "FloatProgressModel",
     "model_module_version": "1.5.0",
     "state": {
      "_dom_classes": [],
      "_model_module": "@jupyter-widgets/controls",
      "_model_module_version": "1.5.0",
      "_model_name": "FloatProgressModel",
      "_view_count": null,
      "_view_module": "@jupyter-widgets/controls",
      "_view_module_version": "1.5.0",
      "_view_name": "ProgressView",
      "bar_style": "success",
      "description": "",
      "description_tooltip": null,
      "layout": "IPY_MODEL_67862e45aeed47c4bd56956324ffc65a",
      "max": 2,
      "min": 0,
      "orientation": "horizontal",
      "style": "IPY_MODEL_4f06e088a8a5412383973667ebf412fd",
      "value": 2
     }
    },
    "59936e325fae4c3f9e43d5f55accd70e": {
     "model_module": "@jupyter-widgets/controls",
     "model_name": "HTMLModel",
     "model_module_version": "1.5.0",
     "state": {
      "_dom_classes": [],
      "_model_module": "@jupyter-widgets/controls",
      "_model_module_version": "1.5.0",
      "_model_name": "HTMLModel",
      "_view_count": null,
      "_view_module": "@jupyter-widgets/controls",
      "_view_module_version": "1.5.0",
      "_view_name": "HTMLView",
      "description": "",
      "description_tooltip": null,
      "layout": "IPY_MODEL_f676ec6169254205b0165cf2f1caaa51",
      "placeholder": "​",
      "style": "IPY_MODEL_ba9c1e25dd8e497ea7bd022c659cb132",
      "value": " 2/2 [00:56&lt;00:00, 56.94s/it]"
     }
    },
    "db25d57ae81e4bc683aaff17ddee5d38": {
     "model_module": "@jupyter-widgets/base",
     "model_name": "LayoutModel",
     "model_module_version": "1.2.0",
     "state": {
      "_model_module": "@jupyter-widgets/base",
      "_model_module_version": "1.2.0",
      "_model_name": "LayoutModel",
      "_view_count": null,
      "_view_module": "@jupyter-widgets/base",
      "_view_module_version": "1.2.0",
      "_view_name": "LayoutView",
      "align_content": null,
      "align_items": null,
      "align_self": null,
      "border": null,
      "bottom": null,
      "display": null,
      "flex": null,
      "flex_flow": null,
      "grid_area": null,
      "grid_auto_columns": null,
      "grid_auto_flow": null,
      "grid_auto_rows": null,
      "grid_column": null,
      "grid_gap": null,
      "grid_row": null,
      "grid_template_areas": null,
      "grid_template_columns": null,
      "grid_template_rows": null,
      "height": null,
      "justify_content": null,
      "justify_items": null,
      "left": null,
      "margin": null,
      "max_height": null,
      "max_width": null,
      "min_height": null,
      "min_width": null,
      "object_fit": null,
      "object_position": null,
      "order": null,
      "overflow": null,
      "overflow_x": null,
      "overflow_y": null,
      "padding": null,
      "right": null,
      "top": null,
      "visibility": null,
      "width": null
     }
    },
    "fd8e2f0b504744dcb18e18fe96f83d7a": {
     "model_module": "@jupyter-widgets/base",
     "model_name": "LayoutModel",
     "model_module_version": "1.2.0",
     "state": {
      "_model_module": "@jupyter-widgets/base",
      "_model_module_version": "1.2.0",
      "_model_name": "LayoutModel",
      "_view_count": null,
      "_view_module": "@jupyter-widgets/base",
      "_view_module_version": "1.2.0",
      "_view_name": "LayoutView",
      "align_content": null,
      "align_items": null,
      "align_self": null,
      "border": null,
      "bottom": null,
      "display": null,
      "flex": null,
      "flex_flow": null,
      "grid_area": null,
      "grid_auto_columns": null,
      "grid_auto_flow": null,
      "grid_auto_rows": null,
      "grid_column": null,
      "grid_gap": null,
      "grid_row": null,
      "grid_template_areas": null,
      "grid_template_columns": null,
      "grid_template_rows": null,
      "height": null,
      "justify_content": null,
      "justify_items": null,
      "left": null,
      "margin": null,
      "max_height": null,
      "max_width": null,
      "min_height": null,
      "min_width": null,
      "object_fit": null,
      "object_position": null,
      "order": null,
      "overflow": null,
      "overflow_x": null,
      "overflow_y": null,
      "padding": null,
      "right": null,
      "top": null,
      "visibility": null,
      "width": null
     }
    },
    "3400bc2e41d24a5991a2906b7da35372": {
     "model_module": "@jupyter-widgets/controls",
     "model_name": "DescriptionStyleModel",
     "model_module_version": "1.5.0",
     "state": {
      "_model_module": "@jupyter-widgets/controls",
      "_model_module_version": "1.5.0",
      "_model_name": "DescriptionStyleModel",
      "_view_count": null,
      "_view_module": "@jupyter-widgets/base",
      "_view_module_version": "1.2.0",
      "_view_name": "StyleView",
      "description_width": ""
     }
    },
    "67862e45aeed47c4bd56956324ffc65a": {
     "model_module": "@jupyter-widgets/base",
     "model_name": "LayoutModel",
     "model_module_version": "1.2.0",
     "state": {
      "_model_module": "@jupyter-widgets/base",
      "_model_module_version": "1.2.0",
      "_model_name": "LayoutModel",
      "_view_count": null,
      "_view_module": "@jupyter-widgets/base",
      "_view_module_version": "1.2.0",
      "_view_name": "LayoutView",
      "align_content": null,
      "align_items": null,
      "align_self": null,
      "border": null,
      "bottom": null,
      "display": null,
      "flex": null,
      "flex_flow": null,
      "grid_area": null,
      "grid_auto_columns": null,
      "grid_auto_flow": null,
      "grid_auto_rows": null,
      "grid_column": null,
      "grid_gap": null,
      "grid_row": null,
      "grid_template_areas": null,
      "grid_template_columns": null,
      "grid_template_rows": null,
      "height": null,
      "justify_content": null,
      "justify_items": null,
      "left": null,
      "margin": null,
      "max_height": null,
      "max_width": null,
      "min_height": null,
      "min_width": null,
      "object_fit": null,
      "object_position": null,
      "order": null,
      "overflow": null,
      "overflow_x": null,
      "overflow_y": null,
      "padding": null,
      "right": null,
      "top": null,
      "visibility": null,
      "width": null
     }
    },
    "4f06e088a8a5412383973667ebf412fd": {
     "model_module": "@jupyter-widgets/controls",
     "model_name": "ProgressStyleModel",
     "model_module_version": "1.5.0",
     "state": {
      "_model_module": "@jupyter-widgets/controls",
      "_model_module_version": "1.5.0",
      "_model_name": "ProgressStyleModel",
      "_view_count": null,
      "_view_module": "@jupyter-widgets/base",
      "_view_module_version": "1.2.0",
      "_view_name": "StyleView",
      "bar_color": null,
      "description_width": ""
     }
    },
    "f676ec6169254205b0165cf2f1caaa51": {
     "model_module": "@jupyter-widgets/base",
     "model_name": "LayoutModel",
     "model_module_version": "1.2.0",
     "state": {
      "_model_module": "@jupyter-widgets/base",
      "_model_module_version": "1.2.0",
      "_model_name": "LayoutModel",
      "_view_count": null,
      "_view_module": "@jupyter-widgets/base",
      "_view_module_version": "1.2.0",
      "_view_name": "LayoutView",
      "align_content": null,
      "align_items": null,
      "align_self": null,
      "border": null,
      "bottom": null,
      "display": null,
      "flex": null,
      "flex_flow": null,
      "grid_area": null,
      "grid_auto_columns": null,
      "grid_auto_flow": null,
      "grid_auto_rows": null,
      "grid_column": null,
      "grid_gap": null,
      "grid_row": null,
      "grid_template_areas": null,
      "grid_template_columns": null,
      "grid_template_rows": null,
      "height": null,
      "justify_content": null,
      "justify_items": null,
      "left": null,
      "margin": null,
      "max_height": null,
      "max_width": null,
      "min_height": null,
      "min_width": null,
      "object_fit": null,
      "object_position": null,
      "order": null,
      "overflow": null,
      "overflow_x": null,
      "overflow_y": null,
      "padding": null,
      "right": null,
      "top": null,
      "visibility": null,
      "width": null
     }
    },
    "ba9c1e25dd8e497ea7bd022c659cb132": {
     "model_module": "@jupyter-widgets/controls",
     "model_name": "DescriptionStyleModel",
     "model_module_version": "1.5.0",
     "state": {
      "_model_module": "@jupyter-widgets/controls",
      "_model_module_version": "1.5.0",
      "_model_name": "DescriptionStyleModel",
      "_view_count": null,
      "_view_module": "@jupyter-widgets/base",
      "_view_module_version": "1.2.0",
      "_view_name": "StyleView",
      "description_width": ""
     }
    },
    "6d06ac41759b42e79661724a9396fd41": {
     "model_module": "@jupyter-widgets/controls",
     "model_name": "HBoxModel",
     "model_module_version": "1.5.0",
     "state": {
      "_dom_classes": [],
      "_model_module": "@jupyter-widgets/controls",
      "_model_module_version": "1.5.0",
      "_model_name": "HBoxModel",
      "_view_count": null,
      "_view_module": "@jupyter-widgets/controls",
      "_view_module_version": "1.5.0",
      "_view_name": "HBoxView",
      "box_style": "",
      "children": [
       "IPY_MODEL_eef5eab1268540d285cbbdae6fff4c9f",
       "IPY_MODEL_d1f4a6f9ea174f2d9452281040a26aeb",
       "IPY_MODEL_d44eed05a539499ebdd9936003f2c424"
      ],
      "layout": "IPY_MODEL_e91a1058adac43de985907d88ac7dfd1"
     }
    },
    "eef5eab1268540d285cbbdae6fff4c9f": {
     "model_module": "@jupyter-widgets/controls",
     "model_name": "HTMLModel",
     "model_module_version": "1.5.0",
     "state": {
      "_dom_classes": [],
      "_model_module": "@jupyter-widgets/controls",
      "_model_module_version": "1.5.0",
      "_model_name": "HTMLModel",
      "_view_count": null,
      "_view_module": "@jupyter-widgets/controls",
      "_view_module_version": "1.5.0",
      "_view_name": "HTMLView",
      "description": "",
      "description_tooltip": null,
      "layout": "IPY_MODEL_2f04b4472dde4ff3ae39f79adf12c140",
      "placeholder": "​",
      "style": "IPY_MODEL_d86033d945b34a5e8909936b3a55887e",
      "value": "model-00001-of-00002.safetensors: 100%"
     }
    },
    "d1f4a6f9ea174f2d9452281040a26aeb": {
     "model_module": "@jupyter-widgets/controls",
     "model_name": "FloatProgressModel",
     "model_module_version": "1.5.0",
     "state": {
      "_dom_classes": [],
      "_model_module": "@jupyter-widgets/controls",
      "_model_module_version": "1.5.0",
      "_model_name": "FloatProgressModel",
      "_view_count": null,
      "_view_module": "@jupyter-widgets/controls",
      "_view_module_version": "1.5.0",
      "_view_name": "ProgressView",
      "bar_style": "success",
      "description": "",
      "description_tooltip": null,
      "layout": "IPY_MODEL_2b7199eeb5d542d183d122ba3d3993d7",
      "max": 4972489328,
      "min": 0,
      "orientation": "horizontal",
      "style": "IPY_MODEL_21189d599d9d409e911ffc7ffff324db",
      "value": 4972489328
     }
    },
    "d44eed05a539499ebdd9936003f2c424": {
     "model_module": "@jupyter-widgets/controls",
     "model_name": "HTMLModel",
     "model_module_version": "1.5.0",
     "state": {
      "_dom_classes": [],
      "_model_module": "@jupyter-widgets/controls",
      "_model_module_version": "1.5.0",
      "_model_name": "HTMLModel",
      "_view_count": null,
      "_view_module": "@jupyter-widgets/controls",
      "_view_module_version": "1.5.0",
      "_view_name": "HTMLView",
      "description": "",
      "description_tooltip": null,
      "layout": "IPY_MODEL_3a25a16d22aa4af19de94fa5e8d8d730",
      "placeholder": "​",
      "style": "IPY_MODEL_7ed8c5847b5541aca1b8ef21e47d6f49",
      "value": " 4.97G/4.97G [00:56&lt;00:00, 270MB/s]"
     }
    },
    "e91a1058adac43de985907d88ac7dfd1": {
     "model_module": "@jupyter-widgets/base",
     "model_name": "LayoutModel",
     "model_module_version": "1.2.0",
     "state": {
      "_model_module": "@jupyter-widgets/base",
      "_model_module_version": "1.2.0",
      "_model_name": "LayoutModel",
      "_view_count": null,
      "_view_module": "@jupyter-widgets/base",
      "_view_module_version": "1.2.0",
      "_view_name": "LayoutView",
      "align_content": null,
      "align_items": null,
      "align_self": null,
      "border": null,
      "bottom": null,
      "display": null,
      "flex": null,
      "flex_flow": null,
      "grid_area": null,
      "grid_auto_columns": null,
      "grid_auto_flow": null,
      "grid_auto_rows": null,
      "grid_column": null,
      "grid_gap": null,
      "grid_row": null,
      "grid_template_areas": null,
      "grid_template_columns": null,
      "grid_template_rows": null,
      "height": null,
      "justify_content": null,
      "justify_items": null,
      "left": null,
      "margin": null,
      "max_height": null,
      "max_width": null,
      "min_height": null,
      "min_width": null,
      "object_fit": null,
      "object_position": null,
      "order": null,
      "overflow": null,
      "overflow_x": null,
      "overflow_y": null,
      "padding": null,
      "right": null,
      "top": null,
      "visibility": null,
      "width": null
     }
    },
    "2f04b4472dde4ff3ae39f79adf12c140": {
     "model_module": "@jupyter-widgets/base",
     "model_name": "LayoutModel",
     "model_module_version": "1.2.0",
     "state": {
      "_model_module": "@jupyter-widgets/base",
      "_model_module_version": "1.2.0",
      "_model_name": "LayoutModel",
      "_view_count": null,
      "_view_module": "@jupyter-widgets/base",
      "_view_module_version": "1.2.0",
      "_view_name": "LayoutView",
      "align_content": null,
      "align_items": null,
      "align_self": null,
      "border": null,
      "bottom": null,
      "display": null,
      "flex": null,
      "flex_flow": null,
      "grid_area": null,
      "grid_auto_columns": null,
      "grid_auto_flow": null,
      "grid_auto_rows": null,
      "grid_column": null,
      "grid_gap": null,
      "grid_row": null,
      "grid_template_areas": null,
      "grid_template_columns": null,
      "grid_template_rows": null,
      "height": null,
      "justify_content": null,
      "justify_items": null,
      "left": null,
      "margin": null,
      "max_height": null,
      "max_width": null,
      "min_height": null,
      "min_width": null,
      "object_fit": null,
      "object_position": null,
      "order": null,
      "overflow": null,
      "overflow_x": null,
      "overflow_y": null,
      "padding": null,
      "right": null,
      "top": null,
      "visibility": null,
      "width": null
     }
    },
    "d86033d945b34a5e8909936b3a55887e": {
     "model_module": "@jupyter-widgets/controls",
     "model_name": "DescriptionStyleModel",
     "model_module_version": "1.5.0",
     "state": {
      "_model_module": "@jupyter-widgets/controls",
      "_model_module_version": "1.5.0",
      "_model_name": "DescriptionStyleModel",
      "_view_count": null,
      "_view_module": "@jupyter-widgets/base",
      "_view_module_version": "1.2.0",
      "_view_name": "StyleView",
      "description_width": ""
     }
    },
    "2b7199eeb5d542d183d122ba3d3993d7": {
     "model_module": "@jupyter-widgets/base",
     "model_name": "LayoutModel",
     "model_module_version": "1.2.0",
     "state": {
      "_model_module": "@jupyter-widgets/base",
      "_model_module_version": "1.2.0",
      "_model_name": "LayoutModel",
      "_view_count": null,
      "_view_module": "@jupyter-widgets/base",
      "_view_module_version": "1.2.0",
      "_view_name": "LayoutView",
      "align_content": null,
      "align_items": null,
      "align_self": null,
      "border": null,
      "bottom": null,
      "display": null,
      "flex": null,
      "flex_flow": null,
      "grid_area": null,
      "grid_auto_columns": null,
      "grid_auto_flow": null,
      "grid_auto_rows": null,
      "grid_column": null,
      "grid_gap": null,
      "grid_row": null,
      "grid_template_areas": null,
      "grid_template_columns": null,
      "grid_template_rows": null,
      "height": null,
      "justify_content": null,
      "justify_items": null,
      "left": null,
      "margin": null,
      "max_height": null,
      "max_width": null,
      "min_height": null,
      "min_width": null,
      "object_fit": null,
      "object_position": null,
      "order": null,
      "overflow": null,
      "overflow_x": null,
      "overflow_y": null,
      "padding": null,
      "right": null,
      "top": null,
      "visibility": null,
      "width": null
     }
    },
    "21189d599d9d409e911ffc7ffff324db": {
     "model_module": "@jupyter-widgets/controls",
     "model_name": "ProgressStyleModel",
     "model_module_version": "1.5.0",
     "state": {
      "_model_module": "@jupyter-widgets/controls",
      "_model_module_version": "1.5.0",
      "_model_name": "ProgressStyleModel",
      "_view_count": null,
      "_view_module": "@jupyter-widgets/base",
      "_view_module_version": "1.2.0",
      "_view_name": "StyleView",
      "bar_color": null,
      "description_width": ""
     }
    },
    "3a25a16d22aa4af19de94fa5e8d8d730": {
     "model_module": "@jupyter-widgets/base",
     "model_name": "LayoutModel",
     "model_module_version": "1.2.0",
     "state": {
      "_model_module": "@jupyter-widgets/base",
      "_model_module_version": "1.2.0",
      "_model_name": "LayoutModel",
      "_view_count": null,
      "_view_module": "@jupyter-widgets/base",
      "_view_module_version": "1.2.0",
      "_view_name": "LayoutView",
      "align_content": null,
      "align_items": null,
      "align_self": null,
      "border": null,
      "bottom": null,
      "display": null,
      "flex": null,
      "flex_flow": null,
      "grid_area": null,
      "grid_auto_columns": null,
      "grid_auto_flow": null,
      "grid_auto_rows": null,
      "grid_column": null,
      "grid_gap": null,
      "grid_row": null,
      "grid_template_areas": null,
      "grid_template_columns": null,
      "grid_template_rows": null,
      "height": null,
      "justify_content": null,
      "justify_items": null,
      "left": null,
      "margin": null,
      "max_height": null,
      "max_width": null,
      "min_height": null,
      "min_width": null,
      "object_fit": null,
      "object_position": null,
      "order": null,
      "overflow": null,
      "overflow_x": null,
      "overflow_y": null,
      "padding": null,
      "right": null,
      "top": null,
      "visibility": null,
      "width": null
     }
    },
    "7ed8c5847b5541aca1b8ef21e47d6f49": {
     "model_module": "@jupyter-widgets/controls",
     "model_name": "DescriptionStyleModel",
     "model_module_version": "1.5.0",
     "state": {
      "_model_module": "@jupyter-widgets/controls",
      "_model_module_version": "1.5.0",
      "_model_name": "DescriptionStyleModel",
      "_view_count": null,
      "_view_module": "@jupyter-widgets/base",
      "_view_module_version": "1.2.0",
      "_view_name": "StyleView",
      "description_width": ""
     }
    },
    "dabe0f6028b14ec38e9ec48eef412c13": {
     "model_module": "@jupyter-widgets/controls",
     "model_name": "HBoxModel",
     "model_module_version": "1.5.0",
     "state": {
      "_dom_classes": [],
      "_model_module": "@jupyter-widgets/controls",
      "_model_module_version": "1.5.0",
      "_model_name": "HBoxModel",
      "_view_count": null,
      "_view_module": "@jupyter-widgets/controls",
      "_view_module_version": "1.5.0",
      "_view_name": "HBoxView",
      "box_style": "",
      "children": [
       "IPY_MODEL_d3ff36ceff214c22bb7774c68c9d798f",
       "IPY_MODEL_cb440e12f03a480f898172831955658b",
       "IPY_MODEL_480687df6f44492381211377fb162fb9"
      ],
      "layout": "IPY_MODEL_df770bafb1cf4400b47d95d2424fcd17"
     }
    },
    "d3ff36ceff214c22bb7774c68c9d798f": {
     "model_module": "@jupyter-widgets/controls",
     "model_name": "HTMLModel",
     "model_module_version": "1.5.0",
     "state": {
      "_dom_classes": [],
      "_model_module": "@jupyter-widgets/controls",
      "_model_module_version": "1.5.0",
      "_model_name": "HTMLModel",
      "_view_count": null,
      "_view_module": "@jupyter-widgets/controls",
      "_view_module_version": "1.5.0",
      "_view_name": "HTMLView",
      "description": "",
      "description_tooltip": null,
      "layout": "IPY_MODEL_490db365b4004c3ab28579c44fd251e7",
      "placeholder": "​",
      "style": "IPY_MODEL_8ffbc813153b4437a6d7458044943321",
      "value": "model-00002-of-00002.safetensors: 100%"
     }
    },
    "cb440e12f03a480f898172831955658b": {
     "model_module": "@jupyter-widgets/controls",
     "model_name": "FloatProgressModel",
     "model_module_version": "1.5.0",
     "state": {
      "_dom_classes": [],
      "_model_module": "@jupyter-widgets/controls",
      "_model_module_version": "1.5.0",
      "_model_name": "FloatProgressModel",
      "_view_count": null,
      "_view_module": "@jupyter-widgets/controls",
      "_view_module_version": "1.5.0",
      "_view_name": "ProgressView",
      "bar_style": "success",
      "description": "",
      "description_tooltip": null,
      "layout": "IPY_MODEL_2ee57500faf247a294c0392da3749c8d",
      "max": 2669692552,
      "min": 0,
      "orientation": "horizontal",
      "style": "IPY_MODEL_93a0342231214b55a3b505797d96cf3d",
      "value": 2669692552
     }
    },
    "480687df6f44492381211377fb162fb9": {
     "model_module": "@jupyter-widgets/controls",
     "model_name": "HTMLModel",
     "model_module_version": "1.5.0",
     "state": {
      "_dom_classes": [],
      "_model_module": "@jupyter-widgets/controls",
      "_model_module_version": "1.5.0",
      "_model_name": "HTMLModel",
      "_view_count": null,
      "_view_module": "@jupyter-widgets/controls",
      "_view_module_version": "1.5.0",
      "_view_name": "HTMLView",
      "description": "",
      "description_tooltip": null,
      "layout": "IPY_MODEL_92c256d5d89f42928b721be9c345a6df",
      "placeholder": "​",
      "style": "IPY_MODEL_8b64937a96cd4984a1913eb671773d1b",
      "value": " 2.67G/2.67G [00:42&lt;00:00, 117MB/s]"
     }
    },
    "df770bafb1cf4400b47d95d2424fcd17": {
     "model_module": "@jupyter-widgets/base",
     "model_name": "LayoutModel",
     "model_module_version": "1.2.0",
     "state": {
      "_model_module": "@jupyter-widgets/base",
      "_model_module_version": "1.2.0",
      "_model_name": "LayoutModel",
      "_view_count": null,
      "_view_module": "@jupyter-widgets/base",
      "_view_module_version": "1.2.0",
      "_view_name": "LayoutView",
      "align_content": null,
      "align_items": null,
      "align_self": null,
      "border": null,
      "bottom": null,
      "display": null,
      "flex": null,
      "flex_flow": null,
      "grid_area": null,
      "grid_auto_columns": null,
      "grid_auto_flow": null,
      "grid_auto_rows": null,
      "grid_column": null,
      "grid_gap": null,
      "grid_row": null,
      "grid_template_areas": null,
      "grid_template_columns": null,
      "grid_template_rows": null,
      "height": null,
      "justify_content": null,
      "justify_items": null,
      "left": null,
      "margin": null,
      "max_height": null,
      "max_width": null,
      "min_height": null,
      "min_width": null,
      "object_fit": null,
      "object_position": null,
      "order": null,
      "overflow": null,
      "overflow_x": null,
      "overflow_y": null,
      "padding": null,
      "right": null,
      "top": null,
      "visibility": null,
      "width": null
     }
    },
    "490db365b4004c3ab28579c44fd251e7": {
     "model_module": "@jupyter-widgets/base",
     "model_name": "LayoutModel",
     "model_module_version": "1.2.0",
     "state": {
      "_model_module": "@jupyter-widgets/base",
      "_model_module_version": "1.2.0",
      "_model_name": "LayoutModel",
      "_view_count": null,
      "_view_module": "@jupyter-widgets/base",
      "_view_module_version": "1.2.0",
      "_view_name": "LayoutView",
      "align_content": null,
      "align_items": null,
      "align_self": null,
      "border": null,
      "bottom": null,
      "display": null,
      "flex": null,
      "flex_flow": null,
      "grid_area": null,
      "grid_auto_columns": null,
      "grid_auto_flow": null,
      "grid_auto_rows": null,
      "grid_column": null,
      "grid_gap": null,
      "grid_row": null,
      "grid_template_areas": null,
      "grid_template_columns": null,
      "grid_template_rows": null,
      "height": null,
      "justify_content": null,
      "justify_items": null,
      "left": null,
      "margin": null,
      "max_height": null,
      "max_width": null,
      "min_height": null,
      "min_width": null,
      "object_fit": null,
      "object_position": null,
      "order": null,
      "overflow": null,
      "overflow_x": null,
      "overflow_y": null,
      "padding": null,
      "right": null,
      "top": null,
      "visibility": null,
      "width": null
     }
    },
    "8ffbc813153b4437a6d7458044943321": {
     "model_module": "@jupyter-widgets/controls",
     "model_name": "DescriptionStyleModel",
     "model_module_version": "1.5.0",
     "state": {
      "_model_module": "@jupyter-widgets/controls",
      "_model_module_version": "1.5.0",
      "_model_name": "DescriptionStyleModel",
      "_view_count": null,
      "_view_module": "@jupyter-widgets/base",
      "_view_module_version": "1.2.0",
      "_view_name": "StyleView",
      "description_width": ""
     }
    },
    "2ee57500faf247a294c0392da3749c8d": {
     "model_module": "@jupyter-widgets/base",
     "model_name": "LayoutModel",
     "model_module_version": "1.2.0",
     "state": {
      "_model_module": "@jupyter-widgets/base",
      "_model_module_version": "1.2.0",
      "_model_name": "LayoutModel",
      "_view_count": null,
      "_view_module": "@jupyter-widgets/base",
      "_view_module_version": "1.2.0",
      "_view_name": "LayoutView",
      "align_content": null,
      "align_items": null,
      "align_self": null,
      "border": null,
      "bottom": null,
      "display": null,
      "flex": null,
      "flex_flow": null,
      "grid_area": null,
      "grid_auto_columns": null,
      "grid_auto_flow": null,
      "grid_auto_rows": null,
      "grid_column": null,
      "grid_gap": null,
      "grid_row": null,
      "grid_template_areas": null,
      "grid_template_columns": null,
      "grid_template_rows": null,
      "height": null,
      "justify_content": null,
      "justify_items": null,
      "left": null,
      "margin": null,
      "max_height": null,
      "max_width": null,
      "min_height": null,
      "min_width": null,
      "object_fit": null,
      "object_position": null,
      "order": null,
      "overflow": null,
      "overflow_x": null,
      "overflow_y": null,
      "padding": null,
      "right": null,
      "top": null,
      "visibility": null,
      "width": null
     }
    },
    "93a0342231214b55a3b505797d96cf3d": {
     "model_module": "@jupyter-widgets/controls",
     "model_name": "ProgressStyleModel",
     "model_module_version": "1.5.0",
     "state": {
      "_model_module": "@jupyter-widgets/controls",
      "_model_module_version": "1.5.0",
      "_model_name": "ProgressStyleModel",
      "_view_count": null,
      "_view_module": "@jupyter-widgets/base",
      "_view_module_version": "1.2.0",
      "_view_name": "StyleView",
      "bar_color": null,
      "description_width": ""
     }
    },
    "92c256d5d89f42928b721be9c345a6df": {
     "model_module": "@jupyter-widgets/base",
     "model_name": "LayoutModel",
     "model_module_version": "1.2.0",
     "state": {
      "_model_module": "@jupyter-widgets/base",
      "_model_module_version": "1.2.0",
      "_model_name": "LayoutModel",
      "_view_count": null,
      "_view_module": "@jupyter-widgets/base",
      "_view_module_version": "1.2.0",
      "_view_name": "LayoutView",
      "align_content": null,
      "align_items": null,
      "align_self": null,
      "border": null,
      "bottom": null,
      "display": null,
      "flex": null,
      "flex_flow": null,
      "grid_area": null,
      "grid_auto_columns": null,
      "grid_auto_flow": null,
      "grid_auto_rows": null,
      "grid_column": null,
      "grid_gap": null,
      "grid_row": null,
      "grid_template_areas": null,
      "grid_template_columns": null,
      "grid_template_rows": null,
      "height": null,
      "justify_content": null,
      "justify_items": null,
      "left": null,
      "margin": null,
      "max_height": null,
      "max_width": null,
      "min_height": null,
      "min_width": null,
      "object_fit": null,
      "object_position": null,
      "order": null,
      "overflow": null,
      "overflow_x": null,
      "overflow_y": null,
      "padding": null,
      "right": null,
      "top": null,
      "visibility": null,
      "width": null
     }
    },
    "8b64937a96cd4984a1913eb671773d1b": {
     "model_module": "@jupyter-widgets/controls",
     "model_name": "DescriptionStyleModel",
     "model_module_version": "1.5.0",
     "state": {
      "_model_module": "@jupyter-widgets/controls",
      "_model_module_version": "1.5.0",
      "_model_name": "DescriptionStyleModel",
      "_view_count": null,
      "_view_module": "@jupyter-widgets/base",
      "_view_module_version": "1.2.0",
      "_view_name": "StyleView",
      "description_width": ""
     }
    },
    "1c18b1539d214a5d89db9576df90943a": {
     "model_module": "@jupyter-widgets/controls",
     "model_name": "HBoxModel",
     "model_module_version": "1.5.0",
     "state": {
      "_dom_classes": [],
      "_model_module": "@jupyter-widgets/controls",
      "_model_module_version": "1.5.0",
      "_model_name": "HBoxModel",
      "_view_count": null,
      "_view_module": "@jupyter-widgets/controls",
      "_view_module_version": "1.5.0",
      "_view_name": "HBoxView",
      "box_style": "",
      "children": [
       "IPY_MODEL_d44a2ba6c4594b18bd7fa4ab7194bb81",
       "IPY_MODEL_7ff91922ba27485ab7166df5b4af4880",
       "IPY_MODEL_be350e81fe854ca29e24971e9c94a4da"
      ],
      "layout": "IPY_MODEL_fcc06914d5564be8940bcff9993b99f9"
     }
    },
    "d44a2ba6c4594b18bd7fa4ab7194bb81": {
     "model_module": "@jupyter-widgets/controls",
     "model_name": "HTMLModel",
     "model_module_version": "1.5.0",
     "state": {
      "_dom_classes": [],
      "_model_module": "@jupyter-widgets/controls",
      "_model_module_version": "1.5.0",
      "_model_name": "HTMLModel",
      "_view_count": null,
      "_view_module": "@jupyter-widgets/controls",
      "_view_module_version": "1.5.0",
      "_view_name": "HTMLView",
      "description": "",
      "description_tooltip": null,
      "layout": "IPY_MODEL_f5d538bbee674cb79f5dc6159c081ebd",
      "placeholder": "​",
      "style": "IPY_MODEL_02310a1058d549b69fd6f62bd737065e",
      "value": "Loading checkpoint shards: 100%"
     }
    },
    "7ff91922ba27485ab7166df5b4af4880": {
     "model_module": "@jupyter-widgets/controls",
     "model_name": "FloatProgressModel",
     "model_module_version": "1.5.0",
     "state": {
      "_dom_classes": [],
      "_model_module": "@jupyter-widgets/controls",
      "_model_module_version": "1.5.0",
      "_model_name": "FloatProgressModel",
      "_view_count": null,
      "_view_module": "@jupyter-widgets/controls",
      "_view_module_version": "1.5.0",
      "_view_name": "ProgressView",
      "bar_style": "success",
      "description": "",
      "description_tooltip": null,
      "layout": "IPY_MODEL_6cf266119656466286c51190e5e6b728",
      "max": 2,
      "min": 0,
      "orientation": "horizontal",
      "style": "IPY_MODEL_43c95a3ed6cd4ccd888aba54e6c4ed3d",
      "value": 2
     }
    },
    "be350e81fe854ca29e24971e9c94a4da": {
     "model_module": "@jupyter-widgets/controls",
     "model_name": "HTMLModel",
     "model_module_version": "1.5.0",
     "state": {
      "_dom_classes": [],
      "_model_module": "@jupyter-widgets/controls",
      "_model_module_version": "1.5.0",
      "_model_name": "HTMLModel",
      "_view_count": null,
      "_view_module": "@jupyter-widgets/controls",
      "_view_module_version": "1.5.0",
      "_view_name": "HTMLView",
      "description": "",
      "description_tooltip": null,
      "layout": "IPY_MODEL_6b38e3bb102d4b53971eb857c1829f59",
      "placeholder": "​",
      "style": "IPY_MODEL_f2443fc31dbc4ca490343760a393bec7",
      "value": " 2/2 [00:36&lt;00:00, 17.47s/it]"
     }
    },
    "fcc06914d5564be8940bcff9993b99f9": {
     "model_module": "@jupyter-widgets/base",
     "model_name": "LayoutModel",
     "model_module_version": "1.2.0",
     "state": {
      "_model_module": "@jupyter-widgets/base",
      "_model_module_version": "1.2.0",
      "_model_name": "LayoutModel",
      "_view_count": null,
      "_view_module": "@jupyter-widgets/base",
      "_view_module_version": "1.2.0",
      "_view_name": "LayoutView",
      "align_content": null,
      "align_items": null,
      "align_self": null,
      "border": null,
      "bottom": null,
      "display": null,
      "flex": null,
      "flex_flow": null,
      "grid_area": null,
      "grid_auto_columns": null,
      "grid_auto_flow": null,
      "grid_auto_rows": null,
      "grid_column": null,
      "grid_gap": null,
      "grid_row": null,
      "grid_template_areas": null,
      "grid_template_columns": null,
      "grid_template_rows": null,
      "height": null,
      "justify_content": null,
      "justify_items": null,
      "left": null,
      "margin": null,
      "max_height": null,
      "max_width": null,
      "min_height": null,
      "min_width": null,
      "object_fit": null,
      "object_position": null,
      "order": null,
      "overflow": null,
      "overflow_x": null,
      "overflow_y": null,
      "padding": null,
      "right": null,
      "top": null,
      "visibility": null,
      "width": null
     }
    },
    "f5d538bbee674cb79f5dc6159c081ebd": {
     "model_module": "@jupyter-widgets/base",
     "model_name": "LayoutModel",
     "model_module_version": "1.2.0",
     "state": {
      "_model_module": "@jupyter-widgets/base",
      "_model_module_version": "1.2.0",
      "_model_name": "LayoutModel",
      "_view_count": null,
      "_view_module": "@jupyter-widgets/base",
      "_view_module_version": "1.2.0",
      "_view_name": "LayoutView",
      "align_content": null,
      "align_items": null,
      "align_self": null,
      "border": null,
      "bottom": null,
      "display": null,
      "flex": null,
      "flex_flow": null,
      "grid_area": null,
      "grid_auto_columns": null,
      "grid_auto_flow": null,
      "grid_auto_rows": null,
      "grid_column": null,
      "grid_gap": null,
      "grid_row": null,
      "grid_template_areas": null,
      "grid_template_columns": null,
      "grid_template_rows": null,
      "height": null,
      "justify_content": null,
      "justify_items": null,
      "left": null,
      "margin": null,
      "max_height": null,
      "max_width": null,
      "min_height": null,
      "min_width": null,
      "object_fit": null,
      "object_position": null,
      "order": null,
      "overflow": null,
      "overflow_x": null,
      "overflow_y": null,
      "padding": null,
      "right": null,
      "top": null,
      "visibility": null,
      "width": null
     }
    },
    "02310a1058d549b69fd6f62bd737065e": {
     "model_module": "@jupyter-widgets/controls",
     "model_name": "DescriptionStyleModel",
     "model_module_version": "1.5.0",
     "state": {
      "_model_module": "@jupyter-widgets/controls",
      "_model_module_version": "1.5.0",
      "_model_name": "DescriptionStyleModel",
      "_view_count": null,
      "_view_module": "@jupyter-widgets/base",
      "_view_module_version": "1.2.0",
      "_view_name": "StyleView",
      "description_width": ""
     }
    },
    "6cf266119656466286c51190e5e6b728": {
     "model_module": "@jupyter-widgets/base",
     "model_name": "LayoutModel",
     "model_module_version": "1.2.0",
     "state": {
      "_model_module": "@jupyter-widgets/base",
      "_model_module_version": "1.2.0",
      "_model_name": "LayoutModel",
      "_view_count": null,
      "_view_module": "@jupyter-widgets/base",
      "_view_module_version": "1.2.0",
      "_view_name": "LayoutView",
      "align_content": null,
      "align_items": null,
      "align_self": null,
      "border": null,
      "bottom": null,
      "display": null,
      "flex": null,
      "flex_flow": null,
      "grid_area": null,
      "grid_auto_columns": null,
      "grid_auto_flow": null,
      "grid_auto_rows": null,
      "grid_column": null,
      "grid_gap": null,
      "grid_row": null,
      "grid_template_areas": null,
      "grid_template_columns": null,
      "grid_template_rows": null,
      "height": null,
      "justify_content": null,
      "justify_items": null,
      "left": null,
      "margin": null,
      "max_height": null,
      "max_width": null,
      "min_height": null,
      "min_width": null,
      "object_fit": null,
      "object_position": null,
      "order": null,
      "overflow": null,
      "overflow_x": null,
      "overflow_y": null,
      "padding": null,
      "right": null,
      "top": null,
      "visibility": null,
      "width": null
     }
    },
    "43c95a3ed6cd4ccd888aba54e6c4ed3d": {
     "model_module": "@jupyter-widgets/controls",
     "model_name": "ProgressStyleModel",
     "model_module_version": "1.5.0",
     "state": {
      "_model_module": "@jupyter-widgets/controls",
      "_model_module_version": "1.5.0",
      "_model_name": "ProgressStyleModel",
      "_view_count": null,
      "_view_module": "@jupyter-widgets/base",
      "_view_module_version": "1.2.0",
      "_view_name": "StyleView",
      "bar_color": null,
      "description_width": ""
     }
    },
    "6b38e3bb102d4b53971eb857c1829f59": {
     "model_module": "@jupyter-widgets/base",
     "model_name": "LayoutModel",
     "model_module_version": "1.2.0",
     "state": {
      "_model_module": "@jupyter-widgets/base",
      "_model_module_version": "1.2.0",
      "_model_name": "LayoutModel",
      "_view_count": null,
      "_view_module": "@jupyter-widgets/base",
      "_view_module_version": "1.2.0",
      "_view_name": "LayoutView",
      "align_content": null,
      "align_items": null,
      "align_self": null,
      "border": null,
      "bottom": null,
      "display": null,
      "flex": null,
      "flex_flow": null,
      "grid_area": null,
      "grid_auto_columns": null,
      "grid_auto_flow": null,
      "grid_auto_rows": null,
      "grid_column": null,
      "grid_gap": null,
      "grid_row": null,
      "grid_template_areas": null,
      "grid_template_columns": null,
      "grid_template_rows": null,
      "height": null,
      "justify_content": null,
      "justify_items": null,
      "left": null,
      "margin": null,
      "max_height": null,
      "max_width": null,
      "min_height": null,
      "min_width": null,
      "object_fit": null,
      "object_position": null,
      "order": null,
      "overflow": null,
      "overflow_x": null,
      "overflow_y": null,
      "padding": null,
      "right": null,
      "top": null,
      "visibility": null,
      "width": null
     }
    },
    "f2443fc31dbc4ca490343760a393bec7": {
     "model_module": "@jupyter-widgets/controls",
     "model_name": "DescriptionStyleModel",
     "model_module_version": "1.5.0",
     "state": {
      "_model_module": "@jupyter-widgets/controls",
      "_model_module_version": "1.5.0",
      "_model_name": "DescriptionStyleModel",
      "_view_count": null,
      "_view_module": "@jupyter-widgets/base",
      "_view_module_version": "1.2.0",
      "_view_name": "StyleView",
      "description_width": ""
     }
    },
    "c7fa46e7bdb64cd2b397a6da3011aeef": {
     "model_module": "@jupyter-widgets/controls",
     "model_name": "HBoxModel",
     "model_module_version": "1.5.0",
     "state": {
      "_dom_classes": [],
      "_model_module": "@jupyter-widgets/controls",
      "_model_module_version": "1.5.0",
      "_model_name": "HBoxModel",
      "_view_count": null,
      "_view_module": "@jupyter-widgets/controls",
      "_view_module_version": "1.5.0",
      "_view_name": "HBoxView",
      "box_style": "",
      "children": [
       "IPY_MODEL_00c4e7aad97349cf92e2b334c0e42be7",
       "IPY_MODEL_47629c559387416f9bb6008efde6fa86",
       "IPY_MODEL_79117656a3dd412ebe0cae14715c3b46"
      ],
      "layout": "IPY_MODEL_77de44f24f024f9589c43ea3faa8444e"
     }
    },
    "00c4e7aad97349cf92e2b334c0e42be7": {
     "model_module": "@jupyter-widgets/controls",
     "model_name": "HTMLModel",
     "model_module_version": "1.5.0",
     "state": {
      "_dom_classes": [],
      "_model_module": "@jupyter-widgets/controls",
      "_model_module_version": "1.5.0",
      "_model_name": "HTMLModel",
      "_view_count": null,
      "_view_module": "@jupyter-widgets/controls",
      "_view_module_version": "1.5.0",
      "_view_name": "HTMLView",
      "description": "",
      "description_tooltip": null,
      "layout": "IPY_MODEL_cde66b8af036487481151d320a54da5f",
      "placeholder": "​",
      "style": "IPY_MODEL_342a2b307c9e4ba5999bd77309a0a408",
      "value": "generation_config.json: 100%"
     }
    },
    "47629c559387416f9bb6008efde6fa86": {
     "model_module": "@jupyter-widgets/controls",
     "model_name": "FloatProgressModel",
     "model_module_version": "1.5.0",
     "state": {
      "_dom_classes": [],
      "_model_module": "@jupyter-widgets/controls",
      "_model_module_version": "1.5.0",
      "_model_name": "FloatProgressModel",
      "_view_count": null,
      "_view_module": "@jupyter-widgets/controls",
      "_view_module_version": "1.5.0",
      "_view_name": "ProgressView",
      "bar_style": "success",
      "description": "",
      "description_tooltip": null,
      "layout": "IPY_MODEL_e71386d0cb314978ba2721d99250774d",
      "max": 181,
      "min": 0,
      "orientation": "horizontal",
      "style": "IPY_MODEL_0f268e494c3c4e9893e750f80d8bdd6e",
      "value": 181
     }
    },
    "79117656a3dd412ebe0cae14715c3b46": {
     "model_module": "@jupyter-widgets/controls",
     "model_name": "HTMLModel",
     "model_module_version": "1.5.0",
     "state": {
      "_dom_classes": [],
      "_model_module": "@jupyter-widgets/controls",
      "_model_module_version": "1.5.0",
      "_model_name": "HTMLModel",
      "_view_count": null,
      "_view_module": "@jupyter-widgets/controls",
      "_view_module_version": "1.5.0",
      "_view_name": "HTMLView",
      "description": "",
      "description_tooltip": null,
      "layout": "IPY_MODEL_894eaa11fac74ed990e3383c150484de",
      "placeholder": "​",
      "style": "IPY_MODEL_952b72c1d6594428b6cc31ea04520d60",
      "value": " 181/181 [00:00&lt;00:00, 14.4kB/s]"
     }
    },
    "77de44f24f024f9589c43ea3faa8444e": {
     "model_module": "@jupyter-widgets/base",
     "model_name": "LayoutModel",
     "model_module_version": "1.2.0",
     "state": {
      "_model_module": "@jupyter-widgets/base",
      "_model_module_version": "1.2.0",
      "_model_name": "LayoutModel",
      "_view_count": null,
      "_view_module": "@jupyter-widgets/base",
      "_view_module_version": "1.2.0",
      "_view_name": "LayoutView",
      "align_content": null,
      "align_items": null,
      "align_self": null,
      "border": null,
      "bottom": null,
      "display": null,
      "flex": null,
      "flex_flow": null,
      "grid_area": null,
      "grid_auto_columns": null,
      "grid_auto_flow": null,
      "grid_auto_rows": null,
      "grid_column": null,
      "grid_gap": null,
      "grid_row": null,
      "grid_template_areas": null,
      "grid_template_columns": null,
      "grid_template_rows": null,
      "height": null,
      "justify_content": null,
      "justify_items": null,
      "left": null,
      "margin": null,
      "max_height": null,
      "max_width": null,
      "min_height": null,
      "min_width": null,
      "object_fit": null,
      "object_position": null,
      "order": null,
      "overflow": null,
      "overflow_x": null,
      "overflow_y": null,
      "padding": null,
      "right": null,
      "top": null,
      "visibility": null,
      "width": null
     }
    },
    "cde66b8af036487481151d320a54da5f": {
     "model_module": "@jupyter-widgets/base",
     "model_name": "LayoutModel",
     "model_module_version": "1.2.0",
     "state": {
      "_model_module": "@jupyter-widgets/base",
      "_model_module_version": "1.2.0",
      "_model_name": "LayoutModel",
      "_view_count": null,
      "_view_module": "@jupyter-widgets/base",
      "_view_module_version": "1.2.0",
      "_view_name": "LayoutView",
      "align_content": null,
      "align_items": null,
      "align_self": null,
      "border": null,
      "bottom": null,
      "display": null,
      "flex": null,
      "flex_flow": null,
      "grid_area": null,
      "grid_auto_columns": null,
      "grid_auto_flow": null,
      "grid_auto_rows": null,
      "grid_column": null,
      "grid_gap": null,
      "grid_row": null,
      "grid_template_areas": null,
      "grid_template_columns": null,
      "grid_template_rows": null,
      "height": null,
      "justify_content": null,
      "justify_items": null,
      "left": null,
      "margin": null,
      "max_height": null,
      "max_width": null,
      "min_height": null,
      "min_width": null,
      "object_fit": null,
      "object_position": null,
      "order": null,
      "overflow": null,
      "overflow_x": null,
      "overflow_y": null,
      "padding": null,
      "right": null,
      "top": null,
      "visibility": null,
      "width": null
     }
    },
    "342a2b307c9e4ba5999bd77309a0a408": {
     "model_module": "@jupyter-widgets/controls",
     "model_name": "DescriptionStyleModel",
     "model_module_version": "1.5.0",
     "state": {
      "_model_module": "@jupyter-widgets/controls",
      "_model_module_version": "1.5.0",
      "_model_name": "DescriptionStyleModel",
      "_view_count": null,
      "_view_module": "@jupyter-widgets/base",
      "_view_module_version": "1.2.0",
      "_view_name": "StyleView",
      "description_width": ""
     }
    },
    "e71386d0cb314978ba2721d99250774d": {
     "model_module": "@jupyter-widgets/base",
     "model_name": "LayoutModel",
     "model_module_version": "1.2.0",
     "state": {
      "_model_module": "@jupyter-widgets/base",
      "_model_module_version": "1.2.0",
      "_model_name": "LayoutModel",
      "_view_count": null,
      "_view_module": "@jupyter-widgets/base",
      "_view_module_version": "1.2.0",
      "_view_name": "LayoutView",
      "align_content": null,
      "align_items": null,
      "align_self": null,
      "border": null,
      "bottom": null,
      "display": null,
      "flex": null,
      "flex_flow": null,
      "grid_area": null,
      "grid_auto_columns": null,
      "grid_auto_flow": null,
      "grid_auto_rows": null,
      "grid_column": null,
      "grid_gap": null,
      "grid_row": null,
      "grid_template_areas": null,
      "grid_template_columns": null,
      "grid_template_rows": null,
      "height": null,
      "justify_content": null,
      "justify_items": null,
      "left": null,
      "margin": null,
      "max_height": null,
      "max_width": null,
      "min_height": null,
      "min_width": null,
      "object_fit": null,
      "object_position": null,
      "order": null,
      "overflow": null,
      "overflow_x": null,
      "overflow_y": null,
      "padding": null,
      "right": null,
      "top": null,
      "visibility": null,
      "width": null
     }
    },
    "0f268e494c3c4e9893e750f80d8bdd6e": {
     "model_module": "@jupyter-widgets/controls",
     "model_name": "ProgressStyleModel",
     "model_module_version": "1.5.0",
     "state": {
      "_model_module": "@jupyter-widgets/controls",
      "_model_module_version": "1.5.0",
      "_model_name": "ProgressStyleModel",
      "_view_count": null,
      "_view_module": "@jupyter-widgets/base",
      "_view_module_version": "1.2.0",
      "_view_name": "StyleView",
      "bar_color": null,
      "description_width": ""
     }
    },
    "894eaa11fac74ed990e3383c150484de": {
     "model_module": "@jupyter-widgets/base",
     "model_name": "LayoutModel",
     "model_module_version": "1.2.0",
     "state": {
      "_model_module": "@jupyter-widgets/base",
      "_model_module_version": "1.2.0",
      "_model_name": "LayoutModel",
      "_view_count": null,
      "_view_module": "@jupyter-widgets/base",
      "_view_module_version": "1.2.0",
      "_view_name": "LayoutView",
      "align_content": null,
      "align_items": null,
      "align_self": null,
      "border": null,
      "bottom": null,
      "display": null,
      "flex": null,
      "flex_flow": null,
      "grid_area": null,
      "grid_auto_columns": null,
      "grid_auto_flow": null,
      "grid_auto_rows": null,
      "grid_column": null,
      "grid_gap": null,
      "grid_row": null,
      "grid_template_areas": null,
      "grid_template_columns": null,
      "grid_template_rows": null,
      "height": null,
      "justify_content": null,
      "justify_items": null,
      "left": null,
      "margin": null,
      "max_height": null,
      "max_width": null,
      "min_height": null,
      "min_width": null,
      "object_fit": null,
      "object_position": null,
      "order": null,
      "overflow": null,
      "overflow_x": null,
      "overflow_y": null,
      "padding": null,
      "right": null,
      "top": null,
      "visibility": null,
      "width": null
     }
    },
    "952b72c1d6594428b6cc31ea04520d60": {
     "model_module": "@jupyter-widgets/controls",
     "model_name": "DescriptionStyleModel",
     "model_module_version": "1.5.0",
     "state": {
      "_model_module": "@jupyter-widgets/controls",
      "_model_module_version": "1.5.0",
      "_model_name": "DescriptionStyleModel",
      "_view_count": null,
      "_view_module": "@jupyter-widgets/base",
      "_view_module_version": "1.2.0",
      "_view_name": "StyleView",
      "description_width": ""
     }
    },
    "f387570fe5e94d54ba5185d62337309a": {
     "model_module": "@jupyter-widgets/controls",
     "model_name": "HBoxModel",
     "model_module_version": "1.5.0",
     "state": {
      "_dom_classes": [],
      "_model_module": "@jupyter-widgets/controls",
      "_model_module_version": "1.5.0",
      "_model_name": "HBoxModel",
      "_view_count": null,
      "_view_module": "@jupyter-widgets/controls",
      "_view_module_version": "1.5.0",
      "_view_name": "HBoxView",
      "box_style": "",
      "children": [
       "IPY_MODEL_857802d226a843ce8285828bca2d291d",
       "IPY_MODEL_8618041108f147b19cc66feed1ef3599",
       "IPY_MODEL_402ca1163b634936bf6003d42fb82c23"
      ],
      "layout": "IPY_MODEL_0040ba16a49f463ca3e9f15ffad381fb"
     }
    },
    "857802d226a843ce8285828bca2d291d": {
     "model_module": "@jupyter-widgets/controls",
     "model_name": "HTMLModel",
     "model_module_version": "1.5.0",
     "state": {
      "_dom_classes": [],
      "_model_module": "@jupyter-widgets/controls",
      "_model_module_version": "1.5.0",
      "_model_name": "HTMLModel",
      "_view_count": null,
      "_view_module": "@jupyter-widgets/controls",
      "_view_module_version": "1.5.0",
      "_view_name": "HTMLView",
      "description": "",
      "description_tooltip": null,
      "layout": "IPY_MODEL_5bddda879fe34c7bb79ad860e879de0f",
      "placeholder": "​",
      "style": "IPY_MODEL_f9b895bbbb2d4a868a98b50d685a30ce",
      "value": "tokenizer_config.json: 100%"
     }
    },
    "8618041108f147b19cc66feed1ef3599": {
     "model_module": "@jupyter-widgets/controls",
     "model_name": "FloatProgressModel",
     "model_module_version": "1.5.0",
     "state": {
      "_dom_classes": [],
      "_model_module": "@jupyter-widgets/controls",
      "_model_module_version": "1.5.0",
      "_model_name": "FloatProgressModel",
      "_view_count": null,
      "_view_module": "@jupyter-widgets/controls",
      "_view_module_version": "1.5.0",
      "_view_name": "ProgressView",
      "bar_style": "success",
      "description": "",
      "description_tooltip": null,
      "layout": "IPY_MODEL_3cedc409f6bc407d95eae86e68132c27",
      "max": 3441,
      "min": 0,
      "orientation": "horizontal",
      "style": "IPY_MODEL_07c7cf06afb74a84912cc305bcc6ca24",
      "value": 3441
     }
    },
    "402ca1163b634936bf6003d42fb82c23": {
     "model_module": "@jupyter-widgets/controls",
     "model_name": "HTMLModel",
     "model_module_version": "1.5.0",
     "state": {
      "_dom_classes": [],
      "_model_module": "@jupyter-widgets/controls",
      "_model_module_version": "1.5.0",
      "_model_name": "HTMLModel",
      "_view_count": null,
      "_view_module": "@jupyter-widgets/controls",
      "_view_module_version": "1.5.0",
      "_view_name": "HTMLView",
      "description": "",
      "description_tooltip": null,
      "layout": "IPY_MODEL_dd2d428308e8487494de463d29ac8527",
      "placeholder": "​",
      "style": "IPY_MODEL_350a715c601b43a49f9ff0c70a514e62",
      "value": " 3.44k/3.44k [00:00&lt;00:00, 249kB/s]"
     }
    },
    "0040ba16a49f463ca3e9f15ffad381fb": {
     "model_module": "@jupyter-widgets/base",
     "model_name": "LayoutModel",
     "model_module_version": "1.2.0",
     "state": {
      "_model_module": "@jupyter-widgets/base",
      "_model_module_version": "1.2.0",
      "_model_name": "LayoutModel",
      "_view_count": null,
      "_view_module": "@jupyter-widgets/base",
      "_view_module_version": "1.2.0",
      "_view_name": "LayoutView",
      "align_content": null,
      "align_items": null,
      "align_self": null,
      "border": null,
      "bottom": null,
      "display": null,
      "flex": null,
      "flex_flow": null,
      "grid_area": null,
      "grid_auto_columns": null,
      "grid_auto_flow": null,
      "grid_auto_rows": null,
      "grid_column": null,
      "grid_gap": null,
      "grid_row": null,
      "grid_template_areas": null,
      "grid_template_columns": null,
      "grid_template_rows": null,
      "height": null,
      "justify_content": null,
      "justify_items": null,
      "left": null,
      "margin": null,
      "max_height": null,
      "max_width": null,
      "min_height": null,
      "min_width": null,
      "object_fit": null,
      "object_position": null,
      "order": null,
      "overflow": null,
      "overflow_x": null,
      "overflow_y": null,
      "padding": null,
      "right": null,
      "top": null,
      "visibility": null,
      "width": null
     }
    },
    "5bddda879fe34c7bb79ad860e879de0f": {
     "model_module": "@jupyter-widgets/base",
     "model_name": "LayoutModel",
     "model_module_version": "1.2.0",
     "state": {
      "_model_module": "@jupyter-widgets/base",
      "_model_module_version": "1.2.0",
      "_model_name": "LayoutModel",
      "_view_count": null,
      "_view_module": "@jupyter-widgets/base",
      "_view_module_version": "1.2.0",
      "_view_name": "LayoutView",
      "align_content": null,
      "align_items": null,
      "align_self": null,
      "border": null,
      "bottom": null,
      "display": null,
      "flex": null,
      "flex_flow": null,
      "grid_area": null,
      "grid_auto_columns": null,
      "grid_auto_flow": null,
      "grid_auto_rows": null,
      "grid_column": null,
      "grid_gap": null,
      "grid_row": null,
      "grid_template_areas": null,
      "grid_template_columns": null,
      "grid_template_rows": null,
      "height": null,
      "justify_content": null,
      "justify_items": null,
      "left": null,
      "margin": null,
      "max_height": null,
      "max_width": null,
      "min_height": null,
      "min_width": null,
      "object_fit": null,
      "object_position": null,
      "order": null,
      "overflow": null,
      "overflow_x": null,
      "overflow_y": null,
      "padding": null,
      "right": null,
      "top": null,
      "visibility": null,
      "width": null
     }
    },
    "f9b895bbbb2d4a868a98b50d685a30ce": {
     "model_module": "@jupyter-widgets/controls",
     "model_name": "DescriptionStyleModel",
     "model_module_version": "1.5.0",
     "state": {
      "_model_module": "@jupyter-widgets/controls",
      "_model_module_version": "1.5.0",
      "_model_name": "DescriptionStyleModel",
      "_view_count": null,
      "_view_module": "@jupyter-widgets/base",
      "_view_module_version": "1.2.0",
      "_view_name": "StyleView",
      "description_width": ""
     }
    },
    "3cedc409f6bc407d95eae86e68132c27": {
     "model_module": "@jupyter-widgets/base",
     "model_name": "LayoutModel",
     "model_module_version": "1.2.0",
     "state": {
      "_model_module": "@jupyter-widgets/base",
      "_model_module_version": "1.2.0",
      "_model_name": "LayoutModel",
      "_view_count": null,
      "_view_module": "@jupyter-widgets/base",
      "_view_module_version": "1.2.0",
      "_view_name": "LayoutView",
      "align_content": null,
      "align_items": null,
      "align_self": null,
      "border": null,
      "bottom": null,
      "display": null,
      "flex": null,
      "flex_flow": null,
      "grid_area": null,
      "grid_auto_columns": null,
      "grid_auto_flow": null,
      "grid_auto_rows": null,
      "grid_column": null,
      "grid_gap": null,
      "grid_row": null,
      "grid_template_areas": null,
      "grid_template_columns": null,
      "grid_template_rows": null,
      "height": null,
      "justify_content": null,
      "justify_items": null,
      "left": null,
      "margin": null,
      "max_height": null,
      "max_width": null,
      "min_height": null,
      "min_width": null,
      "object_fit": null,
      "object_position": null,
      "order": null,
      "overflow": null,
      "overflow_x": null,
      "overflow_y": null,
      "padding": null,
      "right": null,
      "top": null,
      "visibility": null,
      "width": null
     }
    },
    "07c7cf06afb74a84912cc305bcc6ca24": {
     "model_module": "@jupyter-widgets/controls",
     "model_name": "ProgressStyleModel",
     "model_module_version": "1.5.0",
     "state": {
      "_model_module": "@jupyter-widgets/controls",
      "_model_module_version": "1.5.0",
      "_model_name": "ProgressStyleModel",
      "_view_count": null,
      "_view_module": "@jupyter-widgets/base",
      "_view_module_version": "1.2.0",
      "_view_name": "StyleView",
      "bar_color": null,
      "description_width": ""
     }
    },
    "dd2d428308e8487494de463d29ac8527": {
     "model_module": "@jupyter-widgets/base",
     "model_name": "LayoutModel",
     "model_module_version": "1.2.0",
     "state": {
      "_model_module": "@jupyter-widgets/base",
      "_model_module_version": "1.2.0",
      "_model_name": "LayoutModel",
      "_view_count": null,
      "_view_module": "@jupyter-widgets/base",
      "_view_module_version": "1.2.0",
      "_view_name": "LayoutView",
      "align_content": null,
      "align_items": null,
      "align_self": null,
      "border": null,
      "bottom": null,
      "display": null,
      "flex": null,
      "flex_flow": null,
      "grid_area": null,
      "grid_auto_columns": null,
      "grid_auto_flow": null,
      "grid_auto_rows": null,
      "grid_column": null,
      "grid_gap": null,
      "grid_row": null,
      "grid_template_areas": null,
      "grid_template_columns": null,
      "grid_template_rows": null,
      "height": null,
      "justify_content": null,
      "justify_items": null,
      "left": null,
      "margin": null,
      "max_height": null,
      "max_width": null,
      "min_height": null,
      "min_width": null,
      "object_fit": null,
      "object_position": null,
      "order": null,
      "overflow": null,
      "overflow_x": null,
      "overflow_y": null,
      "padding": null,
      "right": null,
      "top": null,
      "visibility": null,
      "width": null
     }
    },
    "350a715c601b43a49f9ff0c70a514e62": {
     "model_module": "@jupyter-widgets/controls",
     "model_name": "DescriptionStyleModel",
     "model_module_version": "1.5.0",
     "state": {
      "_model_module": "@jupyter-widgets/controls",
      "_model_module_version": "1.5.0",
      "_model_name": "DescriptionStyleModel",
      "_view_count": null,
      "_view_module": "@jupyter-widgets/base",
      "_view_module_version": "1.2.0",
      "_view_name": "StyleView",
      "description_width": ""
     }
    },
    "c76710b57acb4a3da13237e4964540c1": {
     "model_module": "@jupyter-widgets/controls",
     "model_name": "HBoxModel",
     "model_module_version": "1.5.0",
     "state": {
      "_dom_classes": [],
      "_model_module": "@jupyter-widgets/controls",
      "_model_module_version": "1.5.0",
      "_model_name": "HBoxModel",
      "_view_count": null,
      "_view_module": "@jupyter-widgets/controls",
      "_view_module_version": "1.5.0",
      "_view_name": "HBoxView",
      "box_style": "",
      "children": [
       "IPY_MODEL_d7bf2cda63d04938ac620323afacca9a",
       "IPY_MODEL_5290d90c9b7e447b8d2b9dd4940266f2",
       "IPY_MODEL_866dc02eddaa421c845ccb2963923b9f"
      ],
      "layout": "IPY_MODEL_f884a91da32445ccb5d6d421d84323a6"
     }
    },
    "d7bf2cda63d04938ac620323afacca9a": {
     "model_module": "@jupyter-widgets/controls",
     "model_name": "HTMLModel",
     "model_module_version": "1.5.0",
     "state": {
      "_dom_classes": [],
      "_model_module": "@jupyter-widgets/controls",
      "_model_module_version": "1.5.0",
      "_model_name": "HTMLModel",
      "_view_count": null,
      "_view_module": "@jupyter-widgets/controls",
      "_view_module_version": "1.5.0",
      "_view_name": "HTMLView",
      "description": "",
      "description_tooltip": null,
      "layout": "IPY_MODEL_3d8aa047e8f64074bb43531ee815eac3",
      "placeholder": "​",
      "style": "IPY_MODEL_17d73ef868534127a0321aa4d49fc751",
      "value": "tokenizer.model: 100%"
     }
    },
    "5290d90c9b7e447b8d2b9dd4940266f2": {
     "model_module": "@jupyter-widgets/controls",
     "model_name": "FloatProgressModel",
     "model_module_version": "1.5.0",
     "state": {
      "_dom_classes": [],
      "_model_module": "@jupyter-widgets/controls",
      "_model_module_version": "1.5.0",
      "_model_name": "FloatProgressModel",
      "_view_count": null,
      "_view_module": "@jupyter-widgets/controls",
      "_view_module_version": "1.5.0",
      "_view_name": "ProgressView",
      "bar_style": "success",
      "description": "",
      "description_tooltip": null,
      "layout": "IPY_MODEL_a1e31f66f8134c53a21ace8be180a386",
      "max": 499723,
      "min": 0,
      "orientation": "horizontal",
      "style": "IPY_MODEL_3469b6f20e0c44e2887587416634241a",
      "value": 499723
     }
    },
    "866dc02eddaa421c845ccb2963923b9f": {
     "model_module": "@jupyter-widgets/controls",
     "model_name": "HTMLModel",
     "model_module_version": "1.5.0",
     "state": {
      "_dom_classes": [],
      "_model_module": "@jupyter-widgets/controls",
      "_model_module_version": "1.5.0",
      "_model_name": "HTMLModel",
      "_view_count": null,
      "_view_module": "@jupyter-widgets/controls",
      "_view_module_version": "1.5.0",
      "_view_name": "HTMLView",
      "description": "",
      "description_tooltip": null,
      "layout": "IPY_MODEL_7bfeba31520c453c96fa27eccdf2df81",
      "placeholder": "​",
      "style": "IPY_MODEL_e3e1bdfb090a41139569947466274d12",
      "value": " 500k/500k [00:00&lt;00:00, 5.54MB/s]"
     }
    },
    "f884a91da32445ccb5d6d421d84323a6": {
     "model_module": "@jupyter-widgets/base",
     "model_name": "LayoutModel",
     "model_module_version": "1.2.0",
     "state": {
      "_model_module": "@jupyter-widgets/base",
      "_model_module_version": "1.2.0",
      "_model_name": "LayoutModel",
      "_view_count": null,
      "_view_module": "@jupyter-widgets/base",
      "_view_module_version": "1.2.0",
      "_view_name": "LayoutView",
      "align_content": null,
      "align_items": null,
      "align_self": null,
      "border": null,
      "bottom": null,
      "display": null,
      "flex": null,
      "flex_flow": null,
      "grid_area": null,
      "grid_auto_columns": null,
      "grid_auto_flow": null,
      "grid_auto_rows": null,
      "grid_column": null,
      "grid_gap": null,
      "grid_row": null,
      "grid_template_areas": null,
      "grid_template_columns": null,
      "grid_template_rows": null,
      "height": null,
      "justify_content": null,
      "justify_items": null,
      "left": null,
      "margin": null,
      "max_height": null,
      "max_width": null,
      "min_height": null,
      "min_width": null,
      "object_fit": null,
      "object_position": null,
      "order": null,
      "overflow": null,
      "overflow_x": null,
      "overflow_y": null,
      "padding": null,
      "right": null,
      "top": null,
      "visibility": null,
      "width": null
     }
    },
    "3d8aa047e8f64074bb43531ee815eac3": {
     "model_module": "@jupyter-widgets/base",
     "model_name": "LayoutModel",
     "model_module_version": "1.2.0",
     "state": {
      "_model_module": "@jupyter-widgets/base",
      "_model_module_version": "1.2.0",
      "_model_name": "LayoutModel",
      "_view_count": null,
      "_view_module": "@jupyter-widgets/base",
      "_view_module_version": "1.2.0",
      "_view_name": "LayoutView",
      "align_content": null,
      "align_items": null,
      "align_self": null,
      "border": null,
      "bottom": null,
      "display": null,
      "flex": null,
      "flex_flow": null,
      "grid_area": null,
      "grid_auto_columns": null,
      "grid_auto_flow": null,
      "grid_auto_rows": null,
      "grid_column": null,
      "grid_gap": null,
      "grid_row": null,
      "grid_template_areas": null,
      "grid_template_columns": null,
      "grid_template_rows": null,
      "height": null,
      "justify_content": null,
      "justify_items": null,
      "left": null,
      "margin": null,
      "max_height": null,
      "max_width": null,
      "min_height": null,
      "min_width": null,
      "object_fit": null,
      "object_position": null,
      "order": null,
      "overflow": null,
      "overflow_x": null,
      "overflow_y": null,
      "padding": null,
      "right": null,
      "top": null,
      "visibility": null,
      "width": null
     }
    },
    "17d73ef868534127a0321aa4d49fc751": {
     "model_module": "@jupyter-widgets/controls",
     "model_name": "DescriptionStyleModel",
     "model_module_version": "1.5.0",
     "state": {
      "_model_module": "@jupyter-widgets/controls",
      "_model_module_version": "1.5.0",
      "_model_name": "DescriptionStyleModel",
      "_view_count": null,
      "_view_module": "@jupyter-widgets/base",
      "_view_module_version": "1.2.0",
      "_view_name": "StyleView",
      "description_width": ""
     }
    },
    "a1e31f66f8134c53a21ace8be180a386": {
     "model_module": "@jupyter-widgets/base",
     "model_name": "LayoutModel",
     "model_module_version": "1.2.0",
     "state": {
      "_model_module": "@jupyter-widgets/base",
      "_model_module_version": "1.2.0",
      "_model_name": "LayoutModel",
      "_view_count": null,
      "_view_module": "@jupyter-widgets/base",
      "_view_module_version": "1.2.0",
      "_view_name": "LayoutView",
      "align_content": null,
      "align_items": null,
      "align_self": null,
      "border": null,
      "bottom": null,
      "display": null,
      "flex": null,
      "flex_flow": null,
      "grid_area": null,
      "grid_auto_columns": null,
      "grid_auto_flow": null,
      "grid_auto_rows": null,
      "grid_column": null,
      "grid_gap": null,
      "grid_row": null,
      "grid_template_areas": null,
      "grid_template_columns": null,
      "grid_template_rows": null,
      "height": null,
      "justify_content": null,
      "justify_items": null,
      "left": null,
      "margin": null,
      "max_height": null,
      "max_width": null,
      "min_height": null,
      "min_width": null,
      "object_fit": null,
      "object_position": null,
      "order": null,
      "overflow": null,
      "overflow_x": null,
      "overflow_y": null,
      "padding": null,
      "right": null,
      "top": null,
      "visibility": null,
      "width": null
     }
    },
    "3469b6f20e0c44e2887587416634241a": {
     "model_module": "@jupyter-widgets/controls",
     "model_name": "ProgressStyleModel",
     "model_module_version": "1.5.0",
     "state": {
      "_model_module": "@jupyter-widgets/controls",
      "_model_module_version": "1.5.0",
      "_model_name": "ProgressStyleModel",
      "_view_count": null,
      "_view_module": "@jupyter-widgets/base",
      "_view_module_version": "1.2.0",
      "_view_name": "StyleView",
      "bar_color": null,
      "description_width": ""
     }
    },
    "7bfeba31520c453c96fa27eccdf2df81": {
     "model_module": "@jupyter-widgets/base",
     "model_name": "LayoutModel",
     "model_module_version": "1.2.0",
     "state": {
      "_model_module": "@jupyter-widgets/base",
      "_model_module_version": "1.2.0",
      "_model_name": "LayoutModel",
      "_view_count": null,
      "_view_module": "@jupyter-widgets/base",
      "_view_module_version": "1.2.0",
      "_view_name": "LayoutView",
      "align_content": null,
      "align_items": null,
      "align_self": null,
      "border": null,
      "bottom": null,
      "display": null,
      "flex": null,
      "flex_flow": null,
      "grid_area": null,
      "grid_auto_columns": null,
      "grid_auto_flow": null,
      "grid_auto_rows": null,
      "grid_column": null,
      "grid_gap": null,
      "grid_row": null,
      "grid_template_areas": null,
      "grid_template_columns": null,
      "grid_template_rows": null,
      "height": null,
      "justify_content": null,
      "justify_items": null,
      "left": null,
      "margin": null,
      "max_height": null,
      "max_width": null,
      "min_height": null,
      "min_width": null,
      "object_fit": null,
      "object_position": null,
      "order": null,
      "overflow": null,
      "overflow_x": null,
      "overflow_y": null,
      "padding": null,
      "right": null,
      "top": null,
      "visibility": null,
      "width": null
     }
    },
    "e3e1bdfb090a41139569947466274d12": {
     "model_module": "@jupyter-widgets/controls",
     "model_name": "DescriptionStyleModel",
     "model_module_version": "1.5.0",
     "state": {
      "_model_module": "@jupyter-widgets/controls",
      "_model_module_version": "1.5.0",
      "_model_name": "DescriptionStyleModel",
      "_view_count": null,
      "_view_module": "@jupyter-widgets/base",
      "_view_module_version": "1.2.0",
      "_view_name": "StyleView",
      "description_width": ""
     }
    },
    "d9850d69633443f681e44f5d2ce8232a": {
     "model_module": "@jupyter-widgets/controls",
     "model_name": "HBoxModel",
     "model_module_version": "1.5.0",
     "state": {
      "_dom_classes": [],
      "_model_module": "@jupyter-widgets/controls",
      "_model_module_version": "1.5.0",
      "_model_name": "HBoxModel",
      "_view_count": null,
      "_view_module": "@jupyter-widgets/controls",
      "_view_module_version": "1.5.0",
      "_view_name": "HBoxView",
      "box_style": "",
      "children": [
       "IPY_MODEL_faa41bfc9f77471ea75e0aa63ebc6dc6",
       "IPY_MODEL_ed5f7e9966a5489188bd079d288457fd",
       "IPY_MODEL_0413f8b32c46481caf616396c326926f"
      ],
      "layout": "IPY_MODEL_4b29621bf77a4f53900e575d9a8aa192"
     }
    },
    "faa41bfc9f77471ea75e0aa63ebc6dc6": {
     "model_module": "@jupyter-widgets/controls",
     "model_name": "HTMLModel",
     "model_module_version": "1.5.0",
     "state": {
      "_dom_classes": [],
      "_model_module": "@jupyter-widgets/controls",
      "_model_module_version": "1.5.0",
      "_model_name": "HTMLModel",
      "_view_count": null,
      "_view_module": "@jupyter-widgets/controls",
      "_view_module_version": "1.5.0",
      "_view_name": "HTMLView",
      "description": "",
      "description_tooltip": null,
      "layout": "IPY_MODEL_feb38b81559445518cead57f1c9519bc",
      "placeholder": "​",
      "style": "IPY_MODEL_792d98c3ad4c490e9ebb0326061cfd86",
      "value": "tokenizer.json: 100%"
     }
    },
    "ed5f7e9966a5489188bd079d288457fd": {
     "model_module": "@jupyter-widgets/controls",
     "model_name": "FloatProgressModel",
     "model_module_version": "1.5.0",
     "state": {
      "_dom_classes": [],
      "_model_module": "@jupyter-widgets/controls",
      "_model_module_version": "1.5.0",
      "_model_name": "FloatProgressModel",
      "_view_count": null,
      "_view_module": "@jupyter-widgets/controls",
      "_view_module_version": "1.5.0",
      "_view_name": "ProgressView",
      "bar_style": "success",
      "description": "",
      "description_tooltip": null,
      "layout": "IPY_MODEL_0f05ea7dc4e842fe92016ebe284d0314",
      "max": 1937869,
      "min": 0,
      "orientation": "horizontal",
      "style": "IPY_MODEL_dd3a886128324bd3a8651691f7aa1924",
      "value": 1937869
     }
    },
    "0413f8b32c46481caf616396c326926f": {
     "model_module": "@jupyter-widgets/controls",
     "model_name": "HTMLModel",
     "model_module_version": "1.5.0",
     "state": {
      "_dom_classes": [],
      "_model_module": "@jupyter-widgets/controls",
      "_model_module_version": "1.5.0",
      "_model_name": "HTMLModel",
      "_view_count": null,
      "_view_module": "@jupyter-widgets/controls",
      "_view_module_version": "1.5.0",
      "_view_name": "HTMLView",
      "description": "",
      "description_tooltip": null,
      "layout": "IPY_MODEL_64b7920fe41f47d583af5151e4031107",
      "placeholder": "​",
      "style": "IPY_MODEL_928b2f3cddab45c0bfcafe10f5aa8098",
      "value": " 1.94M/1.94M [00:00&lt;00:00, 13.7MB/s]"
     }
    },
    "4b29621bf77a4f53900e575d9a8aa192": {
     "model_module": "@jupyter-widgets/base",
     "model_name": "LayoutModel",
     "model_module_version": "1.2.0",
     "state": {
      "_model_module": "@jupyter-widgets/base",
      "_model_module_version": "1.2.0",
      "_model_name": "LayoutModel",
      "_view_count": null,
      "_view_module": "@jupyter-widgets/base",
      "_view_module_version": "1.2.0",
      "_view_name": "LayoutView",
      "align_content": null,
      "align_items": null,
      "align_self": null,
      "border": null,
      "bottom": null,
      "display": null,
      "flex": null,
      "flex_flow": null,
      "grid_area": null,
      "grid_auto_columns": null,
      "grid_auto_flow": null,
      "grid_auto_rows": null,
      "grid_column": null,
      "grid_gap": null,
      "grid_row": null,
      "grid_template_areas": null,
      "grid_template_columns": null,
      "grid_template_rows": null,
      "height": null,
      "justify_content": null,
      "justify_items": null,
      "left": null,
      "margin": null,
      "max_height": null,
      "max_width": null,
      "min_height": null,
      "min_width": null,
      "object_fit": null,
      "object_position": null,
      "order": null,
      "overflow": null,
      "overflow_x": null,
      "overflow_y": null,
      "padding": null,
      "right": null,
      "top": null,
      "visibility": null,
      "width": null
     }
    },
    "feb38b81559445518cead57f1c9519bc": {
     "model_module": "@jupyter-widgets/base",
     "model_name": "LayoutModel",
     "model_module_version": "1.2.0",
     "state": {
      "_model_module": "@jupyter-widgets/base",
      "_model_module_version": "1.2.0",
      "_model_name": "LayoutModel",
      "_view_count": null,
      "_view_module": "@jupyter-widgets/base",
      "_view_module_version": "1.2.0",
      "_view_name": "LayoutView",
      "align_content": null,
      "align_items": null,
      "align_self": null,
      "border": null,
      "bottom": null,
      "display": null,
      "flex": null,
      "flex_flow": null,
      "grid_area": null,
      "grid_auto_columns": null,
      "grid_auto_flow": null,
      "grid_auto_rows": null,
      "grid_column": null,
      "grid_gap": null,
      "grid_row": null,
      "grid_template_areas": null,
      "grid_template_columns": null,
      "grid_template_rows": null,
      "height": null,
      "justify_content": null,
      "justify_items": null,
      "left": null,
      "margin": null,
      "max_height": null,
      "max_width": null,
      "min_height": null,
      "min_width": null,
      "object_fit": null,
      "object_position": null,
      "order": null,
      "overflow": null,
      "overflow_x": null,
      "overflow_y": null,
      "padding": null,
      "right": null,
      "top": null,
      "visibility": null,
      "width": null
     }
    },
    "792d98c3ad4c490e9ebb0326061cfd86": {
     "model_module": "@jupyter-widgets/controls",
     "model_name": "DescriptionStyleModel",
     "model_module_version": "1.5.0",
     "state": {
      "_model_module": "@jupyter-widgets/controls",
      "_model_module_version": "1.5.0",
      "_model_name": "DescriptionStyleModel",
      "_view_count": null,
      "_view_module": "@jupyter-widgets/base",
      "_view_module_version": "1.2.0",
      "_view_name": "StyleView",
      "description_width": ""
     }
    },
    "0f05ea7dc4e842fe92016ebe284d0314": {
     "model_module": "@jupyter-widgets/base",
     "model_name": "LayoutModel",
     "model_module_version": "1.2.0",
     "state": {
      "_model_module": "@jupyter-widgets/base",
      "_model_module_version": "1.2.0",
      "_model_name": "LayoutModel",
      "_view_count": null,
      "_view_module": "@jupyter-widgets/base",
      "_view_module_version": "1.2.0",
      "_view_name": "LayoutView",
      "align_content": null,
      "align_items": null,
      "align_self": null,
      "border": null,
      "bottom": null,
      "display": null,
      "flex": null,
      "flex_flow": null,
      "grid_area": null,
      "grid_auto_columns": null,
      "grid_auto_flow": null,
      "grid_auto_rows": null,
      "grid_column": null,
      "grid_gap": null,
      "grid_row": null,
      "grid_template_areas": null,
      "grid_template_columns": null,
      "grid_template_rows": null,
      "height": null,
      "justify_content": null,
      "justify_items": null,
      "left": null,
      "margin": null,
      "max_height": null,
      "max_width": null,
      "min_height": null,
      "min_width": null,
      "object_fit": null,
      "object_position": null,
      "order": null,
      "overflow": null,
      "overflow_x": null,
      "overflow_y": null,
      "padding": null,
      "right": null,
      "top": null,
      "visibility": null,
      "width": null
     }
    },
    "dd3a886128324bd3a8651691f7aa1924": {
     "model_module": "@jupyter-widgets/controls",
     "model_name": "ProgressStyleModel",
     "model_module_version": "1.5.0",
     "state": {
      "_model_module": "@jupyter-widgets/controls",
      "_model_module_version": "1.5.0",
      "_model_name": "ProgressStyleModel",
      "_view_count": null,
      "_view_module": "@jupyter-widgets/base",
      "_view_module_version": "1.2.0",
      "_view_name": "StyleView",
      "bar_color": null,
      "description_width": ""
     }
    },
    "64b7920fe41f47d583af5151e4031107": {
     "model_module": "@jupyter-widgets/base",
     "model_name": "LayoutModel",
     "model_module_version": "1.2.0",
     "state": {
      "_model_module": "@jupyter-widgets/base",
      "_model_module_version": "1.2.0",
      "_model_name": "LayoutModel",
      "_view_count": null,
      "_view_module": "@jupyter-widgets/base",
      "_view_module_version": "1.2.0",
      "_view_name": "LayoutView",
      "align_content": null,
      "align_items": null,
      "align_self": null,
      "border": null,
      "bottom": null,
      "display": null,
      "flex": null,
      "flex_flow": null,
      "grid_area": null,
      "grid_auto_columns": null,
      "grid_auto_flow": null,
      "grid_auto_rows": null,
      "grid_column": null,
      "grid_gap": null,
      "grid_row": null,
      "grid_template_areas": null,
      "grid_template_columns": null,
      "grid_template_rows": null,
      "height": null,
      "justify_content": null,
      "justify_items": null,
      "left": null,
      "margin": null,
      "max_height": null,
      "max_width": null,
      "min_height": null,
      "min_width": null,
      "object_fit": null,
      "object_position": null,
      "order": null,
      "overflow": null,
      "overflow_x": null,
      "overflow_y": null,
      "padding": null,
      "right": null,
      "top": null,
      "visibility": null,
      "width": null
     }
    },
    "928b2f3cddab45c0bfcafe10f5aa8098": {
     "model_module": "@jupyter-widgets/controls",
     "model_name": "DescriptionStyleModel",
     "model_module_version": "1.5.0",
     "state": {
      "_model_module": "@jupyter-widgets/controls",
      "_model_module_version": "1.5.0",
      "_model_name": "DescriptionStyleModel",
      "_view_count": null,
      "_view_module": "@jupyter-widgets/base",
      "_view_module_version": "1.2.0",
      "_view_name": "StyleView",
      "description_width": ""
     }
    },
    "8090f81efdcf47f68fd82097ae9955b3": {
     "model_module": "@jupyter-widgets/controls",
     "model_name": "HBoxModel",
     "model_module_version": "1.5.0",
     "state": {
      "_dom_classes": [],
      "_model_module": "@jupyter-widgets/controls",
      "_model_module_version": "1.5.0",
      "_model_name": "HBoxModel",
      "_view_count": null,
      "_view_module": "@jupyter-widgets/controls",
      "_view_module_version": "1.5.0",
      "_view_name": "HBoxView",
      "box_style": "",
      "children": [
       "IPY_MODEL_cf4215353b084ac6a199d5829d5d99a8",
       "IPY_MODEL_9b3077e977e84b88aa944128bdfed250",
       "IPY_MODEL_92ff17d1300146b69de1fbf6ae68ce0c"
      ],
      "layout": "IPY_MODEL_a60100c0bd0345c9b03c79cf99a34de8"
     }
    },
    "cf4215353b084ac6a199d5829d5d99a8": {
     "model_module": "@jupyter-widgets/controls",
     "model_name": "HTMLModel",
     "model_module_version": "1.5.0",
     "state": {
      "_dom_classes": [],
      "_model_module": "@jupyter-widgets/controls",
      "_model_module_version": "1.5.0",
      "_model_name": "HTMLModel",
      "_view_count": null,
      "_view_module": "@jupyter-widgets/controls",
      "_view_module_version": "1.5.0",
      "_view_name": "HTMLView",
      "description": "",
      "description_tooltip": null,
      "layout": "IPY_MODEL_3587bbdcbe644f36a28d2d5ee22d91d7",
      "placeholder": "​",
      "style": "IPY_MODEL_b0b795dc8fd84d7f898c0a7510238abf",
      "value": "added_tokens.json: 100%"
     }
    },
    "9b3077e977e84b88aa944128bdfed250": {
     "model_module": "@jupyter-widgets/controls",
     "model_name": "FloatProgressModel",
     "model_module_version": "1.5.0",
     "state": {
      "_dom_classes": [],
      "_model_module": "@jupyter-widgets/controls",
      "_model_module_version": "1.5.0",
      "_model_name": "FloatProgressModel",
      "_view_count": null,
      "_view_module": "@jupyter-widgets/controls",
      "_view_module_version": "1.5.0",
      "_view_name": "ProgressView",
      "bar_style": "success",
      "description": "",
      "description_tooltip": null,
      "layout": "IPY_MODEL_5823b6e6fae54e08bbf6f934ea7535f1",
      "max": 306,
      "min": 0,
      "orientation": "horizontal",
      "style": "IPY_MODEL_5aa0090e29684a849f8af56257f5e327",
      "value": 306
     }
    },
    "92ff17d1300146b69de1fbf6ae68ce0c": {
     "model_module": "@jupyter-widgets/controls",
     "model_name": "HTMLModel",
     "model_module_version": "1.5.0",
     "state": {
      "_dom_classes": [],
      "_model_module": "@jupyter-widgets/controls",
      "_model_module_version": "1.5.0",
      "_model_name": "HTMLModel",
      "_view_count": null,
      "_view_module": "@jupyter-widgets/controls",
      "_view_module_version": "1.5.0",
      "_view_name": "HTMLView",
      "description": "",
      "description_tooltip": null,
      "layout": "IPY_MODEL_19c9201f10274b9ebfd8814fe0eab93c",
      "placeholder": "​",
      "style": "IPY_MODEL_dc53bbc004974a24b570f52bdd86722a",
      "value": " 306/306 [00:00&lt;00:00, 21.4kB/s]"
     }
    },
    "a60100c0bd0345c9b03c79cf99a34de8": {
     "model_module": "@jupyter-widgets/base",
     "model_name": "LayoutModel",
     "model_module_version": "1.2.0",
     "state": {
      "_model_module": "@jupyter-widgets/base",
      "_model_module_version": "1.2.0",
      "_model_name": "LayoutModel",
      "_view_count": null,
      "_view_module": "@jupyter-widgets/base",
      "_view_module_version": "1.2.0",
      "_view_name": "LayoutView",
      "align_content": null,
      "align_items": null,
      "align_self": null,
      "border": null,
      "bottom": null,
      "display": null,
      "flex": null,
      "flex_flow": null,
      "grid_area": null,
      "grid_auto_columns": null,
      "grid_auto_flow": null,
      "grid_auto_rows": null,
      "grid_column": null,
      "grid_gap": null,
      "grid_row": null,
      "grid_template_areas": null,
      "grid_template_columns": null,
      "grid_template_rows": null,
      "height": null,
      "justify_content": null,
      "justify_items": null,
      "left": null,
      "margin": null,
      "max_height": null,
      "max_width": null,
      "min_height": null,
      "min_width": null,
      "object_fit": null,
      "object_position": null,
      "order": null,
      "overflow": null,
      "overflow_x": null,
      "overflow_y": null,
      "padding": null,
      "right": null,
      "top": null,
      "visibility": null,
      "width": null
     }
    },
    "3587bbdcbe644f36a28d2d5ee22d91d7": {
     "model_module": "@jupyter-widgets/base",
     "model_name": "LayoutModel",
     "model_module_version": "1.2.0",
     "state": {
      "_model_module": "@jupyter-widgets/base",
      "_model_module_version": "1.2.0",
      "_model_name": "LayoutModel",
      "_view_count": null,
      "_view_module": "@jupyter-widgets/base",
      "_view_module_version": "1.2.0",
      "_view_name": "LayoutView",
      "align_content": null,
      "align_items": null,
      "align_self": null,
      "border": null,
      "bottom": null,
      "display": null,
      "flex": null,
      "flex_flow": null,
      "grid_area": null,
      "grid_auto_columns": null,
      "grid_auto_flow": null,
      "grid_auto_rows": null,
      "grid_column": null,
      "grid_gap": null,
      "grid_row": null,
      "grid_template_areas": null,
      "grid_template_columns": null,
      "grid_template_rows": null,
      "height": null,
      "justify_content": null,
      "justify_items": null,
      "left": null,
      "margin": null,
      "max_height": null,
      "max_width": null,
      "min_height": null,
      "min_width": null,
      "object_fit": null,
      "object_position": null,
      "order": null,
      "overflow": null,
      "overflow_x": null,
      "overflow_y": null,
      "padding": null,
      "right": null,
      "top": null,
      "visibility": null,
      "width": null
     }
    },
    "b0b795dc8fd84d7f898c0a7510238abf": {
     "model_module": "@jupyter-widgets/controls",
     "model_name": "DescriptionStyleModel",
     "model_module_version": "1.5.0",
     "state": {
      "_model_module": "@jupyter-widgets/controls",
      "_model_module_version": "1.5.0",
      "_model_name": "DescriptionStyleModel",
      "_view_count": null,
      "_view_module": "@jupyter-widgets/base",
      "_view_module_version": "1.2.0",
      "_view_name": "StyleView",
      "description_width": ""
     }
    },
    "5823b6e6fae54e08bbf6f934ea7535f1": {
     "model_module": "@jupyter-widgets/base",
     "model_name": "LayoutModel",
     "model_module_version": "1.2.0",
     "state": {
      "_model_module": "@jupyter-widgets/base",
      "_model_module_version": "1.2.0",
      "_model_name": "LayoutModel",
      "_view_count": null,
      "_view_module": "@jupyter-widgets/base",
      "_view_module_version": "1.2.0",
      "_view_name": "LayoutView",
      "align_content": null,
      "align_items": null,
      "align_self": null,
      "border": null,
      "bottom": null,
      "display": null,
      "flex": null,
      "flex_flow": null,
      "grid_area": null,
      "grid_auto_columns": null,
      "grid_auto_flow": null,
      "grid_auto_rows": null,
      "grid_column": null,
      "grid_gap": null,
      "grid_row": null,
      "grid_template_areas": null,
      "grid_template_columns": null,
      "grid_template_rows": null,
      "height": null,
      "justify_content": null,
      "justify_items": null,
      "left": null,
      "margin": null,
      "max_height": null,
      "max_width": null,
      "min_height": null,
      "min_width": null,
      "object_fit": null,
      "object_position": null,
      "order": null,
      "overflow": null,
      "overflow_x": null,
      "overflow_y": null,
      "padding": null,
      "right": null,
      "top": null,
      "visibility": null,
      "width": null
     }
    },
    "5aa0090e29684a849f8af56257f5e327": {
     "model_module": "@jupyter-widgets/controls",
     "model_name": "ProgressStyleModel",
     "model_module_version": "1.5.0",
     "state": {
      "_model_module": "@jupyter-widgets/controls",
      "_model_module_version": "1.5.0",
      "_model_name": "ProgressStyleModel",
      "_view_count": null,
      "_view_module": "@jupyter-widgets/base",
      "_view_module_version": "1.2.0",
      "_view_name": "StyleView",
      "bar_color": null,
      "description_width": ""
     }
    },
    "19c9201f10274b9ebfd8814fe0eab93c": {
     "model_module": "@jupyter-widgets/base",
     "model_name": "LayoutModel",
     "model_module_version": "1.2.0",
     "state": {
      "_model_module": "@jupyter-widgets/base",
      "_model_module_version": "1.2.0",
      "_model_name": "LayoutModel",
      "_view_count": null,
      "_view_module": "@jupyter-widgets/base",
      "_view_module_version": "1.2.0",
      "_view_name": "LayoutView",
      "align_content": null,
      "align_items": null,
      "align_self": null,
      "border": null,
      "bottom": null,
      "display": null,
      "flex": null,
      "flex_flow": null,
      "grid_area": null,
      "grid_auto_columns": null,
      "grid_auto_flow": null,
      "grid_auto_rows": null,
      "grid_column": null,
      "grid_gap": null,
      "grid_row": null,
      "grid_template_areas": null,
      "grid_template_columns": null,
      "grid_template_rows": null,
      "height": null,
      "justify_content": null,
      "justify_items": null,
      "left": null,
      "margin": null,
      "max_height": null,
      "max_width": null,
      "min_height": null,
      "min_width": null,
      "object_fit": null,
      "object_position": null,
      "order": null,
      "overflow": null,
      "overflow_x": null,
      "overflow_y": null,
      "padding": null,
      "right": null,
      "top": null,
      "visibility": null,
      "width": null
     }
    },
    "dc53bbc004974a24b570f52bdd86722a": {
     "model_module": "@jupyter-widgets/controls",
     "model_name": "DescriptionStyleModel",
     "model_module_version": "1.5.0",
     "state": {
      "_model_module": "@jupyter-widgets/controls",
      "_model_module_version": "1.5.0",
      "_model_name": "DescriptionStyleModel",
      "_view_count": null,
      "_view_module": "@jupyter-widgets/base",
      "_view_module_version": "1.2.0",
      "_view_name": "StyleView",
      "description_width": ""
     }
    },
    "589497afd242452e92153ea8915e9876": {
     "model_module": "@jupyter-widgets/controls",
     "model_name": "HBoxModel",
     "model_module_version": "1.5.0",
     "state": {
      "_dom_classes": [],
      "_model_module": "@jupyter-widgets/controls",
      "_model_module_version": "1.5.0",
      "_model_name": "HBoxModel",
      "_view_count": null,
      "_view_module": "@jupyter-widgets/controls",
      "_view_module_version": "1.5.0",
      "_view_name": "HBoxView",
      "box_style": "",
      "children": [
       "IPY_MODEL_65490837f8bf40c5b537c4938afbdd04",
       "IPY_MODEL_733bb95508e5413393d515181fe8b4b8",
       "IPY_MODEL_265b2218064442c181c745bd2843ead6"
      ],
      "layout": "IPY_MODEL_95f538df2a824f83b1ef8fc94f447f9b"
     }
    },
    "65490837f8bf40c5b537c4938afbdd04": {
     "model_module": "@jupyter-widgets/controls",
     "model_name": "HTMLModel",
     "model_module_version": "1.5.0",
     "state": {
      "_dom_classes": [],
      "_model_module": "@jupyter-widgets/controls",
      "_model_module_version": "1.5.0",
      "_model_name": "HTMLModel",
      "_view_count": null,
      "_view_module": "@jupyter-widgets/controls",
      "_view_module_version": "1.5.0",
      "_view_name": "HTMLView",
      "description": "",
      "description_tooltip": null,
      "layout": "IPY_MODEL_05c302687ad546fa9f1ed227b4383be1",
      "placeholder": "​",
      "style": "IPY_MODEL_7fc74779b8ca48079ef568e2ec2cea36",
      "value": "special_tokens_map.json: 100%"
     }
    },
    "733bb95508e5413393d515181fe8b4b8": {
     "model_module": "@jupyter-widgets/controls",
     "model_name": "FloatProgressModel",
     "model_module_version": "1.5.0",
     "state": {
      "_dom_classes": [],
      "_model_module": "@jupyter-widgets/controls",
      "_model_module_version": "1.5.0",
      "_model_name": "FloatProgressModel",
      "_view_count": null,
      "_view_module": "@jupyter-widgets/controls",
      "_view_module_version": "1.5.0",
      "_view_name": "ProgressView",
      "bar_style": "success",
      "description": "",
      "description_tooltip": null,
      "layout": "IPY_MODEL_4d13a99cf2564289b387afef733acc4d",
      "max": 599,
      "min": 0,
      "orientation": "horizontal",
      "style": "IPY_MODEL_5e80be2280e941388945c75d215c9f55",
      "value": 599
     }
    },
    "265b2218064442c181c745bd2843ead6": {
     "model_module": "@jupyter-widgets/controls",
     "model_name": "HTMLModel",
     "model_module_version": "1.5.0",
     "state": {
      "_dom_classes": [],
      "_model_module": "@jupyter-widgets/controls",
      "_model_module_version": "1.5.0",
      "_model_name": "HTMLModel",
      "_view_count": null,
      "_view_module": "@jupyter-widgets/controls",
      "_view_module_version": "1.5.0",
      "_view_name": "HTMLView",
      "description": "",
      "description_tooltip": null,
      "layout": "IPY_MODEL_3f086c7f64894901bc984cc9d44daf44",
      "placeholder": "​",
      "style": "IPY_MODEL_bad97c3f43724824b9faff54fb523d0a",
      "value": " 599/599 [00:00&lt;00:00, 74.8kB/s]"
     }
    },
    "95f538df2a824f83b1ef8fc94f447f9b": {
     "model_module": "@jupyter-widgets/base",
     "model_name": "LayoutModel",
     "model_module_version": "1.2.0",
     "state": {
      "_model_module": "@jupyter-widgets/base",
      "_model_module_version": "1.2.0",
      "_model_name": "LayoutModel",
      "_view_count": null,
      "_view_module": "@jupyter-widgets/base",
      "_view_module_version": "1.2.0",
      "_view_name": "LayoutView",
      "align_content": null,
      "align_items": null,
      "align_self": null,
      "border": null,
      "bottom": null,
      "display": null,
      "flex": null,
      "flex_flow": null,
      "grid_area": null,
      "grid_auto_columns": null,
      "grid_auto_flow": null,
      "grid_auto_rows": null,
      "grid_column": null,
      "grid_gap": null,
      "grid_row": null,
      "grid_template_areas": null,
      "grid_template_columns": null,
      "grid_template_rows": null,
      "height": null,
      "justify_content": null,
      "justify_items": null,
      "left": null,
      "margin": null,
      "max_height": null,
      "max_width": null,
      "min_height": null,
      "min_width": null,
      "object_fit": null,
      "object_position": null,
      "order": null,
      "overflow": null,
      "overflow_x": null,
      "overflow_y": null,
      "padding": null,
      "right": null,
      "top": null,
      "visibility": null,
      "width": null
     }
    },
    "05c302687ad546fa9f1ed227b4383be1": {
     "model_module": "@jupyter-widgets/base",
     "model_name": "LayoutModel",
     "model_module_version": "1.2.0",
     "state": {
      "_model_module": "@jupyter-widgets/base",
      "_model_module_version": "1.2.0",
      "_model_name": "LayoutModel",
      "_view_count": null,
      "_view_module": "@jupyter-widgets/base",
      "_view_module_version": "1.2.0",
      "_view_name": "LayoutView",
      "align_content": null,
      "align_items": null,
      "align_self": null,
      "border": null,
      "bottom": null,
      "display": null,
      "flex": null,
      "flex_flow": null,
      "grid_area": null,
      "grid_auto_columns": null,
      "grid_auto_flow": null,
      "grid_auto_rows": null,
      "grid_column": null,
      "grid_gap": null,
      "grid_row": null,
      "grid_template_areas": null,
      "grid_template_columns": null,
      "grid_template_rows": null,
      "height": null,
      "justify_content": null,
      "justify_items": null,
      "left": null,
      "margin": null,
      "max_height": null,
      "max_width": null,
      "min_height": null,
      "min_width": null,
      "object_fit": null,
      "object_position": null,
      "order": null,
      "overflow": null,
      "overflow_x": null,
      "overflow_y": null,
      "padding": null,
      "right": null,
      "top": null,
      "visibility": null,
      "width": null
     }
    },
    "7fc74779b8ca48079ef568e2ec2cea36": {
     "model_module": "@jupyter-widgets/controls",
     "model_name": "DescriptionStyleModel",
     "model_module_version": "1.5.0",
     "state": {
      "_model_module": "@jupyter-widgets/controls",
      "_model_module_version": "1.5.0",
      "_model_name": "DescriptionStyleModel",
      "_view_count": null,
      "_view_module": "@jupyter-widgets/base",
      "_view_module_version": "1.2.0",
      "_view_name": "StyleView",
      "description_width": ""
     }
    },
    "4d13a99cf2564289b387afef733acc4d": {
     "model_module": "@jupyter-widgets/base",
     "model_name": "LayoutModel",
     "model_module_version": "1.2.0",
     "state": {
      "_model_module": "@jupyter-widgets/base",
      "_model_module_version": "1.2.0",
      "_model_name": "LayoutModel",
      "_view_count": null,
      "_view_module": "@jupyter-widgets/base",
      "_view_module_version": "1.2.0",
      "_view_name": "LayoutView",
      "align_content": null,
      "align_items": null,
      "align_self": null,
      "border": null,
      "bottom": null,
      "display": null,
      "flex": null,
      "flex_flow": null,
      "grid_area": null,
      "grid_auto_columns": null,
      "grid_auto_flow": null,
      "grid_auto_rows": null,
      "grid_column": null,
      "grid_gap": null,
      "grid_row": null,
      "grid_template_areas": null,
      "grid_template_columns": null,
      "grid_template_rows": null,
      "height": null,
      "justify_content": null,
      "justify_items": null,
      "left": null,
      "margin": null,
      "max_height": null,
      "max_width": null,
      "min_height": null,
      "min_width": null,
      "object_fit": null,
      "object_position": null,
      "order": null,
      "overflow": null,
      "overflow_x": null,
      "overflow_y": null,
      "padding": null,
      "right": null,
      "top": null,
      "visibility": null,
      "width": null
     }
    },
    "5e80be2280e941388945c75d215c9f55": {
     "model_module": "@jupyter-widgets/controls",
     "model_name": "ProgressStyleModel",
     "model_module_version": "1.5.0",
     "state": {
      "_model_module": "@jupyter-widgets/controls",
      "_model_module_version": "1.5.0",
      "_model_name": "ProgressStyleModel",
      "_view_count": null,
      "_view_module": "@jupyter-widgets/base",
      "_view_module_version": "1.2.0",
      "_view_name": "StyleView",
      "bar_color": null,
      "description_width": ""
     }
    },
    "3f086c7f64894901bc984cc9d44daf44": {
     "model_module": "@jupyter-widgets/base",
     "model_name": "LayoutModel",
     "model_module_version": "1.2.0",
     "state": {
      "_model_module": "@jupyter-widgets/base",
      "_model_module_version": "1.2.0",
      "_model_name": "LayoutModel",
      "_view_count": null,
      "_view_module": "@jupyter-widgets/base",
      "_view_module_version": "1.2.0",
      "_view_name": "LayoutView",
      "align_content": null,
      "align_items": null,
      "align_self": null,
      "border": null,
      "bottom": null,
      "display": null,
      "flex": null,
      "flex_flow": null,
      "grid_area": null,
      "grid_auto_columns": null,
      "grid_auto_flow": null,
      "grid_auto_rows": null,
      "grid_column": null,
      "grid_gap": null,
      "grid_row": null,
      "grid_template_areas": null,
      "grid_template_columns": null,
      "grid_template_rows": null,
      "height": null,
      "justify_content": null,
      "justify_items": null,
      "left": null,
      "margin": null,
      "max_height": null,
      "max_width": null,
      "min_height": null,
      "min_width": null,
      "object_fit": null,
      "object_position": null,
      "order": null,
      "overflow": null,
      "overflow_x": null,
      "overflow_y": null,
      "padding": null,
      "right": null,
      "top": null,
      "visibility": null,
      "width": null
     }
    },
    "bad97c3f43724824b9faff54fb523d0a": {
     "model_module": "@jupyter-widgets/controls",
     "model_name": "DescriptionStyleModel",
     "model_module_version": "1.5.0",
     "state": {
      "_model_module": "@jupyter-widgets/controls",
      "_model_module_version": "1.5.0",
      "_model_name": "DescriptionStyleModel",
      "_view_count": null,
      "_view_module": "@jupyter-widgets/base",
      "_view_module_version": "1.2.0",
      "_view_name": "StyleView",
      "description_width": ""
     }
    }
   }
  }
 },
 "nbformat": 4,
 "nbformat_minor": 5
}
